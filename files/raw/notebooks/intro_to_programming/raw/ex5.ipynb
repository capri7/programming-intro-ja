{
 "cells": [
  {
   "cell_type": "markdown",
   "metadata": {},
   "source": [
    "# 📝 演習：リスト  \n",
    "チュートリアルでは、Python で扱うリストの定義や変更方法を学びました。  \n",
    "この演習では、リストの知識を使っていくつかの問題を解いていきましょう。\n",
    "\n",
    "\n",
    "## ⚙️ Pyodide環境の準備\n",
    "以下のコードセルはそのまま実行してください。\n",
    "ノートブックを正しく動作させるための初期設定です。\n"
   ]
  },
  {
   "cell_type": "code",
   "execution_count": null,
   "metadata": {
    "execution": {
     "iopub.execute_input": "2022-03-02T18:51:20.535326Z",
     "iopub.status.busy": "2022-03-02T18:51:20.534874Z",
     "iopub.status.idle": "2022-03-02T18:51:20.566541Z",
     "shell.execute_reply": "2022-03-02T18:51:20.56553Z",
     "shell.execute_reply.started": "2022-03-02T18:51:20.535189Z"
    }
   },
   "outputs": [],
   "source": [
    "# learntoolsのインポート（whl を先に）\n",
    "import micropip\n",
    "await micropip.install(\"http://127.0.0.1:8000/files/raw/packages/learntools-0.3.5-py3-none-any.whl\")"
   ]
  },
  {
   "cell_type": "markdown",
   "metadata": {},
   "source": [
    "## 必要なパッケージのインストール"
   ]
  },
  {
   "cell_type": "code",
   "execution_count": null,
   "metadata": {},
   "outputs": [],
   "source": [
    "#標準ライブラリのインストール（numpy, pandas など）\n",
    "await micropip.install([\"numpy\", \"pandas\", \"matplotlib\"])\n",
    "\n",
    "# グローバルバインド\n",
    "from learntools.core import binder\n",
    "binder.bind(globals())\n",
    "print(\"✅ Setup complete\")"
   ]
  },
  {
   "cell_type": "markdown",
   "metadata": {},
   "source": [
    "## 演習モジュールのインポート"
   ]
  },
  {
   "cell_type": "code",
   "execution_count": null,
   "metadata": {},
   "outputs": [],
   "source": [
    "from learntools.intro_to_programming.ex5 import *"
   ]
  },
  {
   "cell_type": "markdown",
   "metadata": {},
   "source": [
    "# 質問 1\n",
    "\n",
    "あなたはレストランのオーナーです。\n",
    "このレストランでは、現在5種類の料理を提供しています。\n",
    "\n",
    "**🧾 現在のメニュー**\n",
    "\n",
    "* stewed meat with onions（玉ねぎ煮込みの肉料理）\n",
    "* bean soup（豆のスープ）\n",
    "* risotto with trout and shrimp（マスとエビのリゾット）\n",
    "* fish soup with cream and onion（クリームと玉ねぎの魚スープ）\n",
    "* gyro（ギリシャ風の肉料理）\n",
    "\n",
    "このメニューは、`menu` という名前のPythonリストに記録されています。\n",
    "\n",
    "**🛠️ やること**\n",
    "* `'bean soup'` をメニューから取り除きます\n",
    "* `'roasted beet salad'`（焼きビーツのサラダ）をメニューの最後に追加します\n",
    "\n",
    "**🔍 ヒント**\n",
    "\n",
    "* `menu` の定義行は変更せずにそのまま使ってください\n",
    "* `.remove()` と `.append()` の2つのメソッドを使って操作を行いましょう\n"
   ]
  },
  {
   "cell_type": "code",
   "execution_count": null,
   "metadata": {},
   "outputs": [],
   "source": [
    "# ✅ この行は変更しないでください：現在のメニュー一覧\n",
    "menu = ['stewed meat with onions', 'bean soup', 'risotto with trout and shrimp',\n",
    "        'fish soup with cream and onion', 'gyro']\n",
    "\n",
    "# 📝 メニューを次のように更新してください：\n",
    "# - 'bean soup' を menu から削除する\n",
    "# - 'roasted beet salad' を menu の末尾に追加する\n",
    "# ヒント：menu.remove(...) と menu.append(...) を使います\n",
    "____\n",
    "\n",
    "# ✅ この行も変更しないでください：答えをチェックします\n",
    "q1.check()\n"
   ]
  },
  {
   "cell_type": "code",
   "execution_count": null,
   "metadata": {},
   "outputs": [],
   "source": [
    "#%%RM_IF(PROD)%%（開発者向け：本番環境では非表示）\n",
    "# 失敗ケース：余分な要素がリストに残っている場合（たとえば 'bean soup' を削除し忘れたとき）\n",
    "q1.assert_check_failed()\n"
   ]
  },
  {
   "cell_type": "code",
   "execution_count": null,
   "metadata": {},
   "outputs": [],
   "source": [
    "#%%RM_IF(PROD)%%（開発者向け：本番環境では非表示）\n",
    "# 失敗ケース：menu がリストではなく、整数など別の型になっている場合\n",
    "menu = 2\n",
    "q1.assert_check_failed()"
   ]
  },
  {
   "cell_type": "code",
   "execution_count": null,
   "metadata": {},
   "outputs": [],
   "source": [
    "#%%RM_IF(PROD)%%（開発者向け：本番環境では非表示）\n",
    "# 失敗ケース：メニュー項目が不足している（必要な料理が足りない）\n",
    "menu = ['stewed meat with onions', 'bean soup']\n",
    "q1.assert_check_failed()"
   ]
  },
  {
   "cell_type": "code",
   "execution_count": null,
   "metadata": {},
   "outputs": [],
   "source": [
    "#%%RM_IF(PROD)%%（開発者向け：本番環境では非表示）\n",
    "# 失敗ケース：同じ料理（'risotto with trout and shrimp'）が重複して含まれている\n",
    "menu = ['stewed meat with onions', 'fish soup with cream and onion', 'gyro', \n",
    "        'roasted beet salad', 'risotto with trout and shrimp', 'risotto with trout and shrimp']\n",
    "q1.assert_check_failed()"
   ]
  },
  {
   "cell_type": "code",
   "execution_count": null,
   "metadata": {},
   "outputs": [],
   "source": [
    "#%%RM_IF(PROD)%%（開発者向け：本番環境では非表示）\n",
    "# 通過ケース：料理の順序が異なっていても、正しい要素がすべて含まれていれば正解と判定される\n",
    "menu = ['stewed meat with onions', 'fish soup with cream and onion', 'gyro', \n",
    "        'roasted beet salad', 'risotto with trout and shrimp']\n",
    "q1.assert_check_passed()"
   ]
  },
  {
   "cell_type": "code",
   "execution_count": null,
   "metadata": {},
   "outputs": [],
   "source": [
    "#%%RM_IF(PROD)%%（開発者向け：本番環境では非表示）\n",
    "# 正解ケース：初期の menu から 'bean soup' を削除し、末尾に 'roasted beet salad'を追加している\n",
    "menu = ['stewed meat with onions', 'bean soup', 'risotto with trout and shrimp',\n",
    "       'fish soup with cream and onion', 'gyro']\n",
    "\n",
    "# 'bean soup' を削除し、'roasted beet salad' を末尾に追加\n",
    "menu.remove('bean soup')\n",
    "menu.append('roasted beet salad')\n",
    "\n",
    "q1.assert_check_passed()"
   ]
  },
  {
   "cell_type": "code",
   "execution_count": null,
   "metadata": {},
   "outputs": [],
   "source": [
    "# 学習者向け：ヒントを見るにはコメントアウトを外してください\n",
    "#_COMMENT_IF(PROD)_本番環境で表示\n",
    "q1.hint()\n",
    "\n",
    "# 学習者向け：解答を見るにはコメントアウトを外してください\n",
    "#_COMMENT_IF(PROD)_本番環境で表示\n",
    "q1.solution()"
   ]
  },
  {
   "cell_type": "markdown",
   "metadata": {},
   "source": [
    "# 質問 2：来客データの集計\n",
    "リスト`num_customers`には、過去30日間の1日あたりの来客数が記録されています。\n",
    "\n",
    "以下の4つの変数に、それぞれ正しい値を代入してください：\n",
    "\n",
    "* `avg_first_seven`：最初の7日間の平均来客数\n",
    "* `avg_last_seven`：最後の7日間の平均来客数\n",
    "* `max_month`：30日間で最も来客数が多かった日の値\n",
    "* `min_month`：30日間で最も来客数が少なかった日の値\n",
    "\n",
    "✅ 注意\n",
    "計算には必ずPythonの関数を使ってください。\n",
    "例：最小値を求めるときは、`min(num_customers)`を使います。\n"
   ]
  },
  {
   "cell_type": "code",
   "execution_count": null,
   "metadata": {
    "execution": {
     "iopub.execute_input": "2022-03-22T15:58:15.688418Z",
     "iopub.status.busy": "2022-03-22T15:58:15.687551Z",
     "iopub.status.idle": "2022-03-22T15:58:15.703153Z",
     "shell.execute_reply": "2022-03-22T15:58:15.702395Z",
     "shell.execute_reply.started": "2022-03-22T15:58:15.688331Z"
    }
   },
   "outputs": [],
   "source": [
    "# この行は変更しないでください：過去30日間の来客数データ\n",
    "num_customers = [137, 147, 135, 128, 170, 174, 165, 146, 126, 159,\n",
    "                 141, 148, 132, 147, 168, 153, 170, 161, 148, 152,\n",
    "                 141, 151, 131, 149, 164, 163, 143, 143, 166, 171]\n",
    "\n",
    "\n",
    "# TODO:📝 次の変数に、対応する値を代入してください：\n",
    "# - avg_first_seven：最初の7日間の平均\n",
    "# - avg_last_seven：最後の7日間の平均\n",
    "# - max_month：30日間で最も来客数が多かった日の値\n",
    "# - min_month：30日間で最も来客数が少なかった日の値\n",
    "# ※ 平均には sum() と len()、最大/最小には max() や min() を使ってください\n",
    "\n",
    "avg_first_seven = ____ \n",
    "avg_last_seven = ____ \n",
    "max_month = ____\n",
    "min_month = ____\n",
    "\n",
    "# この行も変更しないでください：答えをチェックします\n",
    "q2.check()"
   ]
  },
  {
   "cell_type": "code",
   "execution_count": null,
   "metadata": {},
   "outputs": [],
   "source": [
    "#%%RM_IF(PROD)%%（開発者向け：本番環境では非表示）\n",
    "# 正解ケース：すべての変数に正しい計算結果が代入されているかを確認する\n",
    "avg_first_seven = sum(num_customers[:7])/7 \n",
    "avg_last_seven = sum(num_customers[-7:])/7\n",
    "max_month = max(num_customers)\n",
    "min_month = min(num_customers)\n",
    "\n",
    "q2.assert_check_passed()"
   ]
  },
  {
   "cell_type": "code",
   "execution_count": null,
   "metadata": {},
   "outputs": [],
   "source": [
    "# ヒントを見るにはコメントアウトを解除してください\n",
    "#_COMMENT_IF(PROD)_本番環境では表示\n",
    "q2.hint()\n",
    "\n",
    "# 解答を確認するにはコメントアウトを解除してください\n",
    "#_COMMENT_IF(PROD)_本番環境では表示\n",
    "q2.solution()"
   ]
  },
  {
   "cell_type": "markdown",
   "metadata": {},
   "source": [
    "# 質問 3：文字列とリスト\n",
    "\n",
    "チュートリアルでは、「情報を1つの文字列に詰め込むより、リストで扱ったほうが便利な場合がある」という例を紹介しました。"
   ]
  },
  {
   "cell_type": "code",
   "execution_count": null,
   "metadata": {},
   "outputs": [],
   "source": [
    "flowers = \"pink primrose,hard-leaved pocket orchid,canterbury bells,sweet pea,english marigold,tiger lily,moon orchid,bird of paradise,monkshood,globe thistle\"\n",
    "\n",
    "\n",
    "print(flowers)"
   ]
  },
  {
   "cell_type": "markdown",
   "metadata": {},
   "source": [
    "**📘解説**\n",
    "\n",
    "このように、花の名前がカンマ（,）で区切られた1つの文字列として保存されている場合、  \n",
    "Python の `.split()` メソッドを使えば、簡単にリストに分割できます。\n",
    "\n",
    "`.split()` のかっこ内には、「どの文字で区切るか」を文字列で指定します。  \n",
    "今回のようにカンマで区切られている場合は、`.split(\",\")` と書きましょう。  \n",
    "区切り文字は、必ずクォーテーション（`\"` または `'`）で囲む必要があります。\n"
   ]
  },
  {
   "cell_type": "code",
   "execution_count": null,
   "metadata": {},
   "outputs": [],
   "source": [
    "print(flowers.split(\",\"))"
   ]
  },
  {
   "cell_type": "markdown",
   "metadata": {},
   "source": [
    "📝**説明**\n",
    "\n",
    "今度は、自分で `.split()` を使ってみましょう！\n",
    "\n",
    "次の2つの **Pythonリスト** を作成してください：\n",
    "\n",
    "1.**`letters`**\n",
    "\n",
    "* アルファベットの **大文字（A〜Z）** を、1文字ずつ要素にしたリストを作ります。\n",
    "* 最初の要素は `\"A\"`、2番目は `\"B\"`、最後の2つは `\"Y\"` と `\"Z\"` になります。\n",
    "* すでに用意されている文字列 `alphabet` を使ってリストを作成してください。\n",
    "\n",
    "2.**`address`**\n",
    "\n",
    "* `address` に含まれる住所の各行を、**リストの個別の要素**に分割してください。\n",
    "* 現在は、1つの文字列の中で **カンマ（`,`）** で区切られています。\n",
    "* `.split()` を使って、カンマで分割しましょう。\n"
   ]
  },
  {
   "cell_type": "code",
   "execution_count": null,
   "metadata": {},
   "outputs": [],
   "source": [
    "# ✅ この行は変更しないでください：2つのPython文字列（アルファベットと住所）\n",
    "alphabet = \"A.B.C.D.E.F.G.H.I.J.K.L.M.N.O.P.Q.R.S.T.U.V.W.X.Y.Z\"\n",
    "address = \"Mr. H. Potter,The cupboard under the Stairs,4 Privet Drive,Little Whinging,Surrey\"\n",
    "\n",
    "# TODO:📝 文字列をリストに変換してください：\n",
    "# - letters：alphabet を使って、A〜Z を1文字ずつのリストに変換する（区切りは .）\n",
    "# - formatted_address：address を使って、カンマで区切られた各要素をリスト化する\n",
    "\n",
    "letters = ____\n",
    "formatted_address = ____\n",
    "\n",
    "# ✅ この行も変更しないでください：答えをチェックします\n",
    "q3.check()\n"
   ]
  },
  {
   "cell_type": "code",
   "execution_count": null,
   "metadata": {},
   "outputs": [],
   "source": [
    "#%%RM_IF(PROD)%%__本番環境では非表示\n",
    "letters = alphabet.split(\".\")\n",
    "formatted_address = address.split(\",\")\n",
    "\n",
    "q3.assert_check_passed()"
   ]
  },
  {
   "cell_type": "code",
   "execution_count": null,
   "metadata": {},
   "outputs": [],
   "source": [
    "# ヒントを見るにはコメントアウトを解除してください\n",
    "#_COMMENT_IF(PROD)___本番環境では表示\n",
    "q3.hint()\n",
    "\n",
    "# 解答を確認するにはコメントアウトを解除してください\n",
    "#_COMMENT_IF(PROD)___本番環境では表示\n",
    "q3.solution()"
   ]
  },
  {
   "cell_type": "markdown",
   "metadata": {},
   "source": [
    "# 質問 4：リスト内包表記\n",
    "\n",
    "Pythonコースでは、リスト内包表記（list comprehensions） を使って、\n",
    "「あるリストの値を元に、新しいリストを作る方法」を学びます。\n",
    "\n",
    "この問題では、その使い方を少しだけ体験してみましょう。\n"
   ]
  },
  {
   "cell_type": "code",
   "execution_count": null,
   "metadata": {},
   "outputs": [],
   "source": [
    "test_ratings = [1, 2, 3, 4, 5]\n",
    "\n",
    "print(test_ratings)"
   ]
  },
  {
   "cell_type": "markdown",
   "metadata": {},
   "source": [
    "\n",
    "次に、リスト `test_ratings` を使って、各要素が4以上かどうかを判定し、  \n",
    "その結果をもとに `True` または `False` を並べた新しいリスト`test_liked`を作ってみましょう。\n"
   ]
  },
  {
   "cell_type": "code",
   "execution_count": null,
   "metadata": {},
   "outputs": [],
   "source": [
    "test_liked = [i>=4 for i in test_ratings]\n",
    "\n",
    "print(test_liked)"
   ]
  },
  {
   "cell_type": "markdown",
   "metadata": {},
   "source": [
    "ここでは、上の **リスト内包表記**を使って、次の関数を作成します：\n",
    "\n",
    "🧩関数名：`percentage_liked(ratings)`\n",
    "\n",
    "* 引数 `ratings` は、1〜5 の数値からなる映画の評価リストです。\n",
    "* 評価が 4または5の場合、「**その人は映画を気に入った**」とみなします。\n",
    "* 関数は、映画を気に入った人の割合（**0.0〜1.0の間**）を返します。\n",
    "\n",
    " ✅ 例：\n",
    "\n",
    "```python\n",
    "percentage_liked([1, 2, 3, 4, 5, 4, 5, 1])  # → 0.5 を返す（8人中4人が「いいね」）\n",
    "```\n",
    "\n",
    "**🛠️ ヒント** \n",
    "\n",
    "関数の一部はすでに完成しています。\n",
    "リスト内包表記を使って作られた `list_liked` を利用して、\n",
    "`percentage_liked` を完成させてください。\n"
   ]
  },
  {
   "cell_type": "code",
   "execution_count": null,
   "metadata": {},
   "outputs": [],
   "source": [
    "def percentage_liked(ratings):\n",
    "    # 各評価が「4以上かどうか」を判定して、真偽値のリストを作る\n",
    "    list_liked = [i >= 4 for i in ratings]\n",
    "    \n",
    "    # 📝 TODO: list_liked を使って「True（＝いいね）」の割合を求めてください\n",
    "    # - True の数を数えるには sum() を使う\n",
    "    # - 全体の人数は len(ratings) で求める\n",
    "    percentage_liked = ____  # 例: sum(list_liked) / len(ratings)\n",
    "    \n",
    "    return percentage_liked\n",
    "\n",
    "# ✅ この行は変更しないでください：0.5 を返すべき例\n",
    "percentage_liked([1, 2, 3, 4, 5, 4, 5, 1])\n",
    "\n",
    "# ✅ この行も変更しないでください：答えをチェックします\n",
    "q4.check()\n"
   ]
  },
  {
   "cell_type": "code",
   "execution_count": null,
   "metadata": {},
   "outputs": [],
   "source": [
    "#%%RM_IF(PROD)%%(開発者向け：本番環境では非表示）\n",
    "def percentage_liked(ratings):\n",
    "    list_liked = [i >= 4 for i in ratings]\n",
    "    percentage_liked = sum(list_liked)/len(list_liked)\n",
    "    return percentage_liked\n",
    "\n",
    "q4.assert_check_passed()"
   ]
  },
  {
   "cell_type": "code",
   "execution_count": null,
   "metadata": {},
   "outputs": [],
   "source": [
    "# ヒントを見るにはコメントアウトを解除してください\n",
    "#_COMMENT_IF(PROD)_本番環境で表示\n",
    "q4.hint()\n",
    "\n",
    "# 解答を確認するにはコメントアウトを解除してください\n",
    "#_COMMENT_IF(PROD)_本番環境で表示\n",
    "q4.solution()"
   ]
  },
  {
   "cell_type": "markdown",
   "metadata": {},
   "source": [
    "# 🌶️ 質問 5：ユーザー数の成長率を求める\n",
    "\n",
    "あなたはウェブサイトの分析をしています。\n",
    "「何年か前と比べて、ユーザー数がどれだけ増えたか（＝成長率）」を求める関数を作ってください。\n",
    "\n",
    "\n",
    "**🧩 関数名**：`percentage_growth(num_users, yrs_ago)`\n",
    "\n",
    "引数：\n",
    "\n",
    "* `num_users`：各年ごとの**ユーザー総数**を格納したリストです。\n",
    "  たとえば、`num_users[0]` は1年目、`num_users[1]` は2年目…と続き、\n",
    "  リストの最後の要素が「最新の年のユーザー数」を表します。\n",
    "\n",
    "* `yrs_ago`：何年前と比べて成長率を出すかを表す整数です。\n",
    "\n",
    "**✅計算式**：\n",
    "\n",
    "```python\n",
    "(現在のユーザー数 - 過去のユーザー数) / 過去のユーザー数\n",
    "```\n",
    "\n",
    "**🧪例**：\n",
    "\n",
    "```python\n",
    "num_users = [920344, 1043553, 1204334, 1458996, 1503323,\n",
    "             1593432, 1623463, 1843064, 1930992, 2001078]\n",
    "```\n",
    "\n",
    "* `yrs_ago = 1` のとき：\n",
    "  最新（2001078）と1年前（1930992）を比較 → 約 `0.036`（＝約3.6%の成長）\n",
    "\n",
    "* `yrs_ago = 7` のとき：\n",
    "  最新（2001078）と7年前（1204334）を比較 → 約 `0.66`（＝約66%の成長）\n",
    "\n",
    "\n",
    "### 🛠️ やること\n",
    "\n",
    "あなたの同僚が作った関数がありますが、計算が正しくありません。\n",
    "**その関数の間違いを直して、正しい成長率を返すようにしてください。**\n",
    "\n",
    "\n"
   ]
  },
  {
   "cell_type": "code",
   "execution_count": null,
   "metadata": {},
   "outputs": [],
   "source": [
    "# TODO: Edit the function\n",
    "def percentage_growth(num_users, yrs_ago):\n",
    "    growth = (num_users[len(num_users)-1] - num_users[len(num_users)-yrs_ago])/num_users[len(num_users)-2]\n",
    "    return growth\n",
    "\n",
    "# Do not change: Variable for calculating some test examples\n",
    "num_users_test = [920344, 1043553, 1204334, 1458996, 1503323, 1593432, 1623463, 1843064, 1930992, 2001078]\n",
    "\n",
    "# Do not change: Should return .036\n",
    "print(percentage_growth(num_users_test, 1))\n",
    "\n",
    "# Do not change: Should return 0.66\n",
    "print(percentage_growth(num_users_test, 7))\n",
    "\n",
    "# Do not change: Check your answer\n",
    "q5.check()\n",
    "\n",
    "\n",
    "# 📝 TODO: 間違っている計算式を修正してください\n",
    "def percentage_growth(num_users, yrs_ago):\n",
    "    # 最新の年のユーザー数\n",
    "    current = num_users[-1]\n",
    "    \n",
    "    # 指定された年数前のユーザー数（例：7年前なら -8 番目）\n",
    "    past = num_users[-(yrs_ago + 1)]\n",
    "    \n",
    "    # 成長率 = （現在 - 過去）/ 過去\n",
    "    growth = (current - past) / past\n",
    "    return growth\n",
    "\n",
    "# 📝 TODO: 下の3ステップに従って関数を完成させてください\n",
    "def percentage_growth(num_users, yrs_ago):\n",
    "    # ステップ1：最新のユーザー数を取得（リストの最後の要素）\n",
    "    current = ____\n",
    "\n",
    "    # ステップ2：yrs_ago 年前のユーザー数を取得（インデックスに注意）\n",
    "    past = ____\n",
    "\n",
    "    # ステップ3：（現在 - 過去）/ 過去 の式で成長率を求める\n",
    "    growth = ____\n",
    "\n",
    "    return growth\n",
    "\n",
    "# ✅ この行は変更しないでください：テスト用のデータ\n",
    "num_users_test = [920344, 1043553, 1204334, 1458996, 1503323,\n",
    "                  1593432, 1623463, 1843064, 1930992, 2001078]\n",
    "\n",
    "# ✅ 結果が約 0.036（＝3.6%）になるはず\n",
    "print(percentage_growth(num_users_test, 1))\n",
    "\n",
    "# ✅ 結果が約 0.66（＝66%）になるはず\n",
    "print(percentage_growth(num_users_test, 7))\n",
    "\n",
    "# ✅ 答えをチェック\n",
    "q5.check()\n"
   ]
  },
  {
   "cell_type": "code",
   "execution_count": null,
   "metadata": {},
   "outputs": [],
   "source": [
    "#%%RM_IF(PROD)%%（開発者向け：本番環境では非表示）\n",
    "#初期状態の関数は、誤った分母（例：1年前の代わりに直前の年）を使っているため失敗する\n",
    "q5.assert_check_failed()"
   ]
  },
  {
   "cell_type": "code",
   "execution_count": null,
   "metadata": {},
   "outputs": [],
   "source": [
    "#%%RM_IF(PROD)%%（開発者向け：本番環境では非表示）\n",
    "# ✅ 成功ケース：計算は正しいが、インデックス計算が冗長で読みづらい\n",
    "# 改善例：num_users[-1] や num_users[-(yrs_ago+1)] を使うとよりPythonic\n",
    "def percentage_growth(num_users, yrs_ago):\n",
    "    growth = (num_users[len(num_users)-1] - num_users[len(num_users)-yrs_ago-1]) / num_users[len(num_users)-yrs_ago-1]\n",
    "    return growth\n",
    "\n",
    "q5.assert_check_passed()\n"
   ]
  },
  {
   "cell_type": "code",
   "execution_count": null,
   "metadata": {},
   "outputs": [],
   "source": [
    "#%%RM_IF(PROD)%%（開発者向け：本番環境では非表示）\n",
    "# ✅ 成功ケース：正しい過去のインデックスを使って成長率を計算している\n",
    "def percentage_growth(num_users, yrs_ago):\n",
    "    current = num_users[-1]\n",
    "    past = num_users[-(yrs_ago + 1)]\n",
    "    growth = (current - past) / past\n",
    "    return growth\n",
    "\n",
    "q5.assert_check_passed()\n"
   ]
  },
  {
   "cell_type": "code",
   "execution_count": null,
   "metadata": {},
   "outputs": [],
   "source": [
    "# ヒントを見るにはコメントアウトを解除してください\n",
    "#_COMMENT_IF(PROD)_本番環境で表示\n",
    "q5.hint()\n",
    "\n",
    "# 解答を確認するにはコメントアウトを解除してください\n",
    "#_COMMENT_IF(PROD)_本番環境で表示\n",
    "q5.solution()"
   ]
  },
  {
   "cell_type": "markdown",
   "metadata": {},
   "source": [
    "# 🎉 おつかれさまでした！\n",
    "\n",
    "**Intro to Programming（プログラミング入門）コースを最後まで終えたことを心からお祝いします！**\n",
    "これがあなたの「プログラミングを学ぶ旅の第一歩」です。自信を持ってください。\n",
    "\n",
    " 🔜 次のステップとして、Python入門コースをおすすめします。：\n",
    "\n",
    "🐍 [**Python 入門コース**](http://www.kaggle.com/learn/python)**\n",
    "  　本格的なプログラミングの基礎を、Pythonでしっかり学びます。\n",
    "\n",
    "### 🚀 これからが本番です！\n",
    "\n",
    "このコースで学んだことを活かして、もっと自由にコードを書いてみてください。\n",
    "次は、あなた自身のペースで新しいチャレンジに取り組んで、スキルをさらに伸ばしていきましょう。\n",
    "\n"
   ]
  }
 ],
 "metadata": {
  "kernelspec": {
   "display_name": "Python 3",
   "language": "python",
   "name": "python3"
  },
  "language_info": {
   "codemirror_mode": {
    "name": "ipython",
    "version": 3
   },
   "file_extension": ".py",
   "mimetype": "text/x-python",
   "name": "python",
   "nbconvert_exporter": "python",
   "pygments_lexer": "ipython3",
   "version": "3.6.5"
  }
 },
 "nbformat": 4,
 "nbformat_minor": 4
}
