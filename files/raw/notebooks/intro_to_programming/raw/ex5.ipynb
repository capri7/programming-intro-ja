{
 "cells": [
  {
   "cell_type": "markdown",
   "metadata": {},
   "source": [
    "# 📝 演習：リストの活用\n",
    "\n",
    "ここまでのチュートリアルでは、**リストの作成・変更・スライス・内包表記** など、  \n",
    "Python のリストに関する基本的な操作方法を学びました。\n",
    "\n",
    "リストは、**データをまとめて扱うための非常に重要な仕組み**です。  \n",
    "数値や文字列の集計・検索・変換など、多くの処理で利用されます。\n",
    "\n",
    "\n",
    "\n",
    "この演習では、リストをテーマにした問題に取り組みながら、  \n",
    "これまでに学んだ操作を **実際に使えるスキルとして定着** させていきましょう。\n",
    "\n",
    "\n",
    "## ⚙️ 環境セットアップ（Pyodide）\n",
    "\n",
    "このノートブックでは、次の手順で**環境を準備**します：\n",
    "\n",
    "1. **learntools パッケージのインストール**\n"
   ]
  },
  {
   "cell_type": "code",
   "execution_count": null,
   "metadata": {
    "execution": {
     "iopub.execute_input": "2022-03-02T18:51:20.535326Z",
     "iopub.status.busy": "2022-03-02T18:51:20.534874Z",
     "iopub.status.idle": "2022-03-02T18:51:20.566541Z",
     "shell.execute_reply": "2022-03-02T18:51:20.56553Z",
     "shell.execute_reply.started": "2022-03-02T18:51:20.535189Z"
    }
   },
   "outputs": [],
   "source": [
    "# learntoolsのインポート\n",
    "import micropip\n",
    "\n",
    "await micropip.install(\"https://capri7.github.io/programming-intro-ja/files/raw/packages/learntools-0.3.5-py3-none-any.whl\")"
   ]
  },
  {
   "cell_type": "markdown",
   "metadata": {},
   "source": [
    "2. **標準ライブラリのインストール**"
   ]
  },
  {
   "cell_type": "code",
   "execution_count": null,
   "metadata": {},
   "outputs": [],
   "source": [
    "#標準ライブラリのインストール\n",
    "await micropip.install([\"numpy\", \"pandas\", \"matplotlib\"])\n",
    "\n"
   ]
  },
  {
   "cell_type": "markdown",
   "metadata": {},
   "source": [
    "\n",
    "3. **グローバル変数のバインド**\n"
   ]
  },
  {
   "cell_type": "code",
   "execution_count": null,
   "metadata": {},
   "outputs": [],
   "source": [
    "\n",
    "# グローバルバインド\n",
    "from learntools.core import binder\n",
    "binder.bind(globals())\n",
    "print(\"✅ Setup complete\")\n"
   ]
  },
  {
   "cell_type": "markdown",
   "metadata": {},
   "source": [
    "\n",
    "4. **演習モジュールの読み込み**"
   ]
  },
  {
   "cell_type": "code",
   "execution_count": null,
   "metadata": {},
   "outputs": [],
   "source": [
    "from learntools.intro_to_programming.ex5 import *"
   ]
  },
  {
   "cell_type": "markdown",
   "metadata": {},
   "source": [
    "## ❓ 問題 1：レストランのメニューの更新\n",
    "\n",
    "あなたはレストランのオーナーです。\n",
    "現在、5種類の料理を提供しているこのレストランでは、  \n",
    "メニューの一部を更新したいと考えています。\n",
    "\n",
    "### 🧾 現在のメニュー\n",
    "\n",
    "以下は、今のメニューです：\n",
    "\n",
    "* **stewed meat with onions**（玉ねぎ煮込みの肉料理）\n",
    "* **bean soup**（豆のスープ）\n",
    "* **risotto with trout and shrimp**（マスとエビのリゾット）\n",
    "* **fish soup with cream and onion**（クリームと玉ねぎの魚スープ）\n",
    "* **gyro**（ギリシャ風の肉料理）\n",
    "\n",
    "このメニューは、`menu` という名前の **Pythonリスト** に格納されています。\n",
    "\n",
    "### 🛠️ やること\n",
    "\n",
    "以下の2つの操作を行い、メニューを更新してください：\n",
    "\n",
    "1. 'bean soup' を削除する\n",
    "2. 'roasted beet salad'（焼きビーツのサラダ）をメニューの末尾に追加する\n",
    "\n",
    "### 🔍 ヒント\n",
    "\n",
    "* `menu` の定義行は変更せずにそのまま使用してください。\n",
    "* menu.remove(...) で要素を削除できます。\n",
    "* menu.append(...) で末尾に要素を追加できます。\n",
    "\n",
    "\n",
    "\n",
    "### 💻 コードセル"
   ]
  },
  {
   "cell_type": "code",
   "execution_count": null,
   "metadata": {},
   "outputs": [],
   "source": [
    "\n",
    "# ✅ この行は変更しないでください：現在のメニュー一覧\n",
    "menu = ['stewed meat with onions', 'bean soup', 'risotto with trout and shrimp',\n",
    "        'fish soup with cream and onion', 'gyro']\n",
    "\n",
    "# 📝 メニューを次のように更新してください：\n",
    "# - 'bean soup' を削除する\n",
    "# - 'roasted beet salad' を末尾に追加する\n",
    "# ヒント：menu.remove(...) と menu.append(...) を使います\n",
    "\n",
    "# ✅ この行も変更しないでください：答えをチェックします\n",
    "q1.check()\n",
    "\n"
   ]
  },
  {
   "cell_type": "markdown",
   "metadata": {},
   "source": [
    "\n",
    "### 🧠 サポート機能"
   ]
  },
  {
   "cell_type": "code",
   "execution_count": null,
   "metadata": {},
   "outputs": [],
   "source": [
    "# 🔍 ヒントを見たい場合は、下の行の「#」を外して実行してみましょう\n",
    "\n",
    "#q1.hint()\n",
    "\n",
    "# ✅ 解答を確認したい場合は、下の行の「#」を外して実行してみましょう\n",
    "\n",
    "#q1.solution()"
   ]
  },
  {
   "cell_type": "markdown",
   "metadata": {},
   "source": [
    "## ❓ 問題 2：来客データの集計\n",
    "\n",
    "リスト `num_customers` には、**過去30日間の1日あたりの来客数**が記録されています。  \n",
    "このデータを使って、さまざまな集計処理を行いましょう。\n",
    "\n",
    "\n",
    "\n",
    "### ✍️ やること\n",
    "\n",
    "次の4つの変数に、**適切な値**を代入してください：\n",
    "\n",
    "1. `avg_first_seven`：最初の7日間の **平均来客数**\n",
    "2. `avg_last_seven`：最後の7日間の **平均来客数**\n",
    "3. `max_month`：30日間で **最も来客数が多かった日** の値\n",
    "4. `min_month`：30日間で **最も来客数が少なかった日** の値\n",
    "\n",
    "\n",
    "\n",
    "### 🔍 ヒント\n",
    "\n",
    "* ✅ **平均**：`sum(...) / len(...)`\n",
    "* ✅ **最大値**：`max(...)`\n",
    "* ✅ **最小値**：`min(...)`\n",
    "* ✅ **スライス**：\n",
    "\n",
    "  * `num_customers[:7]` → 最初の7日間\n",
    "  * `num_customers[-7:]` → 最後の7日間\n",
    "\n",
    "\n",
    "\n",
    "### 📌 注意点\n",
    "\n",
    "* 数値は **自分で計算するのではなく、コードで求める** ようにしてください。\n",
    "* 代入先の変数名は変更しないでください。\n",
    "\n",
    "\n",
    "\n",
    "### 💻 コードセル\n",
    "\n"
   ]
  },
  {
   "cell_type": "code",
   "execution_count": null,
   "metadata": {
    "execution": {
     "iopub.execute_input": "2022-03-22T15:58:15.688418Z",
     "iopub.status.busy": "2022-03-22T15:58:15.687551Z",
     "iopub.status.idle": "2022-03-22T15:58:15.703153Z",
     "shell.execute_reply": "2022-03-22T15:58:15.702395Z",
     "shell.execute_reply.started": "2022-03-22T15:58:15.688331Z"
    }
   },
   "outputs": [],
   "source": [
    "\n",
    "# ✅ この行は変更しないでください：過去30日間の来客数データ\n",
    "num_customers = [137, 147, 135, 128, 170, 174, 165, 146, 126, 159,\n",
    "                 141, 148, 132, 147, 168, 153, 170, 161, 148, 152,\n",
    "                 141, 151, 131, 149, 164, 163, 143, 143, 166, 171]\n",
    "\n",
    "# TODO:📝 次の変数に、対応する値を代入してください：\n",
    "avg_first_seven = ____\n",
    "avg_last_seven = ____\n",
    "max_month = ____\n",
    "min_month = ____\n",
    "\n",
    "# ✅ この行も変更しないでください：答えをチェックします\n",
    "q2.check()\n",
    "\n"
   ]
  },
  {
   "cell_type": "markdown",
   "metadata": {},
   "source": [
    "\n",
    "### 🧠 サポート機能"
   ]
  },
  {
   "cell_type": "code",
   "execution_count": null,
   "metadata": {},
   "outputs": [],
   "source": [
    "\n",
    "\n",
    "# 🔍 ヒントを見たい場合は、下の行の「#」を外して実行してみましょう\n",
    "\n",
    "#q2.hint()\n",
    "\n",
    "# ✅ 解答を確認したい場合は、下の行の「#」を外して実行してみましょう\n",
    "\n",
    "#q2.solution()\n"
   ]
  },
  {
   "cell_type": "markdown",
   "metadata": {},
   "source": [
    "## ❓ 問題 3：文字列とリスト\n",
    "\n",
    "チュートリアルでは、  \n",
    "「**情報をリストとして管理すると扱いやすくなる**」という考え方を学びました。  \n",
    "この問題では、**文字列をリストに変換する操作**に挑戦します。\n",
    "\n",
    "\n",
    "\n",
    "### 🔄 文字列をリストに変換するには？\n",
    "\n",
    "文字列の `.split()` メソッドを使うと、  \n",
    "**指定した区切り文字**で文字列を分割し、リストに変換できます。\n",
    "\n",
    "\n",
    "\n",
    "### 💬 例：カンマ区切りの文字列を分割する\n",
    "\n"
   ]
  },
  {
   "cell_type": "code",
   "execution_count": null,
   "metadata": {},
   "outputs": [],
   "source": [
    "\n",
    "\n",
    "flowers = \"pink primrose,hard-leaved pocket orchid,canterbury bells,sweet pea\"\n",
    "\n",
    "# カンマで分割してリスト化\n",
    "print(flowers.split(\",\"))\n",
    "\n",
    "# 結果: ['pink primrose', 'hard-leaved pocket orchid', 'canterbury bells', 'sweet pea']\n"
   ]
  },
  {
   "cell_type": "markdown",
   "metadata": {},
   "source": [
    "### ✍️ やること\n",
    "\n",
    "以下の2つのリストを `.split()` を使って作成してください：\n",
    "\n",
    "#### 1. `letters`\n",
    "\n",
    "* `alphabet` を `\".\"` で区切って **A〜Zの文字をリストに変換**します。\n",
    "\n",
    "#### 2. `formatted_address`\n",
    "\n",
    "* `address` を `\",\"` で区切って **住所の各行をリストに変換**します。\n",
    "\n",
    "\n",
    "\n",
    "### 🧠 ヒント\n",
    "\n",
    "* `alphabet.split()`\n",
    "* `address.split()`"
   ]
  },
  {
   "cell_type": "markdown",
   "metadata": {},
   "source": [
    "\n",
    "### 💻 コードセル\n"
   ]
  },
  {
   "cell_type": "code",
   "execution_count": null,
   "metadata": {},
   "outputs": [],
   "source": [
    "\n",
    "\n",
    "# ✅ この行は変更しないでください：2つのPython文字列（アルファベットと住所）\n",
    "alphabet = \"A.B.C.D.E.F.G.H.I.J.K.L.M.N.O.P.Q.R.S.T.U.V.W.X.Y.Z\"\n",
    "address = \"Mr. H. Potter,The cupboard under the Stairs,4 Privet Drive,Little Whinging,Surrey\"\n",
    "\n",
    "# TODO:📝 文字列をリストに変換してください\n",
    "letters = ____  # alphabet を分割してリストに変換\n",
    "formatted_address = ____  # address をカンマで区切ってリストに変換\n",
    "\n",
    "# ✅ この行も変更しないでください：答えをチェックします\n",
    "q3.check()\n",
    "\n"
   ]
  },
  {
   "cell_type": "markdown",
   "metadata": {},
   "source": [
    "\n",
    "### 🧠 サポート機能"
   ]
  },
  {
   "cell_type": "code",
   "execution_count": null,
   "metadata": {},
   "outputs": [],
   "source": [
    "\n",
    "\n",
    "# 🔍 ヒントを見たい場合は、下の行の「#」を外してください\n",
    "#_COMMENT_IF(PROD)_本番環境で表示\n",
    "#q3.hint()\n",
    "\n",
    "# ✅ 解答を確認したい場合は、下の行の「#」を外してください\n",
    "#_COMMENT_IF(PROD)_本番環境で表示\n",
    "#q3.solution()\n"
   ]
  },
  {
   "cell_type": "markdown",
   "metadata": {},
   "source": [
    "## ❓ 問題 4：リスト内包表記\n",
    "\n",
    "**リスト内包表記（List Comprehension）** は、  \n",
    "あるリストのデータを使って、**新しいリストを効率よく作成する方法**です。\n",
    "\n",
    "この問題では、リスト内包表記を使って「評価リスト」から好みの判定と割合の計算を行います。\n",
    "\n",
    "\n",
    "\n",
    "### 📋 評価リスト（test\\_ratings）\n",
    "\n"
   ]
  },
  {
   "cell_type": "code",
   "execution_count": null,
   "metadata": {},
   "outputs": [],
   "source": [
    "test_ratings = [1, 2, 3, 4, 5]\n",
    "\n",
    "print(test_ratings)"
   ]
  },
  {
   "cell_type": "markdown",
   "metadata": {},
   "source": [
    "### ✍️ やること\n",
    "\n",
    "#### ① 評価が4以上かを判定するリストを作る\n",
    "\n",
    "次の条件でリスト `test_liked` を作成してください：\n",
    "\n",
    "* 各評価が **4以上なら `True`**、それ以外は `False`\n",
    "* リスト内包表記を使って一行で記述する\n",
    "\n",
    "✅ 出力例：\n",
    "\n",
    "```python\n",
    "[False, False, False, True, True]\n",
    "```\n",
    "\n"
   ]
  },
  {
   "cell_type": "code",
   "execution_count": null,
   "metadata": {},
   "outputs": [],
   "source": [
    "test_liked = [i>=4 for i in test_ratings]\n",
    "\n",
    "print(test_liked)"
   ]
  },
  {
   "cell_type": "markdown",
   "metadata": {},
   "source": [
    "#### ② 関数 `percentage_liked(ratings)` を作成する\n",
    "\n",
    "以下の仕様で関数を定義してください：\n",
    "\n",
    "* 評価が **4または5** の人を「気に入った」と見なし、その割合を **0.0〜1.0** の範囲で返す\n",
    "* `True` の数を `sum()` で数え、全体数は `len(ratings)` で求める\n",
    "\n",
    "✅ 実行例：\n",
    "\n",
    "```python\n",
    "percentage_liked([1, 2, 3, 4, 5, 4, 5, 1])  # 結果: 0.5\n"
   ]
  },
  {
   "cell_type": "markdown",
   "metadata": {},
   "source": [
    "\n",
    "### 💻 コードセル\n"
   ]
  },
  {
   "cell_type": "code",
   "execution_count": null,
   "metadata": {},
   "outputs": [],
   "source": [
    "# ✅ 評価リスト\n",
    "test_ratings = [1, 2, 3, 4, 5]\n",
    "\n",
    "\n",
    "def percentage_liked(ratings):\n",
    "    # 各評価が「4以上かどうか」を判定して、真偽値のリストを作る\n",
    "    list_liked = [i >= 4 for i in ratings]\n",
    "    \n",
    "    # 📝 TODO: list_liked を使って「True（＝いいね）」の割合を求めてください\n",
    "    # - True の数を数えるには sum() を使う\n",
    "    # - 全体の人数は len(ratings) で求める\n",
    "    percentage_liked = ____  \n",
    "    \n",
    "    return percentage_liked\n",
    "\n",
    "# ✅ この行は変更しないでください：0.5 を返すべき例\n",
    "percentage_liked([1, 2, 3, 4, 5, 4, 5, 1])\n",
    "\n",
    "# ✅ この行も変更しないでください：答えをチェックします\n",
    "q4.check()\n",
    "\n"
   ]
  },
  {
   "cell_type": "markdown",
   "metadata": {},
   "source": [
    "\n",
    "### 🧠 サポート機能\n"
   ]
  },
  {
   "cell_type": "code",
   "execution_count": null,
   "metadata": {},
   "outputs": [],
   "source": [
    "\n",
    "\n",
    "# 🔍 ヒントを見たい場合は、下の行の「#」を外して実行してみましょう\n",
    "\n",
    "#q4.hint()\n",
    "\n",
    "# ✅ 解答を確認したい場合は、下の行の「#」を外して実行してみましょう\n",
    "\n",
    "#q4.solution()\n",
    "\n"
   ]
  },
  {
   "cell_type": "markdown",
   "metadata": {},
   "source": [
    "## 🌶️ 問題 5：ユーザー数の成長率を求める\n",
    "\n",
    "あなたはウェブサイトの分析担当者です。  \n",
    "この問題では、**何年前と比べてユーザー数がどれだけ成長したか** を求める関数を作成します。\n",
    "\n",
    "\n",
    "\n",
    "🧩 関数名：`percentage_growth(num_users, yrs_ago)`\n",
    "\n",
    "#### 引数：\n",
    "\n",
    "* `num_users`：各年の **ユーザー総数** を格納したリスト  \n",
    "（例：`num_users[0]` が1年目、最後の要素が最新の年）\n",
    "\n",
    "* `yrs_ago`：何年前と比較するかを表す整数\n",
    "\n",
    "\n",
    "\n",
    "### 🧮 計算式：\n",
    "\n",
    "```python\n",
    "(現在のユーザー数 - 過去のユーザー数) / 過去のユーザー数\n",
    "```\n",
    "\n",
    "\n",
    "\n",
    "### 🧪 例：\n",
    "\n",
    "```python\n",
    "num_users = [920344, 1043553, 1204334, 1458996, 1503323,\n",
    "             1593432, 1623463, 1843064, 1930992, 2001078]\n",
    "```\n",
    "\n",
    "* `yrs_ago = 1` のとき → 約 `0.036`（＝約3.6%の成長）\n",
    "* `yrs_ago = 7` のとき → 約 `0.66`（＝約66%の成長）\n",
    "\n",
    "\n",
    "\n",
    "### 🛠️ やること\n",
    "\n",
    "以下の関数の ____ を正しく埋めて、**成長率を返す**ようにしてください。\n",
    "\n",
    "\n",
    "\n",
    "### 💻 コードセル\n",
    "\n"
   ]
  },
  {
   "cell_type": "code",
   "execution_count": null,
   "metadata": {},
   "outputs": [],
   "source": [
    "# 📝 TODO: 下の3ステップに従って関数を完成させてください\n",
    "def percentage_growth(num_users, yrs_ago):\n",
    "    # ステップ1：最新のユーザー数を取得（リストの最後の要素）\n",
    "    current = ____\n",
    "\n",
    "    # ステップ2：yrs_ago 年前のユーザー数を取得（インデックスに注意）\n",
    "    past = ____\n",
    "\n",
    "    # ステップ3：（現在のユーザー数 - 過去のユーザー数）/ 過去 の式で成長率を求める\n",
    "    growth = ____\n",
    "\n",
    "    return growth\n",
    "\n",
    "# 変更しないでください: いくつかのテスト例を計算するための変数\n",
    "num_users_test = [920344, 1043553, 1204334, 1458996, 1503323, 1593432, 1623463, 1843064, 1930992, 2001078]\n",
    "\n",
    "# 変更しないでください: 結果が約 0.036（＝3.6%）になるはずです\n",
    "print(percentage_growth(num_users_test, 1))\n",
    "\n",
    "# 変更しないでください: 結果が約 0.66（＝66%）になるはずです。\n",
    "print(percentage_growth(num_users_test, 7))\n",
    "\n",
    "# 変更しないでください。（答えの確認用です。）\n",
    "q5.check()\n",
    "\n",
    "\n"
   ]
  },
  {
   "cell_type": "markdown",
   "metadata": {},
   "source": [
    "\n",
    "### 🧠 サポート機能"
   ]
  },
  {
   "cell_type": "code",
   "execution_count": null,
   "metadata": {},
   "outputs": [],
   "source": [
    "\n",
    "\n",
    "# 🔍 ヒントを見たい場合は、下の行の「#」を外して実行してみましょう\n",
    "\n",
    "#q5.hint()\n",
    "\n",
    "# ✅ 解答を確認したい場合は、下の行の「#」を外して実行してみましょう\n",
    "\n",
    "#q5.solution()\n"
   ]
  },
  {
   "cell_type": "markdown",
   "metadata": {},
   "source": [
    "## 🎉 おつかれさまでした！\n",
    "\n",
    "**Intro to Programming（プログラミング入門）コースを完了しました。**  \n",
    "ここまでの学習、おつかれさまでした。\n",
    "\n",
    "\n",
    "\n",
    "### 🧩 このチュートリアルで学んだこと：\n",
    "\n",
    "* **リスト**の基本的な操作方法（作成、変更、スライス、削除、追加など）\n",
    "* **文字列の分割**やリストへの変換方法\n",
    "* **リスト内包表記**を使った効率的なリスト操作\n",
    "* **関数の作成**と、**リストを使った実践的な計算**（成長率の計算など）\n",
    "\n",
    "\n",
    "\n",
    "🔜 **次のステップ**として、Python入門コースをおすすめします：\n",
    "\n",
    "🐍 [**Python 入門コース**](http://www.kaggle.com/learn/python)  \n",
    "　本格的なプログラミングの基礎を、Pythonでしっかり学びます。\n",
    "\n",
    "\n",
    "\n",
    "### 🚀 これからが本番です！\n",
    "\n",
    "このコースで学んだことを活かして、コードを書きながら理解を深めていきましょう。  \n",
    "自分のペースで取り組み、次のチャレンジへと進んでください。\n",
    "\n",
    "\n"
   ]
  },
  {
   "cell_type": "markdown",
   "metadata": {},
   "source": []
  }
 ],
 "metadata": {
  "kernelspec": {
   "display_name": "Python 3",
   "language": "python",
   "name": "python3"
  },
  "language_info": {
   "codemirror_mode": {
    "name": "ipython",
    "version": 3
   },
   "file_extension": ".py",
   "mimetype": "text/x-python",
   "name": "python",
   "nbconvert_exporter": "python",
   "pygments_lexer": "ipython3",
   "version": "3.6.5"
  }
 },
 "nbformat": 4,
 "nbformat_minor": 4
}
