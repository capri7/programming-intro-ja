{
 "cells": [
  {
   "cell_type": "markdown",
   "metadata": {
    "papermill": {
     "duration": 0.023688,
     "end_time": "2022-03-07T16:20:42.425336",
     "exception": false,
     "start_time": "2022-03-07T16:20:42.401648",
     "status": "completed"
    },
    "tags": []
   },
   "source": [
    "# プログラミング入門コースへようこそ！\n",
    "\n",
    "このコースは、「**コードを書くのはこれが初めて！**」という方のために作られています。  \n",
    "データサイエンスや機械学習に興味があって、「プログラミングを始めてみたい」と思っている方には、ぴったりのスタート地点です。\n",
    "\n",
    "すでにプログラミング経験のある方は、この入門コースを飛ばして、Pythonコースから始めるのもよいかもしれません。\n",
    "\n",
    "このチュートリアルでは、「コードでコンピュータを動かすって、どういうこと？」をテーマに、  \n",
    "**Python**（パイソン）という人気のプログラミング言語を使って、少しずつ学んでいきます。\n",
    "\n",
    "コードを書いて動かす体験を通じて、プログラミングの基本を身につけていきましょう。\n",
    "\n",
    "このコースを終えるころには、Pythonの基礎がしっかり身につき、  \n",
    "「Pythonコース」や「機械学習入門コース」など、次のステップにも自信をもって進めるようになります。\n",
    "\n",
    "このチュートリアルでは、まずコードの例を見ながら学び、演習では**実際にコードを書く**体験できます。  \n",
    "（演習を先に見ておきたい方は、[**今すぐ確認**](./ex1.ipynb)することもできます。チュートリアルの最後にもリンクがありますので、ご安心ください。）\n",
    "\n"
   ]
  },
  {
   "cell_type": "markdown",
   "id": "2a112155",
   "metadata": {},
   "source": [
    "## ✅ ノートブックを使用する前に\n",
    "\n",
    "このノートブックは、何度でも繰り返し使用できます。\n",
    "\n",
    "**Windows**をご利用の方は、以下の点にご注意ください。\n",
    "\n",
    "1. **キャッシュの削除**：\n",
    "\n",
    "   ブラウザにキャッシュが残っていると、ノートブックが正しく動作しない場合があります。\n",
    "\n",
    "   * **Google Chrome**の場合:\n",
    "     右上の「︙」メニュー →「設定」→「プライバシーとセキュリティ」→「閲覧履歴データを削除」にチェックを入れて削除します。\n",
    "\n",
    "   * **Microsoft Edge**の場合:\n",
    "     右上の「…」メニュー →「設定」→「プライバシー、検索、サービス」→「閲覧データをクリア」→「キャッシュされた画像とファイル」にチェックを入れて削除します。\n",
    "\n",
    "\n",
    "2. **ページのリフレッシュ**：\n",
    "\n",
    "   キャッシュを削除した後、ページを強制的に再読み込みすることで、最新の状態を反映させることができます。\n",
    "\n",
    "   * **Windows**: `Ctrl + F5`\n",
    "   * **Mac**: `Shift + Command + R`([Qiita][1])\n",
    "\n",
    "\n",
    "3. **カーネルのリスタートと出力のクリア**：\n",
    "\n",
    "   ノートブックの左上にある「Kernel」メニューから「Restart Kernel and Clear Output」を選択すると、すべてのセルの出力がクリアされ、カーネルが再起動されます。これにより、ノートブックを初期状態に戻すことができます。\n",
    "\n",
    "\n",
    "これらの手順を実行することで、ノートブックを快適にご利用いただけます。\n",
    "\n"
   ]
  },
  {
   "cell_type": "markdown",
   "id": "ee96f0f8",
   "metadata": {},
   "source": [
    "## ノートブックの準備\n",
    "\n",
    "このチュートリアルでは、Pyodide環境をセットアップし、必要なパッケージ（learntoolsなど）をインストールします。\n",
    "\n",
    "以下のセルを**Shift + Enter**で実行してください。"
   ]
  },
  {
   "cell_type": "markdown",
   "id": "4798212a",
   "metadata": {},
   "source": [
    "## Pyodide環境のセットアップ"
   ]
  },
  {
   "cell_type": "code",
   "execution_count": null,
   "id": "65007aea",
   "metadata": {},
   "outputs": [],
   "source": [
    "import micropip\n",
    "await micropip.install(\"https://capri7.github.io/programming-intro-ja/files/raw/packages/learntools-0.3.5-py3-none-any.whl\")\n"
   ]
  },
  {
   "cell_type": "markdown",
   "id": "f52f1bb7",
   "metadata": {},
   "source": [
    "## 必要なパッケージのインストール"
   ]
  },
  {
   "cell_type": "code",
   "execution_count": null,
   "id": "bcd51d25",
   "metadata": {},
   "outputs": [],
   "source": [
    "await micropip.install([\"numpy\", \"pandas\", \"matplotlib\"])\n",
    "\n",
    "from learntools.core import binder\n",
    "binder.bind(globals())\n",
    "print(\"✅ Setup complete\")"
   ]
  },
  {
   "cell_type": "markdown",
   "metadata": {
    "papermill": {
     "duration": 0.022131,
     "end_time": "2022-03-07T16:20:42.471015",
     "exception": false,
     "start_time": "2022-03-07T16:20:42.448884",
     "status": "completed"
    },
    "tags": []
   },
   "source": [
    "## プリント（表示）\n",
    "\n",
    "最もシンプル、かつ、とても重要な作業のひとつが、**メッセージの表示**です。Pythonでは、`print()` という命令を使って、コンピュータに「このメッセージを表示して！」と伝えることができます。メッセージは、かっこ`()`の中に書き、**ダブルクォーテーション（`\"`）で囲みます**。\n",
    "\n",
    "たとえば、次のように書くと、コンピュータは `Hello, world!` というメッセージを表示します：\n"
   ]
  },
  {
   "cell_type": "code",
   "execution_count": null,
   "metadata": {
    "execution": {
     "iopub.execute_input": "2022-03-07T16:20:42.527326Z",
     "iopub.status.busy": "2022-03-07T16:20:42.526517Z",
     "iopub.status.idle": "2022-03-07T16:20:42.533715Z",
     "shell.execute_reply": "2022-03-07T16:20:42.532852Z",
     "shell.execute_reply.started": "2022-02-08T18:29:33.226836Z"
    },
    "papermill": {
     "duration": 0.040156,
     "end_time": "2022-03-07T16:20:42.533937",
     "exception": false,
     "start_time": "2022-03-07T16:20:42.493781",
     "status": "completed"
    },
    "tags": []
   },
   "outputs": [],
   "source": [
    "print(\"Hello, world!\")"
   ]
  },
  {
   "cell_type": "markdown",
   "metadata": {
    "papermill": {
     "duration": 0.022595,
     "end_time": "2022-03-07T16:20:42.580204",
     "exception": false,
     "start_time": "2022-03-07T16:20:42.557609",
     "status": "completed"
    },
    "tags": []
   },
   "source": [
    "このコードは、**コードセル**（code cell）と呼ばれる枠の中に書かれています。  \n",
    "そして、そのコードに対するコンピュータの反応（**出力（output）**）は、コードセルのすぐ下に表示されます。\n",
    "\n",
    "ご覧の通り、コンピュータは私たちが指定したメッセージを、きちんと表示してくれます。\n",
    "\n",
    "\n",
    "## 算術（Arithmetic）\n",
    "\n",
    "Pythonでは、足し算・引き算・掛け算・割り算などの**算術演算**を行い、その結果を表示できます。\n",
    "\n",
    "たとえば、次のコードセルでは、コンピュータが 1 + 2 を計算し、その結果（3）を表示します。"
   ]
  },
  {
   "cell_type": "code",
   "execution_count": 2,
   "metadata": {
    "execution": {
     "iopub.execute_input": "2022-03-07T16:20:42.632757Z",
     "iopub.status.busy": "2022-03-07T16:20:42.631845Z",
     "iopub.status.idle": "2022-03-07T16:20:42.634907Z",
     "shell.execute_reply": "2022-03-07T16:20:42.635524Z",
     "shell.execute_reply.started": "2022-02-08T18:29:34.181865Z"
    },
    "papermill": {
     "duration": 0.032397,
     "end_time": "2022-03-07T16:20:42.635736",
     "exception": false,
     "start_time": "2022-03-07T16:20:42.603339",
     "status": "completed"
    },
    "tags": []
   },
   "outputs": [
    {
     "name": "stdout",
     "output_type": "stream",
     "text": [
      "3\n"
     ]
    }
   ],
   "source": [
    "print(1 + 2)"
   ]
  },
  {
   "cell_type": "markdown",
   "id": "f3af8a83",
   "metadata": {},
   "source": [
    "ここで注目してほしいのは、文字列を表示するときとは異なり、数値の計算ではクォーテーション（\"や'）で囲む必要がないという点です。\n",
    "\n",
    "クォーテーションで囲むと、数値ではなく文字列として扱われ、計算が行われません。\n",
    "\n",
    "たとえば、print`('1 + 2')`とすると、計算結果の3ではなく、文字列として`1 + 2`がそのまま表示されます。"
   ]
  },
  {
   "cell_type": "code",
   "execution_count": null,
   "id": "ee2a08dc",
   "metadata": {},
   "outputs": [],
   "source": [
    "print('1 + 2')"
   ]
  },
  {
   "cell_type": "markdown",
   "metadata": {
    "papermill": {
     "duration": 0.023585,
     "end_time": "2022-03-07T16:20:42.683228",
     "exception": false,
     "start_time": "2022-03-07T16:20:42.659643",
     "status": "completed"
    },
    "tags": []
   },
   "source": [
    "## 引き算（減算）\n",
    "\n",
    "Pythonでは、引き算を行う際に`-`（ハイフン）を使用します。\n",
    "次のコードセルでは、9 - 5 の計算結果（4）が表示されます。"
   ]
  },
  {
   "cell_type": "code",
   "execution_count": null,
   "metadata": {
    "execution": {
     "iopub.execute_input": "2022-03-07T16:20:42.736884Z",
     "iopub.status.busy": "2022-03-07T16:20:42.736264Z",
     "iopub.status.idle": "2022-03-07T16:20:42.739465Z",
     "shell.execute_reply": "2022-03-07T16:20:42.738884Z",
     "shell.execute_reply.started": "2022-02-08T18:29:34.570576Z"
    },
    "papermill": {
     "duration": 0.032443,
     "end_time": "2022-03-07T16:20:42.739593",
     "exception": false,
     "start_time": "2022-03-07T16:20:42.707150",
     "status": "completed"
    },
    "tags": []
   },
   "outputs": [
    {
     "name": "stdout",
     "output_type": "stream",
     "text": [
      "4\n"
     ]
    }
   ],
   "source": [
    "print(9 - 5)"
   ]
  },
  {
   "cell_type": "markdown",
   "id": "16185e6f",
   "metadata": {},
   "source": [
    "まずはこのまま実行してみましょう。\n",
    "その後、数値を変更して他の計算も試してみてください。"
   ]
  },
  {
   "cell_type": "markdown",
   "metadata": {
    "papermill": {
     "duration": 0.016079,
     "end_time": "2022-03-07T16:20:42.772205",
     "exception": false,
     "start_time": "2022-03-07T16:20:42.756126",
     "status": "completed"
    },
    "tags": []
   },
   "source": [
    "以下はPythonで実行できる計算です。\n",
    "いくつかの計算例を表示しています。\n",
    "\n",
    "\n",
    "<table style=\"width: 100%;\">\n",
    "<tbody>\n",
    "<tr><th><b>操作内容</b></th><th><b>記号</b></th><th><b>例</b></th></tr>\n",
    "<tr>\n",
    "<td>加算（Addition）</td>\n",
    "<td>+</td>\n",
    "<td>1 + 2 = 3</td>\n",
    "</tr>\n",
    "<tr>\n",
    "<td>減算（Subtraction）</td>\n",
    "<td>-</td>\n",
    "<td>5 - 4 = 1</td>\n",
    "</tr>\n",
    "<tr>\n",
    "<td>乗算（Multiplication）</td>\n",
    "<td>*</td>\n",
    "<td>2 * 4 = 8</td>\n",
    "</tr>\n",
    "<tr>\n",
    "<td>除算（Division）</td>\n",
    "<td>/</td>\n",
    "<td>6 / 3 = 2</td>\n",
    "</tr>\n",
    "<tr>\n",
    "<td>累乗（Exponent）</td>\n",
    "<td>**</td>\n",
    "<td>3 ** 2 = 9</td>\n",
    "</tr>\n",
    "</tbody>\n",
    "</table>"
   ]
  },
  {
   "cell_type": "markdown",
   "metadata": {
    "papermill": {
     "duration": 0.01562,
     "end_time": "2022-03-07T16:20:42.804209",
     "exception": false,
     "start_time": "2022-03-07T16:20:42.788589",
     "status": "completed"
    },
    "tags": []
   },
   "source": [
    "## 演算の順序を制御する\n",
    "複雑な計算を行うときは、かっこ () を使って計算の順番を指定することができます。\n",
    "Pythonは通常、掛け算や割り算を足し算や引き算よりも先に行いますが、かっこを使うことで順番を変えることができます。\n"
   ]
  },
  {
   "cell_type": "code",
   "execution_count": null,
   "metadata": {
    "execution": {
     "iopub.execute_input": "2022-03-07T16:20:42.841911Z",
     "iopub.status.busy": "2022-03-07T16:20:42.841304Z",
     "iopub.status.idle": "2022-03-07T16:20:42.843534Z",
     "shell.execute_reply": "2022-03-07T16:20:42.844043Z",
     "shell.execute_reply.started": "2022-02-08T19:42:14.5744Z"
    },
    "papermill": {
     "duration": 0.023827,
     "end_time": "2022-03-07T16:20:42.844280",
     "exception": false,
     "start_time": "2022-03-07T16:20:42.820453",
     "status": "completed"
    },
    "tags": []
   },
   "outputs": [],
   "source": [
    "print(((1 + 3) * (9 - 2) / 2) ** 2)"
   ]
  },
  {
   "cell_type": "markdown",
   "id": "64aae734",
   "metadata": {},
   "source": [
    "この式では、\n",
    "\n",
    "1. (1 + 3) → 4\n",
    "2. (9 - 2) → 7\n",
    "3. 4 * 7 → 28\n",
    "4. 28 / 2 → 14.0\n",
    "5. 14.0 ** 2 → 196.0\n",
    "\n",
    "という順序で計算されます。"
   ]
  },
  {
   "cell_type": "markdown",
   "metadata": {
    "papermill": {
     "duration": 0.015358,
     "end_time": "2022-03-07T16:20:42.876767",
     "exception": false,
     "start_time": "2022-03-07T16:20:42.861409",
     "status": "completed"
    },
    "tags": []
   },
   "source": [
    "一般的に、PythonはPEMDAS（数学の演算順序のルール）に従って計算を行います。\n",
    "\n",
    "PEMDASとは、かっこ（Parentheses）、指数（Exponents）、掛け算・割り算（Multiplication / Division）、足し算・引き算（Addition / Subtraction）の順に計算するルールです。\n",
    "\n",
    "詳しく知りたい方は、[**PEMDAS**](https://www.mathsisfun.com/operation-order-pemdas.html) の解説ページ（英語）をご覧ください。\n",
    "※ブラウザの翻訳機能を使えば、日本語でも読むことができます。\n",
    "\n",
    "\n",
    "## コメント\n",
    "コメントは、コードの意図や理由を補足するために書きます。\n",
    "読み手（自分を含む）がコードの動作や目的をすばやく理解できるようにするのが主な目的です。\n",
    "\n",
    "特に、複雑な処理や背景に意図があるコードには、「**なぜこのように書いたのか**」を明記することが重要です。\n",
    "\n",
    "コードが短い場合でも、「なぜこの値を使っているのか」や「どのような目的の計算なのか」を明示すると、可読性が高まり、保守性も向上します。\n"
   ]
  },
  {
   "cell_type": "code",
   "execution_count": null,
   "metadata": {
    "execution": {
     "iopub.execute_input": "2022-03-07T16:20:42.914578Z",
     "iopub.status.busy": "2022-03-07T16:20:42.913534Z",
     "iopub.status.idle": "2022-03-07T16:20:42.917420Z",
     "shell.execute_reply": "2022-03-07T16:20:42.916776Z",
     "shell.execute_reply.started": "2022-02-08T18:29:34.938328Z"
    },
    "papermill": {
     "duration": 0.024874,
     "end_time": "2022-03-07T16:20:42.917582",
     "exception": false,
     "start_time": "2022-03-07T16:20:42.892708",
     "status": "completed"
    },
    "tags": []
   },
   "outputs": [],
   "source": [
    "# 商品3個を、1個あたり2ドルで購入したときの合計金額を計算\n",
    "print(3 * 2)\n"
   ]
  },
  {
   "cell_type": "markdown",
   "metadata": {
    "papermill": {
     "duration": 0.02453,
     "end_time": "2022-03-07T16:20:42.967526",
     "exception": false,
     "start_time": "2022-03-07T16:20:42.942996",
     "status": "completed"
    },
    "tags": []
   },
   "source": [
    "## コメントの書き忘れによるエラーの例\n",
    "Pythonでは、説明文をコメントとして書くには、必ず # を行の先頭に付ける必要があります。\n",
    "このルールを忘れてしまうと、Pythonはそれを「コード」だと誤解して、**構文エラー**（SyntaxError）になります。\n",
    "\n",
    "次のコードセルを見てください："
   ]
  },
  {
   "cell_type": "code",
   "execution_count": null,
   "metadata": {
    "execution": {
     "iopub.execute_input": "2022-03-07T16:20:43.021501Z",
     "iopub.status.busy": "2022-03-07T16:20:43.020832Z",
     "iopub.status.idle": "2022-03-07T16:20:43.024130Z",
     "shell.execute_reply": "2022-03-07T16:20:43.023646Z",
     "shell.execute_reply.started": "2022-02-08T18:29:35.325527Z"
    },
    "papermill": {
     "duration": 0.032055,
     "end_time": "2022-03-07T16:20:43.024289",
     "exception": false,
     "start_time": "2022-03-07T16:20:42.992234",
     "status": "completed"
    },
    "tags": []
   },
   "outputs": [],
   "source": [
    "商品Aを3個 × 100円  \n",
    "print(3 * 100)"
   ]
  },
  {
   "cell_type": "markdown",
   "id": "ebe3c308",
   "metadata": {},
   "source": [
    "上のセルをそのまま実行すると、Pythonは1行目を「**意味不明なコード**」だとみなして、次のようなエラーを出します：\n",
    "\n",
    "SyntaxError: invalid character in identifier\n",
    "\n",
    "これは、「コードとして理解できない文字列が含まれている」という意味のエラーです。\n",
    "コメントであるべき日本語の説明文が#を付けずに書かれていたため、Pythonはこれを「有効なコード」と誤って解釈し、\n",
    "構文エラー（SyntaxError）になります。\n"
   ]
  },
  {
   "cell_type": "markdown",
   "metadata": {
    "papermill": {
     "duration": 0.016055,
     "end_time": "2022-03-07T16:20:43.056956",
     "exception": false,
     "start_time": "2022-03-07T16:20:43.040901",
     "status": "completed"
    },
    "tags": []
   },
   "source": [
    "## 変数（Variables）\n",
    "\n",
    "これまでのセルでは、計算を行い、その結果をすぐに表示していました。\n",
    "しかし、こうした計算結果は、一度表示されるだけで、あとから再利用することはできません。\n",
    "\n",
    "たとえば、同じ値を何度も使ったり、途中の計算結果を保存しておきたい場合、\n",
    "毎回その値を手で書き直すのは非効率です。\n",
    "\n",
    "そこで役に立つのが、**変数**（variable）です。\n",
    "変数を使えば、計算結果や値に名前をつけて記録することができ、あとで自由に呼び出すことができます。\n",
    "\n",
    "\n",
    "### 変数の作成\n",
    "\n",
    "変数とは、値を一時的に保存し、あとから再利用できるしくみです。\n",
    "変数を作るには、「変数名 = 値」という形で代入を行います。\n",
    "\n",
    "次のコードでは、`test_var`という名前の変数に、 `4 + 5`の計算結果（つまり 9）を代入しています。\n",
    "そのあと `print()` を使って、変数に保存された値を表示しています。\n"
   ]
  },
  {
   "cell_type": "code",
   "execution_count": null,
   "metadata": {
    "execution": {
     "iopub.execute_input": "2022-03-07T16:20:43.095360Z",
     "iopub.status.busy": "2022-03-07T16:20:43.094678Z",
     "iopub.status.idle": "2022-03-07T16:20:43.097296Z",
     "shell.execute_reply": "2022-03-07T16:20:43.097709Z",
     "shell.execute_reply.started": "2022-02-08T18:29:35.71755Z"
    },
    "papermill": {
     "duration": 0.02435,
     "end_time": "2022-03-07T16:20:43.097863",
     "exception": false,
     "start_time": "2022-03-07T16:20:43.073513",
     "status": "completed"
    },
    "tags": []
   },
   "outputs": [
    {
     "name": "stdout",
     "output_type": "stream",
     "text": [
      "9\n"
     ]
    }
   ],
   "source": [
    "# test_var という変数に 4 + 5 の結果を代入する\n",
    "test_var = 4 + 5\n",
    "\n",
    "# test_var に保存された値を表示する\n",
    "print(test_var)\n"
   ]
  },
  {
   "cell_type": "markdown",
   "metadata": {
    "papermill": {
     "duration": 0.016131,
     "end_time": "2022-03-07T16:20:43.130631",
     "exception": false,
     "start_time": "2022-03-07T16:20:43.114500",
     "status": "completed"
    },
    "tags": []
   },
   "source": [
    "### 変数名のルールと付け方\n",
    "\n",
    "変数を使うには、まず **意味のある名前** をつけて、それに値を代入する必要があります。\n",
    "変数名にはいくつかのルールがあります：\n",
    "\n",
    "* **スペース（空白）は使えません**\n",
    "  × `test var` → ❌（エラーになります）\n",
    "\n",
    "* **使える文字は、アルファベット・数字・アンダースコア（`_`）のみです**\n",
    "  × `test_var!` → ❌（記号は使えません）\n",
    "\n",
    "* **変数名の先頭は、アルファベットまたはアンダースコアで始めなければなりません**\n",
    "  × `1_var` → ❌（数字から始めることはできません）\n",
    "\n",
    "\n",
    "では、どういう名前をつければよいのでしょうか？\n",
    "\n",
    "* できるだけ **短く**\n",
    "* かつ、**中身や目的が想像できるような名前**\n",
    "\n",
    "が理想です。\n",
    "\n",
    "例：\n",
    "\n",
    "```python\n",
    "# 合計金額を表す変数\n",
    "total_price = 1500\n",
    "\n",
    "# 生徒数を表す変数\n",
    "num_students = 42\n",
    "```\n",
    "\n",
    "\n",
    "変数名の付け方に最初は戸惑うかもしれませんが、**実際にコードを書くうちに自然と慣れていきます**。\n",
    "まずはシンプルな名前で構いません。後から読みやすく整理する習慣をつけていきましょう。\n",
    "\n"
   ]
  },
  {
   "cell_type": "markdown",
   "metadata": {
    "papermill": {
     "duration": 0.016443,
     "end_time": "2022-03-07T16:20:43.163577",
     "exception": false,
     "start_time": "2022-03-07T16:20:43.147134",
     "status": "completed"
    },
    "tags": []
   },
   "source": [
    "### 変数の操作（値の更新）\n",
    "\n",
    "変数に一度代入した値は、あとから別の値に変更することができます。\n",
    "これを「変数の更新（上書き）」と呼びます。\n",
    "\n",
    "たとえば次のコードでは、`my_var`という変数に最初は`3`を代入し、そのあと`100`に変更しています。"
   ]
  },
  {
   "cell_type": "code",
   "execution_count": null,
   "metadata": {
    "execution": {
     "iopub.execute_input": "2022-03-07T16:20:43.201674Z",
     "iopub.status.busy": "2022-03-07T16:20:43.200937Z",
     "iopub.status.idle": "2022-03-07T16:20:43.203716Z",
     "shell.execute_reply": "2022-03-07T16:20:43.203231Z",
     "shell.execute_reply.started": "2022-02-08T18:29:36.380815Z"
    },
    "papermill": {
     "duration": 0.023622,
     "end_time": "2022-03-07T16:20:43.203828",
     "exception": false,
     "start_time": "2022-03-07T16:20:43.180206",
     "status": "completed"
    },
    "tags": []
   },
   "outputs": [],
   "source": [
    "# my_var に3を代入する\n",
    "my_var = 3\n",
    "\n",
    "# 現在の値を表示\n",
    "print(my_var)\n",
    "\n",
    "# my_varの値を100に上書きする\n",
    "my_var = 100\n",
    "\n",
    "# 新しい値を表示\n",
    "print(my_var)\n"
   ]
  },
  {
   "cell_type": "markdown",
   "metadata": {},
   "source": [
    "このように、変数は一度だけでなく、何度でも内容を変更することができます。\n",
    "たとえば、スコアの更新、データの修正、計算途中の一時保存など、さまざまな場面で活用されます。\n",
    "\n",
    "前のセルで作成した変数 `my_var` や `test_var` は、次のように呼び出して使うことができます。\n"
   ]
  },
  {
   "cell_type": "code",
   "execution_count": null,
   "metadata": {},
   "outputs": [],
   "source": [
    "print(my_var)\n",
    "print(test_var)"
   ]
  },
  {
   "cell_type": "markdown",
   "metadata": {
    "papermill": {
     "duration": 0.016556,
     "end_time": "2022-03-07T16:20:43.237363",
     "exception": false,
     "start_time": "2022-03-07T16:20:43.220807",
     "status": "completed"
    },
    "tags": []
   },
   "source": [
    "### 変数の値を更新する\n",
    "\n",
    "変数には、現在の値をもとにして、新しい値を計算して上書きすることもできます。\n",
    "たとえば、次のコードでは my_var に 3 を足して、結果を my_var にもう一度代入しています。"
   ]
  },
  {
   "cell_type": "code",
   "execution_count": null,
   "metadata": {
    "execution": {
     "iopub.execute_input": "2022-03-07T16:20:43.274370Z",
     "iopub.status.busy": "2022-03-07T16:20:43.273819Z",
     "iopub.status.idle": "2022-03-07T16:20:43.279342Z",
     "shell.execute_reply": "2022-03-07T16:20:43.278842Z",
     "shell.execute_reply.started": "2022-02-08T18:29:36.857996Z"
    },
    "papermill": {
     "duration": 0.025028,
     "end_time": "2022-03-07T16:20:43.279467",
     "exception": false,
     "start_time": "2022-03-07T16:20:43.254439",
     "status": "completed"
    },
    "tags": []
   },
   "outputs": [],
   "source": [
    "# 値に3を足す\n",
    "my_var = my_var + 3\n",
    "\n",
    "# my_var に入っている値を表示する\n",
    "print(my_var)\n",
    "\n",
    "\n",
    "# my_var に 3 を加えた値を再び my_var に代入する\n",
    "my_var = my_var + 3\n",
    "\n",
    "# 現在の値を表示する\n",
    "print(my_var)\n"
   ]
  },
  {
   "cell_type": "markdown",
   "id": "c864b5ca",
   "metadata": {},
   "source": [
    "ここで使われている  `my_var` =  `my_var` + 3 は、左側と右側の  `my_var` は意味が違うことに注意してください。\n",
    "\n",
    "* 右側の `my_var` は「今の値」（たとえば 100）\n",
    "* 左側の `my_var` は「新しい値を保存する場所」\n",
    "\n",
    "このようにして、変数の中身を柔軟に更新することができます。"
   ]
  },
  {
   "cell_type": "markdown",
   "metadata": {
    "papermill": {
     "duration": 0.017545,
     "end_time": "2022-03-07T16:20:43.314040",
     "exception": false,
     "start_time": "2022-03-07T16:20:43.296495",
     "status": "completed"
    },
    "tags": []
   },
   "source": [
    "### 複数の変数を使う\n",
    "\n",
    "プログラムでは、複数の変数を組み合わせて計算を行うことがよくあります。\n",
    "特に、いくつかの数値を組み合わせて「まとまった結果」を求めるときに便利です。\n",
    "\n",
    "たとえば、「4年間で何秒あるか」を計算するには、以下のような要素が必要です：\n",
    "\n",
    "* num_years: 何年分か（ここでは 4年）\n",
    "* days_per_year: 1年に何日あるか（通常は 365日）\n",
    "* hours_per_day: 1日あたりの時間数（24時間）\n",
    "* mins_per_hour: 1時間あたりの分数（60分）\n",
    "* secs_per_min: 1分あたりの秒数（60秒）\n",
    "\n",
    "これらを順に掛け算していくことで、合計秒数 total_secs を求めることができます。"
   ]
  },
  {
   "cell_type": "code",
   "execution_count": null,
   "metadata": {
    "execution": {
     "iopub.execute_input": "2022-03-07T16:20:43.351527Z",
     "iopub.status.busy": "2022-03-07T16:20:43.350820Z",
     "iopub.status.idle": "2022-03-07T16:20:43.356770Z",
     "shell.execute_reply": "2022-03-07T16:20:43.357315Z",
     "shell.execute_reply.started": "2022-02-08T18:32:53.863553Z"
    },
    "papermill": {
     "duration": 0.026391,
     "end_time": "2022-03-07T16:20:43.357458",
     "exception": false,
     "start_time": "2022-03-07T16:20:43.331067",
     "status": "completed"
    },
    "tags": []
   },
   "outputs": [],
   "source": [
    "# 各単位の変数を定義する\n",
    "num_years = 4            # 年数（4年）\n",
    "days_per_year = 365      # 1年あたりの日数\n",
    "hours_per_day = 24       # 1日あたりの時間\n",
    "mins_per_hour = 60       # 1時間あたりの分\n",
    "secs_per_min = 60        # 1分あたりの秒\n",
    "\n",
    "# すべての値を掛け算して、4年間の合計秒数を求める\n",
    "total_secs = secs_per_min * mins_per_hour * hours_per_day * days_per_year * num_years\n",
    "\n",
    "# 結果を表示\n",
    "print(total_secs)\n"
   ]
  },
  {
   "cell_type": "markdown",
   "metadata": {
    "papermill": {
     "duration": 0.017197,
     "end_time": "2022-03-07T16:20:43.392071",
     "exception": false,
     "start_time": "2022-03-07T16:20:43.374874",
     "status": "completed"
    },
    "tags": []
   },
   "source": [
    "上の計算から、4年間は 126,144,000 秒であることがわかりました。\n",
    "\n",
    "もちろん、`60 * 60 * 24 * 365 * 4`のように、すべての数値をそのまま使って計算することもできます。\n",
    "でも、それだと何を掛けているのかがわかりにくく、ミスに気づきにくいという問題があります。\n",
    "\n",
    "その点、`num_years`や`days_per_year`のような意味のある変数名を使うことで、\n",
    "計算の内容がひと目でわかりやすくなり、見直しや修正もしやすくなります。\n",
    "\n",
    "特に、あとから数値を変えたい場合には変数がとても役立ちます。\n",
    "\n",
    "たとえば、「うるう年」を考慮して、1年の日数を 365日 → 365.25日 に修正したいとしましょう。\n",
    "このときは`days_per_year`の値を変更するだけで、他の部分はそのまま再利用できます。\n"
   ]
  },
  {
   "cell_type": "code",
   "execution_count": null,
   "metadata": {
    "execution": {
     "iopub.execute_input": "2022-03-07T16:20:43.430772Z",
     "iopub.status.busy": "2022-03-07T16:20:43.430033Z",
     "iopub.status.idle": "2022-03-07T16:20:43.435043Z",
     "shell.execute_reply": "2022-03-07T16:20:43.435499Z",
     "shell.execute_reply.started": "2022-02-08T18:32:54.667337Z"
    },
    "papermill": {
     "duration": 0.025765,
     "end_time": "2022-03-07T16:20:43.435643",
     "exception": false,
     "start_time": "2022-03-07T16:20:43.409878",
     "status": "completed"
    },
    "tags": []
   },
   "outputs": [],
   "source": [
    "# うるう年を考慮して、1年の日数を更新する（365 → 365.25）\n",
    "days_per_year = 365.25\n",
    "\n",
    "# 日数を更新したので、再度 4年間の合計秒数を計算し直す\n",
    "total_secs = secs_per_min * mins_per_hour * hours_per_day * days_per_year * num_years\n",
    "\n",
    "# 計算結果を表示\n",
    "print(total_secs)\n"
   ]
  },
  {
   "cell_type": "markdown",
   "metadata": {
    "papermill": {
     "duration": 0.017736,
     "end_time": "2022-03-07T16:20:43.471370",
     "exception": false,
     "start_time": "2022-03-07T16:20:43.453634",
     "status": "completed"
    },
    "tags": []
   },
   "source": [
    "**補足**：\n",
    "2回目の計算結果では、数字の末尾に`.0`がついています。\n",
    "これは 小数（365.25） を使ったためで、Pythonは計算結果を浮動小数点数（float） として表示します。\n",
    "\n",
    "一方、1回目の計算では 整数だけを使っていたため、Pythonは結果も整数として扱いました。\n",
    "\n",
    "このように、使用する値の「型」によって、結果の表示形式も変わることがあります。\n",
    "詳しい内容は、今後のレッスン「データ型」の中で取り上げます。"
   ]
  },
  {
   "cell_type": "markdown",
   "metadata": {},
   "source": [
    "## デバッグ（エラーの原因を見つける）\n",
    "\n",
    "プログラミングでよくある間違いのひとつが、**変数名の打ち間違い**（タイプミス）です。\n",
    "\n",
    "たとえば、正しい変数名が`hours_per_day`であるにもかかわらず、うっかり`hours_per_dy`と書いてしまった場合、\n",
    "Python は以下のようなエラーを表示します。"
   ]
  },
  {
   "cell_type": "code",
   "execution_count": null,
   "metadata": {},
   "outputs": [],
   "source": [
    "print(hours_per_dy)"
   ]
  },
  {
   "cell_type": "markdown",
   "metadata": {},
   "source": [
    "これは、「hours_per_dy という名前の変数は定義されていません」という意味です。\n",
    "つまり、その名前の変数は、どこにも存在していないということになります。\n",
    "\n",
    "このように`NameError`が表示されたときは、まず変数名のスペルミスを疑ってみましょう。\n",
    "単なる入力ミスであることが多く、正しい変数名に書き直すだけでエラーはすぐに解消されます。\n"
   ]
  },
  {
   "cell_type": "code",
   "execution_count": null,
   "metadata": {},
   "outputs": [],
   "source": [
    "print(hours_per_day)"
   ]
  },
  {
   "cell_type": "markdown",
   "id": "bbbca7a6",
   "metadata": {},
   "source": [
    "このように、正しい変数名に修正すれば、エラーは出なくなり、想定どおりの値が表示されます。\n"
   ]
  },
  {
   "cell_type": "markdown",
   "metadata": {
    "papermill": {
     "duration": 0.017612,
     "end_time": "2022-03-07T16:20:43.506958",
     "exception": false,
     "start_time": "2022-03-07T16:20:43.489346",
     "status": "completed"
    },
    "tags": []
   },
   "source": [
    "## お疲れ様でした！\n",
    "\n",
    "ここまでの内容は理解できましたか？\n",
    "学んだことをしっかり身につけるには、実際に手を動かして演習することが大切です。\n",
    "\n",
    "➡️ 次は、[**変数を使った計算の練習**](./ex1.ipynb)にチャレンジしてみましょう！\n"
   ]
  },
  {
   "cell_type": "markdown",
   "id": "c9af25e3",
   "metadata": {},
   "source": []
  }
 ],
 "metadata": {
  "kernelspec": {
   "display_name": "base",
   "language": "python",
   "name": "python3"
  },
  "language_info": {
   "codemirror_mode": {
    "name": "ipython",
    "version": 3
   },
   "file_extension": ".py",
   "mimetype": "text/x-python",
   "name": "python",
   "nbconvert_exporter": "python",
   "pygments_lexer": "ipython3",
   "version": "3.12.2"
  },
  "papermill": {
   "default_parameters": {},
   "duration": 11.075103,
   "end_time": "2022-03-07T16:20:44.235741",
   "environment_variables": {},
   "exception": null,
   "input_path": "__notebook__.ipynb",
   "output_path": "__notebook__.ipynb",
   "parameters": {},
   "start_time": "2022-03-07T16:20:33.160638",
   "version": "2.3.3"
  }
 },
 "nbformat": 4,
 "nbformat_minor": 5
}
