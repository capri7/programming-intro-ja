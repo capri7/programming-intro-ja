{
 "cells": [
  {
   "cell_type": "markdown",
   "metadata": {
    "papermill": {
     "duration": 0.023688,
     "end_time": "2022-03-07T16:20:42.425336",
     "exception": false,
     "start_time": "2022-03-07T16:20:42.401648",
     "status": "completed"
    },
    "tags": []
   },
   "source": [
    "# ようこそ：プログラミング入門コースへ\n",
    "\n",
    "このコースは、**これから初めてプログラミングに触れる方**を対象に、  \n",
    "少しずつ確実に「読める・書ける・動かせる」力を育てるために構成されています。\n",
    "\n",
    "プログラミングとは、**コンピュータに「やってほしいこと」を正しく伝える技術**です。  \n",
    "この入門では、人気の高い言語「Python（パイソン）」を使って、  \n",
    "**コードを実行しながら基本的な考え方や書き方**を学んでいきます。\n",
    "\n",
    "\n",
    "\n",
    "この教材は、以下のような方におすすめです：\n",
    "\n",
    "* データサイエンスや機械学習に興味があるけれど、何から始めればいいかわからない\n",
    "* Python という言葉を聞いたことはあるけれど、まだコードを書いたことがない\n",
    "* エラーが怖くて、一歩踏み出せずにいる\n",
    "\n",
    "\n",
    "\n",
    "学習は次のようなステップで進みます：\n",
    "\n",
    "1. **コードの動作例を確認する**\n",
    "2. **実際に自分の手でコードを書く**\n",
    "3. **演習問題で理解を深める**\n",
    "\n",
    "初めての方でも安心して取り組めるよう、**段階的にサポートしています。**\n",
    "\n",
    "\n",
    "\n",
    "このコースを終えるころには、Python の基礎が自然に身につき、  \n",
    "次のステップ（「Pythonコース」や「機械学習入門コース」）にも、  \n",
    "**自信をもって進める状態になっているはずです。**\n",
    "\n",
    "最後には、演習問題へのリンクも用意しています。  \n",
    "「とにかく手を動かしてみたい！」という方は、[**こちら**](./ex1.ipynb)から先に取り組んでも構いません。\n",
    "\n",
    "\n",
    "\n"
   ]
  },
  {
   "cell_type": "markdown",
   "id": "2a112155",
   "metadata": {},
   "source": [
    "## このノートブックについて\n",
    "\n",
    "このノートブックは、何度でも繰り返しご利用いただけます。  \n",
    "使用する際は、以下の点にご注意ください\n",
    "\n",
    "\n",
    "### 1. キャッシュの削除\n",
    "\n",
    "ブラウザに古いキャッシュが残っていると、ノートブックが正しく動作しない場合があります。  \n",
    "以下の手順でキャッシュを削除してください。\n",
    "\n",
    "* **Google Chromeの場合**  \n",
    "\n",
    "  右上の「︙」メニュー →「設定」→「プライバシーとセキュリティ」→「閲覧履歴データの削除」→   \n",
    "  「キャッシュされた画像とファイル」にチェックを入れて削除します。\n",
    "\n",
    "* **Microsoft Edgeの場合**  \n",
    "\n",
    "  右上の「…」メニュー →「設定」→「プライバシー、検索、サービス」→「閲覧データのクリア」→   \n",
    "  「キャッシュされた画像とファイル」にチェックを入れて削除します。\n",
    "\n",
    "\n",
    "### 2. ページのリフレッシュ\n",
    "\n",
    "キャッシュを削除した後は、ページを強制的に再読み込みし、最新の状態に更新してください。\n",
    "\n",
    "* **Windows**: `Ctrl + F5`\n",
    "* **Mac**: `Shift + Command + R`\n",
    "\n",
    "\n",
    "### 3. カーネルの再起動と出力のクリア\n",
    "\n",
    "ノートブックを初期状態に戻すには、カーネルを再起動し、すべてのセルの出力をクリアする操作が必要です。\n",
    "\n",
    "手順は以下の通りです：\n",
    "\n",
    "* ノートブック左上の「Kernel」メニューを開きます。\n",
    "* 「Restart Kernel and Clear Output」を選択します。\n",
    "\n",
    "これにより、カーネルが再起動され、すべてのセルの出力が削除されます。  \n",
    "ノートブックが新しい状態でリセットされ、動作が安定します。\n",
    "\n",
    "\n",
    "### 最後に\n",
    "\n",
    "以上の手順を実行することで、ノートブックを快適にご利用いただけます。\n",
    "\n",
    "\n"
   ]
  },
  {
   "cell_type": "markdown",
   "id": "ee96f0f8",
   "metadata": {},
   "source": [
    "## ノートブックの準備\n",
    "このチュートリアルでは、Pyodide環境をセットアップし、必要なパッケージ（例：  \n",
    "learntools）を読み込みます。\n",
    "\n",
    "まずは、コードのあるセルの内側をクリックして選択し、**Shift + Enter**で実行してください。"
   ]
  },
  {
   "cell_type": "markdown",
   "id": "4798212a",
   "metadata": {},
   "source": [
    "## Pyodide環境のセットアップ\n",
    "\n",
    "このノートブックでは、Pyodideを使ってPython環境をブラウザ上に構築します。  \n",
    "まずは、learntoolsパッケージを読み込む準備を行います。\n",
    "\n",
    "以下のセルを実行してください。"
   ]
  },
  {
   "cell_type": "code",
   "execution_count": null,
   "id": "65007aea",
   "metadata": {},
   "outputs": [],
   "source": [
    "\n",
    "import micropip\n",
    "\n",
    "await micropip.install(\"https://capri7.github.io/programming-intro-ja/files/raw/packages/learntools-0.3.5-py3-none-any.whl\")\n"
   ]
  },
  {
   "cell_type": "markdown",
   "id": "f52f1bb7",
   "metadata": {},
   "source": [
    "## 必要なパッケージのインストール\n",
    "\n",
    "続いて、データ分析に必要なライブラリをインストールします。\n",
    "\n",
    "以下のセルを実行してください。"
   ]
  },
  {
   "cell_type": "code",
   "execution_count": null,
   "id": "bcd51d25",
   "metadata": {},
   "outputs": [],
   "source": [
    "\n",
    "await micropip.install([\"numpy\", \"pandas\", \"matplotlib\"])\n",
    "\n",
    "from learntools.core import binder\n",
    "binder.bind(globals())\n",
    "print(\"✅ Setup complete\")"
   ]
  },
  {
   "cell_type": "markdown",
   "metadata": {
    "papermill": {
     "duration": 0.022131,
     "end_time": "2022-03-07T16:20:42.471015",
     "exception": false,
     "start_time": "2022-03-07T16:20:42.448884",
     "status": "completed"
    },
    "tags": []
   },
   "source": [
    "## メッセージを表示する（print）\n",
    "\n",
    "プログラミングで最も基本的で、よく使われる作業のひとつが **メッセージの表示** です。  \n",
    "Pythonでは、`print()` という命令を使って、コンピュータに「このメッセージを表示して！」と指示します。\n",
    "\n",
    "表示したいメッセージは、かっこ `()` の中に書き、**ダブルクォーテーション（`\"`）で囲みます**。  \n",
    "たとえば、次のように書くと、コンピュータは `Hello, world!` というメッセージを表示します：\n",
    "\n",
    "```python\n",
    "print(\"Hello, world!\")\n",
    "```\n"
   ]
  },
  {
   "cell_type": "code",
   "execution_count": null,
   "metadata": {
    "execution": {
     "iopub.execute_input": "2022-03-07T16:20:42.527326Z",
     "iopub.status.busy": "2022-03-07T16:20:42.526517Z",
     "iopub.status.idle": "2022-03-07T16:20:42.533715Z",
     "shell.execute_reply": "2022-03-07T16:20:42.532852Z",
     "shell.execute_reply.started": "2022-02-08T18:29:33.226836Z"
    },
    "papermill": {
     "duration": 0.040156,
     "end_time": "2022-03-07T16:20:42.533937",
     "exception": false,
     "start_time": "2022-03-07T16:20:42.493781",
     "status": "completed"
    },
    "tags": []
   },
   "outputs": [],
   "source": [
    "\n",
    "print(\"Hello, world!\")"
   ]
  },
  {
   "cell_type": "markdown",
   "metadata": {
    "papermill": {
     "duration": 0.022595,
     "end_time": "2022-03-07T16:20:42.580204",
     "exception": false,
     "start_time": "2022-03-07T16:20:42.557609",
     "status": "completed"
    },
    "tags": []
   },
   "source": [
    "このコードは、**コードセル**と呼ばれる枠に書かれています。  \n",
    "コードセルを実行すると、命令に応じた結果（**出力**） が、コードのすぐ下に表示されます。\n",
    "\n",
    "今回の例では、  \n",
    "コンピュータは**Hello, world**!というメッセージを画面に表示しました。\n",
    "\n",
    "これは、「この文字を表示して」と命令した結果 です。  \n",
    "コードが正しく動作し、私たちの指示通りにメッセージを表示できたことを示しています。\n",
    "\n",
    "\n",
    "\n",
    "## 算術（Arithmetic）\n",
    "\n",
    "Pythonでは、足し算・引き算・掛け算・割り算などの**算術演算**を使って、  \n",
    "計算を行うことができます。たとえば、次のコードは **「1 + 2」を計算し、その結果を表示** しています。\n",
    "\n",
    "コードを実行すると、以下のように表示されます：\n",
    "\n",
    "```\n",
    "3\n",
    "```\n",
    "\n",
    "これは、**1 と 2 を足した結果が 3 になる** という、シンプルな計算の例です。"
   ]
  },
  {
   "cell_type": "code",
   "execution_count": null,
   "metadata": {
    "execution": {
     "iopub.execute_input": "2022-03-07T16:20:42.632757Z",
     "iopub.status.busy": "2022-03-07T16:20:42.631845Z",
     "iopub.status.idle": "2022-03-07T16:20:42.634907Z",
     "shell.execute_reply": "2022-03-07T16:20:42.635524Z",
     "shell.execute_reply.started": "2022-02-08T18:29:34.181865Z"
    },
    "papermill": {
     "duration": 0.032397,
     "end_time": "2022-03-07T16:20:42.635736",
     "exception": false,
     "start_time": "2022-03-07T16:20:42.603339",
     "status": "completed"
    },
    "tags": []
   },
   "outputs": [
    {
     "name": "stdout",
     "output_type": "stream",
     "text": [
      "3\n"
     ]
    }
   ],
   "source": [
    "\n",
    "print(1 + 2)"
   ]
  },
  {
   "cell_type": "markdown",
   "id": "f3af8a83",
   "metadata": {},
   "source": [
    "\n",
    "ここで注目してほしいのは、**数値の計算ではクォーテーション（`\"` や `'`）で  \n",
    "囲む必要がない** という点です。クォーテーションで囲んでしまうと、Pythonはそれを  \n",
    "**数値ではなく「文字列」として扱う**ため、**計算は行われません**。\n",
    "\n",
    "たとえば、次のコードでは「1 + 2」という**文字列**がそのまま表示されます。"
   ]
  },
  {
   "cell_type": "code",
   "execution_count": null,
   "id": "ee2a08dc",
   "metadata": {},
   "outputs": [],
   "source": [
    "\n",
    "print('1 + 2')"
   ]
  },
  {
   "cell_type": "markdown",
   "id": "28aabc1c",
   "metadata": {},
   "source": [
    "\n",
    "これは、**計算ではなく文字列の表示**を行っているためです。"
   ]
  },
  {
   "cell_type": "markdown",
   "metadata": {
    "papermill": {
     "duration": 0.023585,
     "end_time": "2022-03-07T16:20:42.683228",
     "exception": false,
     "start_time": "2022-03-07T16:20:42.659643",
     "status": "completed"
    },
    "tags": []
   },
   "source": [
    "## 引き算（減算）\n",
    "\n",
    "Pythonで引き算を行うときは、`-`（ハイフン）を使います。  \n",
    "次のコードは、**「9 - 5」を計算し、その結果（4）を表示** しています。"
   ]
  },
  {
   "cell_type": "code",
   "execution_count": null,
   "metadata": {
    "execution": {
     "iopub.execute_input": "2022-03-07T16:20:42.736884Z",
     "iopub.status.busy": "2022-03-07T16:20:42.736264Z",
     "iopub.status.idle": "2022-03-07T16:20:42.739465Z",
     "shell.execute_reply": "2022-03-07T16:20:42.738884Z",
     "shell.execute_reply.started": "2022-02-08T18:29:34.570576Z"
    },
    "papermill": {
     "duration": 0.032443,
     "end_time": "2022-03-07T16:20:42.739593",
     "exception": false,
     "start_time": "2022-03-07T16:20:42.707150",
     "status": "completed"
    },
    "tags": []
   },
   "outputs": [
    {
     "name": "stdout",
     "output_type": "stream",
     "text": [
      "4\n"
     ]
    }
   ],
   "source": [
    "\n",
    "print(9 - 5)"
   ]
  },
  {
   "cell_type": "markdown",
   "id": "16185e6f",
   "metadata": {},
   "source": [
    "まずは、このコードをそのまま実行してみましょう。\n",
    "\n",
    "出力は以下のようになります：\n",
    "\n",
    "```\n",
    "4\n",
    "```\n",
    "\n",
    "引き算の基本が理解できたら、  \n",
    "**数字を自由に変えて、いろいろな引き算を試してみましょう。**"
   ]
  },
  {
   "cell_type": "markdown",
   "metadata": {
    "papermill": {
     "duration": 0.016079,
     "end_time": "2022-03-07T16:20:42.772205",
     "exception": false,
     "start_time": "2022-03-07T16:20:42.756126",
     "status": "completed"
    },
    "tags": []
   },
   "source": [
    "以下は、Pythonで使える主な**算術演算（Arithmetic Operations）**の一覧です。  \n",
    "それぞれの**操作内容・記号・例**をまとめています。\n",
    "\n",
    "\n",
    "<table style=\"width: 100%;\">\n",
    "<tbody>\n",
    "<tr><th><b>操作内容</b></th><th><b>記号</b></th><th><b>例</b></th></tr>\n",
    "<tr>\n",
    "<td>加算（Addition）</td>\n",
    "<td>+</td>\n",
    "<td>1 + 2 = 3</td>\n",
    "</tr>\n",
    "<tr>\n",
    "<td>減算（Subtraction）</td>\n",
    "<td>-</td>\n",
    "<td>5 - 4 = 1</td>\n",
    "</tr>\n",
    "<tr>\n",
    "<td>乗算（Multiplication）</td>\n",
    "<td>*</td>\n",
    "<td>2 * 4 = 8</td>\n",
    "</tr>\n",
    "<tr>\n",
    "<td>除算（Division）</td>\n",
    "<td>/</td>\n",
    "<td>6 / 3 = 2</td>\n",
    "</tr>\n",
    "<tr>\n",
    "<td>累乗（Exponent）</td>\n",
    "<td>**</td>\n",
    "<td>3 ** 2 = 9</td>\n",
    "</tr>\n",
    "</tbody>\n",
    "</table>"
   ]
  },
  {
   "cell_type": "markdown",
   "metadata": {
    "papermill": {
     "duration": 0.01562,
     "end_time": "2022-03-07T16:20:42.804209",
     "exception": false,
     "start_time": "2022-03-07T16:20:42.788589",
     "status": "completed"
    },
    "tags": []
   },
   "source": [
    "## 演算の順序を制御する\n",
    "\n",
    "複雑な計算をするときは、**かっこ `()` を使って計算の順番を指定**できます。\n",
    "\n",
    "Pythonでは、**掛け算や割り算を、足し算や引き算よりも先に計算する**のが基本ルールです。  \n",
    "しかし、**かっこを使えば計算する順番を自由にコントロール**できます。\n",
    "\n",
    "次のコードを実行して、順序がどう変わるか確認してみましょう。\n"
   ]
  },
  {
   "cell_type": "code",
   "execution_count": null,
   "metadata": {
    "execution": {
     "iopub.execute_input": "2022-03-07T16:20:42.841911Z",
     "iopub.status.busy": "2022-03-07T16:20:42.841304Z",
     "iopub.status.idle": "2022-03-07T16:20:42.843534Z",
     "shell.execute_reply": "2022-03-07T16:20:42.844043Z",
     "shell.execute_reply.started": "2022-02-08T19:42:14.5744Z"
    },
    "papermill": {
     "duration": 0.023827,
     "end_time": "2022-03-07T16:20:42.844280",
     "exception": false,
     "start_time": "2022-03-07T16:20:42.820453",
     "status": "completed"
    },
    "tags": []
   },
   "outputs": [],
   "source": [
    "\n",
    "print(((1 + 3) * (9 - 2) / 2) ** 2)"
   ]
  },
  {
   "cell_type": "markdown",
   "id": "64aae734",
   "metadata": {},
   "source": [
    "この式は、**かっこを使って計算の順序を明示的に指定**しています。  \n",
    "Pythonは、次の順番で計算を行います：\n",
    "\n",
    "1. `(1 + 3)` を計算 → `4`\n",
    "2. `(9 - 2)` を計算 → `7`\n",
    "3. `4 * 7` を計算 → `28`\n",
    "4. `28 / 2` を計算 → `14.0`\n",
    "5. `14.0 ** 2` を計算 → `196.0`\n",
    "\n",
    "そのため、最終的な出力結果は：\n",
    "\n",
    "```\n",
    "196.0\n",
    "```\n",
    "\n",
    "となります。\n",
    "\n",
    "このように、**かっこを使えば計算の順序を自分でコントロール**できることがわかります。\n",
    "\n"
   ]
  },
  {
   "cell_type": "markdown",
   "metadata": {
    "papermill": {
     "duration": 0.015358,
     "end_time": "2022-03-07T16:20:42.876767",
     "exception": false,
     "start_time": "2022-03-07T16:20:42.861409",
     "status": "completed"
    },
    "tags": []
   },
   "source": [
    "一般的に、Pythonは **PEMDAS** という数学のルールに従って計算を行います。\n",
    "\n",
    "**PEMDAS**とは、計算を進める際の優先順位を示すルールです：\n",
    "\n",
    "1. **P**arentheses（かっこ）\n",
    "2. **E**xponents（指数・累乗）\n",
    "3. **M**ultiplication / **D**ivision（掛け算・割り算）\n",
    "4. **A**ddition / **S**ubtraction（足し算・引き算）\n",
    "\n",
    "この順番で計算が行われるため、  \n",
    "Pythonは「どの部分を先に計算すべきか」を正しく判断できます。\n",
    "\n",
    "\n",
    "もっと詳しく知りたい方は、以下の解説ページも参考にしてください。  \n",
    "（英語のサイトですが、ブラウザの翻訳機能を使えば日本語表示も可能です）：\n",
    "\n",
    "[**PEMDAS の解説ページ**](https://www.mathsisfun.com/operation-order-pemdas.html)\n",
    "\n",
    "\n",
    "\n",
    "\n",
    "## コメント\n",
    "\n",
    "**コメント**は、コードの意図や理由を説明するための「メモ」です。  \n",
    "自分や他の人がコードを読んだときに、  \n",
    "**「何をしているのか」** や **「なぜそう書いたのか」** を素早く理解できるようにします。\n",
    "\n",
    "特に次のような場合は、コメントを書くことが大切です：\n",
    "\n",
    "* 処理が複雑な場合\n",
    "* 特別な理由があってその書き方をしている場合\n",
    "\n",
    "短いコードであっても、  \n",
    "**「なぜこの値なのか」「どういう目的の計算か」** をコメントで補足することで、  \n",
    "読みやすさや保守性が大きく向上します。\n",
    "\n",
    "\n",
    "\n"
   ]
  },
  {
   "cell_type": "code",
   "execution_count": null,
   "metadata": {
    "execution": {
     "iopub.execute_input": "2022-03-07T16:20:42.914578Z",
     "iopub.status.busy": "2022-03-07T16:20:42.913534Z",
     "iopub.status.idle": "2022-03-07T16:20:42.917420Z",
     "shell.execute_reply": "2022-03-07T16:20:42.916776Z",
     "shell.execute_reply.started": "2022-02-08T18:29:34.938328Z"
    },
    "papermill": {
     "duration": 0.024874,
     "end_time": "2022-03-07T16:20:42.917582",
     "exception": false,
     "start_time": "2022-03-07T16:20:42.892708",
     "status": "completed"
    },
    "tags": []
   },
   "outputs": [],
   "source": [
    "\n",
    "# 商品3個を、1個あたり2ドルで購入したときの合計金額を計算\n",
    "print(3 * 2)\n"
   ]
  },
  {
   "cell_type": "markdown",
   "id": "7000f9ff",
   "metadata": {},
   "source": [
    "このコードでは、コメントを使って  \n",
    "「**これは商品を3個買ったときの合計金額を計算している**」という意図を説明しています。\n",
    "\n",
    "コードの動作そのものは簡単でも、  \n",
    "**「この計算が何を意味しているのか」** をコメントで明示することで、  \n",
    "読み手にとって非常にわかりやすくなります。"
   ]
  },
  {
   "cell_type": "markdown",
   "metadata": {
    "papermill": {
     "duration": 0.02453,
     "end_time": "2022-03-07T16:20:42.967526",
     "exception": false,
     "start_time": "2022-03-07T16:20:42.942996",
     "status": "completed"
    },
    "tags": []
   },
   "source": [
    "## コメントの書き忘れによるエラーの例\n",
    "\n",
    "Pythonでは、**コメントを書くときは必ず行の先頭に `#` を付ける** 必要があります。\n",
    "\n",
    "このルールを忘れてしまうと、Pythonはそれを「**コード**」だと誤解し、  \n",
    "**構文エラー（SyntaxError）** が発生します。\n",
    "\n",
    "次のコードセルを見てください：\n",
    "\n"
   ]
  },
  {
   "cell_type": "code",
   "execution_count": null,
   "metadata": {
    "execution": {
     "iopub.execute_input": "2022-03-07T16:20:43.021501Z",
     "iopub.status.busy": "2022-03-07T16:20:43.020832Z",
     "iopub.status.idle": "2022-03-07T16:20:43.024130Z",
     "shell.execute_reply": "2022-03-07T16:20:43.023646Z",
     "shell.execute_reply.started": "2022-02-08T18:29:35.325527Z"
    },
    "papermill": {
     "duration": 0.032055,
     "end_time": "2022-03-07T16:20:43.024289",
     "exception": false,
     "start_time": "2022-03-07T16:20:42.992234",
     "status": "completed"
    },
    "tags": []
   },
   "outputs": [],
   "source": [
    "\n",
    "商品Aを3個 × 100円  \n",
    "print(3 * 100)"
   ]
  },
  {
   "cell_type": "markdown",
   "id": "ebe3c308",
   "metadata": {},
   "source": [
    "このまま実行すると、Pythonは1行目を  \n",
    "**「意味不明なコード」** だとみなして、次のようなエラーを出します：\n",
    "\n",
    "```\n",
    "SyntaxError: invalid character in identifier\n",
    "```\n",
    "\n",
    "このエラーは  \n",
    "**「コードとして理解できない文字列が含まれている」** という意味です。\n",
    "\n",
    "本来は**コメントとして説明するつもりだった日本語の文章**が、  \n",
    "`#` を付けなかったために、Pythonは「**実行すべきコード**」 として誤って解釈してしまったのです。\n",
    "\n",
    "その結果、構文エラー（SyntaxError）になります。"
   ]
  },
  {
   "cell_type": "markdown",
   "metadata": {
    "papermill": {
     "duration": 0.016055,
     "end_time": "2022-03-07T16:20:43.056956",
     "exception": false,
     "start_time": "2022-03-07T16:20:43.040901",
     "status": "completed"
    },
    "tags": []
   },
   "source": [
    "## 変数（Variables）\n",
    "\n",
    "これまでのセルでは、計算を行い、その結果をすぐに表示してきました。  \n",
    "しかし、このように表示するだけでは、**その結果をあとから再利用することができません**。\n",
    "\n",
    "たとえば、  \n",
    "\n",
    "* 同じ値を何度も使いたい\n",
    "* 途中の計算結果を保存しておきたい\n",
    "\n",
    "といった場合に、毎回その値を**手で書き直すのは非効率**です。\n",
    "\n",
    "\n",
    "そこで登場するのが、**変数（variable）** です。\n",
    "\n",
    "変数を使えば、**計算結果や値に「名前」をつけて記録する** ことができ、  \n",
    "あとでその名前を使って簡単に呼び出すことができます。\n",
    "\n",
    "\n",
    "\n",
    "### 変数の作成\n",
    "\n",
    "**変数**とは、値を一時的に保存し、あとから再利用できるしくみです。\n",
    "\n",
    "変数を作るには、  \n",
    "**「変数名 = 値」** という形で**代入**を行います。\n",
    "\n",
    "次のコードでは、`test_var` という名前の変数に、  \n",
    "`4 + 5` の計算結果（つまり 9）を代入しています。\n",
    "\n",
    "そのあと、`print()` を使って、**変数に保存された値を表示**しています。\n",
    "\n",
    "\n",
    "\n"
   ]
  },
  {
   "cell_type": "code",
   "execution_count": null,
   "metadata": {
    "execution": {
     "iopub.execute_input": "2022-03-07T16:20:43.095360Z",
     "iopub.status.busy": "2022-03-07T16:20:43.094678Z",
     "iopub.status.idle": "2022-03-07T16:20:43.097296Z",
     "shell.execute_reply": "2022-03-07T16:20:43.097709Z",
     "shell.execute_reply.started": "2022-02-08T18:29:35.71755Z"
    },
    "papermill": {
     "duration": 0.02435,
     "end_time": "2022-03-07T16:20:43.097863",
     "exception": false,
     "start_time": "2022-03-07T16:20:43.073513",
     "status": "completed"
    },
    "tags": []
   },
   "outputs": [
    {
     "name": "stdout",
     "output_type": "stream",
     "text": [
      "9\n"
     ]
    }
   ],
   "source": [
    "\n",
    "# test_var という変数に 4 + 5 の結果を代入する\n",
    "test_var = 4 + 5\n",
    "\n",
    "# test_var に保存された値を表示する\n",
    "print(test_var)\n"
   ]
  },
  {
   "cell_type": "markdown",
   "id": "babd295c",
   "metadata": {},
   "source": [
    "このコードを実行すると、次のように表示されます：\n",
    "\n",
    "```\n",
    "9\n",
    "```\n",
    "\n",
    "このように、**変数に名前をつけて値を保存する**ことで、  \n",
    "あとから簡単にその値を呼び出して使うことができます。"
   ]
  },
  {
   "cell_type": "markdown",
   "metadata": {
    "papermill": {
     "duration": 0.016131,
     "end_time": "2022-03-07T16:20:43.130631",
     "exception": false,
     "start_time": "2022-03-07T16:20:43.114500",
     "status": "completed"
    },
    "tags": []
   },
   "source": [
    "### 変数名のルールと付け方\n",
    "\n",
    "変数を使うには、まず**意味のある名前**をつけて、それに値を代入する必要があります。\n",
    "\n",
    "変数名にはいくつかの**ルール**があります：\n",
    "\n",
    "* **スペース（空白）は使えません**  \n",
    "  × `test var` → ❌（エラーになります）\n",
    "\n",
    "* **使える文字は、アルファベット・数字・アンダースコア（ `_` ）のみです**  \n",
    "  × `test_var!` → ❌（記号は使えません）\n",
    "\n",
    "* **変数名の先頭は、アルファベットまたはアンダースコアで始める必要があります**  \n",
    "  × `1_var` → ❌（数字から始めることはできません）\n",
    "\n",
    "\n",
    "\n",
    "では、**どういう名前をつければよいのか**？\n",
    "\n",
    "理想は：\n",
    "\n",
    "* **できるだけ短く**\n",
    "* かつ **中身や目的がわかる名前**\n",
    "\n",
    "です。\n",
    "\n",
    "\n",
    "例：\n",
    "\n",
    "```python\n",
    "# 合計金額を表す変数\n",
    "total_price = 1500\n",
    "\n",
    "# 生徒数を表す変数\n",
    "num_students = 42\n",
    "```\n",
    "\n",
    "\n",
    "変数名の付け方に最初は戸惑うかもしれませんが、  \n",
    "**実際にコードを書くうちに自然と慣れていきます**。\n",
    "\n",
    "まずは**シンプルな名前**で十分です。  \n",
    "慣れてきたら、**後から読みやすく整理する習慣**をつけていきましょう。\n",
    "\n",
    "\n"
   ]
  },
  {
   "cell_type": "markdown",
   "metadata": {
    "papermill": {
     "duration": 0.016443,
     "end_time": "2022-03-07T16:20:43.163577",
     "exception": false,
     "start_time": "2022-03-07T16:20:43.147134",
     "status": "completed"
    },
    "tags": []
   },
   "source": [
    "### 変数の操作（値の更新）\n",
    "\n",
    "変数に一度代入した値は、**あとから別の値に変更**することができます。  \n",
    "これを「**変数の更新（上書き）**」と呼びます。\n",
    "\n",
    "たとえば、次のコードでは、`my_var` という変数に  \n",
    "最初は `3` を代入し、そのあと `100` に変更しています。\n",
    "\n"
   ]
  },
  {
   "cell_type": "code",
   "execution_count": null,
   "metadata": {
    "execution": {
     "iopub.execute_input": "2022-03-07T16:20:43.201674Z",
     "iopub.status.busy": "2022-03-07T16:20:43.200937Z",
     "iopub.status.idle": "2022-03-07T16:20:43.203716Z",
     "shell.execute_reply": "2022-03-07T16:20:43.203231Z",
     "shell.execute_reply.started": "2022-02-08T18:29:36.380815Z"
    },
    "papermill": {
     "duration": 0.023622,
     "end_time": "2022-03-07T16:20:43.203828",
     "exception": false,
     "start_time": "2022-03-07T16:20:43.180206",
     "status": "completed"
    },
    "tags": []
   },
   "outputs": [],
   "source": [
    "\n",
    "# my_var に3を代入する\n",
    "my_var = 3\n",
    "\n",
    "# 現在の値を表示\n",
    "print(my_var)\n",
    "\n",
    "# my_varの値を100に上書きする\n",
    "my_var = 100\n",
    "\n",
    "# 新しい値を表示\n",
    "print(my_var)\n"
   ]
  },
  {
   "cell_type": "markdown",
   "metadata": {},
   "source": [
    "このように、**変数は何度でも内容を変更（上書き）することができます**。\n",
    "\n",
    "たとえば：\n",
    "\n",
    "* スコアの更新\n",
    "* データの修正\n",
    "* 計算途中の一時保存\n",
    "\n",
    "など、さまざまな場面で活用されます。\n",
    "\n",
    "\n",
    "\n",
    "前のセルで作成した変数も、以下のように**名前を呼び出して使う**ことができます。\n",
    "\n"
   ]
  },
  {
   "cell_type": "code",
   "execution_count": null,
   "metadata": {},
   "outputs": [],
   "source": [
    "\n",
    "print(my_var)\n",
    "print(test_var)"
   ]
  },
  {
   "cell_type": "markdown",
   "metadata": {
    "papermill": {
     "duration": 0.016556,
     "end_time": "2022-03-07T16:20:43.237363",
     "exception": false,
     "start_time": "2022-03-07T16:20:43.220807",
     "status": "completed"
    },
    "tags": []
   },
   "source": [
    "### 変数の値を更新する\n",
    "\n",
    "変数には、**現在の値をもとにして新しい値を計算し、それを上書きする**こともできます。\n",
    "\n",
    "たとえば、次のコードでは  \n",
    "`my_var` に **3 を足して、その結果を再び `my_var` に代入** しています。\n",
    "\n"
   ]
  },
  {
   "cell_type": "code",
   "execution_count": null,
   "metadata": {
    "execution": {
     "iopub.execute_input": "2022-03-07T16:20:43.274370Z",
     "iopub.status.busy": "2022-03-07T16:20:43.273819Z",
     "iopub.status.idle": "2022-03-07T16:20:43.279342Z",
     "shell.execute_reply": "2022-03-07T16:20:43.278842Z",
     "shell.execute_reply.started": "2022-02-08T18:29:36.857996Z"
    },
    "papermill": {
     "duration": 0.025028,
     "end_time": "2022-03-07T16:20:43.279467",
     "exception": false,
     "start_time": "2022-03-07T16:20:43.254439",
     "status": "completed"
    },
    "tags": []
   },
   "outputs": [],
   "source": [
    "\n",
    "# 値に3を足す\n",
    "my_var = my_var + 3\n",
    "\n",
    "# my_var に入っている値を表示する\n",
    "print(my_var)\n",
    "\n",
    "\n",
    "# my_var に 3 を加えた値を再び my_var に代入する\n",
    "my_var = my_var + 3\n",
    "\n",
    "# 現在の値を表示する\n",
    "print(my_var)\n"
   ]
  },
  {
   "cell_type": "markdown",
   "id": "c864b5ca",
   "metadata": {},
   "source": [
    "ここで使われている  \n",
    "`my_var = my_var + 3` は、**左側と右側の `my_var` が違う意味**を持っています。\n",
    "\n",
    "* **右側の `my_var`** ：いま変数に入っている「現在の値」（たとえば 100）\n",
    "* **左側の `my_var`** ：新しく計算した値を「保存する場所」\n",
    "\n",
    "このように、変数は**自分自身の値を使って、柔軟に更新**することができます。"
   ]
  },
  {
   "cell_type": "markdown",
   "metadata": {
    "papermill": {
     "duration": 0.017545,
     "end_time": "2022-03-07T16:20:43.314040",
     "exception": false,
     "start_time": "2022-03-07T16:20:43.296495",
     "status": "completed"
    },
    "tags": []
   },
   "source": [
    "### 複数の変数を使う\n",
    "\n",
    "プログラムでは、**複数の変数を組み合わせて計算**することがよくあります。  \n",
    "特に、いくつかの数値をまとめて使い、**最終的な結果を求めたいとき**に便利です。\n",
    "\n",
    "たとえば、「**4年間で何秒あるか**」を計算するには、次のような情報が必要です：\n",
    "\n",
    "* `num_years`: 何年分か（ここでは 4年）\n",
    "* `days_per_year`: 1年に何日あるか（通常は 365日）\n",
    "* `hours_per_day`: 1日あたりの時間数（24時間）\n",
    "* `mins_per_hour`: 1時間あたりの分数（60分）\n",
    "* `secs_per_min`: 1分あたりの秒数（60秒）\n",
    "\n",
    "これらを順番に掛け算して、**合計秒数（`total_secs`）** を求めます。\n",
    "\n",
    "\n"
   ]
  },
  {
   "cell_type": "code",
   "execution_count": null,
   "metadata": {
    "execution": {
     "iopub.execute_input": "2022-03-07T16:20:43.351527Z",
     "iopub.status.busy": "2022-03-07T16:20:43.350820Z",
     "iopub.status.idle": "2022-03-07T16:20:43.356770Z",
     "shell.execute_reply": "2022-03-07T16:20:43.357315Z",
     "shell.execute_reply.started": "2022-02-08T18:32:53.863553Z"
    },
    "papermill": {
     "duration": 0.026391,
     "end_time": "2022-03-07T16:20:43.357458",
     "exception": false,
     "start_time": "2022-03-07T16:20:43.331067",
     "status": "completed"
    },
    "tags": []
   },
   "outputs": [],
   "source": [
    "\n",
    "# 各単位の変数を定義する\n",
    "num_years = 4            # 年数（4年）\n",
    "days_per_year = 365      # 1年あたりの日数\n",
    "hours_per_day = 24       # 1日あたりの時間\n",
    "mins_per_hour = 60       # 1時間あたりの分\n",
    "secs_per_min = 60        # 1分あたりの秒\n",
    "\n",
    "# すべての値を掛け算して、4年間の合計秒数を求める\n",
    "total_secs = secs_per_min * mins_per_hour * hours_per_day * days_per_year * num_years\n",
    "\n",
    "# 結果を表示\n",
    "print(total_secs)\n"
   ]
  },
  {
   "cell_type": "markdown",
   "metadata": {
    "papermill": {
     "duration": 0.017197,
     "end_time": "2022-03-07T16:20:43.392071",
     "exception": false,
     "start_time": "2022-03-07T16:20:43.374874",
     "status": "completed"
    },
    "tags": []
   },
   "source": [
    "上の計算から、4年間は 126,144,000 秒であることがわかりました。\n",
    "\n",
    "もちろん、`60 * 60 * 24 * 365 * 4`のように、すべての数値をそのまま使って計算することもできます。  \n",
    "でも、それだと何を掛けているのかがわかりにくく、ミスに気づきにくいという問題があります。\n",
    "\n",
    "その点、`num_years`や`days_per_year`のような意味のある変数名を使うことで、  \n",
    "計算の内容がひと目でわかりやすくなり、見直しや修正もしやすくなります。\n",
    "\n",
    "特に、あとから数値を変えたい場合には変数がとても役立ちます。\n",
    "\n",
    "\n",
    "\n",
    "この計算結果として、次のように表示されます：\n",
    "\n",
    "```\n",
    "126144000\n",
    "```\n",
    "\n",
    "つまり、**4年間は 126,144,000 秒** になります。\n",
    "\n",
    "\n",
    "\n",
    "もちろん、次のように  \n",
    "`60 * 60 * 24 * 365 * 4`  \n",
    "と書いても同じ結果は得られます。\n",
    "\n",
    "しかし、この書き方では  \n",
    "**「何を掛けているのか」** が非常にわかりにくく、  \n",
    "**計算ミスや修正漏れに気づきにくい** という問題があります。\n",
    "\n",
    "\n",
    "\n",
    "その点、`num_years` や `days_per_year` のように**意味のある変数名を使う**ことで、  \n",
    "\n",
    "* **計算内容がひと目でわかる**\n",
    "* **後から見直したときも理解しやすい**\n",
    "* **値を変えたいときに簡単に修正できる**\n",
    "\n",
    "というメリットがあります。\n",
    "\n",
    "\n",
    "たとえば、「**うるう年**」を考慮して、  \n",
    "1年の日数を **365日 → 365.25日** に修正したいとしましょう。\n",
    "\n",
    "このときは、**`days_per_year` の値だけを変更すればOK**です。  \n",
    "他の部分の計算式は、すべてそのまま再利用できます。\n",
    "\n"
   ]
  },
  {
   "cell_type": "code",
   "execution_count": null,
   "metadata": {
    "execution": {
     "iopub.execute_input": "2022-03-07T16:20:43.430772Z",
     "iopub.status.busy": "2022-03-07T16:20:43.430033Z",
     "iopub.status.idle": "2022-03-07T16:20:43.435043Z",
     "shell.execute_reply": "2022-03-07T16:20:43.435499Z",
     "shell.execute_reply.started": "2022-02-08T18:32:54.667337Z"
    },
    "papermill": {
     "duration": 0.025765,
     "end_time": "2022-03-07T16:20:43.435643",
     "exception": false,
     "start_time": "2022-03-07T16:20:43.409878",
     "status": "completed"
    },
    "tags": []
   },
   "outputs": [],
   "source": [
    "\n",
    "\n",
    "\n",
    "# うるう年を考慮して、1年の日数を更新する（365 → 365.25）\n",
    "days_per_year = 365.25\n",
    "\n",
    "# 日数を更新したので、再度 4年間の合計秒数を計算し直す\n",
    "total_secs = secs_per_min * mins_per_hour * hours_per_day * days_per_year * num_years\n",
    "\n",
    "# 計算結果を表示\n",
    "print(total_secs)\n",
    "\n"
   ]
  },
  {
   "cell_type": "markdown",
   "metadata": {
    "papermill": {
     "duration": 0.017736,
     "end_time": "2022-03-07T16:20:43.471370",
     "exception": false,
     "start_time": "2022-03-07T16:20:43.453634",
     "status": "completed"
    },
    "tags": []
   },
   "source": [
    "このコードを実行すると、次のように表示されます：\n",
    "\n",
    "```\n",
    "126230400.0\n",
    "```\n",
    "\n",
    "ここで注目してほしいのは、**結果の末尾に `.0` がついている**ことです。\n",
    "\n",
    "* これは、**小数（365.25）** を使ったために、  \n",
    "  Pythonが計算結果を **浮動小数点数（float型）** として表示しているからです。\n",
    "\n",
    "* 一方、最初の計算では整数のみを使っていたため、  \n",
    "  **整数型（int型）** として表示されていました。\n",
    "\n",
    "このように、**使用する値の「型」** によって、  \n",
    "計算結果の表示形式も変わることがあります。\n",
    "\n",
    "\n",
    "\n",
    "この「型」の詳しい話は、後ほど学ぶ「データ型」のレッスンで解説します。\n",
    "\n"
   ]
  },
  {
   "cell_type": "markdown",
   "metadata": {},
   "source": [
    "## デバッグ（エラーの原因を見つける）\n",
    "\n",
    "\n",
    "プログラミングでよくある間違いのひとつが、  \n",
    "**変数名の打ち間違い（タイプミス）** です。\n",
    "\n",
    "たとえば、正しい変数名が `hours_per_day` なのに、  \n",
    "うっかり `hours_per_dy` と書いてしまった場合、  \n",
    "Python は次のようなエラーを表示します。\n",
    "\n",
    "\n"
   ]
  },
  {
   "cell_type": "code",
   "execution_count": null,
   "metadata": {},
   "outputs": [],
   "source": [
    "\n",
    "print(hours_per_dy)\n"
   ]
  },
  {
   "cell_type": "markdown",
   "metadata": {},
   "source": [
    "このエラーは、  \n",
    "**「hours\\_per\\_dy という名前の変数は定義されていません」**   \n",
    "という意味です。\n",
    "\n",
    "つまり、その名前の変数は、**どこにも存在していない** ということになります。\n",
    "\n",
    "このように **`NameError`** が表示されたときは、  \n",
    "まず **変数名のスペルミスを疑う** のが基本です。\n",
    "\n",
    "* **単純な入力ミス** であることが多く、  \n",
    "* **正しい変数名に直すだけ** でエラーはすぐに解消されます。\n"
   ]
  },
  {
   "cell_type": "code",
   "execution_count": null,
   "metadata": {},
   "outputs": [],
   "source": [
    "\n",
    "print(hours_per_day)\n"
   ]
  },
  {
   "cell_type": "markdown",
   "id": "bbbca7a6",
   "metadata": {},
   "source": [
    "\n",
    "\n",
    "正しい変数名に修正すれば、エラーは出なくなり、  \n",
    "**想定どおりの値** が表示されます。\n",
    "\n",
    "このように、エラーが出たときは**冷静にスペルを確認する習慣**を身につけましょう。"
   ]
  },
  {
   "cell_type": "markdown",
   "metadata": {
    "papermill": {
     "duration": 0.017612,
     "end_time": "2022-03-07T16:20:43.506958",
     "exception": false,
     "start_time": "2022-03-07T16:20:43.489346",
     "status": "completed"
    },
    "tags": []
   },
   "source": [
    "## お疲れ様でした！\n",
    "\n",
    "ここまでの内容は理解できましたか？\n",
    "\n",
    "* **変数とは何か**\n",
    "* **演算の順序**\n",
    "* **コメントの書き方**\n",
    "* **エラーの原因を見つける方法**\n",
    "\n",
    "など、基本的なポイントを学びました。\n",
    "\n",
    "しかし、**プログラミングは「読んだだけ」では身につきません**。  \n",
    "実際に**手を動かして演習することが大切**です。\n",
    "\n",
    "\n",
    "\n",
    "### ✅ 次のステップ\n",
    "\n",
    "➡️ 次は、[**変数を使った計算の演習**](./ex1.ipynb) にチャレンジしてみましょう！\n",
    "\n",
    "\n",
    "\n"
   ]
  },
  {
   "cell_type": "markdown",
   "id": "c9af25e3",
   "metadata": {},
   "source": []
  }
 ],
 "metadata": {
  "kernelspec": {
   "display_name": "base",
   "language": "python",
   "name": "python3"
  },
  "language_info": {
   "codemirror_mode": {
    "name": "ipython",
    "version": 3
   },
   "file_extension": ".py",
   "mimetype": "text/x-python",
   "name": "python",
   "nbconvert_exporter": "python",
   "pygments_lexer": "ipython3",
   "version": "3.12.2"
  },
  "papermill": {
   "default_parameters": {},
   "duration": 11.075103,
   "end_time": "2022-03-07T16:20:44.235741",
   "environment_variables": {},
   "exception": null,
   "input_path": "__notebook__.ipynb",
   "output_path": "__notebook__.ipynb",
   "parameters": {},
   "start_time": "2022-03-07T16:20:33.160638",
   "version": "2.3.3"
  }
 },
 "nbformat": 4,
 "nbformat_minor": 5
}
