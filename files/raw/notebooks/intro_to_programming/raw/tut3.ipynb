{
 "cells": [
  {
   "cell_type": "markdown",
   "metadata": {
    "papermill": {
     "duration": 0.018672,
     "end_time": "2022-03-09T16:09:59.177117",
     "exception": false,
     "start_time": "2022-03-09T16:09:59.158445",
     "status": "completed"
    },
    "tags": []
   },
   "source": [
    "# データ型の紹介\n",
    "\n",
    "Pythonで変数を作成すると、その変数には対応するデータ型を持つ値が割り当てられます。整数、浮動小数点数、ブール値、文字列など、さまざまなデータ型がありますが、これらはこのチュートリアルで取り上げる内容です。（ここで取り上げるデータ型は、利用可能なデータ型のほんの一部に過ぎません。辞書、セット、リスト、タプルなど、他にも多くの種類があります。）\n",
    "\n",
    "データ型は重要です。なぜなら、データ型によって実行できる操作が決まるからです。例えば、2つの浮動小数点数を割ることはできますが、2つの文字列を割ることはできません。具体的には、12.0/2.0 には意味がありますが、\"cat\"/\"dog\" は意味がないからです。\n",
    "\n",
    "エラーを避けるためには、操作が適切なデータ型に対して行われていることを確認する必要があります。"
   ]
  },
  {
   "cell_type": "markdown",
   "id": "61c37348",
   "metadata": {},
   "source": [
    "# Pyodide環境の準備\n",
    "\n",
    "このチュートリアルでは、Pyodide環境に必要なパッケージをインストールし、learntools ライブラリを使用できるように設定を行います。\n",
    "以下のセルを Shift + Enter で実行してください。"
   ]
  },
  {
   "cell_type": "code",
   "execution_count": null,
   "id": "8e22f5e2",
   "metadata": {},
   "outputs": [],
   "source": [
    "import micropip\n",
    "await micropip.install(\"http://127.0.0.1:8000/files/raw/packages/learntools-0.3.5-py3-none-any.whl\")\n"
   ]
  },
  {
   "cell_type": "markdown",
   "id": "12ac999c",
   "metadata": {},
   "source": [
    "## 必要なパッケージのインストール"
   ]
  },
  {
   "cell_type": "code",
   "execution_count": null,
   "id": "6bb99d21",
   "metadata": {},
   "outputs": [],
   "source": [
    "await micropip.install([\"numpy\", \"pandas\", \"matplotlib\"])\n",
    "\n",
    "from learntools.core import binder\n",
    "binder.bind(globals())\n",
    "print(\"✅ Setup complete\")"
   ]
  },
  {
   "cell_type": "markdown",
   "metadata": {
    "papermill": {
     "duration": 0.016824,
     "end_time": "2022-03-09T16:09:59.214218",
     "exception": false,
     "start_time": "2022-03-09T16:09:59.197394",
     "status": "completed"
    },
    "tags": []
   },
   "source": [
    "# 整数\n",
    "\n",
    "整数は小数部分がない数値で、正の数（`1`, `2`, `3`, ...）、負の数（`-1`, `-2`, `-3`, ...）、またはゼロ（`0`）です。\n",
    "\n",
    "次のコードセルでは、変数 `x` に整数を代入します。その後、`type()` を使ってデータ型を確認しますが、変数名を括弧内に渡すだけで確認できます。\n"
   ]
  },
  {
   "cell_type": "code",
   "execution_count": null,
   "metadata": {
    "execution": {
     "iopub.execute_input": "2022-03-09T16:09:59.252244Z",
     "iopub.status.busy": "2022-03-09T16:09:59.251219Z",
     "iopub.status.idle": "2022-03-09T16:09:59.260727Z",
     "shell.execute_reply": "2022-03-09T16:09:59.260120Z",
     "shell.execute_reply.started": "2022-02-15T21:18:35.70258Z"
    },
    "papermill": {
     "duration": 0.029402,
     "end_time": "2022-03-09T16:09:59.260885",
     "exception": false,
     "start_time": "2022-03-09T16:09:59.231483",
     "status": "completed"
    },
    "tags": []
   },
   "outputs": [],
   "source": [
    "x = 14\n",
    "print(x)\n",
    "print(type(x))"
   ]
  },
  {
   "cell_type": "markdown",
   "metadata": {
    "papermill": {
     "duration": 0.017277,
     "end_time": "2022-03-09T16:09:59.296248",
     "exception": false,
     "start_time": "2022-03-09T16:09:59.278971",
     "status": "completed"
    },
    "tags": []
   },
   "source": [
    "出力結果の `<class 'int'>` は、**int** 型のデータ型を示しています。\n",
    "\n",
    "# 浮動小数点数（フロート）\n",
    "\n",
    "浮動小数点数は、小数部分を持つ数値です。小数点以下に多くの数字を持つことができます。例えば、円周率の近似値（nearly_pi）を使って確認してみましょう。\n"
   ]
  },
  {
   "cell_type": "code",
   "execution_count": null,
   "metadata": {
    "execution": {
     "iopub.execute_input": "2022-03-09T16:09:59.334123Z",
     "iopub.status.busy": "2022-03-09T16:09:59.333534Z",
     "iopub.status.idle": "2022-03-09T16:09:59.337739Z",
     "shell.execute_reply": "2022-03-09T16:09:59.338257Z",
     "shell.execute_reply.started": "2022-02-15T21:18:35.712152Z"
    },
    "papermill": {
     "duration": 0.024652,
     "end_time": "2022-03-09T16:09:59.338417",
     "exception": false,
     "start_time": "2022-03-09T16:09:59.313765",
     "status": "completed"
    },
    "tags": []
   },
   "outputs": [],
   "source": [
    "nearly_pi = 3.141592653589793238462643383279502884197169399375105820974944\n",
    "print(nearly_pi)\n",
    "print(type(nearly_pi))"
   ]
  },
  {
   "cell_type": "markdown",
   "metadata": {
    "papermill": {
     "duration": 0.017335,
     "end_time": "2022-03-09T16:09:59.373474",
     "exception": false,
     "start_time": "2022-03-09T16:09:59.356139",
     "status": "completed"
    },
    "tags": []
   },
   "source": [
    "分数を使って浮動小数点数を指定することもできます。\n",
    "\n",
    "例えば、almost_pi という変数を使って、円周率の近似値として 22/7 を浮動小数点数として計算してみましょう。\n",
    "\n",
    "22/7は、円周率(π)の近似値としてよく使われる分数です。この分数は、3.141592653589793の近似値に非常に近い値を提供します。数学的に、22/7は円周率πの近似値として一般的に使用され、非常に簡単な分数であるため、例としてよく登場します。"
   ]
  },
  {
   "cell_type": "code",
   "execution_count": null,
   "metadata": {
    "execution": {
     "iopub.execute_input": "2022-03-09T16:09:59.414512Z",
     "iopub.status.busy": "2022-03-09T16:09:59.413720Z",
     "iopub.status.idle": "2022-03-09T16:09:59.416691Z",
     "shell.execute_reply": "2022-03-09T16:09:59.417130Z",
     "shell.execute_reply.started": "2022-02-15T21:18:35.725555Z"
    },
    "papermill": {
     "duration": 0.026042,
     "end_time": "2022-03-09T16:09:59.417313",
     "exception": false,
     "start_time": "2022-03-09T16:09:59.391271",
     "status": "completed"
    },
    "tags": []
   },
   "outputs": [],
   "source": [
    "almost_pi = 22/7\n",
    "print(almost_pi)\n",
    "print(type(almost_pi))"
   ]
  },
  {
   "cell_type": "markdown",
   "metadata": {
    "papermill": {
     "duration": 0.019218,
     "end_time": "2022-03-09T16:09:59.454416",
     "exception": false,
     "start_time": "2022-03-09T16:09:59.435198",
     "status": "completed"
    },
    "tags": []
   },
   "source": [
    " 分数に関連して特に便利な関数の一つが`round()`関数です。この関数は、数値を指定した小数点以下の桁数に丸めることができます。\n",
    "\n",
    "`round()`関数を使って、`almost_pi`を小数点以下5桁に丸めてみましょう。"
   ]
  },
  {
   "cell_type": "code",
   "execution_count": null,
   "metadata": {
    "execution": {
     "iopub.execute_input": "2022-03-09T16:09:59.496534Z",
     "iopub.status.busy": "2022-03-09T16:09:59.495612Z",
     "iopub.status.idle": "2022-03-09T16:09:59.498496Z",
     "shell.execute_reply": "2022-03-09T16:09:59.498947Z",
     "shell.execute_reply.started": "2022-02-15T21:18:35.740769Z"
    },
    "papermill": {
     "duration": 0.02656,
     "end_time": "2022-03-09T16:09:59.499106",
     "exception": false,
     "start_time": "2022-03-09T16:09:59.472546",
     "status": "completed"
    },
    "tags": []
   },
   "outputs": [],
   "source": [
    "# Round to 5 decimal places\n",
    "rounded_pi = round(almost_pi, 5)\n",
    "print(rounded_pi)\n",
    "print(type(rounded_pi))"
   ]
  },
  {
   "cell_type": "markdown",
   "id": "a533eaab",
   "metadata": {},
   "source": [
    "このコードを実行すると、`rounded_pi`（22/7）を小数点以下5桁に丸めた結果である 3.14286 が得られます。`round()`関数は、指定した桁数に最も近い値を丸めて返します。この場合、小数点以下の値が 3.142857142857143 から 3.14286 に丸められました。\n",
    "\n",
    "`rounded_pi`のデータ型は <class 'float'> であることが確認できます。"
   ]
  },
  {
   "cell_type": "markdown",
   "metadata": {
    "papermill": {
     "duration": 0.018046,
     "end_time": "2022-03-09T16:09:59.535946",
     "exception": false,
     "start_time": "2022-03-09T16:09:59.517900",
     "status": "completed"
    },
    "tags": []
   },
   "source": [
    "小数点を含む数値を記述すると、Pythonはそれを浮動小数点数（float）のデータ型として認識します。\n",
    "\n",
    "例えば、`1.`（または`1.0`、`1.00`など）は小数部分がなくても、Pythonでは浮動小数点数として扱われます。このような数値は、見た目は整数のように見えるかもしれませんが、実際には float として扱われます。"
   ]
  },
  {
   "cell_type": "code",
   "execution_count": null,
   "metadata": {
    "execution": {
     "iopub.execute_input": "2022-03-09T16:09:59.580342Z",
     "iopub.status.busy": "2022-03-09T16:09:59.579681Z",
     "iopub.status.idle": "2022-03-09T16:09:59.582358Z",
     "shell.execute_reply": "2022-03-09T16:09:59.582896Z",
     "shell.execute_reply.started": "2022-02-15T21:18:35.752821Z"
    },
    "papermill": {
     "duration": 0.026357,
     "end_time": "2022-03-09T16:09:59.583056",
     "exception": false,
     "start_time": "2022-03-09T16:09:59.556699",
     "status": "completed"
    },
    "tags": []
   },
   "outputs": [],
   "source": [
    "y_float = 1.\n",
    "print(y_float)\n",
    "print(type(y_float))"
   ]
  },
  {
   "cell_type": "markdown",
   "id": "034ed906",
   "metadata": {},
   "source": [
    "このコードを実行すると、`y_float`は 1.0 として浮動小数点数の値を持ち、そのデータ型は <class 'float'> となります。\n",
    "\n",
    "数値に小数点が含まれているかどうかが、浮動小数点数（`float`）と整数（`int`）を区別するための重要なポイントであることを示しています。\n"
   ]
  },
  {
   "cell_type": "markdown",
   "metadata": {
    "papermill": {
     "duration": 0.020774,
     "end_time": "2022-03-09T16:09:59.622556",
     "exception": false,
     "start_time": "2022-03-09T16:09:59.601782",
     "status": "completed"
    },
    "tags": []
   },
   "source": [
    "# ブール値(Booleans)\n",
    "\n",
    "ブール値は、`True`または`False`のいずれかの値を表します。ブール値は、条件が「真」であるか「偽」であるかを示すのに使われます。以下のコードでは、`z_one` に`True`というブール値が設定されています。"
   ]
  },
  {
   "cell_type": "code",
   "execution_count": null,
   "metadata": {
    "execution": {
     "iopub.execute_input": "2022-03-09T16:09:59.672751Z",
     "iopub.status.busy": "2022-03-09T16:09:59.672075Z",
     "iopub.status.idle": "2022-03-09T16:09:59.677607Z",
     "shell.execute_reply": "2022-03-09T16:09:59.678155Z",
     "shell.execute_reply.started": "2022-02-15T21:58:45.485822Z"
    },
    "papermill": {
     "duration": 0.034246,
     "end_time": "2022-03-09T16:09:59.678363",
     "exception": false,
     "start_time": "2022-03-09T16:09:59.644117",
     "status": "completed"
    },
    "tags": []
   },
   "outputs": [],
   "source": [
    "z_one = True\n",
    "print(z_one)\n",
    "print(type(z_one))"
   ]
  },
  {
   "cell_type": "markdown",
   "id": "b6a5381b",
   "metadata": {},
   "source": [
    "これにより、`z_one`という変数は`True`というブール値を持つことになります。"
   ]
  },
  {
   "cell_type": "markdown",
   "metadata": {
    "papermill": {
     "duration": 0.021577,
     "end_time": "2022-03-09T16:09:59.719510",
     "exception": false,
     "start_time": "2022-03-09T16:09:59.697933",
     "status": "completed"
    },
    "tags": []
   },
   "source": [
    "次に、`z_two`という変数には、`False`というブール値が設定されています。`False`は「偽」を意味し、条件が成り立たない場合や論理的に「違う」と評価される場合に使います。"
   ]
  },
  {
   "cell_type": "code",
   "execution_count": null,
   "metadata": {
    "execution": {
     "iopub.execute_input": "2022-03-09T16:09:59.760598Z",
     "iopub.status.busy": "2022-03-09T16:09:59.759967Z",
     "iopub.status.idle": "2022-03-09T16:09:59.764323Z",
     "shell.execute_reply": "2022-03-09T16:09:59.764793Z",
     "shell.execute_reply.started": "2022-02-15T22:07:03.215646Z"
    },
    "papermill": {
     "duration": 0.026743,
     "end_time": "2022-03-09T16:09:59.764962",
     "exception": false,
     "start_time": "2022-03-09T16:09:59.738219",
     "status": "completed"
    },
    "tags": []
   },
   "outputs": [],
   "source": [
    "z_two = False\n",
    "print(z_two)\n",
    "print(type(z_two))"
   ]
  },
  {
   "cell_type": "markdown",
   "id": "91177e0d",
   "metadata": {},
   "source": [
    "これにより、`z_two`という変数は`False`というブール値を持つことになります。"
   ]
  },
  {
   "cell_type": "markdown",
   "metadata": {
    "papermill": {
     "duration": 0.018624,
     "end_time": "2022-03-09T16:09:59.802701",
     "exception": false,
     "start_time": "2022-03-09T16:09:59.784077",
     "status": "completed"
    },
    "tags": []
   },
   "source": [
    "ブール値（True または False）は、式の真偽を表します。例えば、`1 < 2`は「1は2より小さい」という意味で、これは「真」なので、`z_three`には`True`が設定されます。"
   ]
  },
  {
   "cell_type": "code",
   "execution_count": null,
   "metadata": {
    "execution": {
     "iopub.execute_input": "2022-03-09T16:09:59.843540Z",
     "iopub.status.busy": "2022-03-09T16:09:59.842953Z",
     "iopub.status.idle": "2022-03-09T16:09:59.847362Z",
     "shell.execute_reply": "2022-03-09T16:09:59.847802Z",
     "shell.execute_reply.started": "2022-02-15T21:18:35.764565Z"
    },
    "papermill": {
     "duration": 0.026229,
     "end_time": "2022-03-09T16:09:59.847981",
     "exception": false,
     "start_time": "2022-03-09T16:09:59.821752",
     "status": "completed"
    },
    "tags": []
   },
   "outputs": [],
   "source": [
    "z_three = (1 < 2)\n",
    "print(z_three)\n",
    "print(type(z_three))"
   ]
  },
  {
   "cell_type": "markdown",
   "metadata": {
    "papermill": {
     "duration": 0.018999,
     "end_time": "2022-03-09T16:09:59.886450",
     "exception": false,
     "start_time": "2022-03-09T16:09:59.867451",
     "status": "completed"
    },
    "tags": []
   },
   "source": [
    "同様に、`5 < 3`は偽の式なので、`z_four`には`False`が設定されます。"
   ]
  },
  {
   "cell_type": "code",
   "execution_count": null,
   "metadata": {
    "execution": {
     "iopub.execute_input": "2022-03-09T16:09:59.928858Z",
     "iopub.status.busy": "2022-03-09T16:09:59.928220Z",
     "iopub.status.idle": "2022-03-09T16:09:59.933023Z",
     "shell.execute_reply": "2022-03-09T16:09:59.933471Z",
     "shell.execute_reply.started": "2022-02-15T23:41:02.506818Z"
    },
    "papermill": {
     "duration": 0.027952,
     "end_time": "2022-03-09T16:09:59.933647",
     "exception": false,
     "start_time": "2022-03-09T16:09:59.905695",
     "status": "completed"
    },
    "tags": []
   },
   "outputs": [],
   "source": [
    "z_four = (5 < 3)\n",
    "print(z_four)\n",
    "print(type(z_four))"
   ]
  },
  {
   "cell_type": "markdown",
   "metadata": {
    "papermill": {
     "duration": 0.019976,
     "end_time": "2022-03-09T16:09:59.973287",
     "exception": false,
     "start_time": "2022-03-09T16:09:59.953311",
     "status": "completed"
    },
    "tags": []
   },
   "source": [
    "\n",
    "ブール値の値は`not`を使って反転させることができます。例えば、`not True`は`False`と同じで、`not False`は`True`になります。"
   ]
  },
  {
   "cell_type": "code",
   "execution_count": null,
   "metadata": {
    "execution": {
     "iopub.execute_input": "2022-03-09T16:10:00.016195Z",
     "iopub.status.busy": "2022-03-09T16:10:00.015258Z",
     "iopub.status.idle": "2022-03-09T16:10:00.020891Z",
     "shell.execute_reply": "2022-03-09T16:10:00.020432Z",
     "shell.execute_reply.started": "2022-02-15T23:41:02.999177Z"
    },
    "papermill": {
     "duration": 0.028222,
     "end_time": "2022-03-09T16:10:00.021027",
     "exception": false,
     "start_time": "2022-03-09T16:09:59.992805",
     "status": "completed"
    },
    "tags": []
   },
   "outputs": [],
   "source": [
    "z_five = not z_four\n",
    "print(z_five)\n",
    "print(type(z_five))"
   ]
  },
  {
   "cell_type": "markdown",
   "metadata": {
    "papermill": {
     "duration": 0.019386,
     "end_time": "2022-03-09T16:10:00.060276",
     "exception": false,
     "start_time": "2022-03-09T16:10:00.040890",
     "status": "completed"
    },
    "tags": []
   },
   "source": [
    "次のチュートリアルでは、条件と条件文について学ぶ際に、ブール値が重要になります。\n",
    "\n",
    "# 文字列（Strings）\n",
    "\n",
    "文字列データ型は、文字（アルファベットの文字、句読点、数字、記号など）を引用符で囲んだものです。文字列は、テキストを表現するために一般的に使用されます。次のコードでは、`w`という文字列変数に `\"Hello, Python!\"`を代入しています。\n"
   ]
  },
  {
   "cell_type": "code",
   "execution_count": null,
   "metadata": {
    "execution": {
     "iopub.execute_input": "2022-03-09T16:10:00.105983Z",
     "iopub.status.busy": "2022-03-09T16:10:00.105093Z",
     "iopub.status.idle": "2022-03-09T16:10:00.108076Z",
     "shell.execute_reply": "2022-03-09T16:10:00.108543Z",
     "shell.execute_reply.started": "2022-02-15T23:33:34.510637Z"
    },
    "papermill": {
     "duration": 0.028879,
     "end_time": "2022-03-09T16:10:00.108709",
     "exception": false,
     "start_time": "2022-03-09T16:10:00.079830",
     "status": "completed"
    },
    "tags": []
   },
   "outputs": [],
   "source": [
    "w = \"Hello, Python!\"\n",
    "print(w)\n",
    "print(type(w))"
   ]
  },
  {
   "cell_type": "markdown",
   "metadata": {
    "papermill": {
     "duration": 0.019823,
     "end_time": "2022-03-09T16:10:00.149461",
     "exception": false,
     "start_time": "2022-03-09T16:10:00.129638",
     "status": "completed"
    },
    "tags": []
   },
   "source": [
    "文字列の長さは、`len()`を使って取得できます。 `\"Hello, Python!\"`の長さは14です。これは、文字、スペース、カンマ、感嘆符など、すべての文字を含むためです。ただし、引用符（\"）は長さに含まれませんので、その点も注意してください。"
   ]
  },
  {
   "cell_type": "markdown",
   "id": "248e4414",
   "metadata": {},
   "source": [
    "次のコードでは、`w`の長さを確認するために`len()`を使っています。"
   ]
  },
  {
   "cell_type": "code",
   "execution_count": null,
   "metadata": {
    "execution": {
     "iopub.execute_input": "2022-03-09T16:10:00.193642Z",
     "iopub.status.busy": "2022-03-09T16:10:00.192628Z",
     "iopub.status.idle": "2022-03-09T16:10:00.198605Z",
     "shell.execute_reply": "2022-03-09T16:10:00.197974Z",
     "shell.execute_reply.started": "2022-02-15T23:33:35.644959Z"
    },
    "papermill": {
     "duration": 0.029222,
     "end_time": "2022-03-09T16:10:00.198751",
     "exception": false,
     "start_time": "2022-03-09T16:10:00.169529",
     "status": "completed"
    },
    "tags": []
   },
   "outputs": [],
   "source": [
    "print(len(w))"
   ]
  },
  {
   "cell_type": "markdown",
   "metadata": {},
   "source": [
    "文字列には「空文字列」と呼ばれる特別な種類の文字列もあります。空文字列は長さがゼロで、何も含まれていない文字列です。"
   ]
  },
  {
   "cell_type": "code",
   "execution_count": null,
   "metadata": {},
   "outputs": [],
   "source": [
    "shortest_string = \"\"\n",
    "print(type(shortest_string))\n",
    "print(len(shortest_string))"
   ]
  },
  {
   "cell_type": "markdown",
   "metadata": {
    "papermill": {
     "duration": 0.019971,
     "end_time": "2022-03-09T16:10:00.239548",
     "exception": false,
     "start_time": "2022-03-09T16:10:00.219577",
     "status": "completed"
    },
    "tags": []
   },
   "source": [
    "もし数値を引用符で囲むと、それは文字列（string）型になります。"
   ]
  },
  {
   "cell_type": "code",
   "execution_count": null,
   "metadata": {
    "execution": {
     "iopub.execute_input": "2022-03-09T16:10:00.285113Z",
     "iopub.status.busy": "2022-03-09T16:10:00.284389Z",
     "iopub.status.idle": "2022-03-09T16:10:00.287927Z",
     "shell.execute_reply": "2022-03-09T16:10:00.287466Z",
     "shell.execute_reply.started": "2022-02-15T23:05:59.192161Z"
    },
    "papermill": {
     "duration": 0.028361,
     "end_time": "2022-03-09T16:10:00.288061",
     "exception": false,
     "start_time": "2022-03-09T16:10:00.259700",
     "status": "completed"
    },
    "tags": []
   },
   "outputs": [],
   "source": [
    "my_number = \"1.12321\"\n",
    "print(my_number)\n",
    "print(type(my_number))"
   ]
  },
  {
   "cell_type": "markdown",
   "id": "35f7bc12",
   "metadata": {},
   "source": [
    "このコードでは、`my_number`は文字列型として扱われます。"
   ]
  },
  {
   "cell_type": "markdown",
   "metadata": {
    "papermill": {
     "duration": 0.02062,
     "end_time": "2022-03-09T16:10:00.329315",
     "exception": false,
     "start_time": "2022-03-09T16:10:00.308695",
     "status": "completed"
    },
    "tags": []
   },
   "source": [
    "文字列が浮動小数点数（float）に変換可能であれば、`float()` を使うことができます。\n",
    "\n",
    "ただし、これはいつも成功するわけではありません！例えば、`\"10.43430\"`や`\"3\"` は浮動小数点数に変換できますが、`\"Hello, Python!\"`は浮動小数点数に変換できません。"
   ]
  },
  {
   "cell_type": "code",
   "execution_count": null,
   "metadata": {
    "execution": {
     "iopub.execute_input": "2022-03-09T16:10:00.373098Z",
     "iopub.status.busy": "2022-03-09T16:10:00.372513Z",
     "iopub.status.idle": "2022-03-09T16:10:00.376676Z",
     "shell.execute_reply": "2022-03-09T16:10:00.377207Z",
     "shell.execute_reply.started": "2022-02-15T21:29:19.806406Z"
    },
    "papermill": {
     "duration": 0.02765,
     "end_time": "2022-03-09T16:10:00.377388",
     "exception": false,
     "start_time": "2022-03-09T16:10:00.349738",
     "status": "completed"
    },
    "tags": []
   },
   "outputs": [],
   "source": [
    "also_my_number = float(my_number)\n",
    "print(also_my_number)\n",
    "print(type(also_my_number))"
   ]
  },
  {
   "cell_type": "markdown",
   "metadata": {
    "papermill": {
     "duration": 0.020416,
     "end_time": "2022-03-09T16:10:00.418665",
     "exception": false,
     "start_time": "2022-03-09T16:10:00.398249",
     "status": "completed"
    },
    "tags": []
   },
   "source": [
    "数値（浮動小数点数や整数）を加算できるのと同じように、文字列も加算できます。文字列を加算すると、元の文字列が結合されて、より長い新しい文字列が作られます。"
   ]
  },
  {
   "cell_type": "code",
   "execution_count": null,
   "metadata": {
    "execution": {
     "iopub.execute_input": "2022-03-09T16:10:00.463041Z",
     "iopub.status.busy": "2022-03-09T16:10:00.462434Z",
     "iopub.status.idle": "2022-03-09T16:10:00.466303Z",
     "shell.execute_reply": "2022-03-09T16:10:00.466796Z",
     "shell.execute_reply.started": "2022-02-15T21:31:12.494413Z"
    },
    "papermill": {
     "duration": 0.027663,
     "end_time": "2022-03-09T16:10:00.466961",
     "exception": false,
     "start_time": "2022-03-09T16:10:00.439298",
     "status": "completed"
    },
    "tags": []
   },
   "outputs": [],
   "source": [
    "new_string = \"abc\" + \"def\"\n",
    "print(new_string)\n",
    "print(type(new_string))"
   ]
  },
  {
   "cell_type": "markdown",
   "metadata": {
    "papermill": {
     "duration": 0.020644,
     "end_time": "2022-03-09T16:10:00.508611",
     "exception": false,
     "start_time": "2022-03-09T16:10:00.487967",
     "status": "completed"
    },
    "tags": []
   },
   "source": [
    "注意すべき点は、2つの文字列で引き算や割り算を行うことはできないということです。また、2つの文字列を掛け算することもできませんが、文字列に整数を掛けることはできます。この場合、元の文字列が指定した回数だけ繰り返されて新しい文字列が作られます。"
   ]
  },
  {
   "cell_type": "code",
   "execution_count": null,
   "metadata": {
    "execution": {
     "iopub.execute_input": "2022-03-09T16:10:00.556322Z",
     "iopub.status.busy": "2022-03-09T16:10:00.555439Z",
     "iopub.status.idle": "2022-03-09T16:10:00.563268Z",
     "shell.execute_reply": "2022-03-09T16:10:00.564167Z",
     "shell.execute_reply.started": "2022-02-15T21:32:49.916205Z"
    },
    "papermill": {
     "duration": 0.034794,
     "end_time": "2022-03-09T16:10:00.564445",
     "exception": false,
     "start_time": "2022-03-09T16:10:00.529651",
     "status": "completed"
    },
    "tags": []
   },
   "outputs": [],
   "source": [
    "newest_string = \"abc\" * 3\n",
    "print(newest_string)\n",
    "print(type(newest_string))"
   ]
  },
  {
   "cell_type": "markdown",
   "metadata": {
    "papermill": {
     "duration": 0.027576,
     "end_time": "2022-03-09T16:10:00.619393",
     "exception": false,
     "start_time": "2022-03-09T16:10:00.591817",
     "status": "completed"
    },
    "tags": []
   },
   "source": [
    "このコードでは、`\"abc\"`という文字列を3回繰り返して新しい文字列 `\"abcabcabc\"`を作っています。"
   ]
  },
  {
   "cell_type": "markdown",
   "id": "3e439c11",
   "metadata": {},
   "source": [
    "次のコードは動作しません："
   ]
  },
  {
   "cell_type": "code",
   "execution_count": null,
   "metadata": {
    "execution": {
     "iopub.execute_input": "2022-03-09T16:10:00.678273Z",
     "iopub.status.busy": "2022-03-09T16:10:00.677620Z",
     "iopub.status.idle": "2022-03-09T16:10:00.739968Z",
     "shell.execute_reply": "2022-03-09T16:10:00.739374Z",
     "shell.execute_reply.started": "2022-02-15T21:35:52.378803Z"
    },
    "papermill": {
     "duration": 0.092699,
     "end_time": "2022-03-09T16:10:00.740109",
     "exception": false,
     "start_time": "2022-03-09T16:10:00.647410",
     "status": "completed"
    },
    "tags": []
   },
   "outputs": [],
   "source": [
    "will_not_work = \"abc\" * 3."
   ]
  },
  {
   "cell_type": "markdown",
   "metadata": {
    "papermill": {
     "duration": 0.021236,
     "end_time": "2022-03-09T16:10:00.783279",
     "exception": false,
     "start_time": "2022-03-09T16:10:00.762043",
     "status": "completed"
    },
    "tags": []
   },
   "source": [
    "エラーメッセージの中で、「sequence」は文字列`\"abc\"`を指し、「non-int of type 'float'」は浮動小数点数`\"（3.)\"`を指しています。つまり、エラーメッセージは「文字列に浮動小数点数を掛けることはできません」という意味になります。\n",
    "\n",
    "# データ型について理解が深まりましたか？\n",
    "\n",
    "次は、データ型を実際に使ってみる演習に進みましょう。 [**データ型の演習**（data types）](./ex3.ipynb)  \n"
   ]
  },
  {
   "cell_type": "markdown",
   "id": "e801963c",
   "metadata": {},
   "source": []
  }
 ],
 "metadata": {
  "kernelspec": {
   "display_name": "Python 3",
   "language": "python",
   "name": "python3"
  },
  "language_info": {
   "codemirror_mode": {
    "name": "ipython",
    "version": 3
   },
   "file_extension": ".py",
   "mimetype": "text/x-python",
   "name": "python",
   "nbconvert_exporter": "python",
   "pygments_lexer": "ipython3",
   "version": "3.6.5"
  },
  "papermill": {
   "default_parameters": {},
   "duration": 11.007094,
   "end_time": "2022-03-09T16:10:01.414614",
   "environment_variables": {},
   "exception": null,
   "input_path": "__notebook__.ipynb",
   "output_path": "__notebook__.ipynb",
   "parameters": {},
   "start_time": "2022-03-09T16:09:50.407520",
   "version": "2.3.3"
  }
 },
 "nbformat": 4,
 "nbformat_minor": 5
}
