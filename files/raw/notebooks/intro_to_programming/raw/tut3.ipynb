{
 "cells": [
  {
   "cell_type": "markdown",
   "metadata": {
    "papermill": {
     "duration": 0.018672,
     "end_time": "2022-03-09T16:09:59.177117",
     "exception": false,
     "start_time": "2022-03-09T16:09:59.158445",
     "status": "completed"
    },
    "tags": []
   },
   "source": [
    "# 🧠 データ型の紹介\n",
    "\n",
    "Python では、**変数**に入る値にはいろいろな「**型（データ型）**」があります。\n",
    "\n",
    "たとえば、こんな種類があります：\n",
    "\n",
    "* 🔢 **整数**（例：`5`, `-2`）\n",
    "* 🔬 **小数（浮動小数点数）**（例：`3.14`, `0.0`）\n",
    "* 🔤 **文字列**（例：`\"hello\"`, `\"Python\"`）\n",
    "* ✅ **真偽値（ブール値）**（例：`True`, `False`）\n",
    "\n",
    "\n",
    "\n",
    "変数に値を代入すると、**その値に合ったデータ型が自動的に決まります。**\n",
    "（この仕組みは「動的型付け」と呼ばれます）\n",
    "\n",
    "\n",
    "## 💡 データ型が重要な理由\n",
    "\n",
    "それは、**データ型によって「できる操作」「できない操作」が変わるから**です。\n",
    "\n",
    "たとえば：\n",
    "\n",
    "```python\n",
    "12.0 / 2.0     # 小数の割り算 → OK\n",
    "\"cat\" / \"dog\"  # 文字列の割り算 → ❌ エラー\n",
    "```\n",
    "\n",
    "\n",
    "\n",
    "このチュートリアルでは、**基本的でよく使うデータ型**を紹介します。\n",
    "\n",
    " 🧰 ちなみに：Python にはこのほかにも、  \n",
    " リスト・辞書・タプル・セット など、便利なデータ型がたくさんあります。  \n",
    " これらは、別のチュートリアルで扱います。\n",
    "\n",
    "\n",
    "\n",
    "エラーを防ぐためにも、\n",
    "\n",
    "* 「この変数は何型か？」\n",
    "* 「この操作はその型で可能か？」\n",
    "\n",
    "を**意識しながらコードを書く**ことが、とても大切です。\n",
    "\n",
    "\n"
   ]
  },
  {
   "cell_type": "markdown",
   "id": "61c37348",
   "metadata": {},
   "source": [
    "## ⚙️ 環境セットアップ（Pyodide）\n",
    "\n",
    "このノートブックでは、次の手順で**環境を準備**します：\n",
    "\n",
    "1. **learntools パッケージのインストール**\n",
    "\n"
   ]
  },
  {
   "cell_type": "code",
   "execution_count": null,
   "id": "8e22f5e2",
   "metadata": {},
   "outputs": [],
   "source": [
    "\n",
    "\n",
    "import micropip\n",
    "\n",
    "await micropip.install(\"https://capri7.github.io/programming-intro-ja/files/raw/packages/learntools-0.3.5-py3-none-any.whl\")\n"
   ]
  },
  {
   "cell_type": "markdown",
   "id": "12ac999c",
   "metadata": {},
   "source": [
    "\n",
    "2. **標準ライブラリのインストール**"
   ]
  },
  {
   "cell_type": "code",
   "execution_count": null,
   "id": "6bb99d21",
   "metadata": {},
   "outputs": [],
   "source": [
    "\n",
    "\n",
    "await micropip.install([\"numpy\", \"pandas\", \"matplotlib\"])\n"
   ]
  },
  {
   "cell_type": "markdown",
   "id": "79a30d42",
   "metadata": {},
   "source": [
    "\n",
    "3. **グローバル変数のバインド**"
   ]
  },
  {
   "cell_type": "code",
   "execution_count": null,
   "id": "3c0544bf",
   "metadata": {},
   "outputs": [],
   "source": [
    "\n",
    "\n",
    "from learntools.core import binder\n",
    "\n",
    "binder.bind(globals())\n",
    "print(\"✅ Setup complete\")\n",
    "\n"
   ]
  },
  {
   "cell_type": "markdown",
   "metadata": {
    "papermill": {
     "duration": 0.016824,
     "end_time": "2022-03-09T16:09:59.214218",
     "exception": false,
     "start_time": "2022-03-09T16:09:59.197394",
     "status": "completed"
    },
    "tags": []
   },
   "source": [
    "## 🔢 整数（`int`）を使ってみましょう\n",
    "\n",
    "整数（**int**）とは、小数点を含まない数値のことです。\n",
    "以下のような値が含まれます：\n",
    "\n",
    "* 正の数：`1`, `2`, `3`, ...\n",
    "* 負の数：`-1`, `-2`, ...\n",
    "* ゼロ：`0`\n",
    "\n",
    "\n",
    "\n",
    "下のコードでは、**変数 `x` に整数 `14` を代入**しています。  \n",
    "そして、\n",
    "\n",
    "* `print(x)` で **変数の中身を表示**\n",
    "* `type(x)` で **そのデータ型を確認**\n",
    "\n",
    "してみましょう。\n",
    "\n"
   ]
  },
  {
   "cell_type": "code",
   "execution_count": null,
   "metadata": {
    "execution": {
     "iopub.execute_input": "2022-03-09T16:09:59.252244Z",
     "iopub.status.busy": "2022-03-09T16:09:59.251219Z",
     "iopub.status.idle": "2022-03-09T16:09:59.260727Z",
     "shell.execute_reply": "2022-03-09T16:09:59.260120Z",
     "shell.execute_reply.started": "2022-02-15T21:18:35.70258Z"
    },
    "papermill": {
     "duration": 0.029402,
     "end_time": "2022-03-09T16:09:59.260885",
     "exception": false,
     "start_time": "2022-03-09T16:09:59.231483",
     "status": "completed"
    },
    "tags": []
   },
   "outputs": [],
   "source": [
    "\n",
    "\n",
    "x = 14\n",
    "\n",
    "print(x)\n",
    "print(type(x))\n"
   ]
  },
  {
   "cell_type": "markdown",
   "id": "735a2138",
   "metadata": {},
   "source": [
    "\n",
    "\n",
    "💡 ヒント\n",
    "`type(x)` の出力が次のように表示されれば、`x` は「整数型（int）」です：\n",
    "\n",
    "```\n",
    "<class 'int'>\n",
    "```\n",
    "\n",
    "\n"
   ]
  },
  {
   "cell_type": "markdown",
   "metadata": {
    "papermill": {
     "duration": 0.017277,
     "end_time": "2022-03-09T16:09:59.296248",
     "exception": false,
     "start_time": "2022-03-09T16:09:59.278971",
     "status": "completed"
    },
    "tags": []
   },
   "source": [
    " ## 🔬 浮動小数点数（`float`）を使ってみましょう\n",
    "\n",
    "浮動小数点数（**float**）とは、**小数点を含む数値**のことです。\n",
    "\n",
    "例：\n",
    "\n",
    "* `3.14`\n",
    "* `0.5`\n",
    "* `-2.75`\n",
    "\n",
    "\n",
    "Python では、こうした小数を扱うときに、自動的に `float` 型（フロート型） として認識されます。\n",
    "\n",
    "\n",
    "次のコードでは、**円周率に近い値を変数 `nearly_pi` に代入**しています。  \n",
    "その後、\n",
    "\n",
    "* `print()` で値を表示\n",
    "* `type()` でデータ型を確認\n",
    "\n",
    "してみましょう。\n",
    "\n"
   ]
  },
  {
   "cell_type": "code",
   "execution_count": null,
   "metadata": {
    "execution": {
     "iopub.execute_input": "2022-03-09T16:09:59.334123Z",
     "iopub.status.busy": "2022-03-09T16:09:59.333534Z",
     "iopub.status.idle": "2022-03-09T16:09:59.337739Z",
     "shell.execute_reply": "2022-03-09T16:09:59.338257Z",
     "shell.execute_reply.started": "2022-02-15T21:18:35.712152Z"
    },
    "papermill": {
     "duration": 0.024652,
     "end_time": "2022-03-09T16:09:59.338417",
     "exception": false,
     "start_time": "2022-03-09T16:09:59.313765",
     "status": "completed"
    },
    "tags": []
   },
   "outputs": [],
   "source": [
    "\n",
    "nearly_pi = 3.141592653589793238462643383279502884197169399375105820974944\n",
    "\n",
    "print(nearly_pi)\n",
    "print(type(nearly_pi))"
   ]
  },
  {
   "cell_type": "markdown",
   "id": "e7f13d00",
   "metadata": {},
   "source": [
    "💡 ヒント\n",
    "`type(nearly_pi)` の出力が次のようになっていれば、`nearly_pi` は「小数型（float）」です：\n",
    "\n",
    "```\n",
    "<class 'float'>\n",
    "```\n"
   ]
  },
  {
   "cell_type": "markdown",
   "id": "9149b3de",
   "metadata": {},
   "source": [
    "### ➗ 分数を使った浮動小数点数\n",
    "\n",
    "Python では、整数どうしの割り算でも、結果は `float`（小数型）として扱われます。\n",
    "\n",
    "\n",
    "\n",
    "たとえば、次のような計算：\n",
    "\n",
    "```python\n",
    "22 / 7\n",
    "```\n",
    "\n",
    "は、`3.14...` に非常に近い値を返します。  \n",
    "これは、**円周率（π）の近似値**としてもよく使われる分数です。\n",
    "\n",
    "\n",
    "\n",
    "次のコードでは、`almost_pi` という変数に `22 / 7` の計算結果を代入しています。  \n",
    "その後、\n",
    "\n",
    "* `print()` で値を表示\n",
    "* `type()` でデータ型を確認\n",
    "\n",
    "してみましょう。"
   ]
  },
  {
   "cell_type": "code",
   "execution_count": null,
   "metadata": {
    "execution": {
     "iopub.execute_input": "2022-03-09T16:09:59.414512Z",
     "iopub.status.busy": "2022-03-09T16:09:59.413720Z",
     "iopub.status.idle": "2022-03-09T16:09:59.416691Z",
     "shell.execute_reply": "2022-03-09T16:09:59.417130Z",
     "shell.execute_reply.started": "2022-02-15T21:18:35.725555Z"
    },
    "papermill": {
     "duration": 0.026042,
     "end_time": "2022-03-09T16:09:59.417313",
     "exception": false,
     "start_time": "2022-03-09T16:09:59.391271",
     "status": "completed"
    },
    "tags": []
   },
   "outputs": [],
   "source": [
    "\n",
    "\n",
    "almost_pi = 22/7\n",
    "\n",
    "print(almost_pi)\n",
    "print(type(almost_pi))\n"
   ]
  },
  {
   "cell_type": "markdown",
   "id": "af73faa0",
   "metadata": {},
   "source": [
    "\n",
    "\n",
    "💡 ヒント\n",
    "`type(almost_pi)` の出力が以下のようになっていれば、`almost_pi` は `float` 型です：\n",
    "\n",
    "```\n",
    "<class 'float'>\n",
    "```\n",
    "\n"
   ]
  },
  {
   "cell_type": "markdown",
   "metadata": {
    "papermill": {
     "duration": 0.019218,
     "end_time": "2022-03-09T16:09:59.454416",
     "exception": false,
     "start_time": "2022-03-09T16:09:59.435198",
     "status": "completed"
    },
    "tags": []
   },
   "source": [
    "### 🎯 小数を丸める：`round()` 関数\n",
    "\n",
    "Python には、**数値を指定した桁数で丸めることができる**便利な関数 `round()` があります。\n",
    "\n",
    "\n",
    "\n",
    "ここでは、前のセクションで使った `almost_pi`（`22 ÷ 7` の結果）を、  \n",
    "**小数点以下5桁に丸めて**みましょう。\n",
    "\n",
    "\n",
    "\n",
    "次のコードでは、`round(almost_pi, 5)` を使って  \n",
    "**丸めた結果を `rounded_pi` に代入**しています。\n"
   ]
  },
  {
   "cell_type": "code",
   "execution_count": null,
   "metadata": {
    "execution": {
     "iopub.execute_input": "2022-03-09T16:09:59.496534Z",
     "iopub.status.busy": "2022-03-09T16:09:59.495612Z",
     "iopub.status.idle": "2022-03-09T16:09:59.498496Z",
     "shell.execute_reply": "2022-03-09T16:09:59.498947Z",
     "shell.execute_reply.started": "2022-02-15T21:18:35.740769Z"
    },
    "papermill": {
     "duration": 0.02656,
     "end_time": "2022-03-09T16:09:59.499106",
     "exception": false,
     "start_time": "2022-03-09T16:09:59.472546",
     "status": "completed"
    },
    "tags": []
   },
   "outputs": [],
   "source": [
    "# 小数点以下5桁に丸める\n",
    "\n",
    "\n",
    "rounded_pi = round(almost_pi, 5)\n",
    "\n",
    "print(rounded_pi)\n",
    "print(type(rounded_pi))\n",
    "\n"
   ]
  },
  {
   "cell_type": "markdown",
   "id": "9b8067bd",
   "metadata": {},
   "source": [
    "\n",
    "\n",
    "💡 ヒント\n",
    "`almost_pi` の元の値は `3.142857142857143` でした。  \n",
    "`round(almost_pi, 5)` を使うと、**最も近い値に**丸められて `3.14286` になります。\n",
    "\n",
    "```text\n",
    "<class 'float'>\n",
    "```\n",
    "\n",
    "丸めたあとも、`rounded_pi` のデータ型は `float`（小数型）のままです。\n",
    "\n"
   ]
  },
  {
   "cell_type": "markdown",
   "metadata": {
    "papermill": {
     "duration": 0.018046,
     "end_time": "2022-03-09T16:09:59.535946",
     "exception": false,
     "start_time": "2022-03-09T16:09:59.517900",
     "status": "completed"
    },
    "tags": []
   },
   "source": [
    "### 🔍 小数点があると `float`（浮動小数点数）になる\n",
    "\n",
    "Python では、**小数点を含む数値**は、自動的に `float` 型（小数型）として扱われます。  \n",
    "たとえ小数部分が `0` や `.0`, `.00` のように見えても、**整数（`int`）とは区別される**のがポイントです。\n",
    "\n",
    "たとえば：\n",
    "\n",
    "* `1` → 整数（`int`）\n",
    "* `1.0` / `1.` / `1.00` → 小数（`float`）\n",
    "\n",
    "\n",
    "\n",
    "次のコードでは、`1.` を変数 `y_float` に代入し、\n",
    "その後、\n",
    "\n",
    "* `print()` で値を表示\n",
    "* `type()` でデータ型を確認\n",
    "\n",
    "してみましょう。\n",
    "\n"
   ]
  },
  {
   "cell_type": "code",
   "execution_count": null,
   "metadata": {
    "execution": {
     "iopub.execute_input": "2022-03-09T16:09:59.580342Z",
     "iopub.status.busy": "2022-03-09T16:09:59.579681Z",
     "iopub.status.idle": "2022-03-09T16:09:59.582358Z",
     "shell.execute_reply": "2022-03-09T16:09:59.582896Z",
     "shell.execute_reply.started": "2022-02-15T21:18:35.752821Z"
    },
    "papermill": {
     "duration": 0.026357,
     "end_time": "2022-03-09T16:09:59.583056",
     "exception": false,
     "start_time": "2022-03-09T16:09:59.556699",
     "status": "completed"
    },
    "tags": []
   },
   "outputs": [],
   "source": [
    "\n",
    "y_float = 1.\n",
    "\n",
    "print(y_float)\n",
    "print(type(y_float))"
   ]
  },
  {
   "cell_type": "markdown",
   "id": "677e5b71",
   "metadata": {},
   "source": [
    "💡 ヒント\n",
    "\n",
    "このコードを実行すると、`y_float` の値は `1.0` と表示されます。  \n",
    "`type(y_float)` の結果は次のようになります：\n",
    "\n",
    "```\n",
    "<class 'float'>\n",
    "```\n",
    "\n",
    "Python は、**小数点が含まれていれば、それだけで `float` とみなす**という点を覚えておきましょう。\n",
    "\n",
    "\n"
   ]
  },
  {
   "cell_type": "markdown",
   "metadata": {
    "papermill": {
     "duration": 0.020774,
     "end_time": "2022-03-09T16:09:59.622556",
     "exception": false,
     "start_time": "2022-03-09T16:09:59.601782",
     "status": "completed"
    },
    "tags": []
   },
   "source": [
    "## ✅ ブール値（`bool`）を使ってみましょう\n",
    "\n",
    "ブール値（Boolean）とは、`True` または `False` の2つのいずれかの値を取るデータ型です。  \n",
    "Pythonでは、条件が「**正しいか**」「**間違っているか**」を表すためによく使われます。\n",
    "\n",
    "\n",
    "\n",
    "### `True` を使ったブール値の例\n",
    "\n",
    "次のコードでは、`True` を変数 `z_one` に代入しています。  \n",
    "その後、\n",
    "\n",
    "* `print()` で値を表示\n",
    "* `type()` でデータ型を確認\n",
    "\n",
    "してみましょう。\n",
    "\n"
   ]
  },
  {
   "cell_type": "code",
   "execution_count": null,
   "metadata": {
    "execution": {
     "iopub.execute_input": "2022-03-09T16:09:59.672751Z",
     "iopub.status.busy": "2022-03-09T16:09:59.672075Z",
     "iopub.status.idle": "2022-03-09T16:09:59.677607Z",
     "shell.execute_reply": "2022-03-09T16:09:59.678155Z",
     "shell.execute_reply.started": "2022-02-15T21:58:45.485822Z"
    },
    "papermill": {
     "duration": 0.034246,
     "end_time": "2022-03-09T16:09:59.678363",
     "exception": false,
     "start_time": "2022-03-09T16:09:59.644117",
     "status": "completed"
    },
    "tags": []
   },
   "outputs": [],
   "source": [
    "\n",
    "z_one = True\n",
    "\n",
    "print(z_one)\n",
    "print(type(z_one))\n"
   ]
  },
  {
   "cell_type": "markdown",
   "id": "7e518adc",
   "metadata": {},
   "source": [
    "💡 ヒント\n",
    "`type(z_one)` の出力が以下のように表示されれば、`z_one` は「ブール値（`bool`）」です：\n",
    "\n",
    "```\n",
    "<class 'bool'>\n",
    "```\n",
    "\n",
    "\n",
    "\n",
    "`True` や `False` は、**条件式の結果**や **比較演算の結果**としてよく使われます。  \n",
    "プログラムの流れをコントロールするうえで、非常に重要なデータ型です。\n",
    "\n",
    "\n"
   ]
  },
  {
   "cell_type": "markdown",
   "metadata": {
    "papermill": {
     "duration": 0.021577,
     "end_time": "2022-03-09T16:09:59.719510",
     "exception": false,
     "start_time": "2022-03-09T16:09:59.697933",
     "status": "completed"
    },
    "tags": []
   },
   "source": [
    "### ❌ `False` を使ったブール値の例\n",
    "\n",
    "前の例では、`True` を使ってブール値の動作を確認しました。  \n",
    "今度は、**`False`（偽）** を変数に代入してみましょう。\n",
    "\n",
    "\n",
    "\n",
    "`False` は、「条件が成り立たないとき」や「論理的に正しくない状態」を示すときに使われます。\n",
    "\n",
    "\n",
    "\n",
    "次のコードでは、`False` を変数 `z_two` に代入しています。  \n",
    "そして、\n",
    "\n",
    "* `print()` で値を表示\n",
    "* `type()` でデータ型を確認\n",
    "\n",
    "してみましょう。\n",
    "\n"
   ]
  },
  {
   "cell_type": "code",
   "execution_count": null,
   "metadata": {
    "execution": {
     "iopub.execute_input": "2022-03-09T16:09:59.760598Z",
     "iopub.status.busy": "2022-03-09T16:09:59.759967Z",
     "iopub.status.idle": "2022-03-09T16:09:59.764323Z",
     "shell.execute_reply": "2022-03-09T16:09:59.764793Z",
     "shell.execute_reply.started": "2022-02-15T22:07:03.215646Z"
    },
    "papermill": {
     "duration": 0.026743,
     "end_time": "2022-03-09T16:09:59.764962",
     "exception": false,
     "start_time": "2022-03-09T16:09:59.738219",
     "status": "completed"
    },
    "tags": []
   },
   "outputs": [],
   "source": [
    "\n",
    "z_two = False\n",
    "\n",
    "print(z_two)\n",
    "print(type(z_two))\n"
   ]
  },
  {
   "cell_type": "markdown",
   "id": "b46f20aa",
   "metadata": {},
   "source": [
    "💡 ヒント\n",
    "\n",
    "`type(z_two)` の出力が次のようになれば、`z_two` は `bool` 型です：\n",
    "\n",
    "```\n",
    "<class 'bool'>\n",
    "```\n",
    "\n",
    "\n",
    "\n",
    "`False` は `True` の逆で、**条件が正しくないとき**に使われます。  \n",
    "プログラムでは、「〜でない」「〜が間違っている」といった状態を表すときに登場します。\n",
    "\n",
    "\n"
   ]
  },
  {
   "cell_type": "markdown",
   "metadata": {
    "papermill": {
     "duration": 0.018624,
     "end_time": "2022-03-09T16:09:59.802701",
     "exception": false,
     "start_time": "2022-03-09T16:09:59.784077",
     "status": "completed"
    },
    "tags": []
   },
   "source": [
    "### 🧮 式の結果としてのブール値\n",
    "\n",
    "`True` や `False` は、**変数に直接代入するだけでなく**、  \n",
    "**式（条件式）の評価結果として得られる**こともあります。\n",
    "\n",
    "\n",
    "\n",
    "たとえば、次のような「比較式」があります：\n",
    "\n",
    "* `1 < 2` → 「1 は 2 より小さい」 → ✅ **正しい（`True`）**\n",
    "* `5 < 3` → 「5 は 3 より小さい」 → ❌ **間違い（`False`）**\n",
    "\n",
    "\n",
    "\n",
    "Pythonでは、このような**比較の結果を評価すると、自動的にブール値（`bool`）が返されます。**\n",
    "\n",
    "\n",
    "\n",
    "次のコードでは、`1 < 2` の評価結果を変数 `z_three` に代入しています。  \n",
    "そして、\n",
    "\n",
    "* `print()` で値を表示\n",
    "* `type()` でデータ型を確認\n",
    "\n",
    "してみましょう。"
   ]
  },
  {
   "cell_type": "code",
   "execution_count": null,
   "metadata": {
    "execution": {
     "iopub.execute_input": "2022-03-09T16:09:59.843540Z",
     "iopub.status.busy": "2022-03-09T16:09:59.842953Z",
     "iopub.status.idle": "2022-03-09T16:09:59.847362Z",
     "shell.execute_reply": "2022-03-09T16:09:59.847802Z",
     "shell.execute_reply.started": "2022-02-15T21:18:35.764565Z"
    },
    "papermill": {
     "duration": 0.026229,
     "end_time": "2022-03-09T16:09:59.847981",
     "exception": false,
     "start_time": "2022-03-09T16:09:59.821752",
     "status": "completed"
    },
    "tags": []
   },
   "outputs": [],
   "source": [
    "\n",
    "z_three = (1 < 2)\n",
    "\n",
    "print(z_three)\n",
    "print(type(z_three))\n"
   ]
  },
  {
   "cell_type": "markdown",
   "id": "e2218897",
   "metadata": {},
   "source": [
    "💡 ヒント\n",
    "\n",
    "このコードの出力は次のようになります：\n",
    "\n",
    "```\n",
    "True\n",
    "<class 'bool'>\n",
    "```\n",
    "\n",
    "`1 < 2` は正しい条件なので、`z_three` には `True` が代入され、型は `bool` になります。\n",
    "\n",
    "\n",
    "\n",
    "比較式は、条件分岐や繰り返しなど、**プログラムの判断処理に欠かせない要素**です。  \n",
    "今後のチュートリアルでも何度も登場します！\n",
    "\n",
    "\n"
   ]
  },
  {
   "cell_type": "markdown",
   "metadata": {
    "papermill": {
     "duration": 0.018999,
     "end_time": "2022-03-09T16:09:59.886450",
     "exception": false,
     "start_time": "2022-03-09T16:09:59.867451",
     "status": "completed"
    },
    "tags": []
   },
   "source": [
    "### 🧪 比較式から `False` を得る例\n",
    "\n",
    "前のコードでは、`1 < 2` の評価結果として `True` を得ました。  \n",
    "今度は、**正しくない条件**を評価してみましょう。\n",
    "\n",
    "\n",
    "\n",
    "次のコードでは、「5 は 3 より小さいか？」という比較式 `5 < 3` を評価し、  \n",
    "その結果を変数 `z_four` に代入しています。\n",
    "\n"
   ]
  },
  {
   "cell_type": "code",
   "execution_count": null,
   "metadata": {
    "execution": {
     "iopub.execute_input": "2022-03-09T16:09:59.928858Z",
     "iopub.status.busy": "2022-03-09T16:09:59.928220Z",
     "iopub.status.idle": "2022-03-09T16:09:59.933023Z",
     "shell.execute_reply": "2022-03-09T16:09:59.933471Z",
     "shell.execute_reply.started": "2022-02-15T23:41:02.506818Z"
    },
    "papermill": {
     "duration": 0.027952,
     "end_time": "2022-03-09T16:09:59.933647",
     "exception": false,
     "start_time": "2022-03-09T16:09:59.905695",
     "status": "completed"
    },
    "tags": []
   },
   "outputs": [],
   "source": [
    "\n",
    "z_four = (5 < 3)\n",
    "\n",
    "print(z_four)\n",
    "print(type(z_four))\n"
   ]
  },
  {
   "cell_type": "markdown",
   "id": "b7506994",
   "metadata": {},
   "source": [
    "💡 ヒント\n",
    "\n",
    "このコードを実行すると、出力は次のようになります：\n",
    "\n",
    "```\n",
    "False\n",
    "<class 'bool'>\n",
    "```\n",
    "\n",
    "\n",
    "\n",
    "このように、**比較式（`<`, `>`, `==`, `!=` など）** を使うと、  \n",
    "その式が「正しいかどうか」に応じて `True` または `False` が返されます。\n",
    "\n",
    "\n",
    "\n",
    "この仕組みは、**if文やループなどの条件判断**に欠かせない基本です。  \n",
    "これからのチュートリアルでも何度も登場しますので、ぜひ慣れておきましょう。\n",
    "\n",
    "\n"
   ]
  },
  {
   "cell_type": "markdown",
   "id": "b2e35878",
   "metadata": {},
   "source": [
    "### 🔁 `not` を使ってブール値を反転させましょう\n",
    "\n",
    "ブール値には、**`not` というキーワード**を使って  \n",
    "値を反対にする（**反転する**）ことができます。\n",
    "\n",
    "\n",
    "\n",
    "たとえば：\n",
    "\n",
    "* `not True` → `False`\n",
    "* `not False` → `True`\n",
    "\n",
    "このように、`not` を使うと、**真を偽に、偽を真に変える**ことができます。\n",
    "\n",
    "\n",
    "\n",
    "次のコードでは、`z_four`（前のセクションで `False` だった変数）に `not` を使い、  \n",
    "**反転された結果を `z_five` に代入**しています。\n",
    "\n"
   ]
  },
  {
   "cell_type": "code",
   "execution_count": null,
   "metadata": {
    "execution": {
     "iopub.execute_input": "2022-03-09T16:10:00.016195Z",
     "iopub.status.busy": "2022-03-09T16:10:00.015258Z",
     "iopub.status.idle": "2022-03-09T16:10:00.020891Z",
     "shell.execute_reply": "2022-03-09T16:10:00.020432Z",
     "shell.execute_reply.started": "2022-02-15T23:41:02.999177Z"
    },
    "papermill": {
     "duration": 0.028222,
     "end_time": "2022-03-09T16:10:00.021027",
     "exception": false,
     "start_time": "2022-03-09T16:09:59.992805",
     "status": "completed"
    },
    "tags": []
   },
   "outputs": [],
   "source": [
    "\n",
    "z_five = not z_four\n",
    "\n",
    "print(z_five)\n",
    "print(type(z_five))\n"
   ]
  },
  {
   "cell_type": "markdown",
   "id": "5e380c0d",
   "metadata": {},
   "source": [
    "💡 ヒント\n",
    "\n",
    "このコードを実行すると、次のような出力が得られます：\n",
    "\n",
    "```\n",
    "True\n",
    "<class 'bool'>\n",
    "```\n",
    "\n",
    "\n",
    "\n",
    "`not` を使うことで、**条件を否定する**ロジックが書けるようになります。  \n",
    "これは、次に学ぶ **if文や論理演算**でも非常によく使われるテクニックです。\n",
    "\n",
    " たとえば：「その条件**ではない**ときに〜する」といった処理を簡潔に書けます。\n",
    "\n",
    "\n"
   ]
  },
  {
   "cell_type": "markdown",
   "metadata": {
    "papermill": {
     "duration": 0.019386,
     "end_time": "2022-03-09T16:10:00.060276",
     "exception": false,
     "start_time": "2022-03-09T16:10:00.040890",
     "status": "completed"
    },
    "tags": []
   },
   "source": [
    "### 🔤 文字列（`str`）を使ってみましょう\n",
    "\n",
    "文字列（string）とは、**文字・記号・スペースなどを引用符（`\"` または `'`）で囲んだデータ**のことです。\n",
    "\n",
    "\n",
    "\n",
    "たとえば、次のような内容はすべて文字列です：\n",
    "\n",
    "* `\"Hello\"`（文字のみ）\n",
    "* `\"123\"`（数字のように見えても文字列）\n",
    "* `\"!\"`（記号でもOK）\n",
    "\n",
    "\n",
    "\n",
    "Python では、**テキスト情報を扱いたいときに、文字列型（`str`）を使います。**\n",
    "\n",
    "\n",
    "\n",
    "次のコードでは、`\"Hello, Python!\"` という文字列を変数 `w` に代入しています。  \n",
    "その後、\n",
    "\n",
    "* `print()` で中身を表示\n",
    "* `type()` でデータ型を確認\n",
    "\n",
    "してみましょう。\n"
   ]
  },
  {
   "cell_type": "code",
   "execution_count": null,
   "id": "5a3c9ac4",
   "metadata": {},
   "outputs": [],
   "source": [
    "\n",
    "\n",
    "w = \"Hello, Python!\"\n",
    "\n",
    "print(w)\n",
    "print(type(w))\n"
   ]
  },
  {
   "cell_type": "markdown",
   "id": "2625a0d0",
   "metadata": {},
   "source": [
    "💡 ヒント\n",
    "\n",
    "このコードを実行すると、次のように表示されます：\n",
    "\n",
    "```\n",
    "Hello, Python!\n",
    "<class 'str'>\n",
    "```\n",
    "\n",
    "\n",
    "\n",
    "このように、**引用符（ダブルクォートまたはシングルクォート）で囲まれた内容**は、  \n",
    "すべて文字列として扱われます。\n",
    "\n",
    "\n",
    "\n"
   ]
  },
  {
   "cell_type": "markdown",
   "id": "8b40a9dd",
   "metadata": {},
   "source": [
    "### 📏 長さの取得：`len()` 関数\n",
    "\n",
    "Python では、文字列の長さ（**何文字あるか**）を調べたいときに、`len()` という関数を使います。\n",
    "\n",
    "\n",
    "\n",
    "たとえば、`\"Hello, Python!\"` という文字列の長さは **14文字** です。  \n",
    "これは、**文字・カンマ・スペース・感嘆符など、すべてを1文字ずつ数える**ためです。\n",
    "\n",
    " 🔍 補足：**引用符（`\"`）は数えません。**  \n",
    " あくまで「中にある文字」の数を数えます。\n",
    "\n",
    "\n",
    "\n",
    "次のコードでは、変数 `w` の文字数を `len()` で調べています。"
   ]
  },
  {
   "cell_type": "code",
   "execution_count": null,
   "id": "03ecdea2",
   "metadata": {},
   "outputs": [],
   "source": [
    "\n",
    "print(len(w))"
   ]
  },
  {
   "cell_type": "markdown",
   "id": "e7159c69",
   "metadata": {},
   "source": [
    "💡 ヒント\n",
    "\n",
    "`len()` は **\"length\"（長さ）** の略です。  \n",
    "文字列の「中にある文字の数」を調べたいときに、よく使われる関数です。\n",
    "\n",
    "引用符はあくまで **文字列を囲むためのもの** なので、長さには含まれません。\n",
    "\n"
   ]
  },
  {
   "cell_type": "markdown",
   "metadata": {},
   "source": [
    "### 🕳️ 空文字列とは？\n",
    "\n",
    "文字列の中には、**まったく何も含まれていない特別な文字列**もあります。  \n",
    "これを **空文字列（からもじれつ）** と呼びます。\n",
    "\n",
    "\n",
    "\n",
    "空文字列は、次のように **引用符だけ** で表されます：\n",
    "\n",
    "```python\n",
    "\"\"\n",
    "```\n",
    "\n",
    "この文字列には、**文字・スペース・記号などが一切含まれていません。**  \n",
    "そのため、長さは `0` になります。\n",
    "\n",
    "\n",
    "\n",
    "次のコードでは、`shortest_string` という変数に空文字列を代入しています。  \n",
    "その後、\n",
    "\n",
    "* `type()` でデータ型を確認\n",
    "* `len()` で文字数（長さ）を確認\n",
    "\n",
    "してみましょう。\n"
   ]
  },
  {
   "cell_type": "code",
   "execution_count": null,
   "metadata": {},
   "outputs": [],
   "source": [
    "\n",
    "shortest_string = \"\"\n",
    "\n",
    "print(type(shortest_string))\n",
    "print(len(shortest_string))\n"
   ]
  },
  {
   "cell_type": "markdown",
   "id": "2d1c8d97",
   "metadata": {},
   "source": [
    "💡 ヒント\n",
    "\n",
    "空文字列は、`\"\"` という見た目通り、何も含まれていません。  \n",
    "出力しても何も表示されませんが、**れっきとした文字列（`str` 型）のデータ**です。\n",
    "\n",
    "`len()` の結果が `0` であれば、**空であることのサイン**になります。\n",
    "\n"
   ]
  },
  {
   "cell_type": "markdown",
   "metadata": {
    "papermill": {
     "duration": 0.019971,
     "end_time": "2022-03-09T16:10:00.239548",
     "exception": false,
     "start_time": "2022-03-09T16:10:00.219577",
     "status": "completed"
    },
    "tags": []
   },
   "source": [
    "### 🔠 引用符で囲むと文字列になります\n",
    "\n",
    "数字のように見える値でも、**引用符（`\"` や `'`）で囲むと文字列（`str`）として扱われます。**\n",
    "\n",
    "\n",
    "\n",
    "たとえば：\n",
    "\n",
    "* `1.12321` → 小数（`float` 型）\n",
    "* `\"1.12321\"` → **文字列（`str` 型）**\n",
    "\n",
    "\n",
    "\n",
    "次のコードでは、文字列 `\"1.12321\"` を変数 `my_number` に代入しています。  \n",
    "その後、\n",
    "\n",
    "* `print()` で内容を表示\n",
    "* `type()` でデータ型を確認\n",
    "\n",
    "してみましょう。\n",
    "\n",
    "\n"
   ]
  },
  {
   "cell_type": "code",
   "execution_count": null,
   "metadata": {
    "execution": {
     "iopub.execute_input": "2022-03-09T16:10:00.285113Z",
     "iopub.status.busy": "2022-03-09T16:10:00.284389Z",
     "iopub.status.idle": "2022-03-09T16:10:00.287927Z",
     "shell.execute_reply": "2022-03-09T16:10:00.287466Z",
     "shell.execute_reply.started": "2022-02-15T23:05:59.192161Z"
    },
    "papermill": {
     "duration": 0.028361,
     "end_time": "2022-03-09T16:10:00.288061",
     "exception": false,
     "start_time": "2022-03-09T16:10:00.259700",
     "status": "completed"
    },
    "tags": []
   },
   "outputs": [],
   "source": [
    "\n",
    "my_number = \"1.12321\"\n",
    "\n",
    "print(my_number)\n",
    "print(type(my_number))\n"
   ]
  },
  {
   "cell_type": "markdown",
   "id": "67dd968e",
   "metadata": {},
   "source": [
    "💡 ヒント\n",
    "\n",
    "`\"1.12321\"` は見た目こそ数値のようですが、実際には「**文字の並び**」です。  \n",
    "この状態では、**計算はできません。**\n",
    "\n",
    "計算を行いたい場合は、**文字列を数値に変換**する必要があります。  \n",
    "（この内容は次のチュートリアルで学びます）\n",
    "\n",
    "\n"
   ]
  },
  {
   "cell_type": "markdown",
   "metadata": {
    "papermill": {
     "duration": 0.02062,
     "end_time": "2022-03-09T16:10:00.329315",
     "exception": false,
     "start_time": "2022-03-09T16:10:00.308695",
     "status": "completed"
    },
    "tags": []
   },
   "source": [
    "### 🔄 文字列を数値（`float`）に変換するには？\n",
    "\n",
    "見た目が数字のように見える**文字列**でも、そのままでは計算に使うことはできません。  \n",
    "しかし、**中身が実際に数値であれば、`float()` を使って数値（小数）に変換**することができます。\n",
    "\n",
    "\n",
    "\n",
    "たとえば：\n",
    "\n",
    "* `\"3\"` → `float(\"3\")` → `3.0`（✅ 変換できる）\n",
    "* `\"10.43430\"` → `float(\"10.43430\")` → `10.4343`（✅ 変換できる）\n",
    "* `\"Hello, Python!\"` → ❌ **エラー（変換できない）**\n",
    "\n",
    "\n",
    "\n",
    "次のコードでは、前のセクションで使った文字列変数 `my_number` を  \n",
    "`float()` 関数で数値に変換し、変数 `also_my_number` に代入しています。\n",
    "\n"
   ]
  },
  {
   "cell_type": "code",
   "execution_count": null,
   "metadata": {
    "execution": {
     "iopub.execute_input": "2022-03-09T16:10:00.373098Z",
     "iopub.status.busy": "2022-03-09T16:10:00.372513Z",
     "iopub.status.idle": "2022-03-09T16:10:00.376676Z",
     "shell.execute_reply": "2022-03-09T16:10:00.377207Z",
     "shell.execute_reply.started": "2022-02-15T21:29:19.806406Z"
    },
    "papermill": {
     "duration": 0.02765,
     "end_time": "2022-03-09T16:10:00.377388",
     "exception": false,
     "start_time": "2022-03-09T16:10:00.349738",
     "status": "completed"
    },
    "tags": []
   },
   "outputs": [],
   "source": [
    "\n",
    "\n",
    "also_my_number = float(my_number)\n",
    "\n",
    "print(also_my_number)\n",
    "print(type(also_my_number))\n"
   ]
  },
  {
   "cell_type": "markdown",
   "id": "62ea5e32",
   "metadata": {},
   "source": [
    "💡 ヒント\n",
    "\n",
    "`float()` は、**文字列の中身が「有効な数値」の場合にのみ使えます。**\n",
    "\n",
    "たとえば `\"123\"` や `\"3.14\"` のような文字列は変換できますが、  \n",
    "`\"Python\"` や `\"abc\"` などを変換しようとすると **エラーになります。**\n",
    "\n",
    "実際のプログラムでは、**変換前に中身をチェック**したり、エラーに備えた処理（**例外処理**）を行うことが一般的です。\n",
    "\n"
   ]
  },
  {
   "cell_type": "markdown",
   "metadata": {
    "papermill": {
     "duration": 0.020416,
     "end_time": "2022-03-09T16:10:00.418665",
     "exception": false,
     "start_time": "2022-03-09T16:10:00.398249",
     "status": "completed"
    },
    "tags": []
   },
   "source": [
    "### ➕ 文字列にも `+` が使えます（結合）\n",
    "\n",
    "数値に `+` を使うと「足し算」になりますが、  \n",
    "**文字列に `+` を使うと、「つなげる（結合する）」という意味になります。**\n",
    "\n",
    "\n",
    "\n",
    "たとえば：\n",
    "\n",
    "* `\"abc\" + \"def\"` → `\"abcdef\"`（文字がつながる）\n",
    "* `\"Hello, \" + \"Python!\"` → `\"Hello, Python!\"`\n",
    "\n",
    "\n",
    "\n",
    "次のコードでは、文字列 `\"abc\"` と `\"def\"` を `+` でつなげ、  \n",
    "**変数 `new_string` に代入**しています。\n"
   ]
  },
  {
   "cell_type": "code",
   "execution_count": null,
   "metadata": {
    "execution": {
     "iopub.execute_input": "2022-03-09T16:10:00.463041Z",
     "iopub.status.busy": "2022-03-09T16:10:00.462434Z",
     "iopub.status.idle": "2022-03-09T16:10:00.466303Z",
     "shell.execute_reply": "2022-03-09T16:10:00.466796Z",
     "shell.execute_reply.started": "2022-02-15T21:31:12.494413Z"
    },
    "papermill": {
     "duration": 0.027663,
     "end_time": "2022-03-09T16:10:00.466961",
     "exception": false,
     "start_time": "2022-03-09T16:10:00.439298",
     "status": "completed"
    },
    "tags": []
   },
   "outputs": [],
   "source": [
    "\n",
    "\n",
    "new_string = \"abc\" + \"def\"\n",
    "\n",
    "print(new_string)\n",
    "print(type(new_string))\n",
    "\n"
   ]
  },
  {
   "cell_type": "markdown",
   "id": "51e5d339",
   "metadata": {},
   "source": [
    "💡 ヒント\n",
    "\n",
    "この操作は、**名前やメッセージを作るときにとてもよく使われます。**\n",
    "\n",
    "たとえば：\n",
    "\n",
    "* 入力された名前と敬称をつなげて「○○さん」と表示する  \n",
    "* `\"エラー：\" + エラーメッセージ` のように、動的に表示を作る\n",
    "\n",
    "\n",
    "\n",
    "「**文字列を組み合わせて、意味のある文を作る**」という感覚はとても大切です。  \n",
    "これができるようになると、入力フォームの出力やユーザー向けの表示など、  \n",
    "**実用的な場面**で活かせるようになります。\n",
    "\n",
    "\n"
   ]
  },
  {
   "cell_type": "markdown",
   "metadata": {
    "papermill": {
     "duration": 0.020644,
     "end_time": "2022-03-09T16:10:00.508611",
     "exception": false,
     "start_time": "2022-03-09T16:10:00.487967",
     "status": "completed"
    },
    "tags": []
   },
   "source": [
    "### ✖️ 文字列と整数の掛け算で繰り返しができます\n",
    "\n",
    "Python では、**文字列どうしの引き算（`\"abc\" - \"def\"`）や割り算（`\"abc\" / \"def\"`）はできません。**  \n",
    "こういった操作は意味がないため、**エラーになります。**\n",
    "\n",
    "\n",
    "\n",
    "しかし、**文字列 × 整数** のような形は OK です。  \n",
    "たとえば、`\"abc\" * 3` のように書くと、  \n",
    "**文字列が指定した回数だけ繰り返された新しい文字列**が作られます。\n",
    "\n",
    "\n",
    "\n",
    "次のコードでは、文字列 `\"abc\"` を **3回繰り返した結果**を  \n",
    "変数 `newest_string` に代入しています。\n"
   ]
  },
  {
   "cell_type": "code",
   "execution_count": null,
   "metadata": {
    "execution": {
     "iopub.execute_input": "2022-03-09T16:10:00.556322Z",
     "iopub.status.busy": "2022-03-09T16:10:00.555439Z",
     "iopub.status.idle": "2022-03-09T16:10:00.563268Z",
     "shell.execute_reply": "2022-03-09T16:10:00.564167Z",
     "shell.execute_reply.started": "2022-02-15T21:32:49.916205Z"
    },
    "papermill": {
     "duration": 0.034794,
     "end_time": "2022-03-09T16:10:00.564445",
     "exception": false,
     "start_time": "2022-03-09T16:10:00.529651",
     "status": "completed"
    },
    "tags": []
   },
   "outputs": [],
   "source": [
    "\n",
    "newest_string = \"abc\" * 3\n",
    "\n",
    "print(newest_string)\n",
    "print(type(newest_string))\n"
   ]
  },
  {
   "cell_type": "markdown",
   "id": "8a99f55a",
   "metadata": {},
   "source": [
    "💡 ヒント\n",
    "\n",
    "`\"abc\" * 3` の結果は次のとおりです：\n",
    "\n",
    "```\n",
    "abcabcabc\n",
    "<class 'str'>\n",
    "```\n",
    "\n",
    "\n",
    "\n",
    "このような操作は、次のような場面で便利です：\n",
    "\n",
    "* 区切り線の作成：`\"-\" * 10` → `\"----------\"`\n",
    "* ヘッダーや目印の装飾：`\"★\" * 5` → `\"★★★★★\"`\n",
    "\n",
    "\n",
    "\n",
    "**文字列をパターン化して生成したいときに、とても実用的なテクニック**です。\n",
    "\n",
    "\n"
   ]
  },
  {
   "cell_type": "markdown",
   "id": "3e439c11",
   "metadata": {},
   "source": [
    "### 🚫 文字列には **整数だけ** を掛けられます\n",
    "\n",
    "前の例では、`\"abc\" * 3` のように、  \n",
    "文字列 × 整数（`int`）で繰り返し文字列を作ることができました。\n",
    "\n",
    "\n",
    "\n",
    "では、小数（`float`）を使ったらどうなるでしょうか？"
   ]
  },
  {
   "cell_type": "code",
   "execution_count": null,
   "metadata": {
    "execution": {
     "iopub.execute_input": "2022-03-09T16:10:00.678273Z",
     "iopub.status.busy": "2022-03-09T16:10:00.677620Z",
     "iopub.status.idle": "2022-03-09T16:10:00.739968Z",
     "shell.execute_reply": "2022-03-09T16:10:00.739374Z",
     "shell.execute_reply.started": "2022-02-15T21:35:52.378803Z"
    },
    "papermill": {
     "duration": 0.092699,
     "end_time": "2022-03-09T16:10:00.740109",
     "exception": false,
     "start_time": "2022-03-09T16:10:00.647410",
     "status": "completed"
    },
    "tags": []
   },
   "outputs": [],
   "source": [
    "#✅ コード（エラーが出る例）\n",
    "\n",
    "will_not_work = \"abc\" * 3.\n"
   ]
  },
  {
   "cell_type": "markdown",
   "id": "68853371",
   "metadata": {},
   "source": [
    "このコードは **エラーになります。**  \n",
    "なぜなら、文字列に掛けられるのは「**整数（`int`）だけ**」だからです。\n",
    "\n",
    "\n",
    "\n",
    "エラーメッセージには、次のような文が出てくるかもしれません：\n",
    "\n",
    "```\n",
    "can't multiply sequence by non-int of type 'float'\n",
    "```\n",
    "\n",
    "このメッセージを分解すると：\n",
    "\n",
    "* `sequence` → `\"abc\"` のような文字列のこと\n",
    "* `non-int of type 'float'` → `3.` のような小数のこと\n",
    "\n",
    "👉 つまり、「**文字列に小数（`float`）は掛けられません**」という意味です。\n",
    "\n",
    "\n",
    "\n",
    "💡 ヒント\n",
    "\n",
    "このように、**エラーが出たときには「どこが悪いのか」をメッセージから読み取る**ことが大切です。  \n",
    "今回のようなエラーは、**データ型（`int` と `float`）の違いに気づく良いチャンス**でもあります。\n",
    "\n",
    "\n"
   ]
  },
  {
   "cell_type": "markdown",
   "id": "e7ff4acd",
   "metadata": {},
   "source": [
    "## 🧾 このページのまとめ\n",
    "\n",
    "ここまでで、Python のさまざまな **データ型（data types）** について学びました。\n",
    "\n",
    "\n",
    "\n",
    "学んだ内容のハイライトはこちらです：\n",
    "\n",
    "* `int`（整数）と `float`（小数）の違い\n",
    "* `bool`（`True` / `False`）の意味と使い方\n",
    "* `str`（文字列）の操作、**結合**や**繰り返し**\n",
    "* 型の確認（`type()`）や長さの取得（`len()`）\n",
    "* **型によってできること・できないこと**\n",
    "  （例：文字列 × 小数 → ❌ エラー）\n",
    "\n",
    "\n",
    "\n",
    "これらの基礎を理解しておくことで、  \n",
    "**変数・条件文・ループなど、今後の重要なトピックを学ぶための土台**ができます。\n",
    "\n",
    "\n",
    "\n",
    "### 🚀 次は演習へ進みましょう！\n",
    "\n",
    "実際にコードを書いて試してみることで、理解がさらに深まります。\n",
    "\n",
    "👉 [**データ型の演習（ex3.ipynb）**](./ex3.ipynb)\n",
    "\n",
    "\n"
   ]
  },
  {
   "cell_type": "markdown",
   "id": "e801963c",
   "metadata": {},
   "source": []
  }
 ],
 "metadata": {
  "kernelspec": {
   "display_name": "Python 3",
   "language": "python",
   "name": "python3"
  },
  "language_info": {
   "codemirror_mode": {
    "name": "ipython",
    "version": 3
   },
   "file_extension": ".py",
   "mimetype": "text/x-python",
   "name": "python",
   "nbconvert_exporter": "python",
   "pygments_lexer": "ipython3",
   "version": "3.6.5"
  },
  "papermill": {
   "default_parameters": {},
   "duration": 11.007094,
   "end_time": "2022-03-09T16:10:01.414614",
   "environment_variables": {},
   "exception": null,
   "input_path": "__notebook__.ipynb",
   "output_path": "__notebook__.ipynb",
   "parameters": {},
   "start_time": "2022-03-09T16:09:50.407520",
   "version": "2.3.3"
  }
 },
 "nbformat": 4,
 "nbformat_minor": 5
}
