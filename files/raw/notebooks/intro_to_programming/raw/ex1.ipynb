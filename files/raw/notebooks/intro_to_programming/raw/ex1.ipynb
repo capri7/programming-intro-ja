{
 "cells": [
  {
   "cell_type": "markdown",
   "metadata": {},
   "source": [
    "この演習では、まずはコードを自分の手で書いていきましょう。\n",
    "\n",
    "# ノートブックのセットアップ\n",
    "\n",
    "最初に、以下のセルを実行して、環境をセットアップします。\n",
    "\n",
    "- まず最初に、コードセルの中をクリックしてください。\n",
    "- **Shift + Enter** を同時に押すと、コードが実行されます。  \n",
    "- または、セル左上にある ▶️ ボタン（再生マーク）をクリックして実行することもできます。\n",
    "- 正しく実行されると、セルの下に `Setup Complete` と表示されます。\n",
    "\n",
    "\n",
    "## Pyodide環境の準備\n",
    "\n",
    "- 実行前に、メニューから `Kernel → Restart Kernel and Clear Outputs of All Cells` をクリックすると、出力をきれいにリセットできます。\n",
    "- セルは何度でも実行して構いません。内容に変更があっても、再実行することで反映されます。\n",
    "\n",
    "\n",
    "この演習では、あなた自身でコードを実行することから始めていきます。\n",
    "\n",
    "さっそく試してみましょう！  \n"
   ]
  },
  {
   "cell_type": "code",
   "execution_count": null,
   "metadata": {},
   "outputs": [],
   "source": [
    "# learntoolsのインポート（whl を先に）\n",
    "import micropip\n",
    "await micropip.install(\"https://capri7.github.io/programming-intro-ja/files/raw/packages/learntools-0.3.5-py3-none-any.whl\")\n",
    "\n",
    "\n"
   ]
  },
  {
   "cell_type": "markdown",
   "metadata": {},
   "source": [
    "## 必要なパッケージのインストール"
   ]
  },
  {
   "cell_type": "code",
   "execution_count": null,
   "metadata": {},
   "outputs": [],
   "source": [
    "#  標準ライブラリのインストール（numpy, pandas など）\n",
    "await micropip.install([\"numpy\", \"pandas\", \"matplotlib\"])\n",
    "\n",
    "# グローバルバインド\n",
    "from learntools.core import binder\n",
    "binder.bind(globals())\n",
    "print(\"✅ Setup complete\")\n"
   ]
  },
  {
   "cell_type": "markdown",
   "metadata": {},
   "source": [
    "## 演習モジュールのインポート"
   ]
  },
  {
   "cell_type": "code",
   "execution_count": null,
   "metadata": {},
   "outputs": [],
   "source": [
    "# learntools の読み込み\n",
    "from learntools.intro_to_programming.ex1 import *"
   ]
  },
  {
   "cell_type": "markdown",
   "metadata": {},
   "source": [
    "このコードは、演習問題（ex1.py）に含まれるモジュールを読み込んでいます。\n",
    "これにより、q1.check() などの自動チェック機能が使えるようになります。"
   ]
  },
  {
   "cell_type": "code",
   "execution_count": null,
   "metadata": {
    "execution": {
     "iopub.execute_input": "2022-03-07T16:28:06.239649Z",
     "iopub.status.busy": "2022-03-07T16:28:06.238972Z",
     "iopub.status.idle": "2022-03-07T16:28:06.255178Z",
     "shell.execute_reply": "2022-03-07T16:28:06.254152Z",
     "shell.execute_reply.started": "2022-03-07T16:28:06.239613Z"
    }
   },
   "outputs": [],
   "source": [
    "print(\"Hello, world!\")\n",
    "\n",
    "# この行は、あなたの回答を自動でチェックするために使われます。削除しないでください。\n",
    "q1.check()"
   ]
  },
  {
   "cell_type": "markdown",
   "metadata": {},
   "source": [
    "先ほど、`Hello, world!` を出力するコードを実行しましたね。  \n",
    "上の出力欄に表示されていれば、メッセージの出力は成功です。\n",
    "\n",
    "次の行の `q1.check()` は、あなたの解答を自動でチェックするためのものです。  \n",
    "この行は削除せず、そのままにしておいてください。\n",
    "\n",
    "\n",
    "\n",
    "# 質問 2\n",
    "\n",
    "\n",
    "次は、好きなメッセージを出力してみましょう。\n",
    "\n",
    "ダブルクォーテーションで囲まれた `print(\"ここにメッセージを書いてみる\")` の部分を自由に変更して、オリジナルのメッセージを作ってみてください。\n",
    "\n",
    "たとえば、次のように書き換えることができます：\n",
    "\n",
    "- `print(\"おはようございます!\")`\n",
    "- `print(\"私はプログラミングを学んでいます :D\")`\n",
    "\n",
    "\n",
    "また、`print(\"3+4\")` のように書いた場合、7が表示されるでしょうか？  \n",
    "それとも `\"3+4\"` という文字列がそのまま表示されるでしょうか？  \n",
    "ぜひ実際に試して、動作を確かめてみてください。\n",
    "\n",
    "\n",
    "メッセージは必ずダブルクォーテーション（`\"`）で囲んで記述してください。  \n",
    "また、**メッセージの中にダブルクォーテーションを直接含めないように注意**が必要です。\n",
    "\n",
    "\n",
    "たとえば、次のようなコードはエラーになります：\n",
    "\n",
    "`print(\"先生は \"すごい！\" と言ってくれました\")`\n",
    "\n",
    "\n",
    "このように、メッセージの中に `\"` をそのまま書くと、  \n",
    "Python がどこまでが文字列なのかを正しく判断できず、**構文エラー**になってしまいます。\n",
    "\n",
    "\n",
    "こうしたケースへの正しい対処法は、後ほど詳しく学びます。  \n",
    "まずは、シンプルなメッセージでいろいろ試してみましょう！\n",
    "\n"
   ]
  },
  {
   "cell_type": "code",
   "execution_count": null,
   "metadata": {
    "execution": {
     "iopub.execute_input": "2022-03-07T16:28:06.256864Z",
     "iopub.status.busy": "2022-03-07T16:28:06.256639Z",
     "iopub.status.idle": "2022-03-07T16:28:06.269714Z",
     "shell.execute_reply": "2022-03-07T16:28:06.268692Z",
     "shell.execute_reply.started": "2022-03-07T16:28:06.256837Z"
    }
   },
   "outputs": [],
   "source": [
    "# TODO: ダブルクォーテーション内のメッセージを書き換えてみましょう\n",
    "print(\"ここにメッセージを書いてみる\")\n",
    "\n",
    "# この行は、あなたの回答を自動でチェックするために使われます。削除しないでください。\n",
    "q2.check()\n"
   ]
  },
  {
   "cell_type": "markdown",
   "metadata": {},
   "source": [
    "# 質問 3\n",
    "チュートリアルでも学びましたが、Pythonでコメントを書くには、行の先頭にシャープ記号（`#`）を付けます。\n",
    "Python はこの `#` 以降のテキストを コードとして実行せず、無視します。\n",
    "\n",
    "たとえば、次のように`#`を付けたコードはスキップされ、実行結果には何も表示されません：\n",
    "\n",
    "\n",
    "```python\n",
    "#print(1+2)\n",
    "```\n",
    "\n",
    "\n",
    "この`#`を取り除けば、その行は再び実行されるようになります。\n",
    "このように、コメントにしたコードを元に戻すことを 「**コメントアウトを解除する**（uncomment）」 と呼びます。\n",
    "\n",
    "\n",
    "\n",
    "\n",
    "この問題では、以下のコードセルで 2つの行のコメントアウトを解除し、ヒントや解答を確認してみましょう：\n",
    "\n",
    "- q3.hint() の # を削除すると、ヒントが表示されます\n",
    "\n",
    "- q3.solution() の # を削除すると、解答を見ることができます\n",
    "\n",
    "📌 注意：この下にある q3.check() の行は変更しないでください。\n",
    "これはあなたの解答を自動でチェックするために使われます。\n"
   ]
  },
  {
   "cell_type": "code",
   "execution_count": null,
   "metadata": {
    "execution": {
     "iopub.execute_input": "2022-03-07T16:28:06.271757Z",
     "iopub.status.busy": "2022-03-07T16:28:06.27099Z",
     "iopub.status.idle": "2022-03-07T16:28:06.283354Z",
     "shell.execute_reply": "2022-03-07T16:28:06.282642Z",
     "shell.execute_reply.started": "2022-03-07T16:28:06.271713Z"
    }
   },
   "outputs": [],
   "source": [
    "# 🔍 ヒントを表示したい場合は、下の行の # を削除してください\n",
    "# q3.hint()\n",
    "\n",
    "# ✅ 解答を確認したい場合は、下の行の # を削除してください\n",
    "# q3.solution()\n",
    "\n",
    "# 🚫 この行は削除しないでください：あなたの解答を自動でチェックするためのコードです\n",
    "q3.check()"
   ]
  },
  {
   "cell_type": "markdown",
   "metadata": {},
   "source": [
    "次の質問以降、そしてこのコースの多くの演習では、ヒントや解答を表示したいときにコメントアウトを解除する仕組みになっています。\n",
    "\n",
    "コメントアウトの操作に慣れてきたら、次の質問に進んでみましょう。"
   ]
  },
  {
   "cell_type": "markdown",
   "metadata": {},
   "source": [
    "# 質問 4\n",
    "\n",
    "チュートリアルでは、1年間の合計秒数を計算するために、いくつかの変数を定義しました。\n",
    "ここでも、次のコードセルを実行して、同じ計算を行ってみましょう。\n",
    "\n",
    "- num_years: 年数（今回は 4年間）\n",
    "- `days_per_year`: 1年あたりの日数（うるう年を考慮しない場合）\n",
    "- `hours_per_day`: 1日あたりの時間（時間数）\n",
    "- `mins_per_hour`: 1時間あたりの分数\n",
    "- `secs_per_min`: 1分あたりの秒数\n",
    "- `total_secs`: 合計秒数\n",
    "\n"
   ]
  },
  {
   "cell_type": "code",
   "execution_count": null,
   "metadata": {
    "execution": {
     "iopub.execute_input": "2022-03-07T16:37:38.513786Z",
     "iopub.status.busy": "2022-03-07T16:37:38.512582Z",
     "iopub.status.idle": "2022-03-07T16:37:38.521019Z",
     "shell.execute_reply": "2022-03-07T16:37:38.519417Z",
     "shell.execute_reply.started": "2022-03-07T16:37:38.513735Z"
    }
   },
   "outputs": [],
   "source": [
    "# 計算に使う各変数を定義する（それぞれの時間単位の関係）\n",
    "num_years = 4              # 年数\n",
    "days_per_year = 365        # 1年の日数（うるう年は考慮しない）\n",
    "hours_per_day = 24         # 1日の時間数\n",
    "mins_per_hour = 60         # 1時間の分数\n",
    "secs_per_min = 60          # 1分の秒数\n",
    "\n",
    "# すべての変数を使って、4年間の合計秒数を計算する\n",
    "total_secs = secs_per_min * mins_per_hour * hours_per_day * days_per_year * num_years\n",
    "print(total_secs)\n"
   ]
  },
  {
   "cell_type": "markdown",
   "metadata": {},
   "source": [
    "次のコードセルでは、以下の2つの変数を定義してみましょう。\n",
    "\n",
    "- births_per_min：1分あたりに生まれる赤ちゃんの数（250で設定）\n",
    "- births_per_day：1日に生まれる赤ちゃんの数（births_per_minと前に使った時間関連の変数を使って計算）\n",
    "\n",
    "※ per は「〜あたり」を意味します。\n",
    "ヒントが必要な場合は、いつでも q5.hint() を使って確認できます。\n"
   ]
  },
  {
   "cell_type": "code",
   "execution_count": null,
   "metadata": {},
   "outputs": [],
   "source": [
    "# TODO:1分あたりの出生数を設定（250人）\n",
    "births_per_min = ____\n",
    "\n",
    "# TODO:1日あたりの出生数を計算（他の変数とbirths_per_minを使う）\n",
    "births_per_day = ____\n",
    "\n",
    "# DO NOT REMOVE（この行は削除しないでください）：解答チェック用コード\n",
    "q4.check()\n"
   ]
  },
  {
   "cell_type": "code",
   "execution_count": null,
   "metadata": {},
   "outputs": [],
   "source": [
    "#%%RM_IF(PROD)%%　（開発者向け：本番環境では非表示）\n",
    "\n",
    "# births_per_min変数に値を代入する\n",
    "births_per_min = 250\n",
    "\n",
    "# births_per_day変数に値を代入する\n",
    "births_per_day = births_per_min * mins_per_hour * hours_per_day\n",
    "\n",
    "q4.assert_check_passed()\n"
   ]
  },
  {
   "cell_type": "code",
   "execution_count": null,
   "metadata": {},
   "outputs": [],
   "source": [
    "# ヒントを表示するには、コメントアウトを解除してください\n",
    "# q4.hint()\n",
    "\n",
    "# 解答を表示するには、コメントアウトを解除してください\n",
    "# q4.solution()"
   ]
  },
  {
   "cell_type": "markdown",
   "metadata": {},
   "source": [
    "# 🌶️ 質問 5\n",
    "\n",
    "（🌶️ マークが付いている質問は、他の問題より少し難しくなっています！  \n",
    "ヒントを表示したり、解答を見ることもできるので、安心してチャレンジしてください。）\n",
    "\n",
    "[Titanic コンペティション](https://www.kaggle.com/c/titanic) は、Kaggleで最も有名なデータサイエンスのコンペティションです。  \n",
    "参加者は、年齢・性別・家族の人数・チケット番号などの情報をもとに、**乗客がタイタニック号の沈没事故で生存したかどうか**を予測するモデルを作成します。\n",
    "\n",
    "このようなコンペに本格的に参加するためには、**機械学習の知識が必要**です。  \n",
    "この段階ではまだ機械学習の詳細は学んでいないので、ここではデータの中身を見ながら、**データ分析の基本的な考え方**を学習しましょう。\n",
    "\n",
    "\n",
    "次のコードセルは、**そのまま実行してください（変更しなくて大丈夫です）**。  \n",
    "これにより、Titanicのデータを読み込み、中身を確認できるようになります。\n",
    "\n",
    "コードの詳しい内容は、今はまだ気にしなくてかまいません。  \n",
    "このセルの目的は、Titanicの全データを `titanic_data` という変数に読み込むことです。\n",
    "\n",
    "このようなコードを自分で書けるようになりたい場合は、まずは **Pythonコース**、その後に **Pandasコース** を受講するのがおすすめです。\n"
   ]
  },
  {
   "cell_type": "code",
   "execution_count": null,
   "metadata": {
    "execution": {
     "iopub.execute_input": "2022-03-07T16:28:06.286036Z",
     "iopub.status.busy": "2022-03-07T16:28:06.285459Z",
     "iopub.status.idle": "2022-03-07T16:28:06.33623Z",
     "shell.execute_reply": "2022-03-07T16:28:06.335335Z",
     "shell.execute_reply.started": "2022-03-07T16:28:06.28599Z"
    }
   },
   "outputs": [],
   "source": [
    "# Titanicのデータを読み込む\n",
    "import pandas as pd\n",
    "titanic_data = pd.read_csv(\"../../../data/train.csv\")\n",
    "\n",
    "# データの最初の5行を表示する\n",
    "titanic_data.head()\n"
   ]
  },
  {
   "cell_type": "markdown",
   "metadata": {},
   "source": [
    "このデータでは、**1人の乗客ごとに1行**の情報が記録されています。\n",
    "\n",
    "次のコードセルでは、以下の3つの変数を定義し、その値を表示します：\n",
    "\n",
    "\n",
    "- `total`：船に乗船した乗客の総数  \n",
    "- `survived`：沈没事故で生存した乗客の数  \n",
    "- `minors`：18歳未満の乗客の数\n",
    "\n",
    "\n",
    "このコードセルは **変更せずにそのまま実行してください**。  \n",
    "これらの変数がどのように計算されているかについては、今はまだ気にしなくて大丈夫です。  \n",
    "詳しく学びたい場合は、このコースを終えたあとに、【Pythonコース】→【Pandasコース】の順に進むのがおすすめです。\n"
   ]
  },
  {
   "cell_type": "code",
   "execution_count": null,
   "metadata": {
    "execution": {
     "iopub.execute_input": "2022-03-07T16:28:06.338339Z",
     "iopub.status.busy": "2022-03-07T16:28:06.337591Z",
     "iopub.status.idle": "2022-03-07T16:28:06.349114Z",
     "shell.execute_reply": "2022-03-07T16:28:06.34824Z",
     "shell.execute_reply.started": "2022-03-07T16:28:06.338274Z"
    }
   },
   "outputs": [],
   "source": [
    "# 乗客の総数\n",
    "total = len(titanic_data)\n",
    "print(total)\n",
    "\n",
    "# 生存した乗客の数\n",
    "survived = (titanic_data.Survived == 1).sum()\n",
    "print(survived)\n",
    "\n",
    "# 18歳未満の乗客の数\n",
    "minors = (titanic_data.Age < 18).sum()\n",
    "print(minors)\n"
   ]
  },
  {
   "cell_type": "markdown",
   "metadata": {},
   "source": [
    "- total = 891（乗船していた乗客の総数は 891 人）\n",
    "- survived = 342（生存した乗客の数は 342 人）\n",
    "- minors = 113（18歳未満の乗客は 113 人）\n",
    "\n",
    "\n",
    "次のコードセルでは、下線（`____`）の部分を適切なコードに置き換えて、以下の2つの変数の値を計算してください：\n",
    "\n",
    "\n",
    "- `survived_fraction`：**タイタニック号の沈没事故で生存した乗客の割合**\n",
    "- `minors_fraction`：**18歳未満の乗客の割合**\n",
    "\n",
    "\n",
    "それぞれの変数の値は、**0から1の間の数値**（割合）になるはずです。\n",
    "ヒントを見たい場合や、解答を確認したい場合は、次のコードセルに進んで、対応する行（`q5.hint()` や `q5.solution()`）のコメントアウトを解除してください。"
   ]
  },
  {
   "cell_type": "code",
   "execution_count": null,
   "metadata": {
    "execution": {
     "iopub.execute_input": "2022-03-07T16:28:06.351356Z",
     "iopub.status.busy": "2022-03-07T16:28:06.350452Z",
     "iopub.status.idle": "2022-03-07T16:28:06.368409Z",
     "shell.execute_reply": "2022-03-07T16:28:06.367516Z",
     "shell.execute_reply.started": "2022-03-07T16:28:06.351309Z"
    }
   },
   "outputs": [],
   "source": [
    "# TODO: survived_fraction変数の値を計算して入力する\n",
    "survived_fraction = ____ \n",
    "\n",
    "# 変数の値を表示する\n",
    "print(survived_fraction)\n",
    "\n",
    "# TODO: minors_fraction変数の値を計算して入力する\n",
    "minors_fraction = ____ \n",
    "\n",
    "# 変数の値を表示する\n",
    "print(minors_fraction)\n",
    "\n",
    "# DO NOT REMOVE（絶対に削除しないでください）：あなたの解答を確認するためのコードです\n",
    "q5.check()\n"
   ]
  },
  {
   "cell_type": "code",
   "execution_count": null,
   "metadata": {},
   "outputs": [],
   "source": [
    "# survived_fraction変数の値を計算して入力する \n",
    "survived_fraction = survived/total\n",
    "\n",
    "# survived_fraction変数の値を表示する\n",
    "print(survived_fraction)\n",
    "\n",
    "# minors_fraction変数の値を計算して入力する\n",
    "minors_fraction = minors/total \n",
    "\n",
    "# minors_fraction変数の値を表示する\n",
    "print(minors_fraction)\n",
    "\n",
    "q5.assert_check_passed()\n"
   ]
  },
  {
   "cell_type": "code",
   "execution_count": null,
   "metadata": {
    "execution": {
     "iopub.execute_input": "2022-03-07T16:28:06.370336Z",
     "iopub.status.busy": "2022-03-07T16:28:06.369996Z",
     "iopub.status.idle": "2022-03-07T16:28:06.381485Z",
     "shell.execute_reply": "2022-03-07T16:28:06.380759Z",
     "shell.execute_reply.started": "2022-03-07T16:28:06.370265Z"
    }
   },
   "outputs": [],
   "source": [
    "# ヒントを表示するには、コメントアウトを解除してください\n",
    "q5.hint()\n",
    "\n",
    "# 解答を表示するには、コメントアウトを解除してください\n",
    "q5.solution()\n"
   ]
  },
  {
   "cell_type": "markdown",
   "metadata": {},
   "source": [
    "# 次のステップへ\n",
    "\n",
    "ここまでの演習を通して、変数の定義や四則演算、コメントの使い方など、Pythonの基本的な使い方を体験してきました。コードの意味をひとつひとつ確認しながら書くことで、プログラミングの基礎に少しずつ慣れてきたのではないでしょうか。\n",
    "\n",
    "\n",
    "## 🧩 次のステップ：関数とは?\n",
    "\n",
    "このあとのレッスンでは、プログラミングにおいて、とても重要な**関数**（function）を学びます。関数とは、よく使う処理や一連の手順を「ひとまとまり」にして、何度でも呼び出せるようにする**仕組み**のことです。\n",
    "\n",
    "たとえば、次のような場面で使われます：\n",
    "\n",
    "\n",
    "- `print()` のように、「文字を表示する」処理を何度も再利用したいとき\n",
    "- データを読み込む・計算する・まとめるといった複数の処理を、1つの名前で呼び出したいとき\n",
    "- 同じ処理を何度も書かずに、**コードを効率よく書けるようにしたいとき**\n",
    "\n",
    "\n",
    "## 💡 関数を使うと何ができる？\n",
    "\n",
    "- 自分で関数を作って、**オリジナルの処理を部品化できる**\n",
    "- 他の人が作った関数（ライブラリ）を**正しく活用できる**\n",
    "- 複雑な処理を、**短く・シンプルに表現できる**\n",
    "\n",
    "\n",
    "関数を使えるようになれば、コードの見通しがよくなり、\n",
    "**より実用的なプログラムが書けるようになります。**\n",
    "\n",
    "次のレッスンでは、Pythonの関数を**実際に手を動かしながら**学んでいきましょう。\n",
    "\n",
    "\n",
    "➡️ 次に進む→[**関数の使い方**](./tut2.ipynb)\n"
   ]
  },
  {
   "cell_type": "markdown",
   "metadata": {},
   "source": []
  }
 ],
 "metadata": {
  "kernelspec": {
   "display_name": "jlite-env",
   "language": "python",
   "name": "python3"
  },
  "language_info": {
   "name": "python",
   "version": "3.12.9"
  }
 },
 "nbformat": 4,
 "nbformat_minor": 4
}
