{
 "cells": [
  {
   "cell_type": "markdown",
   "metadata": {},
   "source": [
    "# Pythonのリスト\n",
    "\n",
    "Pythonを含めて、プログラミングではデータを整理し、効率よく扱うスキルが求められます。  \n",
    "Pythonには、リスト、セット、辞書、タプルなど、データを保存するための多様なデータ構造があります。  \n",
    "このチュートリアルでは、その中でも特によく使われる **リスト** の使い方を学んでいきます。\n"
   ]
  },
  {
   "cell_type": "markdown",
   "metadata": {},
   "source": [
    "## Pyodide環境の準備"
   ]
  },
  {
   "cell_type": "code",
   "execution_count": null,
   "metadata": {},
   "outputs": [],
   "source": [
    "import micropip\n",
    "await micropip.install(\"http://127.0.0.1:8000/files/raw/packages/learntools-0.3.5-py3-none-any.whl\")"
   ]
  },
  {
   "cell_type": "markdown",
   "metadata": {},
   "source": [
    "## 必要なパッケージのインストール"
   ]
  },
  {
   "cell_type": "code",
   "execution_count": null,
   "metadata": {},
   "outputs": [],
   "source": [
    "await micropip.install([\"numpy\", \"pandas\", \"matplotlib\"])\n",
    "\n",
    "from learntools.core import binder\n",
    "binder.bind(globals())\n",
    "print(\"✅ Setup complete\")"
   ]
  },
  {
   "cell_type": "markdown",
   "metadata": {},
   "source": [
    "# 🔍 どうして学ぶの？\n",
    "\n",
    "[Petal to the Metal コンペティション](https://www.kaggle.com/c/tpu-getting-started)では、花の画像から品種を判別することを目標にしています。\n",
    "（このような課題は「画像分類」と呼ばれ、コンピュータビジョンでよく使われます。）\n",
    "\n",
    "この目標に向けて、まずはデータに含まれる花の品種名を整理してみましょう。\n",
    "\n",
    "たとえば、品種名を Python の文字列（string）として扱うことで、簡単に管理できます。\n",
    "\n",
    "このチュートリアルでは、以下のような花の名前を使って学習していきます：\n",
    "\n",
    "- pink primrose（サクラソウ）\n",
    "- hard-leaved pocket orchid（硬葉の着生ラン）\n",
    "- canterbury bells（カンタベリー・ベル／ツリガネソウの一種）\n",
    "- sweet pea（スイートピー）\n",
    "- english marigold（イングリッシュ・マリーゴールド／キンセンカ）\n",
    "- tiger lily（オニユリ）\n",
    "- moon orchid（モン・オーキッド／ファレノプシス）\n",
    "- bird of paradise（ゴクラクチョウカ／ストレリチア）\n",
    "- monkshood（トリカブト）\n",
    "- globe thistle（ルリタマアザミ）\n"
   ]
  },
  {
   "cell_type": "code",
   "execution_count": null,
   "metadata": {
    "execution": {
     "iopub.execute_input": "2022-03-24T21:31:51.044889Z",
     "iopub.status.busy": "2022-03-24T21:31:51.044498Z",
     "iopub.status.idle": "2022-03-24T21:31:51.050057Z",
     "shell.execute_reply": "2022-03-24T21:31:51.049088Z",
     "shell.execute_reply.started": "2022-03-24T21:31:51.044768Z"
    }
   },
   "outputs": [],
   "source": [
    "flowers = \"pink primrose,hard-leaved pocket orchid,canterbury bells,sweet pea,english marigold,tiger lily,moon orchid,bird of paradise,monkshood,globe thistle\"\n",
    "\n",
    "print(type(flowers))\n",
    "print(flowers)"
   ]
  },
  {
   "cell_type": "markdown",
   "metadata": {},
   "source": [
    "この情報を Python のリストとして表現できれば、さらに便利になります。  \n",
    "リストを作成するには、角かっこ（`[`, `]`）を使い、各項目をカンマで区切ります。  \n",
    "リスト内の各要素は Python の文字列なので、すべて **引用符**（クォーテーション）で囲む必要があります。\n"
   ]
  },
  {
   "cell_type": "code",
   "execution_count": null,
   "metadata": {
    "execution": {
     "iopub.execute_input": "2022-03-24T21:31:51.060001Z",
     "iopub.status.busy": "2022-03-24T21:31:51.059179Z",
     "iopub.status.idle": "2022-03-24T21:31:51.065429Z",
     "shell.execute_reply": "2022-03-24T21:31:51.064597Z",
     "shell.execute_reply.started": "2022-03-24T21:31:51.059967Z"
    }
   },
   "outputs": [],
   "source": [
    "flowers_list = [\"pink primrose\", \"hard-leaved pocket orchid\", \"canterbury bells\", \"sweet pea\", \"english marigold\", \"tiger lily\", \"moon orchid\", \"bird of paradise\", \"monkshood\", \"globe thistle\"]\n",
    "\n",
    "print(type(flowers_list))\n",
    "print(flowers_list)"
   ]
  },
  {
   "cell_type": "markdown",
   "metadata": {},
   "source": [
    "一見すると、データを Python の文字列で表すかリストで表すかに、それほど違いはないように見えるかもしれません。  \n",
    "しかし実際には、リストを使うことで、さまざまな操作をずっと簡単に行うことができます。たとえば：\n",
    "\n",
    "- 特定の位置（最初、2番目、3番目など）の項目を取り出す  \n",
    "- 全体の項目数を調べる  \n",
    "- 新しい項目を追加したり、不要な項目を削除する\n",
    "\n",
    "\n",
    "# リスト\n",
    "\n",
    "**要素数（長さ）の確認**\n",
    "\n",
    "リストの要素数（エントリの数）を調べるには、`len()` 関数を使います。  \n",
    "`len` は “length”（長さ）の略です。  \n",
    "リスト名をかっこ内に指定するだけで、項目の数を取得できます。\n"
   ]
  },
  {
   "cell_type": "code",
   "execution_count": null,
   "metadata": {
    "execution": {
     "iopub.execute_input": "2022-03-24T21:31:51.074698Z",
     "iopub.status.busy": "2022-03-24T21:31:51.074153Z",
     "iopub.status.idle": "2022-03-24T21:31:51.078971Z",
     "shell.execute_reply": "2022-03-24T21:31:51.078221Z",
     "shell.execute_reply.started": "2022-03-24T21:31:51.074663Z"
    }
   },
   "outputs": [],
   "source": [
    "# リストには10個の項目が含まれています\n",
    "print(len(flowers_list))"
   ]
  },
  {
   "cell_type": "markdown",
   "metadata": {},
   "source": [
    "## インデックス（Indexing）\n",
    "\n",
    "リスト内の特定の項目を、順番（最初・2番目・3番目…）によって参照することができます。  \n",
    "このような操作を **インデックス指定（indexing）** と呼びます。\n",
    "\n",
    "ここで注意が必要なのは、Python では **インデックスが 0 から始まる**（ゼロベース）という点です。つまり：\n",
    "\n",
    "- 最初の要素を取り出すには `0` を使います  \n",
    "- 2番目の要素を取り出すには `1` を使います  \n",
    "- 最後の要素を取り出すには、リストの長さから 1 を引いた値を使います\n"
   ]
  },
  {
   "cell_type": "code",
   "execution_count": null,
   "metadata": {
    "execution": {
     "iopub.execute_input": "2022-03-24T21:31:51.088543Z",
     "iopub.status.busy": "2022-03-24T21:31:51.088041Z",
     "iopub.status.idle": "2022-03-24T21:31:51.093818Z",
     "shell.execute_reply": "2022-03-24T21:31:51.093208Z",
     "shell.execute_reply.started": "2022-03-24T21:31:51.088509Z"
    }
   },
   "outputs": [],
   "source": [
    "print(\"最初の項目:\", flowers_list[0])\n",
    "print(\"2番目の項目:\", flowers_list[1])\n",
    "\n",
    "# リストの長さは10なので、最後の項目にはインデックス9を使います\n",
    "print(\"最後の項目:\", flowers_list[9])\n"
   ]
  },
  {
   "cell_type": "markdown",
   "metadata": {},
   "source": [
    "**補足メモ**：  \n",
    "上のコードセルでは、1つの `print()` で複数の項目（たとえば `\"最初の項目:\"` という文字列と、`flowers_list[0]` のようなリストの値）を表示していることに気づいたかもしれません。  \n",
    "Python では、`print()` にカンマ `,` で区切って複数の値を渡すことで、まとめて出力することができます。\n",
    "\n",
    "## スライス（Slicing）\n",
    "\n",
    "リストの中から、ある範囲の要素をまとめて取り出すこともできます（たとえば、最初の3つや、最後の2つなど）。  \n",
    "この操作は **スライス**（slicing）と呼ばれます。\n",
    "\n",
    "たとえば：\n",
    "\n",
    "- 最初の `x` 個の要素を取り出すには、`[:x]` を使います  \n",
    "- 最後の `y` 個の要素を取り出すには、`[-y:]` を使います\n"
   ]
  },
  {
   "cell_type": "code",
   "execution_count": null,
   "metadata": {
    "execution": {
     "iopub.execute_input": "2022-03-24T21:31:51.101211Z",
     "iopub.status.busy": "2022-03-24T21:31:51.100787Z",
     "iopub.status.idle": "2022-03-24T21:31:51.105671Z",
     "shell.execute_reply": "2022-03-24T21:31:51.104977Z",
     "shell.execute_reply.started": "2022-03-24T21:31:51.101171Z"
    }
   },
   "outputs": [],
   "source": [
    "print(\"最初の3つの項目:\", flowers_list[:3])\n",
    "print(\"最後の2つの項目:\", flowers_list[-2:])\n"
   ]
  },
  {
   "cell_type": "markdown",
   "metadata": {},
   "source": [
    "上の例からわかるように、リストをスライスすると、新しい「短くなったリスト」が返されます。\n",
    "\n",
    "\n",
    "## 要素の削除\n",
    "\n",
    "リストから特定の要素を削除するには、`.remove()` メソッドを使います。  \n",
    "削除したい要素をかっこ内に指定しましょう。\n"
   ]
  },
  {
   "cell_type": "code",
   "execution_count": null,
   "metadata": {
    "execution": {
     "iopub.execute_input": "2022-03-24T21:31:51.126444Z",
     "iopub.status.busy": "2022-03-24T21:31:51.126185Z",
     "iopub.status.idle": "2022-03-24T21:31:51.130902Z",
     "shell.execute_reply": "2022-03-24T21:31:51.130091Z",
     "shell.execute_reply.started": "2022-03-24T21:31:51.126414Z"
    }
   },
   "outputs": [],
   "source": [
    "# リストから 'globe thistle'（ルリタマアザミ）を削除します\n",
    "flowers_list.remove(\"globe thistle\")\n",
    "print(flowers_list)\n"
   ]
  },
  {
   "cell_type": "markdown",
   "metadata": {},
   "source": [
    "## 要素の追加\n",
    "\n",
    "リストに新しい要素を追加するには、`.append()` メソッドを使います。  \n",
    "追加したい要素をかっこ内に指定しましょう。\n"
   ]
  },
  {
   "cell_type": "code",
   "execution_count": null,
   "metadata": {
    "execution": {
     "iopub.execute_input": "2022-03-24T21:31:51.139343Z",
     "iopub.status.busy": "2022-03-24T21:31:51.138874Z",
     "iopub.status.idle": "2022-03-24T21:31:51.143555Z",
     "shell.execute_reply": "2022-03-24T21:31:51.142988Z",
     "shell.execute_reply.started": "2022-03-24T21:31:51.13931Z"
    }
   },
   "outputs": [],
   "source": [
    "# リストに新しい花の名前 'snapdragon'（キンギョソウ）を追加します\n",
    "flowers_list.append(\"snapdragon\")\n",
    "print(flowers_list)\n"
   ]
  },
  {
   "cell_type": "markdown",
   "metadata": {},
   "source": [
    "## リストは文字列専用ではありません\n",
    "\n",
    "ここまでの例では、リストの各要素がすべて文字列で構成されていました。  \n",
    "しかし実際には、リストには **あらゆるデータ型**（ブール値、整数、浮動小数点数など）を含めることができます。\n",
    "\n",
    "たとえば、整数や小数など、数値を含むリストを考えてみましょう。  \n",
    "本の販売冊数や気温、点数など、数値データをリストでまとめて扱う場面はよくあります。\n",
    "\n"
   ]
  },
  {
   "cell_type": "code",
   "execution_count": null,
   "metadata": {
    "execution": {
     "iopub.execute_input": "2022-03-24T21:31:51.150281Z",
     "iopub.status.busy": "2022-03-24T21:31:51.149991Z",
     "iopub.status.idle": "2022-03-24T21:31:51.15468Z",
     "shell.execute_reply": "2022-03-24T21:31:51.153995Z",
     "shell.execute_reply.started": "2022-03-24T21:31:51.15025Z"
    }
   },
   "outputs": [],
   "source": [
    "# たとえば、本の販売冊数のように、数値を扱うリストもよく使われます。\n",
    "\n",
    "hardcover_sales = [139, 128, 172, 139, 191, 168, 170]"
   ]
  },
  {
   "cell_type": "markdown",
   "metadata": {},
   "source": [
    "このように、`hardcover_sales`は整数（int）からなるリストです。\n",
    "文字列のリストと同様に、要素数を調べたり、特定の項目を取り出したり、リストに要素を追加したりといった操作が可能です。"
   ]
  },
  {
   "cell_type": "code",
   "execution_count": null,
   "metadata": {
    "execution": {
     "iopub.execute_input": "2022-03-24T21:31:51.162203Z",
     "iopub.status.busy": "2022-03-24T21:31:51.16179Z",
     "iopub.status.idle": "2022-03-24T21:31:51.167429Z",
     "shell.execute_reply": "2022-03-24T21:31:51.166519Z",
     "shell.execute_reply.started": "2022-03-24T21:31:51.162162Z"
    }
   },
   "outputs": [],
   "source": [
    "print(\"リストの長さ:\", len(hardcover_sales))\n",
    "print(\"インデックス2の値:\", hardcover_sales[2])\n"
   ]
  },
  {
   "cell_type": "markdown",
   "metadata": {},
   "source": [
    "リスト内の最小値を求めるには `min()` を、最大値を求めるには `max()` を使います。\n"
   ]
  },
  {
   "cell_type": "code",
   "execution_count": null,
   "metadata": {
    "execution": {
     "iopub.execute_input": "2022-03-24T21:31:51.208474Z",
     "iopub.status.busy": "2022-03-24T21:31:51.20819Z",
     "iopub.status.idle": "2022-03-24T21:31:51.213802Z",
     "shell.execute_reply": "2022-03-24T21:31:51.213064Z",
     "shell.execute_reply.started": "2022-03-24T21:31:51.208443Z"
    }
   },
   "outputs": [],
   "source": [
    "print(\"最小値:\", min(hardcover_sales))\n",
    "print(\"最大値:\", max(hardcover_sales))\n"
   ]
  },
  {
   "cell_type": "markdown",
   "metadata": {},
   "source": [
    "リスト内のすべての値を合計するには、`sum()` を使います。"
   ]
  },
  {
   "cell_type": "code",
   "execution_count": null,
   "metadata": {
    "execution": {
     "iopub.execute_input": "2022-03-24T21:31:51.215698Z",
     "iopub.status.busy": "2022-03-24T21:31:51.215248Z",
     "iopub.status.idle": "2022-03-24T21:31:51.224468Z",
     "shell.execute_reply": "2022-03-24T21:31:51.223692Z",
     "shell.execute_reply.started": "2022-03-24T21:31:51.215665Z"
    }
   },
   "outputs": [],
   "source": [
    "print(\"1週間の合計販売冊数:\", sum(hardcover_sales))"
   ]
  },
  {
   "cell_type": "markdown",
   "metadata": {},
   "source": [
    "リストのスライスを使って、同様の計算を行うこともできます。  \n",
    "次のコードでは、最初の5日間のデータを合計（`sum(hardcover_sales[:5])`）し、5で割って平均冊数を求めています。\n"
   ]
  },
  {
   "cell_type": "code",
   "execution_count": null,
   "metadata": {},
   "outputs": [],
   "source": [
    "print(\"最初の5日間の平均販売冊数:\", sum(hardcover_sales[:5]) / 5)"
   ]
  },
  {
   "cell_type": "markdown",
   "metadata": {},
   "source": [
    "## リスト内包表記（List Comprehension）\n",
    "\n",
    "リストを作るとき、`for` ループを使って一つずつ追加する代わりに、Python では **リスト内包表記** という簡潔な方法が使えます。\n",
    "\n",
    "たとえば、次のように書くことで、数値リストの中から 4 以上の評価を `True` / `False` で判定した結果のリストを簡単に作成できます：\n",
    "\n",
    "```python\n",
    "test_ratings = [3, 5, 4, 2]\n",
    "test_liked = [i >= 4 for i in test_ratings]\n",
    "\n",
    "このコードは、「リスト test_ratings の各要素 i に対して、i >= 4 の判定結果を集めたリストを作る」という意味です。\n",
    "\n",
    "これは、次のような for ループを書き換えたものと考えることもできます："
   ]
  },
  {
   "cell_type": "code",
   "execution_count": null,
   "metadata": {},
   "outputs": [],
   "source": [
    "test_liked = []\n",
    "for i in test_ratings:\n",
    "    test_liked.append(i >= 4)\n"
   ]
  },
  {
   "cell_type": "markdown",
   "metadata": {},
   "source": [
    "リスト内包表記を使うことで、コードを短く、読みやすく書くことができます。"
   ]
  },
  {
   "cell_type": "markdown",
   "metadata": {},
   "source": [
    "# お疲れ様でした！\n",
    "\n",
    "ここまでのチュートリアルはいかがでしたか？  \n",
    "次は、学んだ内容を使って理解を深めるステップです。  \n",
    "準備ができたら、以下のリンクから演習に進みましょう。\n",
    "\n",
    "[**リストの作成と変更の練習**（practice creating and modifying lists）](./ex5.ipynb) を始めてください。\n"
   ]
  }
 ],
 "metadata": {
  "kernelspec": {
   "display_name": "Python 3",
   "language": "python",
   "name": "python3"
  },
  "language_info": {
   "codemirror_mode": {
    "name": "ipython",
    "version": 3
   },
   "file_extension": ".py",
   "mimetype": "text/x-python",
   "name": "python",
   "nbconvert_exporter": "python",
   "pygments_lexer": "ipython3",
   "version": "3.6.5"
  }
 },
 "nbformat": 4,
 "nbformat_minor": 4
}
