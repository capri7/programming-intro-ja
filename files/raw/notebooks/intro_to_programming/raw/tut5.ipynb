{
 "cells": [
  {
   "cell_type": "markdown",
   "metadata": {},
   "source": [
    "\n",
    "# 🧠 Pythonのリスト\n",
    "\n",
    "プログラミングでは、**データを整理して効率よく扱うこと**がとても重要です。\n",
    "\n",
    "たとえば、同じクラスの生徒の名前をすべてまとめて管理したいとき、  \n",
    "**1つ1つ変数を使うのではなく、「ひとまとめ」にできる方法**があれば便利です。\n",
    "\n",
    "\n",
    "\n",
    "Python には、次のような代表的な**データ構造**が用意されています：\n",
    "\n",
    "- リスト（list）  \n",
    "- セット（set）  \n",
    "- 辞書（dictionary）  \n",
    "- タプル（tuple）\n",
    "\n",
    "\n",
    "\n",
    "このチュートリアルでは、最も基本的で使用頻度の高い  \n",
    "**「リスト（list）」の使い方**を学びます。\n",
    "\n",
    "リストは、**複数のデータをひとまとめにして扱える**便利な道具です。\n",
    "\n",
    "\n",
    "\n",
    "## 🎯 ポイント\n",
    "\n",
    "* 導入に具体例（「生徒の名前をまとめる」など）を1文入れるだけで、直感的理解が格段に上がります\n",
    "* 最初の目的提示を少しだけ明確にすることで、「なぜリストを学ぶのか」がはっきりします\n",
    "\n",
    "\n"
   ]
  },
  {
   "cell_type": "markdown",
   "metadata": {},
   "source": [
    "\n",
    "## ⚙️ 環境セットアップ（Pyodide）\n",
    "\n",
    "このノートブックでは、次の手順で**環境を準備**します：\n",
    "\n",
    "1. **learntools パッケージのインストール**"
   ]
  },
  {
   "cell_type": "code",
   "execution_count": null,
   "metadata": {},
   "outputs": [],
   "source": [
    "\n",
    "\n",
    "import micropip\n",
    "\n",
    "await micropip.install(\"https://capri7.github.io/programming-intro-ja/files/raw/packages/learntools-0.3.5-py3-none-any.whl\")"
   ]
  },
  {
   "cell_type": "markdown",
   "metadata": {},
   "source": [
    "\n",
    "2. **標準ライブラリのインストール**"
   ]
  },
  {
   "cell_type": "code",
   "execution_count": null,
   "metadata": {},
   "outputs": [],
   "source": [
    "\n",
    "\n",
    "await micropip.install([\"numpy\", \"pandas\", \"matplotlib\"])\n"
   ]
  },
  {
   "cell_type": "markdown",
   "metadata": {},
   "source": [
    "\n",
    "3. **グローバル変数のバインド**"
   ]
  },
  {
   "cell_type": "code",
   "execution_count": null,
   "metadata": {},
   "outputs": [],
   "source": [
    "\n",
    "from learntools.core import binder\n",
    "binder.bind(globals())\n",
    "print(\"✅ Setup complete\")"
   ]
  },
  {
   "cell_type": "markdown",
   "metadata": {},
   "source": [
    "## 🔍 この単元を学ぶ理由\n",
    "\n",
    "このチュートリアルでは、**データを整理して扱う力** を身につけることが目標です。\n",
    "\n",
    "\n",
    "\n",
    "たとえば、Kaggle の [Petal to the Metal コンペティション](https://www.kaggle.com/c/tpu-getting-started) では、  \n",
    "**花の画像から品種を判別する** ことが課題として出されています。\n",
    "\n",
    "このような課題は **画像分類** と呼ばれ、  \n",
    "AI（人工知能）やコンピュータビジョンの分野でよく使われます。  \n",
    "\n",
    "しかし、画像を分類するためには、まず「正しい品種名」を**整理し、  \n",
    "プログラムで扱いやすい形に整える**必要があります。\n",
    "\n",
    "\n",
    "\n",
    "このチュートリアルでは、品種名を **Pythonの「文字列」**（`str` 型）として管理し、  \n",
    "それを元に、**データをリスト化し効率よく扱う方法**を学んでいきます。\n",
    "\n",
    "\n",
    "\n",
    "### 🌸 使用する花の品種名\n",
    "\n",
    "以下は、このチュートリアルで使用する花の名前一覧です。\n",
    "\n",
    "| 英語名                       | 日本語訳                   |\n",
    "| ------------------------- | ---------------------- |\n",
    "| pink primrose             | サクラソウ                  |\n",
    "| hard-leaved pocket orchid | 硬葉の着生ラン                |\n",
    "| canterbury bells          | カンタベリー・ベル（ツリガネソウの一種）   |\n",
    "| sweet pea                 | スイートピー                 |\n",
    "| english marigold          | イングリッシュ・マリーゴールド（キンセンカ） |\n",
    "| tiger lily                | オニユリ                   |\n",
    "| moon orchid               | モン・オーキッド（ファレノプシス）      |\n",
    "| bird of paradise          | ゴクラクチョウカ（ストレリチア）       |\n",
    "| monkshood                 | トリカブト                  |\n",
    "| globe thistle             | ルリタマアザミ                |\n",
    "\n",
    "\n",
    "\n",
    "### 🧪 まずは文字列で品種名をまとめてみましょう\n",
    "\n",
    "\n"
   ]
  },
  {
   "cell_type": "code",
   "execution_count": null,
   "metadata": {},
   "outputs": [],
   "source": [
    "flowers = \"pink primrose,hard-leaved pocket orchid,canterbury bells,sweet pea,english marigold,\\\n",
    "    tiger lily,moon orchid,bird of paradise,monkshood,globe thistle\"\n",
    "\n",
    "print(type(flowers))\n",
    "print(flowers)"
   ]
  },
  {
   "cell_type": "markdown",
   "metadata": {},
   "source": [
    "\n",
    "このように、複数の花の名前を **1つの文字列** として格納しています。  \n",
    "次のステップでは、これを **リスト（複数の要素を持つデータ型）に変換**して、  \n",
    "扱いやすくしていきます。\n",
    "\n"
   ]
  },
  {
   "cell_type": "markdown",
   "metadata": {},
   "source": [
    "## 📦 文字列からリストへ\n",
    "\n",
    "現在、変数 `flowers` には **1つの長い文字列** が格納されています。  \n",
    "でも実際には、**花の名前を1つずつ取り出して扱いたい**ことがよくありますよね。\n",
    "\n",
    "\n",
    "\n",
    "### ✅ そこで登場するのが「リスト」\n",
    "\n",
    "リストは、**複数の値をまとめて順番に保存できるデータ構造**です。\n",
    "\n",
    "\n",
    "\n",
    "### 💡 リストの特徴\n",
    "\n",
    "* 🔢 順番を持って値を並べられる\n",
    "* 🔲 **角かっこ `[ ]`** を使って表す\n",
    "* 🔤 各要素は **カンマ `,` で区切る**\n",
    "* 📝 文字列のときは **クォーテーション `\" \"` で囲む**\n",
    "\n",
    "\n",
    "\n",
    "### 🧪 例：リストの基本形\n",
    "\n",
    "```python\n",
    "flowers_list = [\"pink primrose\", \"hard-leaved pocket orchid\", \"canterbury bells\"]\n",
    "```\n",
    "\n",
    "このようにリストを作れば、\n",
    "\n",
    "* 「リストの1番目の品種」や\n",
    "* 「リストの最後の品種」\n",
    "\n",
    "のように、**1つずつ個別にアクセスできるようになります。**\n",
    "\n",
    "\n",
    "\n",
    "### 🌸 今回使う10個の花をリストで表すと…\n"
   ]
  },
  {
   "cell_type": "code",
   "execution_count": null,
   "metadata": {},
   "outputs": [],
   "source": [
    "\n",
    "flowers_list = [\n",
    "    \"pink primrose\", \"hard-leaved pocket orchid\", \"canterbury bells\", \"sweet pea\", \n",
    "    \"english marigold\", \"tiger lily\", \"moon orchid\", \n",
    "    \"bird of paradise\", \"monkshood\", \"globe thistle\"\n",
    "]\n",
    "\n",
    "print(type(flowers_list))\n",
    "print(flowers_list)\n"
   ]
  },
  {
   "cell_type": "markdown",
   "metadata": {},
   "source": [
    "\n",
    "このあと、**文字列からリストに変換する方法**を実際に試していきましょう！"
   ]
  },
  {
   "cell_type": "markdown",
   "metadata": {},
   "source": [
    "## 🔄 文字列 vs リスト\n",
    "\n",
    "一見すると、データを **Pythonの文字列（`str`）** で表すか、  \n",
    "**リスト（`list`）** で表すかに、それほど大きな違いはないように見えるかもしれません。  \n",
    "しかし、リストを使うと **さまざまな操作を簡単に行える** という大きな利点があります。\n",
    "\n",
    "\n",
    "\n",
    "### ✅ リストのメリット\n",
    "\n",
    "リストでは、次のような操作が簡単にできます：\n",
    "\n",
    "* 📍 **特定の位置** の項目を取り出す（例：最初の要素）\n",
    "* 🔢 **全体の要素数** を調べる\n",
    "* ➕ **新しい項目を追加する**\n",
    "* ➖ **不要な項目を削除する**\n",
    "\n",
    "\n",
    "\n",
    "### 🧪 例：flowers\\_list を使ってみよう\n",
    "\n"
   ]
  },
  {
   "cell_type": "code",
   "execution_count": null,
   "metadata": {},
   "outputs": [],
   "source": [
    "\n",
    "\n",
    "# リストの最初の品種を取り出す\n",
    "print(flowers_list[0])  # 結果: pink primrose\n",
    "\n",
    "# リストの品種数を調べる\n",
    "print(len(flowers_list))  # 結果: 10\n",
    "\n",
    "# リストに新しい品種を追加する\n",
    "flowers_list.append(\"red rose\")\n",
    "print(flowers_list)\n",
    "\n",
    "# リストから不要な品種を削除する\n",
    "flowers_list.remove(\"sweet pea\")\n",
    "print(flowers_list)\n"
   ]
  },
  {
   "cell_type": "markdown",
   "metadata": {},
   "source": [
    "これらの操作は、**文字列（`str`）では難しい** ことが多いですが、  \n",
    "**リストならシンプルな命令で実行できます。**"
   ]
  },
  {
   "cell_type": "markdown",
   "metadata": {},
   "source": [
    "## 📏 リストの要素数（長さ）を確認しよう\n",
    "\n",
    "リストに含まれている項目の数（要素数）を調べるには、  \n",
    "Pythonの組み込み関数 **`len()`** を使います。\n",
    "\n",
    "\n",
    "\n",
    "### 🧠 `len` とは？\n",
    "\n",
    "* **`len` は \"length\"（長さ） の略**\n",
    "* リストのように「複数の要素」を持つデータ構造に使うと、  \n",
    "**その中に何個の項目があるか**を返してくれます\n",
    "\n",
    "\n",
    "\n",
    "### ✅ `len()` の使い方\n",
    "\n",
    "```python\n",
    "# リスト名は実際の変数に置き換えて使いましょう\n",
    "len(リスト名)\n",
    "\n"
   ]
  },
  {
   "cell_type": "markdown",
   "metadata": {},
   "source": [
    "リストを `len()` に渡すだけで、**その中の項目数（要素数）** が返ってきます。\n",
    "\n",
    "\n",
    "#### 🧪 例：flowers\\_list の長さを調べてみましょう"
   ]
  },
  {
   "cell_type": "code",
   "execution_count": null,
   "metadata": {},
   "outputs": [],
   "source": [
    "\n",
    "\n",
    "# flowers_list には 10 個の品種が含まれています\n",
    "print(len(flowers_list))\n"
   ]
  },
  {
   "cell_type": "markdown",
   "metadata": {},
   "source": [
    "\n",
    "このように、`len()` を使えば、**リストの中身の「量」を確認する**ことができます。"
   ]
  },
  {
   "cell_type": "markdown",
   "metadata": {},
   "source": [
    "## 🔢 インデックス指定（Indexing）\n",
    "\n",
    "リストの中から、**特定の位置にある項目**を取り出したいときに使うのが  \n",
    "**インデックス指定**です。\n",
    "\n",
    "\n",
    "\n",
    "#### ✅ インデックスの基本ルール\n",
    "\n",
    "Pythonでは、インデックス（位置を表す番号）は **0から始まります**（ゼロベース）。\n",
    "\n",
    "そのため、次のように指定します：\n",
    "\n",
    "| 要素の位置  | 指定方法              | インデックス番号                    |\n",
    "| ------ | ----------------- | --------------------------- |\n",
    "| 最初の要素  | `flowers_list[0]` | 0                           |\n",
    "| 2番目の要素 | `flowers_list[1]` | 1                           |\n",
    "| 最後の要素  | `flowers_list[9]` | リストの長さ − 1（ここでは 10 − 1 = 9） |\n",
    "\n",
    "\n",
    "\n",
    "### 🧪 例：flowers\\_list の各要素を取り出す\n"
   ]
  },
  {
   "cell_type": "code",
   "execution_count": null,
   "metadata": {
    "execution": {
     "iopub.execute_input": "2022-03-24T21:31:51.088543Z",
     "iopub.status.busy": "2022-03-24T21:31:51.088041Z",
     "iopub.status.idle": "2022-03-24T21:31:51.093818Z",
     "shell.execute_reply": "2022-03-24T21:31:51.093208Z",
     "shell.execute_reply.started": "2022-03-24T21:31:51.088509Z"
    }
   },
   "outputs": [],
   "source": [
    "\n",
    "# 最初の項目（インデックス0）\n",
    "print(\"最初の項目:\", flowers_list[0])\n",
    "\n",
    "# 2番目の項目（インデックス1）\n",
    "print(\"2番目の項目:\", flowers_list[1])\n",
    "\n",
    "# 最後の項目（インデックス9）\n",
    "print(\"最後の項目:\", flowers_list[9])\n"
   ]
  },
  {
   "cell_type": "markdown",
   "metadata": {},
   "source": [
    "このコードを実行すると、**リスト `flowers_list` の最初・2番目・最後**の項目が順番に表示されます。  \n",
    "\n",
    "\n",
    "#### ⚠️ インデックス指定の注意点\n",
    "\n",
    "Python のリストは、**インデックスが 0 から始まる**ことを忘れないようにしましょう。\n",
    "\n",
    "たとえば、次のように書いてしまうと…\n",
    "\n"
   ]
  },
  {
   "cell_type": "code",
   "execution_count": null,
   "metadata": {},
   "outputs": [],
   "source": [
    "\n",
    "\n",
    "print(flowers_list[10])  # インデックス10は存在しない！\n"
   ]
  },
  {
   "cell_type": "markdown",
   "metadata": {},
   "source": [
    "このリストには 10 個の要素しかないため、インデックス `10` は存在しません。  \n",
    "実行すると、次のようなエラーになります：\n",
    "\n",
    "```plaintext\n",
    "IndexError: list index out of range\n",
    "```\n",
    "\n",
    "❗ **ポイント**：最大の有効なインデックスは、リストの長さ `− 1` です（10個なら `9`）。"
   ]
  },
  {
   "cell_type": "markdown",
   "metadata": {},
   "source": [
    "#### 📝 補足：`print()` で複数の値をまとめて表示する\n",
    "\n",
    "`print()` 関数では、カンマ `,` を使って **複数の値を一度に表示** することができます。\n",
    "\n",
    "\n",
    "\n",
    "#### ✅ 例：文字列とリストの要素をまとめて表示\n",
    "\n",
    "```python\n",
    "print(\"最初の項目:\", flowers_list[0], \"2番目の項目:\", flowers_list[1])\n",
    "```\n",
    "\n",
    "このようにすると：\n",
    "\n",
    "* `\"最初の項目:\"` という文字列\n",
    "* `flowers_list[0]` の値\n",
    "* `\"2番目の項目:\"`\n",
    "* `flowers_list[1]` の値\n",
    "\n",
    "が、スペースで区切られて **1行でまとめて表示されます。**\n",
    "\n",
    "\n",
    "\n",
    "この書き方は、**出力を整理して見やすくしたいとき**にとても便利です。\n",
    "\n",
    "\n",
    "\n"
   ]
  },
  {
   "cell_type": "markdown",
   "metadata": {},
   "source": [
    "## ✂️ スライス（Slicing）\n",
    "\n",
    "リストの中から、**特定の範囲**の要素をまとめて取り出したいときに使うのが、  \n",
    "**スライス（slicing）** です。\n",
    "\n",
    "\n",
    "\n",
    "たとえば、次のような操作ができます：\n",
    "\n",
    "* 「最初の3つの項目だけほしい」\n",
    "* 「最後の2つだけ取り出したい」\n",
    "\n",
    "\n",
    "\n",
    "### ✅ スライスの基本構文\n",
    "\n",
    "| 目的             | 書き方     | 説明                       |\n",
    "| -------------- | ------- | ------------------------ |\n",
    "| 最初の `x` 個を取り出す | `[:x]`  | インデックス `0` から `x-1` まで取得 |\n",
    "| 最後の `y` 個を取り出す | `[-y:]` | インデックス `-y` から末尾まで取得     |\n",
    "\n",
    "\n",
    "\n",
    "#### 🧪 例：flowers\\_list からスライスしてみよう\n",
    "\n"
   ]
  },
  {
   "cell_type": "code",
   "execution_count": null,
   "metadata": {
    "execution": {
     "iopub.execute_input": "2022-03-24T21:31:51.101211Z",
     "iopub.status.busy": "2022-03-24T21:31:51.100787Z",
     "iopub.status.idle": "2022-03-24T21:31:51.105671Z",
     "shell.execute_reply": "2022-03-24T21:31:51.104977Z",
     "shell.execute_reply.started": "2022-03-24T21:31:51.101171Z"
    }
   },
   "outputs": [],
   "source": [
    "\n",
    "\n",
    "# 最初の3つの項目を取り出す（インデックス 0, 1, 2）\n",
    "print(\"最初の3つの項目:\", flowers_list[:3])\n",
    "# 結果: ['pink primrose', 'hard-leaved pocket orchid', 'canterbury bells']\n",
    "\n",
    "# 最後の2つの項目を取り出す（インデックス -2, -1）\n",
    "print(\"最後の2つの項目:\", flowers_list[-2:])\n",
    "# 結果: ['monkshood', 'globe thistle']\n",
    "\n",
    "\n"
   ]
  },
  {
   "cell_type": "markdown",
   "metadata": {},
   "source": [
    "#### 📌 スライスの結果とは？\n",
    "\n",
    "スライス操作では、**もとのリストから新しい「部分リスト」** が作られます。  \n",
    "重要なのは：\n",
    "\n",
    "🔒 **元のリストは変更されません。**\n",
    "\n",
    "これは、リストの一部を**安全に取り出したいとき**に非常に便利です。\n",
    "\n",
    "\n",
    "\n",
    "#### 📝 補足メモ\n",
    "\n",
    "* **スライスはリストの一部だけを取り出したいときに使える、柔軟で強力な方法**です\n",
    "* 可読性もよく、forループやフィルタリングと組み合わせて使われることが多いです\n",
    "\n",
    "\n"
   ]
  },
  {
   "cell_type": "markdown",
   "metadata": {},
   "source": [
    "## 🧹 要素の削除\n",
    "\n",
    "リストから **特定の要素を削除** したいときは、**`.remove()` メソッド** を使います。  \n",
    "これは、リストの中から「いらない項目を取り除く」ときに便利です。\n",
    "\n",
    "\n",
    "\n",
    "### ✅ `.remove()` メソッドの使い方\n",
    "\n",
    "`.remove()` メソッドは、リスト内で最初に見つかった指定要素を削除します。\n",
    "\n",
    "🔸 要素がリストに **複数回登場している場合**、  \n",
    "最初の1つだけが削除され、それ以降の同じ要素は残ります。\n",
    "\n",
    "\n",
    "\n",
    "#### 💬 例：特定の花の名前を削除する\n"
   ]
  },
  {
   "cell_type": "code",
   "execution_count": null,
   "metadata": {
    "execution": {
     "iopub.execute_input": "2022-03-24T21:31:51.126444Z",
     "iopub.status.busy": "2022-03-24T21:31:51.126185Z",
     "iopub.status.idle": "2022-03-24T21:31:51.130902Z",
     "shell.execute_reply": "2022-03-24T21:31:51.130091Z",
     "shell.execute_reply.started": "2022-03-24T21:31:51.126414Z"
    }
   },
   "outputs": [],
   "source": [
    "\n",
    "\n",
    "\n",
    "# リストから 'globe thistle'（ルリタマアザミ）を削除します\n",
    "flowers_list.remove(\"globe thistle\")\n",
    "\n",
    "# 削除後のリストを表示\n",
    "print(flowers_list)\n",
    "\n"
   ]
  },
  {
   "cell_type": "markdown",
   "metadata": {},
   "source": [
    "\n",
    "このコードでは、`flowers_list` から **'globe thistle'** を削除しています。  \n",
    "その後の `print()` によって、リストの状態が確認できます。\n",
    "\n",
    "\n",
    "\n",
    "#### ⚠️ 注意点\n",
    "\n",
    "* `.remove()` は、**指定した要素が存在しない場合** に `ValueError` を発生させます。  \n",
    "そのため、削除前に要素が存在するかどうかを `in` で確認すると安全です。\n",
    "\n",
    "* **重複している要素**がある場合は、**最初の1つだけ**が削除されます。\n",
    "\n",
    "\n",
    "\n",
    "#### 💡 補足メモ\n",
    "\n",
    "* 複数の要素を削除したいときは、`.remove()` を繰り返し使うか、  \n",
    "  リスト内包表記など他の方法も検討できます。\n",
    "\n",
    "\n",
    "\n"
   ]
  },
  {
   "cell_type": "markdown",
   "metadata": {},
   "source": [
    "## ➕ 要素の追加\n",
    "\n",
    "リストに **新しい要素を追加** したい場合は、**`.append()` メソッド** を使います。  \n",
    "これは「リストの末尾に項目を加える」標準的な方法です。\n",
    "\n",
    "\n",
    "\n",
    "### ✅ `.append()` メソッドの使い方\n",
    "\n",
    "`.append()` メソッドを使えば、リストの **最後に新しい要素** を簡単に追加できます。\n",
    "\n",
    "\n",
    "\n",
    "#### 💬 例：花の名前を追加する\n"
   ]
  },
  {
   "cell_type": "code",
   "execution_count": null,
   "metadata": {
    "execution": {
     "iopub.execute_input": "2022-03-24T21:31:51.139343Z",
     "iopub.status.busy": "2022-03-24T21:31:51.138874Z",
     "iopub.status.idle": "2022-03-24T21:31:51.143555Z",
     "shell.execute_reply": "2022-03-24T21:31:51.142988Z",
     "shell.execute_reply.started": "2022-03-24T21:31:51.13931Z"
    }
   },
   "outputs": [],
   "source": [
    "\n",
    "\n",
    "# リストに新しい花の名前 'snapdragon'（キンギョソウ）を追加します\n",
    "flowers_list.append(\"snapdragon\")\n",
    "\n",
    "# 追加後のリストを表示\n",
    "print(flowers_list)\n",
    "\n"
   ]
  },
  {
   "cell_type": "markdown",
   "metadata": {},
   "source": [
    "\n",
    "このコードを実行すると、`flowers_list` の末尾に **'snapdragon'** が追加されます。  \n",
    "その結果、リストには新しい要素が加わった状態が表示されます。\n",
    "\n",
    "\n",
    "\n",
    "#### ⚠️ 注意点\n",
    "\n",
    "* `.append()` は **1つの要素だけ** を追加します。  \n",
    "  複数の要素を追加したい場合は、`extend()` や `+`（リストの結合）を使いましょう。\n",
    "\n",
    "\n",
    "\n",
    "#### 📝 補足メモ\n",
    "\n",
    "* `.append()` はリストの末尾に要素を追加するのに便利です。  \n",
    "* リストの **先頭に追加** したい場合は、`.insert(0, 要素)` を使うと良いでしょう。\n",
    "\n",
    "\n"
   ]
  },
  {
   "cell_type": "markdown",
   "metadata": {},
   "source": [
    "## 📚 リストは文字列専用ではありません\n",
    "\n",
    "これまでの例では、リストの各要素がすべて **文字列** でした。  \n",
    "しかし、リストには **あらゆるデータ型** を含めることができます。\n",
    "\n",
    "\n",
    "\n",
    "### ✅ 数値や他のデータ型も使える\n",
    "\n",
    "リストには、**整数** や **小数（浮動小数点数）**、**ブール値（True/False）**  \n",
    "さらには **他のリスト** や **辞書** なども含めることができます。\n",
    "\n",
    "📊 たとえば、本の販売冊数や気温、学生の点数など、  \n",
    "**数値の一覧** を扱うときにもリストは非常に便利です。\n",
    "\n",
    "\n",
    "\n",
    "#### 💬 例：数値を含むリスト\n",
    "\n"
   ]
  },
  {
   "cell_type": "code",
   "execution_count": null,
   "metadata": {
    "execution": {
     "iopub.execute_input": "2022-03-24T21:31:51.150281Z",
     "iopub.status.busy": "2022-03-24T21:31:51.149991Z",
     "iopub.status.idle": "2022-03-24T21:31:51.15468Z",
     "shell.execute_reply": "2022-03-24T21:31:51.153995Z",
     "shell.execute_reply.started": "2022-03-24T21:31:51.15025Z"
    }
   },
   "outputs": [],
   "source": [
    "\n",
    "\n",
    "# 本の販売冊数を表すリスト\n",
    "hardcover_sales = [139, 128, 172, 139, 191, 168, 170]\n",
    "\n",
    "# リストの中身を表示\n",
    "print(hardcover_sales)\n",
    "\n"
   ]
  },
  {
   "cell_type": "markdown",
   "metadata": {},
   "source": [
    "このように、リストは文字列に限らず、**数値データをまとめて管理する** のにも適しています。\n",
    "\n",
    "\n",
    "\n",
    "#### 📝 補足メモ\n",
    "\n",
    "* リストの中には、**異なるデータ型を混在**させることも可能です："
   ]
  },
  {
   "cell_type": "code",
   "execution_count": null,
   "metadata": {},
   "outputs": [],
   "source": [
    "\n",
    "mixed_list = [3.14, 10, \"apple\", True]\n",
    "\n",
    "print(mixed_list)"
   ]
  },
  {
   "cell_type": "markdown",
   "metadata": {},
   "source": [
    "* Pythonでは、**あらゆるデータ型** をリストの要素として使うことができます。  \n",
    "リストは非常に柔軟で、さまざまな用途に対応できるデータ構造です。\n"
   ]
  },
  {
   "cell_type": "markdown",
   "metadata": {},
   "source": [
    "## 📏 リストの長さと最小・最大値の取得\n",
    "\n",
    "リストは、**中にいくつの要素があるか** を数えたり、  \n",
    "**最小値や最大値を取り出す** といった処理も簡単に行えます。  \n",
    "\n",
    "これは、数値データを扱う際にとても役立ちます。\n",
    "\n",
    "\n",
    "\n",
    "### ✅ リストの長さを調べるには？\n",
    "\n",
    "リストの長さ（要素の数）を調べるには、**`len()` 関数** を使います。\n",
    "\n",
    "\n",
    "\n",
    "#### 💬 例：リストの長さとインデックスを確認する"
   ]
  },
  {
   "cell_type": "code",
   "execution_count": null,
   "metadata": {
    "execution": {
     "iopub.execute_input": "2022-03-24T21:31:51.162203Z",
     "iopub.status.busy": "2022-03-24T21:31:51.16179Z",
     "iopub.status.idle": "2022-03-24T21:31:51.167429Z",
     "shell.execute_reply": "2022-03-24T21:31:51.166519Z",
     "shell.execute_reply.started": "2022-03-24T21:31:51.162162Z"
    }
   },
   "outputs": [],
   "source": [
    "\n",
    "\n",
    "\n",
    "# 本の販売冊数のリスト\n",
    "hardcover_sales = [139, 128, 172, 139, 191, 168, 170]\n",
    "\n",
    "# リストの長さ（要素の数）を出力\n",
    "print(\"リストの長さ:\", len(hardcover_sales))\n",
    "\n"
   ]
  },
  {
   "cell_type": "markdown",
   "metadata": {},
   "source": [
    "\n",
    "このコードでは、`len()` を使ってリストの長さを確認しています。  \n"
   ]
  },
  {
   "cell_type": "markdown",
   "metadata": {},
   "source": [
    "\n",
    "### ✅ 特定のインデックスの値を取り出す\n",
    "\n",
    "リストから **特定の位置の要素** を取り出したい場合は、  \n",
    "**インデックス（番号）を使って指定** します。\n",
    "\n",
    "🔢 **インデックスは 0 から始まる** ことに注意しましょう。  \n",
    "つまり、インデックス `2` はリストの **3番目の項目** を表します。\n",
    "\n",
    "#### 💬 例：インデックスで要素を取り出す"
   ]
  },
  {
   "cell_type": "code",
   "execution_count": null,
   "metadata": {},
   "outputs": [],
   "source": [
    "\n",
    "hardcover_sales = [139, 128, 172, 139, 191, 168, 170]\n",
    "\n",
    "# インデックス2の値を表示（3番目の項目）\n",
    "print(\"インデックス2の値:\", hardcover_sales[2])  # 結果: 172\n",
    "\n"
   ]
  },
  {
   "cell_type": "markdown",
   "metadata": {},
   "source": [
    "\n",
    "このようにして、リストの中から **特定の場所にある値** を簡単に取得できます。\n",
    "\n"
   ]
  },
  {
   "cell_type": "markdown",
   "metadata": {},
   "source": [
    "### ✅ 最小値・最大値の取得\n",
    "\n",
    "数値リストに対して、**最小値**や**最大値**を取り出すこともできます。  \n",
    "それには、それぞれ `min()` 関数と `max()` 関数を使います。\n",
    "\n",
    "\n",
    "\n",
    "#### 💬 例：最小値・最大値を調べる\n",
    "\n"
   ]
  },
  {
   "cell_type": "code",
   "execution_count": null,
   "metadata": {},
   "outputs": [],
   "source": [
    "# リスト内の最小値を求める\n",
    "print(\"最小値:\", min(hardcover_sales))  # 結果: 128\n",
    "\n",
    "# リスト内の最大値を求める\n",
    "print(\"最大値:\", max(hardcover_sales))  # 結果: 191"
   ]
  },
  {
   "cell_type": "markdown",
   "metadata": {},
   "source": [
    "このようにして、リストの中で最も小さい値・大きい値を簡単に取得できます。\n",
    "\n",
    "#### 📝 補足メモ\n",
    "\n",
    "* `len()` は **リスト内の要素数（サイズ）** を調べる関数です。  \n",
    "空のリスト `[]` に使うと、結果は `0` になります。\n",
    "\n",
    "* `min()` と `max()` は、**数値のリスト** に対して非常に便利です。  \n",
    "売上や点数、気温などのデータから、**最小値**や**最大値**を簡単に取り出せます。\n",
    "\n",
    "* `min()` や `max()` は、**文字列のリスト** に対しても使用できます。  \n",
    "この場合は「辞書順（アルファベット順）」で比較されます。\n",
    "\n",
    "* 日付など他のデータ型にも使えますが、  \n",
    "比較できる順序（**大小関係**）が定義されている必要があります。\n",
    "\n",
    "\n"
   ]
  },
  {
   "cell_type": "markdown",
   "metadata": {},
   "source": [
    "## ➕📊 リストの合計と平均\n",
    "\n",
    "数値データのリストでは、**合計**や**平均**を求める処理がよく行われます。  \n",
    "たとえば、「1週間の売上合計」や「学生の点数の平均」などがその例です。\n",
    "\n",
    "ここでは、まず **合計の計算方法** について学びましょう。\n",
    "\n",
    "\n",
    "\n",
    "### ✅ 合計を求める\n",
    "\n",
    "リストのすべての要素を合計するには、**`sum()` 関数** を使います。  \n",
    "これにより、1行で簡単に合計値を求めることができます。\n",
    "\n",
    "\n",
    "\n",
    "#### 💬 例：1週間の販売冊数を合計する\n",
    "\n",
    "\n"
   ]
  },
  {
   "cell_type": "code",
   "execution_count": null,
   "metadata": {
    "execution": {
     "iopub.execute_input": "2022-03-24T21:31:51.215698Z",
     "iopub.status.busy": "2022-03-24T21:31:51.215248Z",
     "iopub.status.idle": "2022-03-24T21:31:51.224468Z",
     "shell.execute_reply": "2022-03-24T21:31:51.223692Z",
     "shell.execute_reply.started": "2022-03-24T21:31:51.215665Z"
    }
   },
   "outputs": [],
   "source": [
    "\n",
    "# 本の販売冊数のリスト\n",
    "hardcover_sales = [139, 128, 172, 139, 191, 168, 170]\n",
    "\n",
    "# 1週間分の合計販売冊数を表示\n",
    "print(\"1週間の合計販売冊数:\", sum(hardcover_sales))\n",
    "\n"
   ]
  },
  {
   "cell_type": "markdown",
   "metadata": {},
   "source": [
    "このコードでは、`hardcover_sales` に含まれる全ての値を合計し、  \n",
    "1週間の販売冊数の合計を表示しています。\n",
    "\n",
    "\n",
    "\n",
    "#### ⚡ ポイント\n",
    "\n",
    "* `sum()` は **リスト内の数値を合計するための基本関数** です。\n",
    "* 途中で **スライス** を使えば、「特定の期間」だけを合計することもできます（後述します）。\n",
    "\n",
    "\n",
    "\n",
    "#### 📝 補足メモ\n",
    "\n",
    "* `sum()` は、**数値だけで構成されたリスト** に対して使うことができます。\n",
    "* スライスと組み合わせれば、**部分的な合計**も柔軟に計算できます。  \n",
    "例：`sum(hardcover_sales[:5])` は、最初の5日間の合計です。\n",
    "\n",
    "\n"
   ]
  },
  {
   "cell_type": "markdown",
   "metadata": {},
   "source": [
    "### ✅ スライスを使った合計と平均\n",
    "\n",
    "リストの中から **一部の範囲だけを取り出して合計や平均を計算** したい場合は、  \n",
    "**スライス（slicing）** を使うのが便利です。\n",
    "\n",
    "\n",
    "\n",
    "#### 💬 例：最初の5日間の販売冊数の平均を求める"
   ]
  },
  {
   "cell_type": "code",
   "execution_count": null,
   "metadata": {},
   "outputs": [],
   "source": [
    "\n",
    "\n",
    "\n",
    "# 最初の5日間の平均販売冊数を表示\n",
    "print(\"最初の5日間の平均販売冊数:\", sum(hardcover_sales[:5]) / 5)\n",
    "\n"
   ]
  },
  {
   "cell_type": "markdown",
   "metadata": {},
   "source": [
    "このコードでは、`hardcover_sales[:5]` を使って **最初の5つの要素** を取り出し、  \n",
    "その合計を `sum()` で計算し、5で割ることで **平均** を求めています。\n",
    "\n",
    "\n",
    "\n",
    "### ⚡ ポイント\n",
    "\n",
    "* **スライス** を使うと、リスト内の **任意の範囲を抽出** できます。\n",
    "* `sum()` と組み合わせることで、**部分的な合計や平均**も柔軟に求められます。\n",
    "\n",
    "\n",
    "\n",
    "### 📝 補足メモ\n",
    "\n",
    "* `sum()` は、**売上や点数、温度などの数値データ**の合計に便利です。\n",
    "* スライス（例：`リスト名[:5]`）と組み合わせることで、  \n",
    "**特定の期間や条件に絞った集計処理**が行えます。\n",
    "* 平均を求めるときは、合計を **要素数で割る** だけでOKです。\n",
    "\n",
    "\n"
   ]
  },
  {
   "cell_type": "markdown",
   "metadata": {},
   "source": [
    "## 🧠 リスト内包表記（List Comprehension）\n",
    "\n",
    "Pythonでは、リストを作成する際に **`for` ループ** を使う方法のほかに、  \n",
    "**リスト内包表記** という、**短くて読みやすい書き方** を使うことができます。\n",
    "\n",
    "この構文を使うことで、**コードの行数を減らしながら、リストをすばやく生成**できます。\n",
    "\n",
    "\n",
    "\n",
    "### ✅ リスト内包表記の基本\n",
    "\n",
    "リスト内包表記を使うと、**1行のコードで新しいリスト** を作ることができます。\n",
    "\n",
    "\n",
    "\n",
    "### 💬 例：評価が4以上かどうかを判定したリストを作る\n",
    "\n"
   ]
  },
  {
   "cell_type": "code",
   "execution_count": null,
   "metadata": {},
   "outputs": [],
   "source": [
    "\n",
    "\n",
    "# 数値リストの中から 4 以上の評価を判定した結果をリストとして作成\n",
    "test_ratings = [3, 5, 4, 2]\n",
    "test_liked = [i >= 4 for i in test_ratings]\n",
    "\n",
    "print(test_liked)  # 結果: [False, True, True, False]\n",
    "\n"
   ]
  },
  {
   "cell_type": "markdown",
   "metadata": {},
   "source": [
    "このコードでは、リスト `test_ratings` の各要素に対して  \n",
    "「`i >= 4`（評価が4以上か）」という条件を適用し、**`True` または `False`** の結果を  \n",
    "新しいリストとして作成しています。"
   ]
  },
  {
   "cell_type": "markdown",
   "metadata": {},
   "source": [
    "### ✅ `for` ループとリスト内包表記の比較\n",
    "\n",
    "同じ処理を **`for` ループ** で書いた場合、次のようになります："
   ]
  },
  {
   "cell_type": "code",
   "execution_count": null,
   "metadata": {},
   "outputs": [],
   "source": [
    "# for ループを使った場合\n",
    "\n",
    "test_liked = []\n",
    "for i in test_ratings:\n",
    "    test_liked.append(i >= 4)\n",
    "\n",
    "print(test_liked)  # 結果: [False, True, True, False]\n"
   ]
  },
  {
   "cell_type": "markdown",
   "metadata": {},
   "source": [
    "このように、**リスト内包表記を使うとより簡潔で読みやすい**コードになります。\n",
    "\n"
   ]
  },
  {
   "cell_type": "markdown",
   "metadata": {},
   "source": [
    "### ✅ リスト内包表記のメリット\n",
    "\n",
    "* **短く、読みやすく** コードを書くことができる\n",
    "* **計算を一度に行ってリストを作成** できるため、効率的\n",
    "\n",
    "### ⚠️ 注意点\n",
    "\n",
    "リスト内包表記は簡潔で便利ですが、 **非常に複雑な処理** を1行に詰め込みすぎると、  \n",
    " **コードが読みにくくなる** ことがあります。  \n",
    "そのため、処理が複雑になりすぎないように心がけましょう。\n",
    "\n",
    "\n",
    "\n",
    "### 補足メモ\n",
    "\n",
    "* リスト内包表記を使うことで、コードが **すっきり** として、 **可読性** が向上します。  \n",
    "* **条件式** や **変換処理** をリスト内包表記に組み合わせることができ、  \n",
    "さまざまな場面で活用できます。\n",
    "\n"
   ]
  },
  {
   "cell_type": "markdown",
   "metadata": {},
   "source": [
    "#### ✅ リスト内包表記のメリット\n",
    "\n",
    "リスト内包表記を使うことで、次のような利点があります：\n",
    "\n",
    "* ✅ **短くて読みやすいコード** を書ける\n",
    "* ✅ **ループと計算を1行でまとめて記述** できるため、効率的\n",
    "\n",
    "これは、特に「変換処理を繰り返し適用して新しいリストを作りたい」場合に強力です。\n",
    "\n",
    "\n",
    "\n",
    "#### ⚠️ 注意点\n",
    "\n",
    "リスト内包表記は便利ですが、**複雑すぎる処理を詰め込みすぎると逆効果**になることがあります。\n",
    "\n",
    "📌 例えば、**ネストされた条件分岐** や **複数の処理** を1行に詰め込むと、  \n",
    "かえってコードが読みにくくなってしまいます。\n",
    "\n",
    "💡 **ポイント**：  \n",
    "「読みやすさ」を保つために、**簡潔な処理に限定**して使うのがベストです。\n",
    "\n",
    "\n",
    "\n",
    "#### 📝 補足メモ\n",
    "\n",
    "* リスト内包表記は、**コードの可読性と美しさ** を向上させるテクニックです。  \n",
    "* `if` 文などの **条件式** や、値の **変換処理** も組み合わせることができ、  \n",
    "集計・フィルタリング・変換など、さまざまな場面で活用できます。\n",
    "\n",
    "\n"
   ]
  },
  {
   "cell_type": "code",
   "execution_count": null,
   "metadata": {},
   "outputs": [],
   "source": [
    "\n",
    "# 例：偶数だけを取り出す\n",
    "nums = [1, 2, 3, 4, 5, 6]\n",
    "even_nums = [n for n in nums if n % 2 == 0]\n",
    "\n"
   ]
  },
  {
   "cell_type": "markdown",
   "metadata": {},
   "source": [
    "## 🎯 ここまでの学びを振り返って\n",
    "\n",
    "このチュートリアルでは、**リストの基本操作** を中心に学びました。  \n",
    "以下のような内容をひとつずつ確認しながら進めてきました：\n",
    "\n",
    "\n",
    "\n",
    "### ✅ 学んだこと\n",
    "\n",
    "* 🔸 **リストの作成**（`[]` を使ってリストを定義）\n",
    "* 🔸 **要素の取得・変更**（インデックスやスライス）\n",
    "* 🔸 **要素の削除と追加**（`.remove()` や `.append()`）\n",
    "* 🔸 **リストの長さ・合計・平均の計算**（`len()`, `sum()`）\n",
    "* 🔸 **リスト内包表記による効率的な書き方**\n",
    "\n",
    "\n",
    "\n",
    "Pythonにおいて「リスト」は非常に重要なデータ構造です。  \n",
    "このチュートリアルで学んだ内容は、これから出てくる多くのプログラムでも役立つ基礎となります。\n",
    "\n",
    "\n",
    "\n",
    "### ▶️ 次は演習です\n",
    "\n",
    "ここで学んだ内容を実際に試してみましょう。  \n",
    "次は、以下の演習に進んでください：\n",
    "\n",
    "👉 [**リストの作成と変更の演習**](./ex5.ipynb)\n",
    "\n",
    "この演習では、**リストを作成し、変更する操作** を自分の手で実行しながら、理解を深めていきます。\n",
    "\n",
    "\n"
   ]
  },
  {
   "cell_type": "markdown",
   "metadata": {},
   "source": []
  }
 ],
 "metadata": {
  "kernelspec": {
   "display_name": "Python 3",
   "language": "python",
   "name": "python3"
  },
  "language_info": {
   "codemirror_mode": {
    "name": "ipython",
    "version": 3
   },
   "file_extension": ".py",
   "mimetype": "text/x-python",
   "name": "python",
   "nbconvert_exporter": "python",
   "pygments_lexer": "ipython3",
   "version": "3.6.5"
  }
 },
 "nbformat": 4,
 "nbformat_minor": 4
}
