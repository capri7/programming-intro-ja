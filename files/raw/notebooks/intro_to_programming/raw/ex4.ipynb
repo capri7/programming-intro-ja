{
 "cells": [
  {
   "cell_type": "markdown",
   "metadata": {},
   "source": [
    "\n",
    "# 演習：条件と条件文\n"
   ]
  },
  {
   "cell_type": "markdown",
   "metadata": {},
   "source": [
    "チュートリアルでは、条件分岐と条件文について学びました。この演習では、学んだ内容を使っていくつかの質問に答えていきましょう。\n",
    "\n",
    "## Pyodide環境の準備\n",
    "\n",
    "ノートブックをセットアップしてください。\n"
   ]
  },
  {
   "cell_type": "code",
   "execution_count": null,
   "metadata": {},
   "outputs": [],
   "source": [
    "# 演習のセットアップ\n",
    "import micropip\n",
    "await micropip.install(\"http://127.0.0.1:8000/files/raw/packages/learntools-0.3.5-py3-none-any.whl\")"
   ]
  },
  {
   "cell_type": "markdown",
   "metadata": {},
   "source": [
    "## 必要なパッケージのインストール"
   ]
  },
  {
   "cell_type": "code",
   "execution_count": null,
   "metadata": {
    "execution": {
     "iopub.execute_input": "2022-03-04T20:34:33.008955Z",
     "iopub.status.busy": "2022-03-04T20:34:33.008212Z",
     "iopub.status.idle": "2022-03-04T20:34:33.039554Z",
     "shell.execute_reply": "2022-03-04T20:34:33.039006Z",
     "shell.execute_reply.started": "2022-03-04T20:34:33.008832Z"
    }
   },
   "outputs": [],
   "source": [
    "# 外部パッケージのインストール\n",
    "await micropip.install([\"numpy\", \"pandas\", \"matplotlib\"])\n",
    "\n",
    "from learntools.core import binder\n",
    "binder.bind(globals())\n",
    "print(\"✅ Setup complete\")"
   ]
  },
  {
   "cell_type": "markdown",
   "metadata": {},
   "source": [
    "## 演習モジュールのインポート"
   ]
  },
  {
   "cell_type": "code",
   "execution_count": null,
   "metadata": {},
   "outputs": [],
   "source": [
    "\n",
    "from learntools.intro_to_programming.ex4 import *"
   ]
  },
  {
   "cell_type": "markdown",
   "metadata": {},
   "source": [
    "# 質問 1\n",
    "あなたは大学の入学事務局で働いています。入試志願者の成績表を確認していると、一部の志願者は成績を文字（`\"A\"`, `\"B\"`, `\"C\"`, `\"D\"`, `\"F\"`）で表している一方、他の志願者は成績を`\"0から100の数字\"`で表していることに気付きました。\n",
    "\n",
    "一貫性を保つため、成績はすべて同じ形式で表すべきだと気付き、文字で統一することに決めました。変換方法として、次のように成績を割り当てることにしました：\n",
    "- `\"A\"` - 成績が90〜100の範囲（両端を含む）\n",
    "- `\"B\"` - 成績が80〜89の範囲（両端を含む）\n",
    "- `\"C\"` - 成績が70〜79の範囲（両端を含む）\n",
    "- `\"D\"` - 成績が60〜69の範囲（両端を含む）\n",
    "- `\"F\"` - 成績が60未満\n",
    "\n",
    "get_grade()という関数を作成してください。この関数は次の引数を受け取ります：\n",
    "- score - 0〜100の整数で、数値の成績に対応します。\n",
    "\n",
    "get_grade() 関数は、数値に対応する文字の成績を返す必要があります。例えば：\n",
    "- 成績が85の場合、Bの成績に対応します。つまり、get_grade(85)は\"B\"を返すべきです。\n",
    "- 成績が49の場合、Fの成績に対応します。つまり、get_grade(49)は\"F\"を返すべきです。\n",
    "\n",
    "関数が返す成績は、必ず引用符で囲んで返すようにしてください。例えば、`\"A\"`を返したい場合は、`return \"A\"`と書き、`return A`とは書かないようにしましょう。"
   ]
  },
  {
   "cell_type": "code",
   "execution_count": null,
   "metadata": {},
   "outputs": [],
   "source": [
    "# TODO: 異なるスコアに対して正しい成績を返すように関数を編集してください\n",
    "\n",
    "def get_grade(score):\n",
    "    grade = \"A\"\n",
    "    return grade\n",
    "    \n",
    "# 答えを確認してください。\n",
    "q1.check()"
   ]
  },
  {
   "cell_type": "code",
   "execution_count": null,
   "metadata": {},
   "outputs": [],
   "source": [
    "#%%RM_IF(PROD)%%（開発者向け：本番環境では非表示）\n",
    "def get_grade(score):\n",
    "    if score > 90:\n",
    "        grade = \"A\"\n",
    "    elif score > 80:\n",
    "        grade = \"B\"\n",
    "    elif score > 70:\n",
    "        grade = \"C\"\n",
    "    elif score > 60:\n",
    "        grade = \"D\"\n",
    "    else:\n",
    "        grade = \"F\"\n",
    "    return grade\n",
    "    \n",
    "q1.assert_check_failed()"
   ]
  },
  {
   "cell_type": "code",
   "execution_count": null,
   "metadata": {},
   "outputs": [],
   "source": [
    "#%%RM_IF(PROD)%%（開発者向け：本番環境では非表示）\n",
    "def get_grade(score):\n",
    "    if score >= 90:\n",
    "        grade = \"A\"\n",
    "    elif score >= 80:\n",
    "        grade = \"B\"\n",
    "    elif score >= 70:\n",
    "        grade = \"C\"\n",
    "    elif score >= 60:\n",
    "        grade = \"D\"\n",
    "    else:\n",
    "        grade = \"F\"\n",
    "    return grade\n",
    "    \n",
    "q1.assert_check_passed()"
   ]
  },
  {
   "cell_type": "code",
   "execution_count": null,
   "metadata": {},
   "outputs": [],
   "source": [
    "# ヒントを見るにはコメントアウトを解除してください\n",
    "#_COMMENT_IF(PROD)__本番環境では非表示\n",
    "q1.hint()\n",
    "\n",
    "# 解答を確認するにはコメントアウトを解除してください\n",
    "#_COMMENT_IF(PROD)__本番環境では非表示\n",
    "q1.solution()"
   ]
  },
  {
   "cell_type": "markdown",
   "metadata": {},
   "source": [
    "## 質問 2\n",
    "\n",
    "前回の演習では、刻印付きの指輪を販売するオンラインショップ向けに、`cost_of_project()` という関数を作成しました。この関数は、ユーザーが指定した刻印テキストに基づいて、指輪の価格を見積もるものでした。\n",
    "\n",
    "ただし、前回は **条件文（if 文）を使っていません**。\n",
    "\n",
    "今回は、**条件文を使って `cost_of_project()` を書き直す**演習です。\n",
    "\n",
    "\n",
    "オンラインショップでは、以下のような価格設定が適用されます：\n",
    "\n",
    "- **金メッキの指輪**（`solid_gold=False`）  \n",
    "  - 基本料金：50ドル  \n",
    "  - 刻印の1文字ごとに **7ドル** の追加料金\n",
    "- **純金の指輪**（`solid_gold=True`）  \n",
    "  - 基本料金：100ドル  \n",
    "  - 刻印の1文字ごとに **10ドル** の追加料金\n",
    "- **スペースや句読点も1文字としてカウントされます**\n",
    "\n",
    "\n",
    "`cost_of_project()` 関数の仕様\n",
    "\n",
    "この関数は次の2つの引数を受け取ります：\n",
    "\n",
    "- `engraving`（文字列）：指輪に刻印するテキスト\n",
    "- `solid_gold`（真偽値）：純金かどうかを示すフラグ（`True` または `False`）\n",
    "\n",
    "関数の戻り値として、**刻印テキストの長さに応じて計算された合計料金**（整数）を返してください。\n",
    "\n",
    "\n",
    "🔧 やること\n",
    "\n",
    "下のコードには、関数の構造がすでに用意されています。  \n",
    "`if` 文を使って、`solid_gold` の値によって異なる料金を計算するようにしてください。\n",
    "\n",
    "ヒント：刻印の文字数は `len(engraving)` で取得できます。  \n",
    "**中で使う変数名は自由に決めて構いません。**\n",
    "\n"
   ]
  },
  {
   "cell_type": "code",
   "execution_count": null,
   "metadata": {},
   "outputs": [],
   "source": [
    "def cost_of_project(engraving, solid_gold):\n",
    "    if solid_gold == True:\n",
    "        cost = ____\n",
    "    else:\n",
    "        cost = ____\n",
    "    return cost\n",
    "\n",
    "# 答えを確認してください。\n",
    "q2.check()"
   ]
  },
  {
   "cell_type": "code",
   "execution_count": null,
   "metadata": {},
   "outputs": [],
   "source": [
    "#%%RM_IF(PROD)%%（開発者向け：本番環境では非表示）\n",
    "def cost_of_project(engraving, solid_gold):\n",
    "    num_units = len(engraving)\n",
    "    if solid_gold == True:\n",
    "        cost = 100 + 10 * num_units\n",
    "    else:\n",
    "        cost = 50 + 7 * num_units\n",
    "    return cost\n",
    "\n",
    "q2.assert_check_passed()"
   ]
  },
  {
   "cell_type": "code",
   "execution_count": null,
   "metadata": {},
   "outputs": [],
   "source": [
    "# ヒントを見るにはコメントアウトを解除してください\n",
    "#_COMMENT_IF(PROD)_本番環境では非表示\n",
    "q2.hint()\n",
    "\n",
    "\n",
    "# 解答を確認するにはコメントアウトを解除してください\n",
    "#_COMMENT_IF(PROD)_本番環境では非表示\n",
    "q2.solution()"
   ]
  },
  {
   "cell_type": "markdown",
   "metadata": {},
   "source": [
    "# 質問 3\n",
    "あなたは水道局で働くプログラマーです。  \n",
    "今月、住民の使用水量に応じて水道料金を計算する関数 `get_water_bill()` を作成する仕事を任されました。\n",
    "\n",
    "- `num_gallons` = 顧客がその月に使用した水のガロン数\n",
    "　　\n",
    "＊常に小数点のない整数です。\n",
    "\n",
    "💰 **水道料金のルール**\n",
    "\n",
    "水道局では、使用量に応じて次のような料金体系が適用されます（1,000ガロンあたり）：\n",
    "<table style=\"width: 100%;\">\n",
    "<tbody>\n",
    "<tr><th><b>料金区分</b></th><th><b>ガロン数</b></th><th><b>使用量の範囲（ガロン）</b></th></tr>\n",
    "<tr>\n",
    "<td>区分1</td>\n",
    "<td>0 - 8,000</td>\n",
    "<td>\\$5</td>\n",
    "</tr>\n",
    "<tr>\n",
    "<td>区分2</td>\n",
    "<td>8,001 - 22,000</td>\n",
    "<td>\\$6</td>\n",
    "</tr>\n",
    "<tr>\n",
    "<td>区分3</td>\n",
    "<td>22,001 - 30,000</td>\n",
    "<td>\\$7</td>\n",
    "</tr>\n",
    "<tr>\n",
    "<td>区分4</td>\n",
    "<td>30,001+</td>\n",
    "<td>\\$10</td>\n",
    "</tr>\n",
    "</tbody>\n",
    "</table>\n",
    "\n",
    "📌 **注意点**\n",
    "\n",
    "- `num_gallons` の値に応じて、正しい単価を選んでください。\n",
    "- 使用量は 1,000 ガロン単位で換算します（例：25,000 ガロン → 25 単位）。\n",
    "- 結果は `float` 型で返してください（小数点以下も含めて表示）。\n",
    "- **四捨五入せず、そのままの値を返してください。** \n",
    "\n",
    "🧪 **例**\n",
    "\n",
    "- `get_water_bill(10000)` → $6 × 10 = `60.0`\n",
    "- `get_water_bill(25000)` → $7 × 25 = `175.0`\n",
    "\n",
    "✍️ **やること**\n",
    "\n",
    "次のセルにある get_water_bill() 関数を編集し、\n",
    "使用ガロン数に応じた正しい水道料金を返すようにしてください。\n",
    "\n",
    "ヒント：if 文を使って、使用量に応じて単価を切り替えましょう。\n"
   ]
  },
  {
   "cell_type": "code",
   "execution_count": null,
   "metadata": {
    "execution": {
     "iopub.execute_input": "2022-03-04T20:34:33.071427Z",
     "iopub.status.busy": "2022-03-04T20:34:33.070925Z",
     "iopub.status.idle": "2022-03-04T20:34:33.080441Z",
     "shell.execute_reply": "2022-03-04T20:34:33.079501Z",
     "shell.execute_reply.started": "2022-03-04T20:34:33.071383Z"
    }
   },
   "outputs": [],
   "source": [
    "# ⛏️ TODO: この関数を完成させましょう。\n",
    "# num_gallons に応じて、正しい単価を選び、水道料金を返してください。\n",
    "# 料金は 「(num_gallons ÷ 1000) × 単価」 で計算できます。\n",
    "# まだ未完成の状態として、仮の値（1000）が返されるようになっています。\n",
    "# if 文を使って区分ごとの単価を切り替えてください。\n",
    "\n",
    "\n",
    "def get_water_bill(num_gallons):\n",
    "    bill = 1000 # ← このままだとどんな入力でも1000になってしまう\n",
    "    return bill\n",
    "\n",
    "# 答えを確認してください。\n",
    "q3.check()"
   ]
  },
  {
   "cell_type": "code",
   "execution_count": null,
   "metadata": {},
   "outputs": [],
   "source": [
    "#%%RM_IF(PROD)%%（開発者向け：本番環境では非表示）\n",
    "def get_water_bill(num_gallons):\n",
    "    if num_gallons <= 8000:\n",
    "        bill = 5 * num_gallons \n",
    "    elif num_gallons <= 22000:\n",
    "        bill = 6 * num_gallons \n",
    "    elif num_gallons <= 30000:\n",
    "        bill = 7 * num_gallons\n",
    "    else:\n",
    "        bill = 10 * num_gallons \n",
    "    return bill\n",
    "\n",
    "q3.assert_check_failed()"
   ]
  },
  {
   "cell_type": "code",
   "execution_count": null,
   "metadata": {},
   "outputs": [],
   "source": [
    "#%%RM_IF(PROD)%%（開発者向け：本番環境では非表示）\n",
    "def get_water_bill(num_gallons):\n",
    "    bill = 1000\n",
    "    return bill\n",
    "\n",
    "q3.assert_check_failed()"
   ]
  },
  {
   "cell_type": "code",
   "execution_count": null,
   "metadata": {},
   "outputs": [],
   "source": [
    "#%%RM_IF(PROD)%%（開発者向け：本番環境では非表示）\n",
    "def get_water_bill(num_gallons):\n",
    "    if num_gallons <= 8000:\n",
    "        bill = (num_gallons / 1000) * 5\n",
    "    elif num_gallons <= 22000:\n",
    "        bill = (num_gallons / 1000) * 6 \n",
    "    elif num_gallons <= 30000:\n",
    "        bill = (num_gallons / 1000) * 7 \n",
    "    else:\n",
    "        bill = (num_gallons / 1000) * 10\n",
    "    return bill\n",
    "\n",
    "q3.assert_check_passed()"
   ]
  },
  {
   "cell_type": "code",
   "execution_count": null,
   "metadata": {},
   "outputs": [],
   "source": [
    "#%%RM_IF(PROD)%%（開発者向け：本番環境では非表示）\n",
    "def get_water_bill(num_gallons):\n",
    "    if num_gallons <= 8000:\n",
    "        bill = 5 * num_gallons / 1000\n",
    "    elif num_gallons <= 22000:\n",
    "        bill = 6 * num_gallons / 1000\n",
    "    elif num_gallons <= 30000:\n",
    "        bill = 7 * num_gallons / 1000\n",
    "    else:\n",
    "        bill = 10 * num_gallons / 1000\n",
    "    return bill\n",
    "\n",
    "q3.assert_check_passed()"
   ]
  },
  {
   "cell_type": "code",
   "execution_count": null,
   "metadata": {
    "execution": {
     "iopub.execute_input": "2022-03-04T20:34:33.082422Z",
     "iopub.status.busy": "2022-03-04T20:34:33.081561Z",
     "iopub.status.idle": "2022-03-04T20:34:33.090585Z",
     "shell.execute_reply": "2022-03-04T20:34:33.089714Z",
     "shell.execute_reply.started": "2022-03-04T20:34:33.082378Z"
    }
   },
   "outputs": [],
   "source": [
    "# ヒントを見るにはコメントアウトを解除してください\n",
    "#_COMMENT_IF(PROD)_本番環境では非表示\n",
    "q3.hint()\n",
    "\n",
    "# 解答を確認するにはコメントアウトを解除してください\n",
    "#_COMMENT_IF(PROD)_本番環境では非表示\n",
    "q3.solution()"
   ]
  },
  {
   "cell_type": "markdown",
   "metadata": {},
   "source": [
    "# 質問 4\n",
    "\n",
    "あなたは日本データの社員です。\n",
    "日本データでは、次のような料金プランを提供しています：\n",
    "\n",
    " 📶 **基本プラン**\n",
    "\n",
    "- 月額$100で15GBまでのデータ通信が可能です。\n",
    "- 15GBを超えた場合、追加データ分に対して $0.10/MB の超過料金がかかります。\n",
    "\n",
    " 💡 参考：1GB = 1,000MB（つまり、1GB超過ごとに $100 の追加料金）\n",
    "\n",
    "これはあくまで例えです。実際の料金体系とは異なります。\n",
    "\n",
    "🔧 **関数仕様**\n",
    "\n",
    "次のコードセルで、`get_phone_bill()` 関数を作成してください：\n",
    "\n",
    "```python\n",
    "def get_phone_bill(gb):\n",
    "```\n",
    "\n",
    "🧪 **使用例**\n",
    "\n",
    "- 引数 `gb`：顧客がその月に使用したデータ量（GB単位の`float`値）\n",
    "- 戻り値：合計料金（`float`型）\n",
    "\n",
    "📌 **注意事項**\n",
    "\n",
    "- 計算結果は`float`型で返してください（小数点以下も表示）。\n",
    "- 四捨五入はせず、そのままの値を返してください。\n",
    "- 必要であれば、GBとMBの換算には1000を使いましょう（1GB = 1000MB）。\n",
    "\n",
    "\n",
    "✍️ **やること**\n",
    "\n",
    "- 上記のルールにしたがって、関数`get_phone_bill()`を完成させてください。\n",
    "- if 文を使って、使用量が15GB以下かどうかを判定しましょう。\n"
   ]
  },
  {
   "cell_type": "code",
   "execution_count": null,
   "metadata": {
    "execution": {
     "iopub.execute_input": "2022-03-04T20:34:33.092101Z",
     "iopub.status.busy": "2022-03-04T20:34:33.091745Z",
     "iopub.status.idle": "2022-03-04T20:34:33.101817Z",
     "shell.execute_reply": "2022-03-04T20:34:33.100994Z",
     "shell.execute_reply.started": "2022-03-04T20:34:33.092066Z"
    }
   },
   "outputs": [],
   "source": [
    "# ⛏️ TODO: 関数を完成させてください。\n",
    "# このプランでは、15GBまでは固定料金（$100）です。\n",
    "# 15GBを超える分については、1MBあたり $0.10 の追加料金がかかります。\n",
    "# たとえば 15.1GB 使用した場合は、100MB 超過となり追加で $10 が加算されます。\n",
    "# \n",
    "# 現在のコードでは仮に「100ドル」と固定で返すようになっていますが、\n",
    "# 入力された GB の値に応じて正しく料金を計算するようにしてください。\n",
    "# \n",
    "# ヒント：\n",
    "# - if 文を使って 15GB を超えたかどうかを判定しましょう\n",
    "# - 1GB = 1000MB を使って、追加料金を計算できます\n",
    "\n",
    "def get_phone_bill(gb):\n",
    "    bill = 100  # ← このままだと常に100ドルが返されてしまいます（未完成）\n",
    "    return bill\n",
    "\n",
    "# ✅ 結果を確認してみましょう\n",
    "q4.check()\n"
   ]
  },
  {
   "cell_type": "code",
   "execution_count": null,
   "metadata": {},
   "outputs": [],
   "source": [
    "#%%RM_IF(PROD)%%（開発者向け：本番環境では非表示）\n",
    "def get_phone_bill(gb):\n",
    "    # 顧客全員が月額$100を支払います。\n",
    "    bill = 100\n",
    "    overage_fee = 100 * gb\n",
    "    bill = bill + overage_fee\n",
    "    return bill\n",
    "\n",
    "q4.assert_check_failed()"
   ]
  },
  {
   "cell_type": "code",
   "execution_count": null,
   "metadata": {},
   "outputs": [],
   "source": [
    "#%%RM_IF(PROD)%%（開発者向け：本番環境では非表示）\n",
    "def get_phone_bill(gb):\n",
    "    if gb <= 15:\n",
    "        bill = 100\n",
    "    else:\n",
    "        bill = 100 + (gb - 15) * 100\n",
    "    return bill\n",
    "\n",
    "q4.assert_check_passed()"
   ]
  },
  {
   "cell_type": "code",
   "execution_count": null,
   "metadata": {
    "execution": {
     "iopub.execute_input": "2022-03-04T20:34:33.103212Z",
     "iopub.status.busy": "2022-03-04T20:34:33.102859Z",
     "iopub.status.idle": "2022-03-04T20:34:33.113856Z",
     "shell.execute_reply": "2022-03-04T20:34:33.113164Z",
     "shell.execute_reply.started": "2022-03-04T20:34:33.103179Z"
    }
   },
   "outputs": [],
   "source": [
    "# ヒントを見るにはコメントアウトを解除してください\n",
    "#_COMMENT_IF(PROD)_本番環境では非表示\n",
    "q4.hint()\n",
    "\n",
    "# 解答を確認するにはコメントアウトを解除してください\n",
    "#_COMMENT_IF(PROD)_本番環境では非表示\n",
    "q4.solution()"
   ]
  },
  {
   "cell_type": "markdown",
   "metadata": {},
   "source": [
    "# 🌶️ 質問 5\n",
    "\n",
    "あなたはメキシコの食品表示システムを扱う開発チームに所属しています。  \n",
    "この国では、健康に影響を与える可能性のある食品に「警告ラベル」を表示する制度があります。\n",
    "\n",
    "たとえば、ある[クッキーのパッケージ](https://world.openfoodfacts.org/product/7501000673209/florentinas-gamesa)には、以下のラベルが表示されています：\n",
    "\n",
    "- **EXCESO CALORÍAS**（過剰カロリー）\n",
    "- **EXCESO AZÚCARES**（過剰砂糖）\n",
    "\n",
    "<center><img src=\"https://storage.googleapis.com/kaggle-media/learn/images/VXYKHnM.png\" alt=\"drawing\" width=\"500\"/></center>\n",
    "\n",
    " 🔧 **やること**\n",
    "\n",
    "次の関数 `get_labels()` を完成させましょう。  \n",
    "この関数は、1回分の栄養情報に基づいて、**必要な警告ラベルの一覧を返す**ものです。\n",
    "\n",
    "```python\n",
    "def get_labels(\n",
    "    food_type,               # \"solid\" または \"liquid\"\n",
    "    serving_size,            # 1回分のサイズ（g または ml）\n",
    "    calories_per_serving,    # カロリー\n",
    "    saturated_fat_g,         # 飽和脂肪（g）\n",
    "    trans_fat_g,             # トランス脂肪（g）\n",
    "    sodium_mg,               # ナトリウム（mg）\n",
    "    sugars_g                 # 砂糖（g）\n",
    "):\n",
    "\n",
    "```\n",
    "\n",
    "🧠 **補足（気にしすぎなくてOK！）**\n",
    "この問題にはすでに excess_sugar() や excess_calories() などの補助関数が用意されています。\n",
    "それぞれの関数は 該当成分が基準を超えていると True を返す ようになっています。\n",
    "\n",
    "つまり、あなたのタスクは：\n",
    "\n",
    "- 各 excess_◯◯() 関数を呼び出し、\n",
    "- True であれば対応するラベル（例：\"EXCESS CALORIES\"）をリストに追加し、\n",
    "- 最終的にラベルの一覧を返すことです。\n",
    "\n"
   ]
  },
  {
   "cell_type": "code",
   "execution_count": null,
   "metadata": {},
   "outputs": [],
   "source": [
    "# 🚨 TODO: get_labels() 関数を完成させましょう。\n",
    "# この関数は、各成分が過剰かどうかをチェックし、必要な警告ラベルをリストで返します。\n",
    "# すでに用意されている excess_sugar() などの関数は、\n",
    "# 基準を超えた場合に True を返します。\n",
    "# \n",
    "# たとえば excess_sugar(...) が True であれば、\n",
    "# \"EXCESS SUGAR\" をラベルとして追加します。\n",
    "\n",
    "from learntools.intro_to_programming.ex4q5 import (\n",
    "    excess_sugar,\n",
    "    excess_saturated_fat,\n",
    "    excess_trans_fat,\n",
    "    excess_sodium,\n",
    "    excess_calories,\n",
    ")\n",
    "\n",
    "def get_labels(food_type, serving_size, calories_per_serving,\n",
    "               saturated_fat_g, trans_fat_g, sodium_mg, sugars_g):\n",
    "    \n",
    "    labels = []  # ここに該当するラベルを追加していきます\n",
    "    \n",
    "    if excess_sugar(sugars_g, calories_per_serving):\n",
    "        labels.append(\"EXCESS SUGAR\")\n",
    "    if excess_saturated_fat(saturated_fat_g, calories_per_serving):\n",
    "        labels.append(\"EXCESS SATURATED FAT\")\n",
    "    if excess_trans_fat(trans_fat_g, calories_per_serving):\n",
    "        labels.append(\"EXCESS TRANS FAT\")\n",
    "    if excess_sodium(calories_per_serving, sodium_mg):\n",
    "        labels.append(\"EXCESS SODIUM\")\n",
    "    if excess_calories(food_type, calories_per_serving, serving_size):\n",
    "        labels.append(\"EXCESS CALORIES\")\n",
    "    \n",
    "    return labels  # リストとして返します（print しません！）\n",
    "\n",
    "# ✅ 実行して、正しくラベルが返るか確認しましょう\n",
    "q5.check()\n"
   ]
  },
  {
   "cell_type": "markdown",
   "metadata": {},
   "source": [
    "次のコードセルでは、`get_labels()`を使用して食品に必要な警告ラベルを取得しています。最初に [ボローニャソーセージ](https://world.openfoodfacts.org/product/4099100179378/bologna)を例にとります。こちらが栄養情報の[画像](https://storage.googleapis.com/kaggle-media/learn/images/Cfcx72e.png)です。\n",
    "\n",
    "\n",
    "### 🎯 **get_labels() を試してみましょう**\n",
    "\n",
    "次は、関数 `get_labels()` を実際に使ってみます。\n",
    "\n",
    "例として、**ボローニャソーセージ**（[商品ページ](https://world.openfoodfacts.org/product/4099100179378/bologna)）を使います。  \n",
    "栄養成分は [こちらの画像](https://storage.googleapis.com/kaggle-media/learn/images/Cfcx72e.png) を参考にしています。\n",
    "\n",
    "\n",
    "### 🍖 **ボローニャソーセージのデータ（1回分）**\n",
    "\n",
    "| 項目 | 値 | 単位 |\n",
    "|------|----|------|\n",
    "| `food_type` | `\"solid\"` | 固形食品 |\n",
    "| `serving_size` | `32` | g |\n",
    "| `calories_per_serving` | `110` | kcal |\n",
    "| `saturated_fat_g` | `2.5` | g |\n",
    "| `trans_fat_g` | `0` | g |\n",
    "| `sodium_mg` | `400` | mg |\n",
    "| `sugars_g` | `1` | g （「<1g」だが、安全を見て 1g として扱います） |\n",
    "\n",
    "\n",
    "\n",
    "### ▶️ **この情報を使って関数を呼び出してみましょう**\n",
    "\n",
    "```python\n",
    "get_labels(\n",
    "    \"solid\",          # 固形食品\n",
    "    32,               # 1回分の量（g）\n",
    "    110,              # カロリー\n",
    "    2.5,              # 飽和脂肪（g）\n",
    "    0,                # トランス脂肪（g）\n",
    "    400,              # ナトリウム（mg）\n",
    "    1                 # 砂糖（g）\n",
    ")\n",
    "```"
   ]
  },
  {
   "cell_type": "code",
   "execution_count": null,
   "metadata": {},
   "outputs": [],
   "source": [
    "# 🍖 ボローニャソーセージ（固形食品）のラベルを確認します\n",
    "# 出典：https://world.openfoodfacts.org/product/4099100179378/bologna\n",
    "\n",
    "get_labels(\n",
    "    \"solid\",      # 固形食品\n",
    "    32,           # サービングサイズ（g）\n",
    "    110,          # カロリー\n",
    "    2.5,          # 飽和脂肪（g）\n",
    "    0,            # トランス脂肪（g）\n",
    "    400,          # ナトリウム（mg）\n",
    "    1             # 砂糖（g）\n",
    ")\n"
   ]
  },
  {
   "cell_type": "markdown",
   "metadata": {},
   "source": [
    "🤔 **なぜこのような出力になるのでしょう？**\n",
    "\n",
    "これはget_labels()関数の内部で\n",
    "飽和脂肪、カロリー、ナトリウムがそれぞれ基準を超えていると判定されたためです。\n",
    "\n",
    "👩‍💻 **補足**\n",
    "\n",
    "この演習では、あなた自身が excess_sugar() や excess_sodium() の中身を確認する必要はありません。\n",
    "それらはあらかじめ定義された関数であり、あなたはその「使い方」に集中すれば十分です。\n",
    "\n",
    "これは現実のプログラミングでもよくあることで、たとえば以下のような経験につながります：\n",
    "\n",
    "- 機械学習チュートリアルでは、scikit-learn というライブラリを使います\n",
    "- その内部のコードをすべて理解しなくても、関数を正しく使うだけで予測モデルが作れます"
   ]
  },
  {
   "cell_type": "markdown",
   "metadata": {},
   "source": [
    "\n",
    "🥣 **練習1：ズカリタスシリアルのラベルを予測してみましょう**\n",
    "\n",
    "次は、以下の食品を対象に `get_labels()` を自分で呼び出してみましょう。\n",
    "\n",
    "- [Zucaritas Kellogg's シリアル](https://world.openfoodfacts.org/product/7501008023624/zucaritas-kellogg-s)\n",
    "- 栄養情報の画像は [こちら](https://storage.googleapis.com/kaggle-media/learn/images/MUxzHVU.png)\n",
    "\n",
    " 📝 **やること**\n",
    "\n",
    "- 以下のコードセルの `get_labels()` の引数を、画像をもとに自分で入力してください。\n",
    "- 正しく値を入れれば、過剰成分に応じた警告ラベルがリストとして返されます。\n",
    "\n",
    "各引数の意味は次の通りです：\n",
    "\n",
    "```python\n",
    "get_labels(\n",
    "    food_type,             # \"solid\" または \"liquid\"\n",
    "    serving_size,          # サービングサイズ（gまたはml）\n",
    "    calories_per_serving,  # カロリー（kcal）\n",
    "    saturated_fat_g,       # 飽和脂肪（g）\n",
    "    trans_fat_g,           # トランス脂肪（g）\n",
    "    sodium_mg,             # ナトリウム（mg）\n",
    "    sugars_g               # 砂糖（g）\n",
    ")\n",
    "\n",
    "🔔 ヒント：数値は画像の成分表から読み取って入力しましょう。"
   ]
  },
  {
   "cell_type": "code",
   "execution_count": null,
   "metadata": {
    "execution": {
     "iopub.execute_input": "2022-03-04T20:34:33.172866Z",
     "iopub.status.busy": "2022-03-04T20:34:33.172546Z",
     "iopub.status.idle": "2022-03-04T20:34:33.181281Z",
     "shell.execute_reply": "2022-03-04T20:34:33.180468Z",
     "shell.execute_reply.started": "2022-03-04T20:34:33.172839Z"
    }
   },
   "outputs": [],
   "source": [
    "# ズカリタスシリアル https://world.openfoodfacts.org/product/7501008023624/zucaritas-kellogg-s\n",
    "# TODO: `get_labels()`を使ってシリアルのラベルを取得してください。\n",
    "get_labels(\n",
    "    \"solid\",       # 固形 or 液体\n",
    "    ___,           # サービングサイズ（g）\n",
    "    ___,           # カロリー\n",
    "    ___,           # 飽和脂肪（g）\n",
    "    ___,           # トランス脂肪（g）\n",
    "    ___,           # ナトリウム（mg）\n",
    "    ___            # 砂糖（g）\n",
    ")\n"
   ]
  },
  {
   "cell_type": "markdown",
   "metadata": {},
   "source": [
    "\n",
    "🧀 **練習2：モッツァレラスティックのラベル予測**\n",
    "今度は[モッツァレラスティック](https://world-es.openfoodfacts.org/producto/0062325540104/mozzarella-cheese-sticks)です。\n",
    "こちらも同様に、この[画像](https://storage.googleapis.com/kaggle-media/learn/images/rcdB7VH.png)を参考にして数値を入力してみましょう。\n",
    "\n"
   ]
  },
  {
   "cell_type": "code",
   "execution_count": null,
   "metadata": {},
   "outputs": [],
   "source": [
    "# TODO: 🧀 モッツァレラスティックのラベルを取得してみよう\n",
    "\n",
    "get_labels(\n",
    "    \"solid\",       # 固形 or 液体\n",
    "    ___,           # サービングサイズ（g）\n",
    "    ___,           # カロリー\n",
    "    ___,           # 飽和脂肪（g）\n",
    "    ___,           # トランス脂肪（g）\n",
    "    ___,           # ナトリウム（mg）\n",
    "    ___            # 砂糖（g）\n",
    ")\n"
   ]
  },
  {
   "cell_type": "markdown",
   "metadata": {},
   "source": [
    "# 🎉 おつかれさまでした！\n",
    "このチュートリアルでは、次のような内容を学びました：\n",
    "\n",
    "- if 文を使った条件分岐の書き方\n",
    "- 複数の条件を組み合わせて処理を変えるロジック\n",
    "- 他の人が定義した関数を信頼して使う方法\n",
    "- 実際の食品データをもとに関数を活用する応用力\n",
    "\n",
    "[**リスト**（Pythonのリストについて学ぶ）](./tut5.ipynb) に進みます。\n"
   ]
  }
 ],
 "metadata": {
  "kernelspec": {
   "display_name": "Python 3",
   "language": "python",
   "name": "python3"
  },
  "language_info": {
   "codemirror_mode": {
    "name": "ipython",
    "version": 3
   },
   "file_extension": ".py",
   "mimetype": "text/x-python",
   "name": "python",
   "nbconvert_exporter": "python",
   "pygments_lexer": "ipython3",
   "version": "3.6.5"
  }
 },
 "nbformat": 4,
 "nbformat_minor": 4
}
