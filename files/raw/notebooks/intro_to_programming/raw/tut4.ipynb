{
 "cells": [
  {
   "cell_type": "markdown",
   "metadata": {},
   "source": [
    "## 🧠 条件と条件文の紹介\n",
    "\n",
    "前回のチュートリアルでは、**関数に入力を与えると出力が変わる**ということを学びました。\n",
    "\n",
    "たとえば、どんな数でも 5 を加えて返す `add_five()` という関数があるとしましょう。\n",
    "\n",
    "* `add_five(7)` → `12`（7 + 5）\n",
    "* `add_five(8)` → `13`（8 + 5）\n",
    "\n",
    "この関数のように、**常に同じ処理を行う**ものもあります。\n",
    "\n",
    "\n",
    "\n",
    "ところが、現実の問題では「入力によって処理を変えたい」場面もよくあります。  \n",
    "たとえば、次のような関数を考えてみましょう：\n",
    "\n",
    "```python\n",
    "def add_three_or_eight(x):\n",
    "    if x < 10:\n",
    "        return x + 3\n",
    "    else:\n",
    "        return x + 8\n",
    "```\n",
    "\n",
    "この関数は、入力によって動作が変わります。\n",
    "\n",
    "* `add_three_or_eight(1)` → `4`（3 を加える）\n",
    "* `add_three_or_eight(11)` → `19`（8 を加える）\n",
    "\n",
    "\n",
    "\n",
    "このように、条件に応じて処理を切り替えるときに使うのが「**条件文**」です。  \n",
    "このチュートリアルでは、Python における条件文の使い方を、わかりやすく学んでいきましょう。\n",
    "\n",
    "\n"
   ]
  },
  {
   "cell_type": "markdown",
   "metadata": {},
   "source": [
    "## ⚙️ 環境セットアップ（Pyodide）\n",
    "\n",
    "このノートブックでは、次の手順で**環境を準備**します：\n",
    "\n",
    "1. **learntools パッケージのインストール**"
   ]
  },
  {
   "cell_type": "code",
   "execution_count": null,
   "metadata": {},
   "outputs": [],
   "source": [
    "\n",
    "\n",
    "import micropip\n",
    "\n",
    "await micropip.install(\"https://capri7.github.io/programming-intro-ja/files/raw/packages/learntools-0.3.5-py3-none-any.whl\")\n"
   ]
  },
  {
   "cell_type": "markdown",
   "metadata": {},
   "source": [
    "\n",
    "2. **標準ライブラリのインストール**"
   ]
  },
  {
   "cell_type": "code",
   "execution_count": null,
   "metadata": {},
   "outputs": [],
   "source": [
    "\n",
    "\n",
    "await micropip.install([\"numpy\", \"pandas\", \"matplotlib\"])\n",
    "\n"
   ]
  },
  {
   "cell_type": "markdown",
   "metadata": {},
   "source": [
    "\n",
    "3. **グローバル変数のバインド**"
   ]
  },
  {
   "cell_type": "code",
   "execution_count": null,
   "metadata": {},
   "outputs": [],
   "source": [
    "\n",
    "\n",
    "from learntools.core import binder\n",
    "binder.bind(globals())\n",
    "print(\"✅ Setup complete\")\n",
    "\n"
   ]
  },
  {
   "cell_type": "markdown",
   "metadata": {},
   "source": [
    "## 📘 条件\n",
    "\n",
    "プログラムでは、「ある条件が成り立っているかどうか」を判定することがよくあります。  \n",
    "このような条件は、**`True`（真）または `False`（偽）** のいずれかの値になります。\n",
    "\n",
    "Python では、**2つの値を比較する**ことで条件を作るのが一般的です。\n",
    "\n",
    "\n",
    "\n",
    "たとえば、次のようなコードを見てみましょう。"
   ]
  },
  {
   "cell_type": "code",
   "execution_count": null,
   "metadata": {
    "execution": {
     "iopub.execute_input": "2022-03-14T18:49:02.822463Z",
     "iopub.status.busy": "2022-03-14T18:49:02.822109Z",
     "iopub.status.idle": "2022-03-14T18:49:02.854066Z",
     "shell.execute_reply": "2022-03-14T18:49:02.853294Z",
     "shell.execute_reply.started": "2022-03-14T18:49:02.822378Z"
    }
   },
   "outputs": [],
   "source": [
    "\n",
    "print(2 > 3)"
   ]
  },
  {
   "cell_type": "markdown",
   "metadata": {},
   "source": [
    "これは、「2は3より大きいか？」という条件です。  \n",
    "結果は `False` になります。なぜなら、**この条件は成り立たないから**です。\n",
    "\n",
    "\n",
    "\n",
    "次に、**変数の値を使って条件を判定する**例を見てみましょう。\n",
    "\n",
    "まず、以下のような変数を定義します："
   ]
  },
  {
   "cell_type": "code",
   "execution_count": null,
   "metadata": {},
   "outputs": [],
   "source": [
    "\n",
    "var_one = 1\n",
    "var_two = 2\n"
   ]
  },
  {
   "cell_type": "markdown",
   "metadata": {},
   "source": [
    "\n",
    "これらを使って、次のような条件を判定できます："
   ]
  },
  {
   "cell_type": "code",
   "execution_count": null,
   "metadata": {},
   "outputs": [],
   "source": [
    "\n",
    "\n",
    "print(var_one < 1)\n",
    "print(var_two >= var_one)\n",
    "\n"
   ]
  },
  {
   "cell_type": "markdown",
   "metadata": {},
   "source": [
    "このときの出力は以下のとおりです：\n",
    "\n",
    "* `var_one < 1` → `False`（1 は 1 より小さくない）\n",
    "* `var_two >= var_one` → `True`（2 は 1 以上）\n",
    "\n",
    "\n",
    "\n",
    "このように、**比較演算子**を使うことで、値や変数の間に成り立つ関係を調べることができます。  \n",
    "次のセクションでは、代表的な**比較演算子の一覧**を紹介していきます。"
   ]
  },
  {
   "cell_type": "markdown",
   "metadata": {},
   "source": [
    "## 🔍 よく使われる比較演算子\n",
    "\n",
    "条件文を使うときには、値を比べるための「**比較演算子**」が必要になります。  \n",
    "Python で条件を構成するときに、よく使う演算子は以下の通りです。\n",
    "\n",
    " 💡 各演算子が「**どういう意味で使われるのか**」を確認しておきましょう。\n",
    "\n",
    "| 記号   | 意味    |\n",
    "| ---- | ----- |\n",
    "| `==` | 等しい   |\n",
    "| `!=` | 等しくない |\n",
    "| `<`  | より小さい |\n",
    "| `<=` | 以下    |\n",
    "| `>`  | より大きい |\n",
    "| `>=` | 以上    |\n",
    "\n",
    "\n",
    "\n",
    "### 📘 たとえば…\n",
    "\n",
    "```python\n",
    "x = 3\n",
    "print(x == 3)   # True（x は 3 と等しい）\n",
    "print(x != 5)   # True（x は 5 と等しくない）\n",
    "print(x < 10)   # True（x は 10 より小さい）\n",
    "```\n",
    "\n",
    "\n",
    "\n",
    "次のセクションでは、これらの演算子を条件文（**if文**）と一緒に使ってみましょう。\n",
    "\n",
    "\n"
   ]
  },
  {
   "cell_type": "markdown",
   "metadata": {},
   "source": [
    "### ⚠️ 注意：「=\\`」と「==」の違いに気をつけましょう！\n",
    "\n",
    "Pythonでは、**見た目が似ていても意味がまったく異なる記号**があります。\n",
    "\n",
    "\n",
    "\n",
    "| 記号   | 種類    | 意味                   |\n",
    "| ---- | ----- | -------------------- |\n",
    "| `==` | 比較演算子 | **左右の値が等しいかどうかを調べる** |\n",
    "| `=`  | 代入演算子 | **右の値を左の変数に代入する**    |\n",
    "\n",
    "\n",
    "\n",
    "たとえば：\n",
    "\n",
    "* `var_one == 1` → `var_one` の値が **1と等しいかを判定する**（条件式）\n",
    "* `var_one = 1` → `var_one` に **1を代入する**（代入文）\n",
    "\n",
    "\n",
    "\n",
    " 🔎 **似ているようで意味がまったく異なります。**  \n",
    " 条件式を書くときに、間違って `=` を使ってしまうとエラーになります。\n",
    "\n",
    "\n",
    "\n",
    "この注意点をおさえたうえで、次は実際に **`if` 文** を使ってみましょう！\n",
    "\n",
    "\n"
   ]
  },
  {
   "cell_type": "markdown",
   "metadata": {},
   "source": [
    "## 🔀 条件文（if 文）\n",
    "\n",
    "**条件文**を使うと、ある条件が成り立っているときだけ、特定の処理を実行することができます。\n",
    "\n",
    "* 条件が `True` のとき → コードが実行される\n",
    "* 条件が `False` のとき → そのコードはスキップされる\n",
    "\n",
    "このようにして、**入力や状況に応じてプログラムの流れを変える**ことができます。\n",
    "\n",
    "\n",
    "\n",
    "### 🧪 例：if 文の使い方\n",
    "\n",
    "最もシンプルな条件文が **`if` 文** です。\n",
    "\n",
    "次の `evaluate_temp()` 関数では、体温（摂氏）を入力として受け取り、  \n",
    "条件に応じて異なるメッセージを返します。\n"
   ]
  },
  {
   "cell_type": "code",
   "execution_count": null,
   "metadata": {
    "execution": {
     "iopub.execute_input": "2022-03-14T18:49:02.863228Z",
     "iopub.status.busy": "2022-03-14T18:49:02.862629Z",
     "iopub.status.idle": "2022-03-14T18:49:02.875031Z",
     "shell.execute_reply": "2022-03-14T18:49:02.874011Z",
     "shell.execute_reply.started": "2022-03-14T18:49:02.863181Z"
    }
   },
   "outputs": [],
   "source": [
    "\n",
    "\n",
    "def evaluate_temp(temp):\n",
    "    # 初期メッセージを設定\n",
    "    message = \"Normal temperature.\"\n",
    "    # 温度が38°Cを超えている場合のみメッセージを更新\n",
    "    if temp > 38:\n",
    "        message = \"Fever!\"\n",
    "    return message\n"
   ]
  },
  {
   "cell_type": "markdown",
   "metadata": {},
   "source": [
    "この関数では、`temp` が 38 を超えているときだけ `\"Fever!\"` が表示されます。\n",
    "\n",
    "\n",
    "\n",
    "💡 **補足：インデント（字下げ）に注意！**\n",
    "\n",
    "Python では、`if` 文の中で実行したい処理は、**インデントして書く**必要があります。\n",
    "\n",
    "* `message = \"Fever!\"` は `if` の条件が `True` のときだけ実行されます\n",
    "* `return message` は `if` の外にあるため、**常に実行されます**\n",
    "\n",
    "\n",
    "\n",
    "📌 それでは次に、「if / else 文」を使って**2通りの処理を切り替える**方法を学んでいきましょう。\n",
    "\n",
    "\n"
   ]
  },
  {
   "cell_type": "markdown",
   "metadata": {},
   "source": [
    "### 🧪 `if` 文の動作確認\n",
    "\n",
    "次のコードでは、体温が `37°C` のときに `evaluate_temp()` 関数を呼び出しています。\n"
   ]
  },
  {
   "cell_type": "code",
   "execution_count": null,
   "metadata": {
    "execution": {
     "iopub.execute_input": "2022-03-14T18:49:02.876814Z",
     "iopub.status.busy": "2022-03-14T18:49:02.876461Z",
     "iopub.status.idle": "2022-03-14T18:49:02.890687Z",
     "shell.execute_reply": "2022-03-14T18:49:02.889992Z",
     "shell.execute_reply.started": "2022-03-14T18:49:02.876778Z"
    }
   },
   "outputs": [],
   "source": [
    "\n",
    "\n",
    "print(evaluate_temp(37))\n"
   ]
  },
  {
   "cell_type": "markdown",
   "metadata": {},
   "source": [
    "このとき：\n",
    "\n",
    "* `temp > 38` は `False` なので、`if` 文の中は実行されません\n",
    "* メッセージは更新されず、**\"Normal temperature.\"** が返されます\n",
    "\n",
    "\n",
    "\n",
    "今度は、体温が `39°C` のときに関数を呼び出してみましょう。"
   ]
  },
  {
   "cell_type": "code",
   "execution_count": null,
   "metadata": {},
   "outputs": [],
   "source": [
    "\n",
    "\n",
    "print(evaluate_temp(39))\n",
    "\n"
   ]
  },
  {
   "cell_type": "markdown",
   "metadata": {},
   "source": [
    "\n",
    "このとき：\n",
    "\n",
    "* `temp > 38` は `True` なので、`message` が `\"Fever!\"` に更新されます\n",
    "* 結果として、**\"Fever!\"** が返されます\n",
    "\n",
    "\n",
    "\n",
    "このように、**`if` 文によって、条件に応じてプログラムの挙動を切り替える**ことができます。\n",
    "\n",
    "次は、**`else` 文**を使って、`True` でも `False` でも**どちらかを必ず実行する**方法を学びましょう。\n",
    "\n",
    "\n"
   ]
  },
  {
   "cell_type": "markdown",
   "metadata": {},
   "source": [
    "### 🔄 `if ... else` 文\n",
    "\n",
    "`else` 文を使うと、**条件が `False` のときに実行されるコード**を明示的に指定できます。\n",
    "\n",
    "\n",
    "\n",
    "#### 🧠 しくみのまとめ：\n",
    "\n",
    "* 条件が `True` のとき → `if` の中の処理が実行される\n",
    "* 条件が `False` のとき → `else` の中の処理が実行される\n",
    "\n",
    "\n",
    "\n",
    "#### 🧪 例：if ... else の使い方\n",
    "\n",
    "次の関数では、体温に応じて異なるメッセージを返します。"
   ]
  },
  {
   "cell_type": "code",
   "execution_count": null,
   "metadata": {
    "execution": {
     "iopub.execute_input": "2022-03-14T18:49:02.905139Z",
     "iopub.status.busy": "2022-03-14T18:49:02.904890Z",
     "iopub.status.idle": "2022-03-14T18:49:02.916910Z",
     "shell.execute_reply": "2022-03-14T18:49:02.915932Z",
     "shell.execute_reply.started": "2022-03-14T18:49:02.905110Z"
    }
   },
   "outputs": [],
   "source": [
    "\n",
    "\n",
    "def evaluate_temp_with_else(temp):\n",
    "    if temp > 38:\n",
    "        message = \"Fever!\"\n",
    "    else:\n",
    "        message = \"Normal temperature.\"\n",
    "    return message\n"
   ]
  },
  {
   "cell_type": "markdown",
   "metadata": {},
   "source": [
    "この関数は、前に紹介した `evaluate_temp()` 関数と**同じ動作**をしますが、  \n",
    "`if` に加えて `else` を使うことで、コードの意図がより明確になります。\n",
    "\n",
    "\n",
    "\n",
    "次に、体温が `37°C` のときに実行してみましょう：\n",
    "\n"
   ]
  },
  {
   "cell_type": "code",
   "execution_count": null,
   "metadata": {
    "execution": {
     "iopub.execute_input": "2022-03-14T18:49:02.918375Z",
     "iopub.status.busy": "2022-03-14T18:49:02.918130Z",
     "iopub.status.idle": "2022-03-14T18:49:02.930878Z",
     "shell.execute_reply": "2022-03-14T18:49:02.930242Z",
     "shell.execute_reply.started": "2022-03-14T18:49:02.918344Z"
    }
   },
   "outputs": [],
   "source": [
    "\n",
    "\n",
    "print(evaluate_temp_with_else(37))\n",
    "\n"
   ]
  },
  {
   "cell_type": "markdown",
   "metadata": {},
   "source": [
    "このとき：\n",
    "\n",
    "* `temp > 38` は `False` なので、`else` の中が実行されます\n",
    "* 結果として、**\"Normal temperature.\"** が返されます\n",
    "\n",
    "\n",
    "\n",
    "このように、`if` と `else` を使えば、**どちらか一方の処理が必ず実行される**構造になります。\n",
    "\n",
    "次のセクションでは、**さらに複雑な条件分岐ができる `elif`** を紹介します。\n",
    "\n"
   ]
  },
  {
   "cell_type": "markdown",
   "metadata": {},
   "source": [
    "## 🧭 `if ... elif ... else` 文\n",
    "\n",
    "`elif` を使うと、**複数の条件を順番にチェック**できます。\n",
    "\n",
    "* `elif` は `\"else if\"` の略\n",
    "* 最初の `if` が `False` のときに、**新しい条件**を確認します\n",
    "* すべての条件が `False` だった場合に、`else` が実行されます\n",
    "\n",
    "\n",
    "\n",
    "### 🧪 例：複数の条件を確認する\n",
    "\n",
    "次の関数では、体温に応じて次のようにメッセージを返します："
   ]
  },
  {
   "cell_type": "code",
   "execution_count": null,
   "metadata": {},
   "outputs": [],
   "source": [
    "\n",
    "\n",
    "def evaluate_temp_with_elif(temp):\n",
    "    # 38度を超えている場合\n",
    "    if temp > 38:\n",
    "        message = \"Fever!\"\n",
    "    # 35度より高い（38度以下）の場合\n",
    "    elif temp > 35:\n",
    "        message = \"Normal temperature.\"\n",
    "    # それ以外（35度以下）の場合\n",
    "    else:\n",
    "        message = \"Low temperature.\"\n",
    "    return message\n"
   ]
  },
  {
   "cell_type": "markdown",
   "metadata": {},
   "source": [
    "#### 🔍 条件の流れ：\n",
    "\n",
    "* `temp > 38` が `True` → `\"Fever!\"`\n",
    "* `temp > 35` が `True` → `\"Normal temperature.\"`\n",
    "* それ以外（35以下） → `\"Low temperature.\"`\n",
    "\n",
    "---\n",
    "\n",
    "#### 🧪 実行してみましょう\n",
    "\n",
    "いくつかの異なる体温で試して、結果を比較してみます：\n",
    "\n"
   ]
  },
  {
   "cell_type": "code",
   "execution_count": null,
   "metadata": {},
   "outputs": [],
   "source": [
    "\n",
    "\n",
    "# 39°C：Fever!（if が実行される）\n",
    "print(\"39°C:\", evaluate_temp_with_elif(39))\n",
    "\n",
    "# 36.5°C：Normal temperature.（elif が実行される）\n",
    "print(\"36.5°C:\", evaluate_temp_with_elif(36.5))\n",
    "\n",
    "# 35°C：Low temperature.（else が実行される）\n",
    "print(\"35°C:\", evaluate_temp_with_elif(34))\n",
    "\n",
    "\n"
   ]
  },
  {
   "cell_type": "markdown",
   "metadata": {},
   "source": [
    "このように、`if ... elif ... else` を使うと、  \n",
    "**段階的に条件を分けて処理を切り替える**ことができます。\n"
   ]
  },
  {
   "cell_type": "markdown",
   "metadata": {},
   "source": [
    "#### 🔍 処理の流れを確認してみましょう\n",
    "\n",
    "この関数では、次のような順番で条件が確認されます：\n",
    "\n",
    "1. 最初に `temp > 38` をチェックし、`True` なら `\"Fever!\"` を設定\n",
    "2. `temp <= 38` のときは、次に `temp > 35` をチェックし、`True` なら `\"Normal temperature.\"` を設定\n",
    "3. どちらにも当てはまらない場合（`temp <= 35`）は、`else` に進み `\"Low temperature.\"` を設定\n",
    "\n",
    "\n",
    "\n",
    "このように、`if` が成り立たなかったときに `elif` で次の条件を確認し、  \n",
    "それも成り立たなければ `else` に進む――という**順番で処理が進みます。**\n",
    "\n",
    "\n"
   ]
  },
  {
   "cell_type": "markdown",
   "metadata": {},
   "source": [
    "### 💰 例 - 計算に条件文を使う\n",
    "\n",
    "これまでの例では、条件文を使って **メッセージなどの値を設定する**方法を学びました。  \n",
    "しかし、**条件によって異なる計算を行う**こともできます。\n",
    "\n",
    "\n",
    "\n",
    "#### 🧪 例：税金を計算する関数\n",
    "\n",
    "次の `get_taxes()` 関数では、収入に応じて支払う税金の金額を計算します：\n",
    "\n",
    "* 収入が **12,000ドル未満** → 税率 **25%（0.25）**\n",
    "* 収入が **12,000ドル以上** → 税率 **30%（0.30）**\n"
   ]
  },
  {
   "cell_type": "code",
   "execution_count": null,
   "metadata": {
    "execution": {
     "iopub.execute_input": "2022-03-14T18:49:02.973984Z",
     "iopub.status.busy": "2022-03-14T18:49:02.973731Z",
     "iopub.status.idle": "2022-03-14T18:49:02.983563Z",
     "shell.execute_reply": "2022-03-14T18:49:02.982623Z",
     "shell.execute_reply.started": "2022-03-14T18:49:02.973954Z"
    }
   },
   "outputs": [],
   "source": [
    "\n",
    "\n",
    "\n",
    "def get_taxes(earnings):\n",
    "    if earnings < 12000:\n",
    "        tax_owed = 0.25 * earnings\n",
    "    else:\n",
    "        tax_owed = 0.30 * earnings\n",
    "    return tax_owed\n",
    "\n",
    "\n",
    "\n"
   ]
  },
  {
   "cell_type": "markdown",
   "metadata": {},
   "source": [
    "次のコードでは、`get_taxes()` 関数を使って、2人の支払うべき税金を計算し、  \n",
    "それぞれの金額を表示しています。\n",
    "\n",
    "- `ana_taxes` は収入が 9000 ドルのケース（25%の税率）\n",
    "- `bob_taxes` は収入が 15000 ドルのケース（30%の税率）\n",
    "\n",
    "それぞれ、どの条件が適用されたかもあわせて確認してみましょう。  \n",
    "この関数では、**収入額に応じて適用される税率が変わり、それに応じた税金額が計算されます。**\n",
    "\n",
    "\n",
    "### 🧪 税金を計算してみましょう\n",
    "\n",
    "次のコードでは、2人の税金を計算して表示しています。\n"
   ]
  },
  {
   "cell_type": "code",
   "execution_count": null,
   "metadata": {
    "execution": {
     "iopub.execute_input": "2022-03-14T18:49:02.988005Z",
     "iopub.status.busy": "2022-03-14T18:49:02.987764Z",
     "iopub.status.idle": "2022-03-14T18:49:02.999388Z",
     "shell.execute_reply": "2022-03-14T18:49:02.998678Z",
     "shell.execute_reply.started": "2022-03-14T18:49:02.987976Z"
    }
   },
   "outputs": [],
   "source": [
    "\n",
    "\n",
    "ana_taxes = get_taxes(9000)    # anaさん：9000ドルの収入 → 税率25%\n",
    "bob_taxes = get_taxes(15000)   # bobさん：15000ドルの収入 → 税率30%\n",
    "\n",
    "print(ana_taxes)  # anaさんの税金\n",
    "print(bob_taxes)  # bobさんの税金\n",
    "\n",
    "\n",
    "\n"
   ]
  },
  {
   "cell_type": "markdown",
   "metadata": {},
   "source": [
    "このように、`if ... else` 文を使えば、**条件に応じて異なる数式や処理を選ぶ**ことができます。  \n",
    "分岐するのは**出力内容だけではない**、ということが実感できたのではないでしょうか。\n",
    "\n",
    "\n"
   ]
  },
  {
   "cell_type": "markdown",
   "metadata": {},
   "source": [
    "### 🔎 処理を詳しく見てみましょう\n",
    "\n",
    "\n",
    "\n",
    "#### ✅ `ana_taxes` の場合\n",
    "\n",
    "ana さんは **9,000ドル** を稼いでいるので、次のように計算されます：\n",
    "\n",
    "```python\n",
    "get_taxes(9000)\n",
    "```\n",
    "\n",
    "* 収入は **12,000ドル未満** なので、税率は **25%**（0.25）\n",
    "* 計算：`9000 × 0.25 = 2250`\n",
    "* 結果：**2,250ドル** の税金がかかります\n",
    "\n",
    "\n",
    "\n",
    "#### ✅ `bob_taxes` の場合\n",
    "\n",
    "bob さんは **15,000ドル** を稼いでいるので、次のように計算されます：\n",
    "\n",
    "```python\n",
    "get_taxes(15000)\n",
    "```\n",
    "\n",
    "* 収入は **12,000ドル以上** なので、税率は **30%**（0.30）\n",
    "* 計算：`15000 × 0.30 = 4500`\n",
    "* 結果：**4,500ドル** の税金がかかります\n",
    "\n",
    "\n",
    "\n",
    "このように、`get_taxes()` 関数を使えば、**収入に応じて異なる計算を行う処理**を、  \n",
    "とてもシンプルに書くことができます。\n",
    "\n",
    "\n"
   ]
  },
  {
   "cell_type": "markdown",
   "metadata": {},
   "source": [
    "#### 💡 振り返り\n",
    "\n",
    "このノートブックの冒頭で紹介した `add_three_or_eight()` 関数を覚えていますか？\n",
    "\n",
    "この関数は、数字を入力として受け取り、\n",
    "\n",
    "* **10 未満なら 3 を加える**\n",
    "* **10 以上なら 8 を加える**\n",
    "\n",
    "というルールで、新しい値を返す関数でした。\n",
    "\n",
    "\n",
    "\n",
    "#### 📘 練習：`add_three_or_eight()` 関数を書いてみましょう\n",
    "\n",
    "この関数では、条件に応じて異なる値を加える処理を行います：\n",
    "\n",
    "* 入力が **10 未満** → `3` を加える\n",
    "* 入力が **10 以上** → `8` を加える\n",
    "\n",
    "\n",
    "\n",
    "👉 実際にこの関数を書いてみましょう。  \n",
    "次の演習ノートブック `ex4.ipynb` の**問題6** で、この関数を定義する問題に挑戦できます。\n",
    "\n"
   ]
  },
  {
   "cell_type": "markdown",
   "metadata": {},
   "source": [
    "### 🧪 例 - 複数の `elif` 文\n",
    "\n",
    "ここまでは、`elif` を **1回だけ使った例** を紹介してきました。  \n",
    "しかし実際には、`elif` は **必要なだけ何回でも使うことができます。**\n",
    "\n",
    "\n",
    "\n",
    "次の関数では、**体重（kg）に応じて子どもに投与する薬の量（ml）** を決定しています。  \n",
    "📎 **注意：この関数は実際の医療には使用できません。教材用の架空のロジックです。**\n",
    "\n"
   ]
  },
  {
   "cell_type": "code",
   "execution_count": null,
   "metadata": {},
   "outputs": [],
   "source": [
    "\n",
    "\n",
    "def get_dose(weight):\n",
    "    # 体重が 5.2 kg 未満の場合、投与量は 1.25 ml\n",
    "    if weight < 5.2:\n",
    "        dose = 1.25\n",
    "    elif weight < 7.9:\n",
    "        dose = 2.5\n",
    "    elif weight < 10.4:\n",
    "        dose = 3.75\n",
    "    elif weight < 15.9:\n",
    "        dose = 5\n",
    "    elif weight < 21.2:\n",
    "        dose = 7.5\n",
    "    # 体重が 21.2 kg 以上の場合、投与量は 10 ml\n",
    "    else:\n",
    "        dose = 10\n",
    "    return dose\n",
    "\n"
   ]
  },
  {
   "cell_type": "markdown",
   "metadata": {},
   "source": [
    "#### ⛏️ 実行してみましょう\n",
    "\n",
    "次のコードで関数を呼び出して、**さまざまな体重に対して正しい投与量が返ってくるか**を確認してみます。\n"
   ]
  },
  {
   "cell_type": "code",
   "execution_count": null,
   "metadata": {},
   "outputs": [],
   "source": [
    "\n",
    "\n",
    "print(get_dose(4.8))   # 1.25\n",
    "print(get_dose(6.0))   # 2.5\n",
    "print(get_dose(10.0))  # 3.75\n",
    "print(get_dose(15.0))  # 5\n",
    "print(get_dose(21.5))  # 10\n",
    "\n",
    "\n"
   ]
  },
  {
   "cell_type": "markdown",
   "metadata": {},
   "source": [
    "#### 📘 解説\n",
    "\n",
    "* 最初の `if` が `False` の場合、すべての `elif` が **順番に評価**されます。\n",
    "* 条件が `True` になった `elif` が見つかったら、**そのブロックの処理だけが実行**されます。\n",
    "* それ以降の `elif` や `else` は **スキップされます。**\n",
    "* 最後に、`dose` の値が `return` によって関数の出力として返されます。\n",
    "\n",
    "\n",
    "\n",
    "🔎 **ここで最も重要なのは、「`elif` の順番」です！**\n",
    "\n",
    "もし `elif` の順番を間違えると、**条件の流れが崩れ、結果も正しくなくなる**おそれがあります。\n",
    "\n",
    "\n",
    "\n",
    "#### ❌ 順番を間違えた例\n",
    "\n",
    "以下のように、**大きい条件を先に書いてしまう**と…\n",
    "\n",
    "```python\n",
    "# 間違った順番の例（より大きな条件が先に来てしまっている）\n",
    "if weight < 21.2:\n",
    "    dose = 7.5\n",
    "elif weight < 5.2:\n",
    "    dose = 1.25\n",
    "```\n",
    "\n",
    "この場合、体重が 5kg の人でも最初の `if weight < 21.2` に当てはまってしまうため、  \n",
    "**7.5ml が返されてしまう**という、重大なロジックエラーになります。\n",
    "\n",
    "\n",
    "\n",
    "📌 このように、**複数の条件を扱うときは、「小さい条件から順に並べる」ことがとても大切です。**\n",
    "\n",
    "\n"
   ]
  },
  {
   "cell_type": "markdown",
   "metadata": {},
   "source": [
    "## 🎯 チュートリアルのまとめ\n",
    "\n",
    "ここまでの内容で、**条件文（`if` / `elif` / `else`）の基本的な使い方**を学びました。  \n",
    "\n",
    "コードの流れを条件によって変える方法が、  \n",
    "少しずつイメージできるようになってきたのではないでしょうか。\n",
    "\n",
    "\n",
    "\n",
    "### 📌 このチュートリアルで学んだこと\n",
    "\n",
    "* `if` 文を使って、条件が成り立つときだけ処理を実行する方法\n",
    "* `else` を使って、条件が成り立たないときの処理を指定する方法\n",
    "* `elif` を使って、**複数の条件を順に評価する方法**\n",
    "* **条件の順番が重要であること**（誤った順番がバグにつながる）\n",
    "* 条件文を使って、**値の設定だけでなく計算処理も切り替えられること**\n",
    "\n",
    "\n",
    "\n",
    "次は、実際にコードを書いて確認する「演習編」です。\n",
    "\n",
    "👉 準備ができたら、以下のリンクから演習に進んでみましょう。\n",
    "\n",
    "[**条件と条件文**（conditionals and conditional statements）](./ex4.ipynb)\n",
    "\n",
    "\n"
   ]
  },
  {
   "cell_type": "markdown",
   "metadata": {},
   "source": []
  }
 ],
 "metadata": {
  "kernelspec": {
   "display_name": "Python 3",
   "language": "python",
   "name": "python3"
  },
  "language_info": {
   "codemirror_mode": {
    "name": "ipython",
    "version": 3
   },
   "file_extension": ".py",
   "mimetype": "text/x-python",
   "name": "python",
   "nbconvert_exporter": "python",
   "pygments_lexer": "ipython3",
   "version": "3.6.5"
  }
 },
 "nbformat": 4,
 "nbformat_minor": 4
}
