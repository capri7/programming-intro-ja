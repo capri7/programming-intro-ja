{
 "cells": [
  {
   "cell_type": "markdown",
   "metadata": {},
   "source": [
    "# 条件と条件文の紹介\n",
    "\n",
    "すでに、関数の入力値を変更すると、異なる出力が得られることを見てきました。例えば、任意の数に5を加えて結果を返す`add_five()`関数を考えてみましょう。`add_five(7)`を実行すると、出力は12になります (=7+5)。また、`add_five(8)`を実行すると、出力は 13 になります (=8+5)。ここで注目すべきは、入力が何であれ、関数が行う動作は常に同じだという点です：常に5を加えます。\n",
    "\n",
    "しかし、入力に依存して動作が変わる関数が必要な場合もあります。例えば、入力が10未満なら3を加え、10以上なら8を加える`add_three_or_eight()`関数が必要になるかもしれません。こうすると、`add_three_or_eight(1)` は 4 (= 1+3) を返し、`add_three_or_eight(11)`は 19 (=11+8) を返します。この場合、関数が行う動作は入力に応じて異なります。\n",
    "\n",
    "このレッスンでは、条件と条件文を使って、関数の動作を変更する方法を学びます。\n"
   ]
  },
  {
   "cell_type": "markdown",
   "metadata": {},
   "source": [
    "## Pyodide環境の準備"
   ]
  },
  {
   "cell_type": "code",
   "execution_count": null,
   "metadata": {},
   "outputs": [],
   "source": [
    "import micropip\n",
    "await micropip.install(\"http://127.0.0.1:8000/files/raw/packages/learntools-0.3.5-py3-none-any.whl\")\n"
   ]
  },
  {
   "cell_type": "markdown",
   "metadata": {},
   "source": [
    "## 必要なパッケージのインストール"
   ]
  },
  {
   "cell_type": "code",
   "execution_count": null,
   "metadata": {},
   "outputs": [],
   "source": [
    "await micropip.install([\"numpy\", \"pandas\", \"matplotlib\"])\n",
    "\n",
    "from learntools.core import binder\n",
    "binder.bind(globals())\n",
    "print(\"✅ Setup complete\")"
   ]
  },
  {
   "cell_type": "markdown",
   "metadata": {},
   "source": [
    "# 条件\n",
    "\n",
    "プログラミングにおける**条件**とは、`True` または `False` のいずれかの値を持つ文です。Pythonには条件を記述する方法がいくつかありますが、最も一般的な方法の一つは、2つの異なる値を比較することです。例えば、2が3より大きいかどうかをチェックすることができます。"
   ]
  },
  {
   "cell_type": "code",
   "execution_count": null,
   "metadata": {
    "execution": {
     "iopub.execute_input": "2022-03-14T18:49:02.822463Z",
     "iopub.status.busy": "2022-03-14T18:49:02.822109Z",
     "iopub.status.idle": "2022-03-14T18:49:02.854066Z",
     "shell.execute_reply": "2022-03-14T18:49:02.853294Z",
     "shell.execute_reply.started": "2022-03-14T18:49:02.822378Z"
    }
   },
   "outputs": [],
   "source": [
    "print(2 > 3)"
   ]
  },
  {
   "cell_type": "markdown",
   "metadata": {},
   "source": [
    "Pythonでは、2が3より大きいという条件の場合、「False」と評価されます。\n",
    "\n",
    "また、条件を使用して変数の値を比較することもできます。次のコードセルでは、`var_one`の値は 1 で、`var_two`の値は 2 です。条件では、`var_one`が1より小さいかどうか（これは`False`になります）をチェックし、また、`var_two`が`var_one`より大きいかまたは等しいかどうか（これは`True`になります）をチェックします。"
   ]
  },
  {
   "cell_type": "code",
   "execution_count": null,
   "metadata": {
    "execution": {
     "iopub.execute_input": "2022-03-14T18:49:02.856193Z",
     "iopub.status.busy": "2022-03-14T18:49:02.855721Z",
     "iopub.status.idle": "2022-03-14T18:49:02.861321Z",
     "shell.execute_reply": "2022-03-14T18:49:02.860403Z",
     "shell.execute_reply.started": "2022-03-14T18:49:02.856158Z"
    }
   },
   "outputs": [],
   "source": [
    "var_one = 1\n",
    "var_two = 2\n",
    "\n",
    "print(var_one < 1)\n",
    "print(var_two >= var_one)"
   ]
  },
  {
   "cell_type": "markdown",
   "metadata": {},
   "source": [
    "以下は条件式を構成するために使用できる一般的な記号の一覧です。\n",
    "\n",
    "<table style=\"width: 100%;\">\n",
    "<tbody>\n",
    "<tr><th><b>記号</b></th><th><b>意味</b></th></tr>\n",
    "<tr>\n",
    "<td>==</td>\n",
    "<td>等しい</td>\n",
    "</tr>\n",
    "<tr>\n",
    "<td>!=</td>\n",
    "<td>等しくない</td>\n",
    "</tr>\n",
    "<tr>\n",
    "<td>&#60;</td>\n",
    "<td>より小さい</td>\n",
    "</tr>\n",
    "<tr>\n",
    "<td>&#60;=</td>\n",
    "<td>以下</td>\n",
    "</tr>\n",
    "<tr>\n",
    "<td>&#62;</td>\n",
    "<td>より大きい</td>\n",
    "</tr>\n",
    "<tr>\n",
    "<td>&#62;=</td>\n",
    "<td>以上</td>\n",
    "</tr>\n",
    "</tbody>\n",
    "</table>"
   ]
  },
  {
   "cell_type": "markdown",
   "metadata": {},
   "source": [
    "**重要な注意**: 2つの値が等しいかどうかを確認する際には、`==` 演算子を使用してください。`=` 演算子ではありません。\n",
    "\n",
    "- `var_one == 1` は、`var_one` の**値が1であるかどうか**を確認するということです。\n",
    "- `var_one = 1` は、`var_one` に**1を代入する**ということです。\n"
   ]
  },
  {
   "cell_type": "markdown",
   "metadata": {},
   "source": [
    "# 条件文\n",
    "\n",
    "**条件文**は、条件を使って関数の動作を変更します。条件の値を確認し、条件が `True` と評価されると、特定のコードブロックが実行されます。（もし条件が `False` であれば、そのコードは実行されません。）\n",
    "\n",
    "次のセクションでは、この仕組みをいくつかの例を使って学んでいきます。\n",
    "\n",
    "\n",
    "## \"if\"文\n",
    "\n",
    "条件文の中で最もシンプルなものは「if」文です。以下の`evaluate_temp()`関数にその例があります。この関数は体温（摂氏）を入力として受け取ります。\n",
    "\n",
    "- 初めに、`message`は「Normal temperature」に設定されます。\n",
    "- その後、もし`temp > 38`が`True`（つまり、体温が38°Cより高い場合）であれば、`message`は「Fever!」に更新されます。逆に、`temp > 38`が`False`の場合、`message`は更新されません。\n",
    "- 最後に、`message`が関数によって返されます。"
   ]
  },
  {
   "cell_type": "code",
   "execution_count": null,
   "metadata": {
    "execution": {
     "iopub.execute_input": "2022-03-14T18:49:02.863228Z",
     "iopub.status.busy": "2022-03-14T18:49:02.862629Z",
     "iopub.status.idle": "2022-03-14T18:49:02.875031Z",
     "shell.execute_reply": "2022-03-14T18:49:02.874011Z",
     "shell.execute_reply.started": "2022-03-14T18:49:02.863181Z"
    }
   },
   "outputs": [],
   "source": [
    "def evaluate_temp(temp):\n",
    "    # 初期メッセージを設定\n",
    "    message = \"Normal temperature.\"\n",
    "    # 温度が38°Cを超えている場合のみメッセージを更新\n",
    "    if temp > 38:\n",
    "        message = \"Fever!\"\n",
    "    return message\n"
   ]
  },
  {
   "cell_type": "markdown",
   "metadata": {},
   "source": [
    "次のコードセルでは、温度が37°Cの場合に関数を呼び出しています。この場合、メッセージは「`\"Normal temperature\"`」となります。なぜなら、温度が38°C未満であるため、`temp > 38` の評価結果が `False` となるからです。\n"
   ]
  },
  {
   "cell_type": "code",
   "execution_count": null,
   "metadata": {
    "execution": {
     "iopub.execute_input": "2022-03-14T18:49:02.876814Z",
     "iopub.status.busy": "2022-03-14T18:49:02.876461Z",
     "iopub.status.idle": "2022-03-14T18:49:02.890687Z",
     "shell.execute_reply": "2022-03-14T18:49:02.889992Z",
     "shell.execute_reply.started": "2022-03-14T18:49:02.876778Z"
    }
   },
   "outputs": [],
   "source": [
    "print(evaluate_temp(37))"
   ]
  },
  {
   "cell_type": "markdown",
   "metadata": {},
   "source": [
    "しかし、もし温度が39°Cの場合、38°Cより大きいため、メッセージは「`\"Fever!\"`」に更新されます。\n"
   ]
  },
  {
   "cell_type": "code",
   "execution_count": null,
   "metadata": {
    "execution": {
     "iopub.execute_input": "2022-03-14T18:49:02.893471Z",
     "iopub.status.busy": "2022-03-14T18:49:02.892747Z",
     "iopub.status.idle": "2022-03-14T18:49:02.903372Z",
     "shell.execute_reply": "2022-03-14T18:49:02.902261Z",
     "shell.execute_reply.started": "2022-03-14T18:49:02.893429Z"
    }
   },
   "outputs": [],
   "source": [
    "print(evaluate_temp(39))"
   ]
  },
  {
   "cell_type": "markdown",
   "metadata": {},
   "source": [
    "注釈：インデントには2つのレベルがあります：\n",
    "\n",
    "- 最初のインデントは、関数内のコードブロックをインデントする必要があるためです。\n",
    "- 2番目のインデントは、「if」文に属するコードブロックをインデントする必要があるためです（「elif」や「else」のコードブロックもインデントが必要です）。\n",
    "\n",
    "注意すべき点は、`return` 文が「if」文の下でインデントされていないため、`temp > 38` が `True` でも `False` でも、常に実行されるということです。"
   ]
  },
  {
   "cell_type": "markdown",
   "metadata": {},
   "source": [
    "## \"if ... else\" 文\n",
    "\n",
    "「else」文を使うことで、条件が `False` の場合に実行されるコードを指定できます。条件が `True` の場合は「if」文の下のコードが実行され、条件が `False` の場合は「else」文の下のコードが実行されます。"
   ]
  },
  {
   "cell_type": "code",
   "execution_count": null,
   "metadata": {
    "execution": {
     "iopub.execute_input": "2022-03-14T18:49:02.905139Z",
     "iopub.status.busy": "2022-03-14T18:49:02.904890Z",
     "iopub.status.idle": "2022-03-14T18:49:02.916910Z",
     "shell.execute_reply": "2022-03-14T18:49:02.915932Z",
     "shell.execute_reply.started": "2022-03-14T18:49:02.905110Z"
    }
   },
   "outputs": [],
   "source": [
    "def evaluate_temp_with_else(temp):\n",
    "    if temp > 38:\n",
    "        message = \"Fever!\"\n",
    "    else:\n",
    "        message = \"Normal temperature.\"\n",
    "    return message"
   ]
  },
  {
   "cell_type": "markdown",
   "metadata": {},
   "source": [
    "この`evaluate_temp_with_else()`関数は`evaluate_temp()`関数と同じ動作をします。\n",
    "\n",
    "次のコードセルでは、新しく定義した関数を呼び出し、温度が37°Cの場合を確認します。この場合、`temp > 38` は `False` となるため、「else」文の下のコードが実行され、`Normal temperature.` というメッセージが返されます。\n"
   ]
  },
  {
   "cell_type": "code",
   "execution_count": null,
   "metadata": {
    "execution": {
     "iopub.execute_input": "2022-03-14T18:49:02.918375Z",
     "iopub.status.busy": "2022-03-14T18:49:02.918130Z",
     "iopub.status.idle": "2022-03-14T18:49:02.930878Z",
     "shell.execute_reply": "2022-03-14T18:49:02.930242Z",
     "shell.execute_reply.started": "2022-03-14T18:49:02.918344Z"
    }
   },
   "outputs": [],
   "source": [
    "print(evaluate_temp_with_else(37))"
   ]
  },
  {
   "cell_type": "markdown",
   "metadata": {},
   "source": [
    "前の関数と同様に、「if」文と「else」文の後のコードブロックはインデントされています。\n",
    "\n",
    "## 「if ... elif ... else」文\n",
    "\n",
    "「elif」（「else if」の略）を使うことで、複数の条件が真であるかを確認することができます。以下の関数は次のように動作します：\n",
    "\n",
    "- 最初に `temp > 38` をチェックします。この条件が真であれば、メッセージは `\"Fever!\"` に設定されます。\n",
    "- メッセージがまだ設定されていない場合、次に `temp > 35` をチェックします。この条件が真であれば、メッセージは `\"Normal temperature.\"` に設定されます。\n",
    "- それでもメッセージが設定されていない場合、最後に「else」文でメッセージが `\"Low temperature.\"` に設定され、メッセージが表示されます。\n",
    "\n",
    "「elif」は次のように考えることができます。\n",
    "「前の条件（例えば `temp > 38`）が偽だったので、次の新しい条件（例えば `temp > 35`）が真かどうかを確認する。」\n",
    "\n",
    "このように言い換えることで、論理的な流れがスムーズになります。\n"
   ]
  },
  {
   "cell_type": "code",
   "execution_count": null,
   "metadata": {
    "execution": {
     "iopub.execute_input": "2022-03-14T18:49:02.932784Z",
     "iopub.status.busy": "2022-03-14T18:49:02.932125Z",
     "iopub.status.idle": "2022-03-14T18:49:02.944395Z",
     "shell.execute_reply": "2022-03-14T18:49:02.943191Z",
     "shell.execute_reply.started": "2022-03-14T18:49:02.932743Z"
    }
   },
   "outputs": [],
   "source": [
    "def evaluate_temp_with_elif(temp):\n",
    "    if temp > 38:\n",
    "        message = \"Fever!\"\n",
    "    elif temp > 35:\n",
    "        message = \"Normal temperature.\"\n",
    "    else:\n",
    "        message = \"Low temperature.\"\n",
    "    return message"
   ]
  },
  {
   "cell_type": "markdown",
   "metadata": {},
   "source": [
    "次のコードセルでは、「elif」文の下のコードが実行されます。なぜなら、`temp > 38` は `False` で、`temp > 35` は `True` だからです。このコードが実行されると、関数は「else」文をスキップし、メッセージを返します。\n"
   ]
  },
  {
   "cell_type": "code",
   "execution_count": null,
   "metadata": {
    "execution": {
     "iopub.execute_input": "2022-03-14T18:49:02.946302Z",
     "iopub.status.busy": "2022-03-14T18:49:02.946057Z",
     "iopub.status.idle": "2022-03-14T18:49:02.958305Z",
     "shell.execute_reply": "2022-03-14T18:49:02.957449Z",
     "shell.execute_reply.started": "2022-03-14T18:49:02.946271Z"
    }
   },
   "outputs": [],
   "source": [
    "evaluate_temp_with_elif(36)"
   ]
  },
  {
   "cell_type": "markdown",
   "metadata": {},
   "source": [
    "最後に、温度が35°C未満の場合を試してみます。「if」と「elif」の条件がどちらも`False`に評価されるため、「else」文内のコードブロックが実行されます。\n"
   ]
  },
  {
   "cell_type": "code",
   "execution_count": null,
   "metadata": {
    "execution": {
     "iopub.execute_input": "2022-03-14T18:49:02.960043Z",
     "iopub.status.busy": "2022-03-14T18:49:02.959787Z",
     "iopub.status.idle": "2022-03-14T18:49:02.972632Z",
     "shell.execute_reply": "2022-03-14T18:49:02.971734Z",
     "shell.execute_reply.started": "2022-03-14T18:49:02.960009Z"
    }
   },
   "outputs": [],
   "source": [
    "evaluate_temp_with_elif(34)"
   ]
  },
  {
   "cell_type": "markdown",
   "metadata": {},
   "source": [
    "# 例 - 計算\n",
    "これまでの例では、条件文を使用して変数の値を設定しました。しかし、条件文は異なる計算を行うためにも使用できます。\n",
    "\n",
    "次に示すセルを見てください。get_taxes()関数は、与えられた収入に基づいて税金を計算する関数です：\n",
    "\n",
    "- 収入が12,000ドル未満の場合、税率は25%（0.25）です。\n",
    "- 収入が12,000ドル以上の場合、税率は30%（0.30）です。\n",
    "\n",
    "つまり、月収が12,000ドル未満の人は25%の税金を支払い、12,000ドル以上の人は30%の税金を支払うことになります。以下の関数は、その税金額を計算します。"
   ]
  },
  {
   "cell_type": "code",
   "execution_count": null,
   "metadata": {
    "execution": {
     "iopub.execute_input": "2022-03-14T18:49:02.973984Z",
     "iopub.status.busy": "2022-03-14T18:49:02.973731Z",
     "iopub.status.idle": "2022-03-14T18:49:02.983563Z",
     "shell.execute_reply": "2022-03-14T18:49:02.982623Z",
     "shell.execute_reply.started": "2022-03-14T18:49:02.973954Z"
    }
   },
   "outputs": [],
   "source": [
    "def get_taxes(earnings):\n",
    "    if earnings < 12000:\n",
    "        tax_owed = .25 * earnings\n",
    "    else:\n",
    "        tax_owed = .30 * earnings\n",
    "    return tax_owed"
   ]
  },
  {
   "cell_type": "markdown",
   "metadata": {},
   "source": [
    "次のコードセルでは、get_taxes関数を使用して、2人の支払うべき税金を計算し、それを表示しています。"
   ]
  },
  {
   "cell_type": "code",
   "execution_count": null,
   "metadata": {
    "execution": {
     "iopub.execute_input": "2022-03-14T18:49:02.988005Z",
     "iopub.status.busy": "2022-03-14T18:49:02.987764Z",
     "iopub.status.idle": "2022-03-14T18:49:02.999388Z",
     "shell.execute_reply": "2022-03-14T18:49:02.998678Z",
     "shell.execute_reply.started": "2022-03-14T18:49:02.987976Z"
    }
   },
   "outputs": [],
   "source": [
    "ana_taxes = get_taxes(9000)  # 9000ドルの収入に基づく税金\n",
    "bob_taxes = get_taxes(15000)  # 15000ドルの収入に基づく税金\n",
    "\n",
    "print(ana_taxes)  # anaさんの税金を表示\n",
    "print(bob_taxes)  # bobさんの税金を表示\n"
   ]
  },
  {
   "cell_type": "markdown",
   "metadata": {},
   "source": [
    "次に、コードの処理を見てみましょう。\n",
    "\n",
    "**ana_taxesの場合**\n",
    "9,000ドルを稼いでいる場合、`get_taxes(9000)`が呼び出されます。\n",
    "収入が12,000ドル未満なので、税率は25%となり、`tax_owed`は 9,000 * 0.25 = 2,250ドル となります。\n",
    "\n",
    "**bob_taxesの場合**\n",
    "15,000ドルを稼いでいる場合、`et_taxes(15000)`が呼び出されます。\n",
    "収入が12,000ドル以上なので、税率は30%となり、`tax_owed`は 15,000 * 0.30 = 4,500ドル となります。\n",
    "\n",
    "このように、get_taxes関数を使用して、異なる収入額に基づいて税金を計算し、各変数にその結果を格納しています。\n",
    "\n",
    "次の例に進む前に、このノートブックの冒頭でお伝えした`add_three_or_eight()`関数を覚えていますか？この関数は、入力として数字を受け取り、その数字が10未満であれば3を加え、そうでなければ8を加えます。この関数をどのように書くか考えてみましょう。答えが分かったら、下の「隠されたコードを表示」ボタンをクリックして、解答を確認してください。\n",
    "\n",
    "次の例に進む前に、ノートブックの冒頭で紹介した`add_three_or_eight()`関数を覚えていますか？この関数は、入力として数字を受け取り、その数字が10未満であれば3を加え、そうでなければ8を加えます。\n",
    "\n",
    "`add_three_or_eight()`関数をどのように書くか考えてみましょう。答えが分かったら、下の「隠されたコードを表示」ボタンをクリックして、解答を確認してください。"
   ]
  },
  {
   "cell_type": "code",
   "execution_count": null,
   "metadata": {},
   "outputs": [],
   "source": [
    "# 隠されたコード\n",
    "# 以下のコードはまだ表示されていません。コードが完成したら解答を確認してください。\n",
    "#$HIDE_INPUT$\n",
    "def add_three_or_eight(number):\n",
    "    if number < 10:\n",
    "        result = number + 3\n",
    "    else:\n",
    "        result = number + 8\n",
    "    return result\n"
   ]
  },
  {
   "cell_type": "markdown",
   "metadata": {},
   "source": [
    "# 例 - 複数の \"elif\" 文\n",
    "\n",
    "これまで、「elif」は関数内で一度しか使用されていませんでした。しかし、「elif」文には使用回数に制限はなく、何度でも使うことができます。例えば、次のコードでは、体重（キログラム）に基づいて、子どもに与えるべき薬の量（ミリリットル）を計算しています。\n",
    "\n",
    "注意: この関数は医療アドバイスとして使用すべきではなく、架空の薬剤です。\n"
   ]
  },
  {
   "cell_type": "code",
   "execution_count": null,
   "metadata": {},
   "outputs": [],
   "source": [
    "def get_dose(weight):\n",
    "    # 体重が 5.2 kg 未満の場合、投与量は 1.25 ml\n",
    "    if weight < 5.2:\n",
    "        dose = 1.25\n",
    "    elif weight < 7.9:\n",
    "        dose = 2.5\n",
    "    elif weight < 10.4:\n",
    "        dose = 3.75\n",
    "    elif weight < 15.9:\n",
    "        dose = 5\n",
    "    elif weight < 21.2:\n",
    "        dose = 7.5\n",
    "    # 体重が 21.2 kg 以上の場合、投与量は 10 ml\n",
    "    else:\n",
    "        dose = 10\n",
    "    return dose"
   ]
  },
  {
   "cell_type": "markdown",
   "metadata": {},
   "source": [
    "**説明**\n",
    "- 最初のif文が`False`の場合、すべてのelif文も`False`となり、`weight < 15.9`が`True`になった時点で、`dose`は5に設定されます。\n",
    "- 一度elif文が`True`となり、そのコードブロックが実行されると、残りのすべてのelif文やelse文はスキップされます。その後、`dose`の値を返す`return`文が実行されます。\n",
    "- ここで重要なのは、**elif文の順番です**！これらを並べ替えると、まったく異なる結果が返されるため、順番に注意が必要です。\n",
    "\n",
    "次のコードセルで関数を実行して、出力が適切かどうか確認してみましょう！\n"
   ]
  },
  {
   "cell_type": "code",
   "execution_count": null,
   "metadata": {},
   "outputs": [],
   "source": [
    "print(get_dose(12))"
   ]
  },
  {
   "cell_type": "markdown",
   "metadata": {},
   "source": [
    "# お疲れ様です！\n",
    "\n",
    "ここまでのチュートリアルはいかがでしたか？\n",
    "次は理解度を深める段階です。\n",
    "準備が整ったら、以下のリンクから次の演習に進んでください。\n",
    "\n",
    "[**条件と条件文**（conditionals and conditional statements）](./ex4.ipynb)の演習を始めましょう。\n",
    "\n",
    "\n"
   ]
  },
  {
   "cell_type": "markdown",
   "metadata": {},
   "source": []
  }
 ],
 "metadata": {
  "kernelspec": {
   "display_name": "Python 3",
   "language": "python",
   "name": "python3"
  },
  "language_info": {
   "codemirror_mode": {
    "name": "ipython",
    "version": 3
   },
   "file_extension": ".py",
   "mimetype": "text/x-python",
   "name": "python",
   "nbconvert_exporter": "python",
   "pygments_lexer": "ipython3",
   "version": "3.6.5"
  }
 },
 "nbformat": 4,
 "nbformat_minor": 4
}
