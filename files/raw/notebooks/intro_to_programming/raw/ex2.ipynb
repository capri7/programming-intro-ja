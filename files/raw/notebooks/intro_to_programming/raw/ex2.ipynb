{
 "cells": [
  {
   "cell_type": "markdown",
   "metadata": {},
   "source": [
    "\n",
    "\n",
    "# 📝 演習：関数\n",
    "\n",
    "チュートリアルを通して、**関数の基本的な使い方**を学びました。\n",
    "\n",
    "ここからは演習パートです。  \n",
    "これまでに学んだことを活かして、**実際に自分の手で関数を書いてみましょう！**\n",
    "\n",
    "\n"
   ]
  },
  {
   "cell_type": "markdown",
   "metadata": {},
   "source": [
    "## ⚙️ 環境セットアップ（Pyodide）\n",
    "\n",
    "このノートブックでは、次の手順で**環境を準備**します：\n",
    "\n",
    "1. **learntools パッケージのインストール**"
   ]
  },
  {
   "cell_type": "code",
   "execution_count": null,
   "metadata": {},
   "outputs": [],
   "source": [
    "\n",
    "\n",
    "\n",
    "import micropip\n",
    "\n",
    "await micropip.install(\"https://capri7.github.io/programming-intro-ja/files/raw/packages/learntools-0.3.5-py3-none-any.whl\")\n"
   ]
  },
  {
   "cell_type": "markdown",
   "metadata": {},
   "source": [
    "\n",
    "2. **標準ライブラリのインストール**"
   ]
  },
  {
   "cell_type": "code",
   "execution_count": null,
   "metadata": {},
   "outputs": [],
   "source": [
    "\n",
    "\n",
    "await micropip.install([\"pandas\", \"numpy\", \"matplotlib\"])\n"
   ]
  },
  {
   "cell_type": "markdown",
   "metadata": {},
   "source": [
    "3. **グローバル変数のバインド**"
   ]
  },
  {
   "cell_type": "code",
   "execution_count": null,
   "metadata": {},
   "outputs": [],
   "source": [
    "from learntools.core import binder\n",
    "\n",
    "# 問題をグローバルスコープにバインド\n",
    "binder.bind(globals())\n",
    "print(\"✅ Setup complete\")"
   ]
  },
  {
   "cell_type": "markdown",
   "metadata": {},
   "source": [
    "4. **演習モジュールの読み込み**"
   ]
  },
  {
   "cell_type": "code",
   "execution_count": null,
   "metadata": {},
   "outputs": [],
   "source": [
    "\n",
    "# 演習モジュールを読み込む\n",
    "from learntools.intro_to_programming.ex2 import *"
   ]
  },
  {
   "cell_type": "markdown",
   "metadata": {},
   "source": [
    "## 🧪 問題 1\n",
    "\n",
    "[House Prices（住宅価格予測）コンペティション](https://www.kaggle.com/c/house-prices-advanced-regression-techniques/overview) では、  \n",
    "寝室の数や浴室の数といった情報をもとに、住宅価格を予測する必要があります。\n",
    "\n",
    "この演習では、このアイデアを使って、**あなた自身で住宅価格を予測する関数**を作ってみましょう！\n",
    "\n",
    "\n",
    "### 🏠 ルール\n",
    "\n",
    "次のコードセルでは、`get_expected_cost()` という関数を定義します。  \n",
    "この関数は、次の 2 つの引数を受け取ります：\n",
    "\n",
    "* `beds`：寝室の数\n",
    "* `baths`：浴室の数\n",
    "\n",
    "そして、以下の前提にもとづいて、**住宅の想定価格（ドル）を返す**ようにしてください。\n",
    "\n",
    "* 寝室も浴室も 0 の場合、基本価格は `80000` ドル\n",
    "* 寝室が 1 部屋増えるごとに、価格に `30000` ドル加算\n",
    "* 浴室が 1 つ増えるごとに、価格に `10000` ドル加算\n",
    "\n",
    "💡 たとえば：\n",
    "\n",
    "* 寝室が 1、浴室が 1 の場合 → `120000` ドル\n",
    "* 寝室が 2、浴室が 1 の場合 → `150000` ドル\n",
    "\n",
    "\n",
    "\n",
    "### 🧠 目標\n",
    "\n",
    "`get_expected_cost()` 関数を正しく定義すること！\n",
    "\n",
    "\n"
   ]
  },
  {
   "cell_type": "markdown",
   "metadata": {},
   "source": [
    "### 🛠 演習スタート！\n",
    "\n",
    "さきほど説明したルールにもとづいて、`get_expected_cost()` 関数を完成させましょう。\n",
    "\n",
    "`beds`（寝室の数）と `baths`（浴室の数）を引数として受け取り、  \n",
    "住宅価格を計算して戻り値として返す関数を書いてください。\n",
    "\n",
    "\n"
   ]
  },
  {
   "cell_type": "code",
   "execution_count": null,
   "metadata": {
    "execution": {
     "iopub.execute_input": "2022-01-28T19:32:29.981041Z",
     "iopub.status.busy": "2022-01-28T19:32:29.979554Z",
     "iopub.status.idle": "2022-01-28T19:32:29.988906Z",
     "shell.execute_reply": "2022-01-28T19:32:29.987958Z",
     "shell.execute_reply.started": "2022-01-28T19:32:29.980942Z"
    }
   },
   "outputs": [],
   "source": [
    "\n",
    "# TODO: 関数を完成させましょう\n",
    "def get_expected_cost(beds, baths):\n",
    "    # 住宅の価格は、基本料金80000に\n",
    "    # 寝室ごとに30000、浴室ごとに10000加算して計算します。\n",
    "    value = ____\n",
    "    return value\n",
    "\n",
    "# 答えをチェック\n",
    "q1.check()\n"
   ]
  },
  {
   "cell_type": "code",
   "execution_count": null,
   "metadata": {
    "execution": {
     "iopub.execute_input": "2022-01-28T19:32:30.010411Z",
     "iopub.status.busy": "2022-01-28T19:32:30.009732Z",
     "iopub.status.idle": "2022-01-28T19:32:30.013674Z",
     "shell.execute_reply": "2022-01-28T19:32:30.012836Z",
     "shell.execute_reply.started": "2022-01-28T19:32:30.010368Z"
    }
   },
   "outputs": [],
   "source": [
    "\n",
    "\n",
    "\n",
    "# 🔍 ヒントを見たい場合は、下の行の「#」を外して実行してみましょう\n",
    "\n",
    "#q1.hint()\n",
    "\n",
    "# ✅ 解答を確認したい場合は、下の行の「#」を外して実行してみましょう\n",
    "\n",
    "#q1.solution()\n",
    "\n"
   ]
  },
  {
   "cell_type": "markdown",
   "metadata": {},
   "source": [
    "## 🧪 問題 2\n",
    "\n",
    "あなたはこれから家を購入しようと考えています。  \n",
    "寝室と浴室の数をもとに、どれくらいの費用がかかるかを把握したいと思っています。\n",
    "\n",
    "現在、次の 4 つの候補から検討中です：\n",
    "\n",
    "* 選択肢 1：寝室 2、浴室 3\n",
    "* 選択肢 2：寝室 3、浴室 2\n",
    "* 選択肢 3：寝室 3、浴室 3\n",
    "* 選択肢 4：寝室 3、浴室 4\n",
    "\n",
    "\n",
    "\n",
    "### 📊 やること\n",
    "\n",
    "これらの選択肢それぞれについて、**問題1で作った `get_expected_cost()` 関数**を使って、  \n",
    "次の変数に想定価格（ドル）を代入しましょう：\n",
    "\n",
    "* `option_one`\n",
    "* `option_two`\n",
    "* `option_three`\n",
    "* `option_four`\n",
    "\n",
    "💡 たとえば、寝室が 5、浴室が 3 の場合は次のように書きます：\n",
    "\n",
    "```python\n",
    "option_5 = get_expected_cost(5, 3)\n",
    "```\n",
    "\n",
    "\n",
    "\n",
    "💡 注意\n",
    "この問題では、**前の問題1で定義した `get_expected_cost()` 関数**を使います。\n",
    "\n",
    "関数が正しく定義されていないと、ここで正しいコードを書いても `check()` がエラーを返す場合があります。  \n",
    "**まずは問題1が正しく動いているか確認してから、この問題に取り組んでください。**\n",
    "\n",
    "\n",
    "### 🛠 演習スタート！"
   ]
  },
  {
   "cell_type": "code",
   "execution_count": null,
   "metadata": {
    "execution": {
     "iopub.execute_input": "2022-01-28T19:32:31.138955Z",
     "iopub.status.busy": "2022-01-28T19:32:31.138346Z",
     "iopub.status.idle": "2022-01-28T19:32:31.147079Z",
     "shell.execute_reply": "2022-01-28T19:32:31.146137Z",
     "shell.execute_reply.started": "2022-01-28T19:32:31.138897Z"
    }
   },
   "outputs": [],
   "source": [
    "\n",
    "# TODO: get_expected_cost 関数を使って、それぞれの価格を変数に代入しましょう\n",
    "# たとえば、寝室が 5、浴室が 2 の場合は get_expected_cost(5, 2) です。\n",
    "\n",
    "option_one = ____   # 寝室 2、浴室 3\n",
    "option_two = ____   # 寝室 3、浴室 2\n",
    "option_three = ____ # 寝室 3、浴室 3\n",
    "option_four = ____  # 寝室 3、浴室 4\n",
    "\n",
    "# 結果を確認\n",
    "print(option_one)\n",
    "print(option_two)\n",
    "print(option_three)\n",
    "print(option_four)\n",
    "\n",
    "# 答えをチェック\n",
    "q2.check()\n",
    "\n",
    "# 実行結果に \"<PlaceholderValue object at ...>\" と表示された場合は、\n",
    "# まだこの変数に正しい値が入力されていないという意味です。\n",
    "# 上の行の ____ を正しいコードで埋めて、もう一度実行してみましょう！\n"
   ]
  },
  {
   "cell_type": "markdown",
   "metadata": {},
   "source": [
    "### 💡 ヒントと解答欄"
   ]
  },
  {
   "cell_type": "code",
   "execution_count": null,
   "metadata": {},
   "outputs": [],
   "source": [
    "\n",
    "\n",
    "# ヒントを見たい場合は、次の行のコメントアウト（#）を外してください\n",
    "\n",
    "#q2.hint()\n",
    "\n",
    "# 解答を確認したい場合は、次の行のコメントアウトを外してください\n",
    "\n",
    "#q2.solution()\n"
   ]
  },
  {
   "cell_type": "markdown",
   "metadata": {},
   "source": [
    "## 🧪 問題 3\n",
    "\n",
    "あなたは住宅のインテリアコーディネーターです。  \n",
    "作業を効率化するために、Python を使って  \n",
    "**部屋の塗装費用を自動計算するツール**を作ろうとしています。\n",
    "\n",
    "\n",
    "### 🖌️ ステップ 1\n",
    "\n",
    "まずは `get_cost()` という関数を定義しましょう。\n",
    "\n",
    "この関数は、次の 4 つの引数を受け取ります：\n",
    "\n",
    "* `sqft_walls`：塗装する壁の面積（平方フィート）\n",
    "* `sqft_ceiling`：塗装する天井の面積（平方フィート）\n",
    "* `sqft_per_gallon`：ペンキ 1 ガロンで塗れる面積（平方フィート）\n",
    "* `cost_per_gallon`：ペンキ 1 ガロンあたりの価格（ドル）\n",
    "\n",
    "\n",
    "### 📊 やること\n",
    "\n",
    "壁と天井に 1 回ずつペンキを塗るとき、  \n",
    "かかる費用（ドル）を計算して返す関数を作成してください。\n",
    "\n",
    "* **ペンキは必要な量を正確に購入できるものと仮定**します（余らせる必要はありません）\n",
    "* **答えは四捨五入せず**、そのままの値を返してください\n",
    "\n",
    "\n",
    "### 🛠 演習スタート！\n"
   ]
  },
  {
   "cell_type": "code",
   "execution_count": null,
   "metadata": {
    "execution": {
     "iopub.execute_input": "2022-01-28T19:20:51.698164Z",
     "iopub.status.busy": "2022-01-28T19:20:51.697538Z",
     "iopub.status.idle": "2022-01-28T19:20:51.727027Z",
     "shell.execute_reply": "2022-01-28T19:20:51.726324Z",
     "shell.execute_reply.started": "2022-01-28T19:20:51.698035Z"
    }
   },
   "outputs": [],
   "source": [
    "\n",
    "\n",
    "# TODO: 壁と天井の面積から、必要なペンキ量と費用を計算する関数を完成させましょう\n",
    "\n",
    "def get_cost(sqft_walls, sqft_ceiling, sqft_per_gallon, cost_per_gallon):\n",
    "    # 1. 壁と天井の面積を合計する\n",
    "    # 2. 必要なガロン数を求める（合計面積 ÷ 1ガロンあたりの塗装面積）\n",
    "    # 3. ガロン数 × ガロン単価で、費用を計算する\n",
    "    cost = ____\n",
    "    return cost\n",
    "\n",
    "# 答えをチェック\n",
    "q3.check()\n"
   ]
  },
  {
   "cell_type": "markdown",
   "metadata": {},
   "source": [
    "### 💡 ヒントと解答欄"
   ]
  },
  {
   "cell_type": "code",
   "execution_count": null,
   "metadata": {},
   "outputs": [],
   "source": [
    "\n",
    "# ヒントを見たい場合は、次の行のコメントアウト（#）を外してください\n",
    "\n",
    "#q3.hint()\n",
    "\n",
    "# 解答を確認したい場合は、次の行のコメントアウトを外してください\n",
    "\n",
    "#q3.solution()\n"
   ]
  },
  {
   "cell_type": "markdown",
   "metadata": {},
   "source": [
    "## 🧪 問題 4\n",
    "\n",
    "問題 3 で定義した `get_cost()` 関数を使って、  \n",
    "次の条件の部屋にペンキを 1 回塗る場合の**費用**（ドル）を計算しましょう。\n",
    "\n",
    "\n",
    "### 🎯 条件\n",
    "\n",
    "* 壁の面積：432 平方フィート\n",
    "* 天井の面積：144 平方フィート\n",
    "* ペンキ 1 ガロンで塗れる面積：400 平方フィート\n",
    "* ペンキ 1 ガロンの価格：15 ドル\n",
    "\n",
    "\n",
    "### ✅ 仮定\n",
    "\n",
    "* 必要な分だけ**正確な量のペンキ**を購入できる（たとえば 7.2 ガロンなど）\n",
    "* **答えは四捨五入せずにそのまま返す**\n",
    "\n"
   ]
  },
  {
   "cell_type": "markdown",
   "metadata": {},
   "source": [
    "\n",
    "### 🛠 演習スタート！"
   ]
  },
  {
   "cell_type": "code",
   "execution_count": null,
   "metadata": {
    "execution": {
     "iopub.execute_input": "2022-01-11T15:46:32.597864Z",
     "iopub.status.busy": "2022-01-11T15:46:32.597427Z",
     "iopub.status.idle": "2022-01-11T15:46:32.604147Z",
     "shell.execute_reply": "2022-01-11T15:46:32.603249Z",
     "shell.execute_reply.started": "2022-01-11T15:46:32.59781Z"
    }
   },
   "outputs": [],
   "source": [
    "\n",
    "# TODO: get_cost() 関数を使って、プロジェクトの費用を計算し、\n",
    "#       その結果を project_cost という変数に代入しましょう。\n",
    "# \n",
    "# 条件：\n",
    "# - 壁の面積：432\n",
    "# - 天井の面積：144\n",
    "# - 1ガロンで塗れる面積：400\n",
    "# - ガロンあたりの価格：15\n",
    "\n",
    "project_cost = ____\n",
    "\n",
    "# 答えをチェック\n",
    "q4.check()\n"
   ]
  },
  {
   "cell_type": "markdown",
   "metadata": {},
   "source": [
    "\n",
    "### 💡 ヒントと解答欄\n"
   ]
  },
  {
   "cell_type": "code",
   "execution_count": null,
   "metadata": {},
   "outputs": [],
   "source": [
    "\n",
    "# ヒントを見たい場合は、次の行のコメントアウト（#）を外してください\n",
    "\n",
    "#q4.hint()\n",
    "\n",
    "# 解答を確認したい場合は、次の行のコメントアウトを外してください\n",
    "\n",
    "#q4.solution()"
   ]
  },
  {
   "cell_type": "markdown",
   "metadata": {},
   "source": [
    "## 🌶️ 質問 5（応用）\n",
    "\n",
    "ここからは少し難易度アップです！\n",
    "\n",
    "\n",
    "### 💡 新しい前提\n",
    "\n",
    "今回は、ペンキが **ガロン単位でしか購入できない** という新しいルールを考えます。  \n",
    "たとえば、プロジェクトに 4.3 ガロン必要な場合でも、**5 ガロン分の費用**がかかります。\n",
    "\n",
    "\n",
    "### 🎯 やること\n",
    "\n",
    "これまでと同じように、\n",
    "\n",
    "* 壁と天井の面積\n",
    "* 1 ガロンあたりの塗装面積\n",
    "* ペンキの単価\n",
    "\n",
    "を使って、**プロジェクト費用を計算する関数 `get_actual_cost()`** を作成してください。\n",
    "\n",
    "\n",
    "### 🧠 今回のポイント：`math.ceil()`\n",
    "\n",
    "Python の `math.ceil()` を使うと、数値を切り上げて整数に変換できます。\n",
    "\n",
    "```python\n",
    "import math  \n",
    "math.ceil(2.1)   # → 3  \n",
    "math.ceil(5.99)  # → 6  \n",
    "```\n",
    "\n",
    "**必要なペンキ量を切り上げて、購入ガロン数を求めるとき**に使います。\n",
    "\n",
    "\n",
    "### 🧪 確認してみよう！\n",
    "\n",
    "以下のコードセルで、`math.ceil()` の動きを試してみましょう。  \n",
    "自由に数値を変えて、どんな結果が返ってくるかを確認してみてください。\n",
    "\n"
   ]
  },
  {
   "cell_type": "code",
   "execution_count": null,
   "metadata": {
    "execution": {
     "iopub.execute_input": "2022-01-11T16:20:02.068358Z",
     "iopub.status.busy": "2022-01-11T16:20:02.06753Z",
     "iopub.status.idle": "2022-01-11T16:20:02.073477Z",
     "shell.execute_reply": "2022-01-11T16:20:02.072705Z",
     "shell.execute_reply.started": "2022-01-11T16:20:02.06831Z"
    }
   },
   "outputs": [],
   "source": [
    "\n",
    "\n",
    "import math\n",
    "\n",
    "# TODO: math.ceil() の挙動を試してみましょう！\n",
    "# いろいろな数値で実験してみてください。\n",
    "test_value = ____\n",
    "\n",
    "rounded_value = math.ceil(test_value)\n",
    "print(rounded_value)\n"
   ]
  },
  {
   "cell_type": "markdown",
   "metadata": {},
   "source": [
    "\n",
    "`get_actual_cost()` 関数を定義してみましょう。\n",
    "この関数では、**必要なペンキの量を `math.ceil()` で切り上げる**必要があります。\n",
    "\n",
    "関数の中で他の関数（`math.ceil()` など）を呼び出すのは **ごく一般的な書き方** です。\n",
    "以下のように組み込めば OK です：\n",
    "\n",
    "\n",
    "```python\n",
    "def round_up_and_divide_by_three(num):\n",
    "    new_value = math.ceil(num)   # 小数を切り上げて整数に\n",
    "    final_value = new_value / 3  # 3で割る\n",
    "    return final_value\n",
    "```\n",
    "\n",
    "\n",
    "### 🛠 演習スタート！\n",
    "\n"
   ]
  },
  {
   "cell_type": "code",
   "execution_count": null,
   "metadata": {
    "execution": {
     "iopub.execute_input": "2022-01-28T22:17:36.984577Z",
     "iopub.status.busy": "2022-01-28T22:17:36.98411Z",
     "iopub.status.idle": "2022-01-28T22:17:37.013757Z",
     "shell.execute_reply": "2022-01-28T22:17:37.012864Z",
     "shell.execute_reply.started": "2022-01-28T22:17:36.984455Z"
    }
   },
   "outputs": [],
   "source": [
    "\n",
    "\n",
    "# TODO: 必要なペンキ量を計算し、それを math.ceil() で切り上げて、\n",
    "#       プロジェクトの総費用を計算する関数を完成させましょう。\n",
    "\n",
    "def get_actual_cost(sqft_walls, sqft_ceiling, sqft_per_gallon, cost_per_gallon):\n",
    "    # 1. 壁と天井の面積を合計する\n",
    "    # 2. 必要なガロン数を求める（合計面積 ÷ 1ガロンあたりの面積）\n",
    "    # 3. ガロン数を math.ceil() で切り上げる\n",
    "    # 4. ガロン単価 × 切り上げ後のガロン数 で費用を求める\n",
    "    cost = ____\n",
    "    return cost\n",
    "\n",
    "# 答えをチェック\n",
    "q5.check()\n",
    "\n"
   ]
  },
  {
   "cell_type": "markdown",
   "metadata": {},
   "source": [
    "### 💡 ヒントと解答欄"
   ]
  },
  {
   "cell_type": "code",
   "execution_count": null,
   "metadata": {},
   "outputs": [],
   "source": [
    "\n",
    "# ヒントを見たい場合は、次の行のコメントアウト（#）を外してください\n",
    "\n",
    "#q5.hint()\n",
    "\n",
    "# 解答を確認したい場合は、次の行のコメントアウトを外してください\n",
    "\n",
    "#q5.solution()"
   ]
  },
  {
   "cell_type": "markdown",
   "metadata": {},
   "source": [
    "### 🧪 実行してみよう！\n",
    "\n",
    "関数 `get_actual_cost()` が正しく動作していることがわかったら、  \n",
    "実際に値を指定して、**塗装費用を計算してみましょう。**\n",
    "\n",
    "\n",
    "\n",
    "### 🎯 条件\n",
    "\n",
    "たとえば、次のような部屋を想定します：\n",
    "\n",
    "* 壁の面積：432 平方フィート\n",
    "* 天井の面積：144 平方フィート\n",
    "* ペンキ 1 ガロンで塗れる面積：400 平方フィート\n",
    "* ガロン単価：15 ドル\n",
    "\n",
    "\n",
    "\n",
    "### ▶️ 費用を計算してみましょう\n",
    "\n",
    "\n"
   ]
  },
  {
   "cell_type": "code",
   "execution_count": null,
   "metadata": {
    "execution": {
     "iopub.execute_input": "2022-01-11T15:49:59.472436Z",
     "iopub.status.busy": "2022-01-11T15:49:59.472141Z",
     "iopub.status.idle": "2022-01-11T15:49:59.479131Z",
     "shell.execute_reply": "2022-01-11T15:49:59.477864Z",
     "shell.execute_reply.started": "2022-01-11T15:49:59.472406Z"
    }
   },
   "outputs": [],
   "source": [
    "\n",
    "get_actual_cost(432, 144, 400, 15) "
   ]
  },
  {
   "cell_type": "markdown",
   "metadata": {},
   "source": [
    "### 🔄 別の条件で試してみよう！\n",
    "\n",
    "では、**さらに広めの部屋**で作業する場合も試してみましょう。\n",
    "\n",
    "\n",
    "\n",
    "### 🎯 条件\n",
    "\n",
    "次の条件の部屋にペンキを塗ると、費用はどう変わるでしょうか？\n",
    "\n",
    "* 壁の面積：594 平方フィート\n",
    "* 天井の面積：288 平方フィート\n",
    "* ペンキ 1 ガロンで塗れる面積：400 平方フィート\n",
    "* ガロン単価：15 ドル\n",
    "\n",
    "\n",
    "\n",
    "### ▶️ 計算してみましょう\n"
   ]
  },
  {
   "cell_type": "code",
   "execution_count": null,
   "metadata": {
    "execution": {
     "iopub.execute_input": "2022-01-11T16:04:36.645519Z",
     "iopub.status.busy": "2022-01-11T16:04:36.644695Z",
     "iopub.status.idle": "2022-01-11T16:04:36.650348Z",
     "shell.execute_reply": "2022-01-11T16:04:36.649731Z",
     "shell.execute_reply.started": "2022-01-11T16:04:36.64547Z"
    }
   },
   "outputs": [],
   "source": [
    "\n",
    "get_actual_cost(594, 288, 400, 15) "
   ]
  },
  {
   "cell_type": "markdown",
   "metadata": {},
   "source": [
    "\n",
    "\n",
    "この結果を前の結果と比較することで、  \n",
    "「**部屋のサイズの変化が費用にどう影響するのか？**」という視点が自然に身につきます。\n",
    "\n",
    "\n"
   ]
  },
  {
   "cell_type": "markdown",
   "metadata": {},
   "source": [
    "## 🎉 お疲れさまでした！\n",
    "\n",
    "このチュートリアルと演習では、**関数**について段階的に学んできました。\n",
    "\n",
    "\n",
    "\n",
    "### 🔁 ここまでに学んだこと\n",
    "\n",
    "📌 **関数とは何か？**  \n",
    "　Python における関数の基本構文（`def`）や引数の使い方を学びました。\n",
    "\n",
    "🧠 **戻り値のある関数**  \n",
    "　`return` を使って計算結果を返すことで、柔軟なプログラムが書けることを体験しました。\n",
    "\n",
    "🧪 **実践問題での応用**  \n",
    "　- ベッドルームとバスルームの数から住宅価格を予測  \n",
    "　- ペンキの必要量とコストを計算するツールを作成  \n",
    "　- `math.ceil()` を使った**切り上げ処理**による現実的な計算にも挑戦しました\n",
    "\n",
    "📚 **自分で考えて関数を設計し、手を動かして確認する経験**は、今後の学習の大きな基盤になります。\n",
    "\n",
    "\n",
    "\n",
    "### 🚀 次のステップ\n",
    "\n",
    "📘 次は、Python における **[データ型（data types）](./tut3.ipynb)** について学びましょう。\n",
    "\n",
    "文字列・数値・リストなどの「**値の種類**」を理解することで、  \n",
    "さらに多様で柔軟なプログラムが書けるようになります！\n",
    "\n",
    "\n"
   ]
  },
  {
   "cell_type": "markdown",
   "metadata": {},
   "source": []
  }
 ],
 "metadata": {
  "kernelspec": {
   "display_name": "Python 3",
   "language": "python",
   "name": "python3"
  },
  "language_info": {
   "codemirror_mode": {
    "name": "ipython",
    "version": 3
   },
   "file_extension": ".py",
   "mimetype": "text/x-python",
   "name": "python",
   "nbconvert_exporter": "python",
   "pygments_lexer": "ipython3",
   "version": "3.6.5"
  }
 },
 "nbformat": 4,
 "nbformat_minor": 4
}
