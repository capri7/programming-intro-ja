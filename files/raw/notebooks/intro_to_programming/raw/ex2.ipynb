{
 "cells": [
  {
   "cell_type": "markdown",
   "metadata": {},
   "source": [
    "チュートリアルを通して、関数の基本を学びました。  \n",
    "続く演習では、それを活かして自分で関数を書いてみましょう！\n",
    "\n",
    "\n",
    "# ノートブックの準備\n",
    "\n",
    "次のコードセルは変更せず、そのまま実行してください。ノートブックの準備を行います。\n"
   ]
  },
  {
   "cell_type": "markdown",
   "metadata": {},
   "source": [
    "## Pyodide環境の準備"
   ]
  },
  {
   "cell_type": "code",
   "execution_count": null,
   "metadata": {},
   "outputs": [],
   "source": [
    "# 演習のセットアップ\n",
    "import micropip\n",
    "\n",
    "# 外部パッケージのインストール\n",
    "await micropip.install(\"http://127.0.0.1:8000/files/raw/packages/learntools-0.3.5-py3-none-any.whl\")"
   ]
  },
  {
   "cell_type": "markdown",
   "metadata": {},
   "source": [
    "## 必要なパッケージのインストール"
   ]
  },
  {
   "cell_type": "code",
   "execution_count": null,
   "metadata": {},
   "outputs": [],
   "source": [
    "await micropip.install([\"pandas\", \"numpy\", \"matplotlib\"])\n",
    "\n",
    "from learntools.core import binder\n",
    "# 問題をグローバルスコープにバインド\n",
    "binder.bind(globals())\n",
    "print(\"✅ Setup complete\")"
   ]
  },
  {
   "cell_type": "markdown",
   "metadata": {},
   "source": [
    "## 演習モジュールのインポート"
   ]
  },
  {
   "cell_type": "code",
   "execution_count": null,
   "metadata": {},
   "outputs": [],
   "source": [
    "# 演習モジュールを読み込む\n",
    "from learntools.intro_to_programming.ex2 import *"
   ]
  },
  {
   "cell_type": "markdown",
   "metadata": {},
   "source": [
    "# 質問 1\n",
    "[「House Prices（住宅価格予測） - 回帰問題」コンペティション](https://www.kaggle.com/c/house-prices-advanced-regression-techniques/overview) では、  \n",
    "寝室の数や浴室の数といった情報をもとに、住宅価格を予測する必要があります。  \n",
    "このコンペにヒントを得て、ここではあなた自身の関数を作って、住宅価格を予測してみましょう。\n",
    "\n",
    "次のコードセルでは、`get_expected_cost()` という関数を定義します。  \n",
    "この関数は、次の2つの引数を受け取ります：\n",
    "\n",
    "- `beds`：寝室の数  \n",
    "- `baths`：浴室の数\n",
    "\n",
    "この関数は、指定された寝室と浴室の数に応じた住宅の想定価格を返すようにしてください。  \n",
    "以下の前提をもとに計算します。  \n",
    "（※金額の単位はドルです。たとえば、$1 = 100円とすると、$80000 は約800万円に相当します。）\n",
    "\n",
    "- 寝室も浴室も 0 の場合、住宅の基本価格は `80000`  \n",
    "- 寝室が 1 部屋増えるごとに、価格に `30000` 加算される  \n",
    "- 浴室が 1 つ増えるごとに、価格に `10000` 加算される\n",
    "\n",
    "たとえば、\n",
    "\n",
    "- 寝室が1部屋、浴室が1つの家の想定価格は `120000`  \n",
    "- 寝室が2部屋、浴室が1つの家の想定価格は `150000`\n"
   ]
  },
  {
   "cell_type": "code",
   "execution_count": null,
   "metadata": {
    "execution": {
     "iopub.execute_input": "2022-01-28T19:32:29.981041Z",
     "iopub.status.busy": "2022-01-28T19:32:29.979554Z",
     "iopub.status.idle": "2022-01-28T19:32:29.988906Z",
     "shell.execute_reply": "2022-01-28T19:32:29.987958Z",
     "shell.execute_reply.started": "2022-01-28T19:32:29.980942Z"
    }
   },
   "outputs": [],
   "source": [
    "# TODO: 関数を完成させましょう\n",
    "def get_expected_cost(beds, baths):\n",
    "    value = ____\n",
    "    return value\n",
    "\n",
    "# 答えをチェック\n",
    "q1.check()"
   ]
  },
  {
   "cell_type": "code",
   "execution_count": null,
   "metadata": {},
   "outputs": [],
   "source": [
    "#%%RM_IF(PROD)%%　（開発者向け：本番環境では非表示）\n",
    "# 関数を完成させる\n",
    "def get_expected_cost(beds, baths):\n",
    "    value = 80000 + 30000 * beds + 10000 * baths\n",
    "    return value\n",
    "\n",
    "q1.assert_check_passed()"
   ]
  },
  {
   "cell_type": "code",
   "execution_count": null,
   "metadata": {
    "execution": {
     "iopub.execute_input": "2022-01-28T19:32:30.010411Z",
     "iopub.status.busy": "2022-01-28T19:32:30.009732Z",
     "iopub.status.idle": "2022-01-28T19:32:30.013674Z",
     "shell.execute_reply": "2022-01-28T19:32:30.012836Z",
     "shell.execute_reply.started": "2022-01-28T19:32:30.010368Z"
    }
   },
   "outputs": [],
   "source": [
    "# ヒントを見たい場合はコメントアウトを外してください\n",
    "#_COMMENT_IF(PROD)_（開発者向け：本番環境では非表示）\n",
    "q1.hint()\n",
    "\n",
    "# 解答を確認したい場合はコメントアウトを外してください\n",
    "#_COMMENT_IF(PROD)_（開発者向け：本番環境では非表示）\n",
    "q1.solution()"
   ]
  },
  {
   "cell_type": "markdown",
   "metadata": {},
   "source": [
    "# 質問 2\n",
    "\n",
    "あなたはこれから家を購入しようと考えています。  \n",
    "寝室と浴室の数をもとに、どれくらいの費用がかかるかを把握したいと思っています。  \n",
    "現在、4つの異なる選択肢の中から検討しているところです。\n",
    "\n",
    "- 選択肢1：寝室が2部屋、浴室が3つの家  \n",
    "- 選択肢2：寝室が3部屋、浴室が2つの家  \n",
    "- 選択肢3：寝室が3部屋、浴室が3つの家  \n",
    "- 選択肢4：寝室が3部屋、浴室が4つの家\n",
    "\n",
    "\n",
    "質問1で定義した `get_expected_cost()` 関数を使って、  \n",
    "`option_1`、`option_2`、`option_3`、`option_4` にそれぞれの選択肢の想定価格を代入しましょう。\n"
   ]
  },
  {
   "cell_type": "code",
   "execution_count": null,
   "metadata": {
    "execution": {
     "iopub.execute_input": "2022-01-28T19:32:31.138955Z",
     "iopub.status.busy": "2022-01-28T19:32:31.138346Z",
     "iopub.status.idle": "2022-01-28T19:32:31.147079Z",
     "shell.execute_reply": "2022-01-28T19:32:31.146137Z",
     "shell.execute_reply.started": "2022-01-28T19:32:31.138897Z"
    }
   },
   "outputs": [],
   "source": [
    "# TODO: get_expected_cost 関数を使って、それぞれの値を埋めましょう\n",
    "option_one = ____\n",
    "option_two = ____\n",
    "option_three = ____\n",
    "option_four = ____\n",
    "\n",
    "print(option_one)\n",
    "print(option_two)\n",
    "print(option_three)\n",
    "print(option_four)\n",
    "\n",
    "# 答えをチェック\n",
    "q2.check()"
   ]
  },
  {
   "cell_type": "code",
   "execution_count": null,
   "metadata": {},
   "outputs": [],
   "source": [
    "#%%RM_IF(PROD)%%（開発者向け：本番環境では非表示）\n",
    "# get_expected_cost関数を使って、それぞれの値を埋めましょう\n",
    "option_one = get_expected_cost(2, 3)\n",
    "option_two = get_expected_cost(3, 2)\n",
    "option_three = get_expected_cost(3, 3)\n",
    "option_four = get_expected_cost(3, 4)\n",
    "\n",
    "print(option_one)\n",
    "print(option_two)\n",
    "print(option_three)\n",
    "print(option_four)\n",
    "\n",
    "q2.assert_check_passed()"
   ]
  },
  {
   "cell_type": "code",
   "execution_count": null,
   "metadata": {},
   "outputs": [],
   "source": [
    "# ヒントを見たい場合はコメントアウトを外してください\n",
    "#_COMMENT_IF(PROD)_（開発者向け：本番環境では非表示）\n",
    "q2.hint()\n",
    "\n",
    "# 解答を確認したい場合はコメントアウトを外してください\n",
    "#_COMMENT_IF(PROD)_（開発者向け：本番環境では非表示）\n",
    "q2.solution()\n"
   ]
  },
  {
   "cell_type": "markdown",
   "metadata": {},
   "source": [
    "# 質問 3\n",
    "\n",
    "あなたは住宅のインテリアコーディネーターです。  \n",
    "作業を効率化するために、Python を使って業務の一部を自動化しようと考えています。  \n",
    "今回は、部屋の塗装費用を計算するためのツールを作成する予定です。\n",
    "\n",
    "まず最初のステップとして、`get_cost()` という関数を定義しましょう。  \n",
    "この関数は次の4つの入力を受け取ります：\n",
    "\n",
    "- `sqft_walls`：塗装する壁の面積（平方フィート）  \n",
    "- `sqft_ceiling`：塗装する天井の面積（平方フィート）  \n",
    "- `sqft_per_gallon`：ペンキ1ガロンで塗れる面積（平方フィート）  \n",
    "- `cost_per_gallon`：ペンキ1ガロンあたりの価格（ドル）\n",
    "\n",
    "この関数は、すべての壁と天井にペンキを1回塗る場合の費用（ドル）を返すようにしてください。  \n",
    "必要な量だけピッタリ購入できると仮定します。たとえば、7.523ガロン必要な場合は、その正確な量を購入できるものとします（8ガロンを買って余らせる必要はありません）。  \n",
    "答えは四捨五入せず、そのままの値を返してください。\n"
   ]
  },
  {
   "cell_type": "code",
   "execution_count": null,
   "metadata": {
    "execution": {
     "iopub.execute_input": "2022-01-28T19:20:51.698164Z",
     "iopub.status.busy": "2022-01-28T19:20:51.697538Z",
     "iopub.status.idle": "2022-01-28T19:20:51.727027Z",
     "shell.execute_reply": "2022-01-28T19:20:51.726324Z",
     "shell.execute_reply.started": "2022-01-28T19:20:51.698035Z"
    }
   },
   "outputs": [],
   "source": [
    "# TODO: 関数の定義を完成させましょう\n",
    "def get_cost(sqft_walls, sqft_ceiling, sqft_per_gallon, cost_per_gallon):\n",
    "    cost = ____\n",
    "    return cost\n",
    "\n",
    "# 答えをチェック\n",
    "q3.check()"
   ]
  },
  {
   "cell_type": "code",
   "execution_count": null,
   "metadata": {},
   "outputs": [],
   "source": [
    "#%%RM_IF(PROD)%% （開発者向け：本番環境では非表示）\n",
    "def get_cost(sqft_walls, sqft_ceiling, sqft_per_gallon, cost_per_gallon):\n",
    "    total_sqft = sqft_walls + sqft_ceiling\n",
    "    gallons_needed = total_sqft / sqft_per_gallon\n",
    "    cost = cost_per_gallon * gallons_needed\n",
    "    return cost\n",
    "\n",
    "q3.assert_check_passed()"
   ]
  },
  {
   "cell_type": "code",
   "execution_count": null,
   "metadata": {},
   "outputs": [],
   "source": [
    "# ヒントを見たい場合はコメントアウトを外してください\n",
    "#_COMMENT_IF(PROD)_（開発者向け：本番環境では非表示）\n",
    "q3.hint()\n",
    "\n",
    "# 解答を確認したい場合はコメントアウトを外してください\n",
    "#_COMMENT_IF(PROD)_（開発者向け：本番環境では非表示）\n",
    "q3.solution()"
   ]
  },
  {
   "cell_type": "markdown",
   "metadata": {},
   "source": [
    "# 質問 4\n",
    "\n",
    "質問3で定義した `get_cost()` 関数を使って、  \n",
    "次の条件の部屋にペンキを1回塗る場合の費用を計算しましょう：\n",
    "\n",
    "- 壁の面積：432 平方フィート  \n",
    "- 天井の面積：144 平方フィート\n",
    "\n",
    "ペンキ1ガロンで塗れる面積は 400平方フィート、価格は$15と仮定してください。  \n",
    "質問3と同様に、必要な量だけピッタリ購入できるものとします（たとえば、7.2ガロンだけを買うことができます）。  \n",
    "答えは四捨五入せず、そのままの値を返してください。\n"
   ]
  },
  {
   "cell_type": "code",
   "execution_count": null,
   "metadata": {
    "execution": {
     "iopub.execute_input": "2022-01-11T15:46:32.597864Z",
     "iopub.status.busy": "2022-01-11T15:46:32.597427Z",
     "iopub.status.idle": "2022-01-11T15:46:32.604147Z",
     "shell.execute_reply": "2022-01-11T15:46:32.603249Z",
     "shell.execute_reply.started": "2022-01-11T15:46:32.59781Z"
    }
   },
   "outputs": [],
   "source": [
    "# TODO: project_cost変数に、プロジェクトの費用を代入しましょう\n",
    "project_cost = ____\n",
    "\n",
    "# 答えをチェック\n",
    "q4.check()\n"
   ]
  },
  {
   "cell_type": "code",
   "execution_count": null,
   "metadata": {},
   "outputs": [],
   "source": [
    "#%%RM_IF(PROD)%%　（開発者向け：本番環境では非表示）\n",
    "# project_cost変数に、プロジェクトの費用を代入\n",
    "project_cost = get_cost(432, 144, 400, 15) \n",
    "\n",
    "q4.assert_check_passed()\n",
    "\n"
   ]
  },
  {
   "cell_type": "code",
   "execution_count": null,
   "metadata": {},
   "outputs": [],
   "source": [
    "# ヒントを見たい場合はコメントアウトを外してください\n",
    "#_COMMENT_IF(PROD)_（開発者向け：本番環境では非表示）\n",
    "q4.hint()\n",
    "\n",
    "# 解答を確認したい場合はコメントアウトを外してください\n",
    "#_COMMENT_IF(PROD)_（開発者向け：本番環境では非表示）\n",
    "q4.solution()"
   ]
  },
  {
   "cell_type": "markdown",
   "metadata": {},
   "source": [
    "# 🌶️ 質問 5\n",
    "\n",
    "今度は、ペンキをガロン単位でしか購入できないとしましょう。  \n",
    "（たとえば、プロジェクトに 4.3ガロン必要な場合でも、5ガロンを購入しなければなりません）\n",
    "\n",
    "この新しい前提のもとで、これまでと同じ入力を使って  \n",
    "プロジェクトの費用を計算する新しい関数 `get_actual_cost` を作成してください。\n",
    "\n",
    "この処理を行うには、`math.ceil()` という関数を使う必要があります。  \n",
    "次のコードセルでは、この関数の使い方を紹介します。\n",
    "\n",
    "`math.ceil()` は、数値を入力として受け取り、**その数以上で最も近い整数**（切り上げ）を返します。\n",
    "\n",
    "次のコードセルを実行して、実際にこの関数の動作を確認してみましょう。  \n",
    "`test_value` の値を自由に変更して、`math.ceil()` が期待通りの結果を返すことを確かめてください。\n"
   ]
  },
  {
   "cell_type": "code",
   "execution_count": null,
   "metadata": {
    "execution": {
     "iopub.execute_input": "2022-01-11T16:20:02.068358Z",
     "iopub.status.busy": "2022-01-11T16:20:02.06753Z",
     "iopub.status.idle": "2022-01-11T16:20:02.073477Z",
     "shell.execute_reply": "2022-01-11T16:20:02.072705Z",
     "shell.execute_reply.started": "2022-01-11T16:20:02.06831Z"
    }
   },
   "outputs": [],
   "source": [
    "import math\n",
    "\n",
    "test_value = 2.17\n",
    "\n",
    "rounded_value = math.ceil(test_value)\n",
    "print(rounded_value)"
   ]
  },
  {
   "cell_type": "markdown",
   "metadata": {},
   "source": [
    "次のコードセルを使って、`get_actual_cost()` 関数を定義しましょう。  \n",
    "この関数では、`math.ceil()` を使う必要があります。\n",
    "\n",
    "なお、**他の関数を使って新しい関数を作るのは、まったく問題のない正しい方法です。**\n",
    "たとえば、`math.ceil()` を使って定義された `round_up_and_divide_by_three` という関数も作ることができます。\n",
    "\n",
    "```\n",
    "def round_up_and_divide_by_three(num):\n",
    "    new_value = math.ceil(num)\n",
    "    final_value = new_value / 3\n",
    "    return final_value\n",
    "```"
   ]
  },
  {
   "cell_type": "code",
   "execution_count": null,
   "metadata": {
    "execution": {
     "iopub.execute_input": "2022-01-28T22:17:36.984577Z",
     "iopub.status.busy": "2022-01-28T22:17:36.98411Z",
     "iopub.status.idle": "2022-01-28T22:17:37.013757Z",
     "shell.execute_reply": "2022-01-28T22:17:37.012864Z",
     "shell.execute_reply.started": "2022-01-28T22:17:36.984455Z"
    }
   },
   "outputs": [],
   "source": [
    "def get_actual_cost(sqft_walls, sqft_ceiling, sqft_per_gallon, cost_per_gallon):\n",
    "    cost = ____\n",
    "    return cost\n",
    "\n",
    "# 答えをチェック\n",
    "q5.check()"
   ]
  },
  {
   "cell_type": "code",
   "execution_count": null,
   "metadata": {},
   "outputs": [],
   "source": [
    "#%%RM_IF(PROD)%%（開発者向け：本番環境では非表示）\n",
    "def get_actual_cost(sqft_walls, sqft_ceiling, sqft_per_gallon, cost_per_gallon):\n",
    "    total_sqft = sqft_walls + sqft_ceiling\n",
    "    gallons_needed = total_sqft / sqft_per_gallon\n",
    "    gallons_to_buy = math.ceil(gallons_needed)\n",
    "    cost = cost_per_gallon * gallons_to_buy\n",
    "    return cost\n",
    "\n",
    "q5.assert_check_passed()"
   ]
  },
  {
   "cell_type": "code",
   "execution_count": null,
   "metadata": {},
   "outputs": [],
   "source": [
    "# ヒントを見たい場合はコメントアウトを外してください\n",
    "#_COMMENT_IF(PROD)_（開発者向け：本番環境では非表示）\n",
    "q5.hint()\n",
    "\n",
    "# 解答を確認したい場合はコメントアウトを外してください\n",
    "#_COMMENT_IF(PROD)_（開発者向け：本番環境では非表示）\n",
    "q5.solution()"
   ]
  },
  {
   "cell_type": "markdown",
   "metadata": {},
   "source": [
    "関数が正しく動作することを確認できたら、  \n",
    "次のコードセルを実行して、プロジェクトの更新後の費用を計算してみましょう。"
   ]
  },
  {
   "cell_type": "code",
   "execution_count": null,
   "metadata": {
    "execution": {
     "iopub.execute_input": "2022-01-11T15:49:59.472436Z",
     "iopub.status.busy": "2022-01-11T15:49:59.472141Z",
     "iopub.status.idle": "2022-01-11T15:49:59.479131Z",
     "shell.execute_reply": "2022-01-11T15:49:59.477864Z",
     "shell.execute_reply.started": "2022-01-11T15:49:59.472406Z"
    }
   },
   "outputs": [],
   "source": [
    "get_actual_cost(432, 144, 400, 15) "
   ]
  },
  {
   "cell_type": "markdown",
   "metadata": {},
   "source": [
    "少し広めの部屋で作業しているとします。  \n",
    "次のコードセルを実行して、その場合のプロジェクト費用を計算してください。"
   ]
  },
  {
   "cell_type": "code",
   "execution_count": null,
   "metadata": {
    "execution": {
     "iopub.execute_input": "2022-01-11T16:04:36.645519Z",
     "iopub.status.busy": "2022-01-11T16:04:36.644695Z",
     "iopub.status.idle": "2022-01-11T16:04:36.650348Z",
     "shell.execute_reply": "2022-01-11T16:04:36.649731Z",
     "shell.execute_reply.started": "2022-01-11T16:04:36.64547Z"
    }
   },
   "outputs": [],
   "source": [
    "get_actual_cost(594, 288, 400, 15) "
   ]
  },
  {
   "cell_type": "markdown",
   "metadata": {},
   "source": [
    "# お疲れさまでした 🎉\n",
    "\n",
    "ここまで順調に進んでいますね！  \n",
    "次は [**データ型**（data types）](./tut3.ipynb) について学びましょう。\n",
    "\n"
   ]
  }
 ],
 "metadata": {
  "kernelspec": {
   "display_name": "Python 3",
   "language": "python",
   "name": "python3"
  },
  "language_info": {
   "codemirror_mode": {
    "name": "ipython",
    "version": 3
   },
   "file_extension": ".py",
   "mimetype": "text/x-python",
   "name": "python",
   "nbconvert_exporter": "python",
   "pygments_lexer": "ipython3",
   "version": "3.6.5"
  }
 },
 "nbformat": 4,
 "nbformat_minor": 4
}
