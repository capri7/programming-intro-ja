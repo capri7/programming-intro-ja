{
 "cells": [
  {
   "cell_type": "markdown",
   "metadata": {
    "papermill": {
     "duration": 0.016318,
     "end_time": "2022-03-08T19:56:59.081974",
     "exception": false,
     "start_time": "2022-03-08T19:56:59.065656",
     "status": "completed"
    },
    "tags": []
   },
   "source": [
    "# 🧠 関数の紹介\n",
    "\n",
    "このチュートリアルでは、**「関数」を使ってコードをすっきり整理する方法**を学びます。\n",
    "\n",
    "関数とは、特定の処理をまとめた「ひとまとまりのコード」のことです。\n",
    "\n",
    "関数を使うと、同じような計算や処理を**何度も書かずに済む**ため、  \n",
    "コードの**見通しが良くなり、ミスも減らせます**。\n"
   ]
  },
  {
   "cell_type": "markdown",
   "id": "ba78d49f",
   "metadata": {},
   "source": [
    "\n",
    "## ⚙️ 環境セットアップ（Pyodide）\n",
    "\n",
    "このノートブックでは、次の手順で**環境を準備**します：\n",
    "\n",
    "1. **learntools パッケージのインストール**"
   ]
  },
  {
   "cell_type": "code",
   "execution_count": null,
   "id": "f59d43de",
   "metadata": {},
   "outputs": [],
   "source": [
    "\n",
    "\n",
    "import micropip\n",
    "\n",
    "await micropip.install(\"https://capri7.github.io/programming-intro-ja/files/raw/packages/learntools-0.3.5-py3-none-any.whl\")\n"
   ]
  },
  {
   "cell_type": "markdown",
   "id": "59cff85f",
   "metadata": {},
   "source": [
    "2. **標準ライブラリのインストール**"
   ]
  },
  {
   "cell_type": "code",
   "execution_count": null,
   "id": "345714e1",
   "metadata": {},
   "outputs": [],
   "source": [
    "\n",
    "\n",
    "await micropip.install([\"numpy\", \"pandas\", \"matplotlib\"])\n"
   ]
  },
  {
   "cell_type": "markdown",
   "id": "d65aec96",
   "metadata": {},
   "source": [
    "3. **グローバル変数のバインド**"
   ]
  },
  {
   "cell_type": "code",
   "execution_count": null,
   "id": "a404c9b3",
   "metadata": {},
   "outputs": [],
   "source": [
    "\n",
    "\n",
    "from learntools.core import binder\n",
    "binder.bind(globals())\n",
    "print(\"✅ Setup complete\")\n"
   ]
  },
  {
   "cell_type": "markdown",
   "id": "eb2e1a67",
   "metadata": {},
   "source": [
    "## 関数入門：シンプルな例\n",
    "\n",
    "まずは、**簡単な関数の例**を見てみましょう。  \n",
    "Pythonで関数を定義するには、**`def` キーワード** を使います。\n",
    "\n",
    "次のコードでは、`add_three` という名前の関数を定義しています。\n",
    "\n",
    "* **引数として受け取った数に3を足し**\n",
    "* その結果を**返す（returnする）** シンプルな関数です。\n",
    "\n"
   ]
  },
  {
   "cell_type": "code",
   "execution_count": null,
   "metadata": {
    "execution": {
     "iopub.execute_input": "2022-03-08T19:56:59.117555Z",
     "iopub.status.busy": "2022-03-08T19:56:59.116404Z",
     "iopub.status.idle": "2022-03-08T19:56:59.125828Z",
     "shell.execute_reply": "2022-03-08T19:56:59.126333Z",
     "shell.execute_reply.started": "2022-02-15T20:26:36.948908Z"
    },
    "papermill": {
     "duration": 0.02869,
     "end_time": "2022-03-08T19:56:59.126603",
     "exception": false,
     "start_time": "2022-03-08T19:56:59.097913",
     "status": "completed"
    },
    "tags": []
   },
   "outputs": [],
   "source": [
    "\n",
    "# 関数を定義する\n",
    "def add_three(input_var):\n",
    "    output_var = input_var + 3\n",
    "    return output_var"
   ]
  },
  {
   "cell_type": "markdown",
   "id": "deb46659",
   "metadata": {},
   "source": [
    "関数を**定義しただけでは、まだ何も処理は行われません**。  \n",
    "実際に動かすには、その関数を**呼び出す**必要があります。\n",
    "\n",
    "次は、この `add_three` 関数を**呼び出して使う例**を見てみましょう。"
   ]
  },
  {
   "cell_type": "markdown",
   "metadata": {
    "papermill": {
     "duration": 0.01498,
     "end_time": "2022-03-08T19:56:59.156811",
     "exception": false,
     "start_time": "2022-03-08T19:56:59.141831",
     "status": "completed"
    },
    "tags": []
   },
   "source": [
    "## 関数の構造\n",
    "\n",
    "関数は、主に **ヘッダー（header）** と **本体（body）** の2つの部分で構成されています。\n",
    "\n",
    "| 部分       | 内容                                                  | 説明              |\n",
    "| -------- | --------------------------------------------------- | --------------- |\n",
    "| **ヘッダー** | `def add_three(input_var):`                         | 関数名と引数を指定します    |\n",
    "| **本体**   | `output_var = input_var + 3`<br>`return output_var` | 関数が実行する処理を記述します |\n",
    "\n",
    "\n",
    "\n",
    "### 📘 コード全体\n",
    "\n",
    "```python\n",
    "# 関数の定義\n",
    "def add_three(input_var):    # ヘッダー\n",
    "    output_var = input_var + 3   # 本体\n",
    "    return output_var            # 本体\n",
    "```\n",
    "\n",
    "\n",
    "## ヘッダー（Header）\n",
    "\n",
    "関数の**ヘッダー**は、関数の「名前」と「引数（入力）」を定義する部分です。  \n",
    "Pythonでは、すべての関数ヘッダーが`def` で始まります。\n",
    "\n",
    "`def` は「これから関数を作りますよ」とPythonに伝えるためのキーワードです。\n",
    "\n",
    "\n",
    "\n",
    "### 📘 例\n",
    "\n",
    "次のヘッダー部分では：\n",
    "\n",
    "```python\n",
    "def add_three(input_var):\n",
    "```\n",
    "\n",
    "* 関数の名前は **`add_three`**\n",
    "* この関数は、**`input_var` という名前の引数** を1つ受け取ります。\n",
    "\n",
    "\n",
    "\n",
    "## 引数とは？\n",
    "\n",
    "**引数（argument）** とは、関数に渡す**入力の値**のことです。  \n",
    "関数を定義するときは、関数名のすぐあとに**丸カッコ `()`** を書き、  \n",
    "その中に**引数**を書きます。\n",
    "\n",
    "※ 引数は「1つだけ」の場合もあれば、「なし」や「複数」の場合もあります。  \n",
    "このあと順番に学びます。\n",
    "\n",
    "また、**引数のカッコのあとには必ずコロン `:` を書く** 決まりになっています。\n",
    "\n",
    "\n",
    "\n",
    "### 📘 注意\n",
    "\n",
    "* **「引数」は「ひきすう」と読みます**  \n",
    "  （※「いんすう」ではありません）\n",
    "* プログラミングで頻出する重要な用語なので、**読み方も正確に覚えておきましょう**。\n",
    "\n",
    "\n",
    "\n",
    "## 用語まとめ（関連語）\n",
    "\n",
    "| 用語      | 読み方    | 説明                                         |\n",
    "| ------- | ------ | ------------------------------------------ |\n",
    "| **引数**  | ひきすう   | 関数に渡す入力の値。関数の外から中へ渡す「材料」                   |\n",
    "| **戻り値** | もどりち   | 関数が処理を終えたあとに返す値（`return` で返すもの）            |\n",
    "| **仮引数** | かりひきすう | 関数を定義するときに書く名前（例：`input_var`）              |\n",
    "| **実引数** | じつひきすう | 関数を呼び出すときに渡す実際の値（例：`add_three(10)` の `10`） |\n",
    "\n",
    "\n",
    "\n",
    "## 本体（Body）\n",
    "\n",
    "関数の**本体**は、その関数が**実際にどんな処理を行うかを記述する部分**です。  \n",
    "関数本体のコードは、**すべての行を4文字分インデント（字下げ）** する必要があります。\n",
    "\n",
    "インデントするには：\n",
    "\n",
    "* スペースキーを**4回押す**\n",
    "* または **Tabキーを1回押す** のが一般的です。\n",
    "\n",
    "※ Pythonでは、状況によっては4文字以上のインデントを使う場合もあります。  \n",
    "  このコースの後半で解説します。\n",
    "\n",
    "\n",
    "\n",
    "### 本体の流れ\n",
    "\n",
    "関数は、インデントされた行を**上から順番に実行**して処理を進めます。\n",
    "\n",
    "例として、次の流れになります：\n",
    "\n",
    "1. **引数（例：`input_var`）の値を受け取る**\n",
    "2. `input_var + 3` の計算結果を、`output_var` という変数に代入する\n",
    "3. `return` 文で `output_var` の値を返す → これが関数の出力\n",
    "\n",
    "\n",
    "\n",
    "### 注意\n",
    "\n",
    "* これまでのコードセルでは、**関数の定義だけを行っています**。\n",
    "* **まだ関数は実行されていません**。\n",
    "\n",
    "次のコードセルで、関数を**実際に使ってみる**ことで、  \n",
    "関数本体の動きを具体的に確認します。\n",
    "\n",
    "\n",
    "\n",
    "### 関数の実行方法\n",
    "\n",
    "関数を**実行すること**を「**関数を呼び出す**（call）」と言います。\n",
    "\n",
    "次のコードでは、`10`という値を引数として関数に渡し、その計算結果を  \n",
    "**`new_number` という新しい変数に代入**しています。\n",
    "\n",
    "\n",
    "#### 📘 コード例\n"
   ]
  },
  {
   "cell_type": "code",
   "execution_count": null,
   "metadata": {
    "execution": {
     "iopub.execute_input": "2022-03-08T19:56:59.192082Z",
     "iopub.status.busy": "2022-03-08T19:56:59.191464Z",
     "iopub.status.idle": "2022-03-08T19:56:59.194072Z",
     "shell.execute_reply": "2022-03-08T19:56:59.194568Z",
     "shell.execute_reply.started": "2022-02-15T20:26:36.955602Z"
    },
    "papermill": {
     "duration": 0.022884,
     "end_time": "2022-03-08T19:56:59.194726",
     "exception": false,
     "start_time": "2022-03-08T19:56:59.171842",
     "status": "completed"
    },
    "tags": []
   },
   "outputs": [],
   "source": [
    "\n",
    "# 10を引数にして関数を呼び出す\n",
    "new_number = add_three(10)\n",
    "\n",
    "# 結果が13になっているかを表示して確認する\n",
    "print(new_number)\n"
   ]
  },
  {
   "cell_type": "markdown",
   "id": "c7d86fe2",
   "metadata": {},
   "source": [
    "#### 処理の流れ\n",
    "\n",
    "| 部分              | 内容     | 説明                            |\n",
    "| --------------- | ------ | ----------------------------- |\n",
    "| `new_number`    | 変数名    | 計算結果を入れるための新しい変数              |\n",
    "| `=`             | 代入演算子  | 計算結果を `new_number` に代入する      |\n",
    "| `add_three(10)` | 関数呼び出し | `10` を入力として関数を実行し、その出力（13）を返す |\n",
    "\n",
    "\n"
   ]
  },
  {
   "cell_type": "markdown",
   "metadata": {
    "papermill": {
     "duration": 0.015508,
     "end_time": "2022-03-08T19:56:59.226208",
     "exception": false,
     "start_time": "2022-03-08T19:56:59.210700",
     "status": "completed"
    },
    "tags": []
   },
   "source": [
    "関数の処理を詳しく見てみましょう：\n",
    "\n",
    "`add_three(10)` は、**関数 `add_three` に `10` を引数として渡したときの出力**です。  \n",
    "関数が実行されると、**本体のコードが上から順に処理**されます。\n",
    "\n",
    "\n",
    "1. `output_var = input_var + 3` が実行される  \n",
    "   　→ このとき `input_var` は `10` なので、  \n",
    "   　　`output_var = 10 + 3` となり、`output_var = 13` が代入されます。\n",
    "\n",
    "2. `return output_var` によって、`output_var` の値（13）が関数の出力として返されます。\n",
    "\n",
    "\n",
    "\n",
    "その結果、次のような代入が行われます：\n",
    "\n",
    "```\n",
    "new_number = add_three(10)   →   new_number = 13\n",
    "```\n",
    "\n",
    "\n",
    "### 補足：カッコ（括弧）の使い方について\n",
    "\n",
    "このチュートリアルでは、関数を説明する際に  \n",
    "**`add_three()`** のようにカッコを付けて表記することがあります。\n",
    "\n",
    "これは、その名前が **関数であることをわかりやすく示すため** です。\n",
    "\n",
    "* **変数名や他のオブジェクトと区別しやすくなる** というメリットがあります。  \n",
    "* 実際のコードでは、カッコの中に引数を指定しますが、  \n",
    "  **文章中では空のカッコを付けたまま表記するのが一般的**です。\n",
    "\n",
    "今後もこのルールに従い、  \n",
    "関数は **`関数名()`** という形で表記します。\n",
    "\n",
    "\n",
    "\n",
    "### 関数に名前をつける\n",
    "\n",
    "先ほどの例では、関数の名前は **すでに決められていました**。  \n",
    "しかし、自分で関数を作るときは、**関数名を自分で考える必要**があります。\n",
    "\n",
    "関数名をつけるときには、次のようなルールに従うのが一般的です。\n",
    "\n",
    "### 関数名のつけ方（Pythonの慣例）\n",
    "\n",
    "* **すべて小文字のアルファベット** を使う\n",
    "* 単語と単語の区切りには、**スペースではなくアンダースコア `_` を使う**\n",
    "\n",
    "\n",
    "\n",
    "最初は少し違和感があるかもしれませんが、**すぐに慣れます**。\n",
    "\n",
    "たくさんのPythonコードを読むことで、  \n",
    "**自然でわかりやすい名前の付け方** が身につきます。\n",
    "\n",
    "\n"
   ]
  },
  {
   "cell_type": "markdown",
   "metadata": {
    "papermill": {
     "duration": 0.015316,
     "end_time": "2022-03-08T19:56:59.256910",
     "exception": false,
     "start_time": "2022-03-08T19:56:59.241594",
     "status": "completed"
    },
    "tags": []
   },
   "source": [
    "### 少し複雑な例\n",
    "\n",
    "ここまでで関数の基本がわかってきました。  \n",
    "次は、**少しだけ計算が長めの例**に取り組みましょう。\n",
    "\n",
    "今回は、**従業員の週給（税引き後）を計算する関数** を考えます。\n",
    "\n",
    "\n",
    "\n",
    "#### 設定\n",
    "\n",
    "* この従業員は、所得税として給与の **12%が差し引かれます**。  \n",
    "  → 手取りは **88%** になります。\n",
    "* **時給は15ドル** で、働いた時間に応じて給料が支払われます。\n",
    "\n",
    "\n",
    "\n",
    "この関数は、働いた時間に基づいて  \n",
    "**税引き後の週給** を計算します。\n",
    "\n",
    "前の例より計算ステップが少し増えますが、  \n",
    "**引数はこれまでと同じく `num_hours` の1つだけ** です。\n",
    "\n",
    "\n",
    "\n",
    "#### 関数内の処理\n",
    "\n",
    "関数の中では、次のような手順で計算が進みます：\n",
    "\n",
    "1. `num_hours` を使って、税引き前の給与を **`pay_pretax`** に代入する。\n",
    "2. `pay_pretax` を使って、税引き後の給与を **`pay_aftertax`** に代入する。\n",
    "3. 最後に、`pay_aftertax` を返す。\n",
    "\n",
    "\n",
    "\n",
    "少し長くなりましたが、**1行ずつ確認すればとてもシンプル** です。\n",
    "\n"
   ]
  },
  {
   "cell_type": "code",
   "execution_count": null,
   "metadata": {
    "execution": {
     "iopub.execute_input": "2022-03-08T19:56:59.290605Z",
     "iopub.status.busy": "2022-03-08T19:56:59.289970Z",
     "iopub.status.idle": "2022-03-08T19:56:59.293765Z",
     "shell.execute_reply": "2022-03-08T19:56:59.294273Z",
     "shell.execute_reply.started": "2022-02-15T20:26:36.973497Z"
    },
    "papermill": {
     "duration": 0.022048,
     "end_time": "2022-03-08T19:56:59.294442",
     "exception": false,
     "start_time": "2022-03-08T19:56:59.272394",
     "status": "completed"
    },
    "tags": []
   },
   "outputs": [],
   "source": [
    "\n",
    "\n",
    "def get_pay(num_hours):\n",
    "    # 時給15ドルで働いた場合の「税引き前」の給与を計算\n",
    "    pay_pretax = num_hours * 15\n",
    "    \n",
    "    # 税率12%を差し引いた「手取り額」を計算\n",
    "    pay_aftertax = pay_pretax * (1 - 0.12)\n",
    "    \n",
    "    # 計算結果（手取り額）を返す\n",
    "    return pay_aftertax\n",
    "\n",
    "\n"
   ]
  },
  {
   "cell_type": "markdown",
   "metadata": {
    "papermill": {
     "duration": 0.015206,
     "end_time": "2022-03-08T19:56:59.325305",
     "exception": false,
     "start_time": "2022-03-08T19:56:59.310099",
     "status": "completed"
    },
    "tags": []
   },
   "source": [
    "#### 関数の呼び出し\n",
    "\n",
    "この関数も、最初に学んだ関数と同じように  \n",
    "**「呼び出して使う」** ことができます。\n",
    "\n",
    "次のコードでは、**40時間働いた場合の税引き後の給与**を計算しています。  \n",
    "この場合、計算結果は **528ドル** になります。\n",
    "\n",
    "\n",
    "### 📘 コード例\n",
    "\n"
   ]
  },
  {
   "cell_type": "code",
   "execution_count": null,
   "metadata": {
    "execution": {
     "iopub.execute_input": "2022-03-08T19:56:59.359422Z",
     "iopub.status.busy": "2022-03-08T19:56:59.358711Z",
     "iopub.status.idle": "2022-03-08T19:56:59.365044Z",
     "shell.execute_reply": "2022-03-08T19:56:59.364017Z",
     "shell.execute_reply.started": "2022-02-15T20:26:36.988061Z"
    },
    "papermill": {
     "duration": 0.024515,
     "end_time": "2022-03-08T19:56:59.365331",
     "exception": false,
     "start_time": "2022-03-08T19:56:59.340816",
     "status": "completed"
    },
    "tags": []
   },
   "outputs": [],
   "source": [
    "\n",
    "# 40時間働いた場合の税引き後の給与を計算する\n",
    "\n",
    "pay_fulltime = get_pay(40)\n",
    "print(pay_fulltime)\n"
   ]
  },
  {
   "cell_type": "markdown",
   "id": "b57c2c19",
   "metadata": {},
   "source": [
    "このように、関数を呼び出して結果を得ることで、  \n",
    "**計算式を毎回書かずに済み、わかりやすくシンプルに記述**できます。"
   ]
  },
  {
   "cell_type": "markdown",
   "metadata": {
    "papermill": {
     "duration": 0.015706,
     "end_time": "2022-03-08T19:56:59.397952",
     "exception": false,
     "start_time": "2022-03-08T19:56:59.382246",
     "status": "completed"
    },
    "tags": []
   },
   "source": [
    "**働いた時間を変えて計算してみましょう**\n",
    "\n",
    "働いた時間が変われば、**関数に渡す数値を変えるだけ**で、  \n",
    "すぐに新しい給与を計算できます。\n",
    "\n",
    "たとえば、従業員が **32時間** 働いた場合、  \n",
    "税引き後の手取り額は **422.40ドル** になります。\n",
    "\n",
    "\n",
    "#### 📘 コード例\n",
    "\n"
   ]
  },
  {
   "cell_type": "code",
   "execution_count": null,
   "metadata": {
    "execution": {
     "iopub.execute_input": "2022-03-08T19:56:59.433902Z",
     "iopub.status.busy": "2022-03-08T19:56:59.433157Z",
     "iopub.status.idle": "2022-03-08T19:56:59.437966Z",
     "shell.execute_reply": "2022-03-08T19:56:59.437410Z",
     "shell.execute_reply.started": "2022-02-15T20:26:37.003476Z"
    },
    "papermill": {
     "duration": 0.023422,
     "end_time": "2022-03-08T19:56:59.438109",
     "exception": false,
     "start_time": "2022-03-08T19:56:59.414687",
     "status": "completed"
    },
    "tags": []
   },
   "outputs": [],
   "source": [
    "\n",
    "# 32時間働いた場合の税引き後の給与を計算\n",
    "pay_parttime = get_pay(32)\n",
    "print(pay_parttime)\n"
   ]
  },
  {
   "cell_type": "markdown",
   "metadata": {
    "papermill": {
     "duration": 0.016482,
     "end_time": "2022-03-08T19:56:59.470638",
     "exception": false,
     "start_time": "2022-03-08T19:56:59.454156",
     "status": "completed"
    },
    "tags": []
   },
   "source": [
    "#### 関数を使うメリット\n",
    "\n",
    "このように、**関数を使うことで、さまざまな条件に柔軟に対応**できるようになります。  \n",
    "関数を作っておけば、**毎回すべての計算コードを書き直す必要はありません**。\n",
    "\n",
    "たとえば：\n",
    "\n",
    "* 働いた時間に応じた給与の計算も\n",
    "* 渡す引数を変えるだけで簡単に実行できます\n",
    "\n",
    "\n",
    "\n",
    "関数を使うと、次のような**メリット**があります：\n",
    "\n",
    "* **エラーを防ぎやすくなる**\n",
    "  （同じ処理を何度も手で書かなくて済むため）\n",
    "\n",
    "* **作業時間を短縮できる**\n",
    "  （すでに定義した関数を呼び出すだけでよい）\n",
    "\n",
    "\n",
    "\n",
    "#### 📘 なぜ「コードを少なく書く」ことが大切か？\n",
    "\n",
    "プログラミングでは、「**できるだけ少ないコードで処理を行う**」ことが推奨されています。\n",
    "\n",
    "理由はシンプルです：\n",
    "\n",
    "* 毎回同じような計算式を**手入力していると、タイプミスやエラーが発生しやすくなる**からです。\n",
    "* 同じ処理を**何度も書くのは非効率**であり、保守性も下がります。\n",
    "\n",
    "関数は、これらの問題を解決するための**強力なツール**です。\n",
    "\n",
    "\n",
    "\n",
    "### 変数の「スコープ」\n",
    "\n",
    "関数の中で定義された変数は、**関数の外からは使えません**。  \n",
    "この「使える範囲」を**スコープ（scope）** と呼びます。\n",
    "\n",
    "\n",
    "たとえば、次のコードで登場する `pay_aftertax` という変数は、  \n",
    "**関数の中だけで使える「ローカル変数」** です。\n",
    "\n",
    "\n",
    "#### 📘 コード例\n",
    "\n",
    "次のコードでは、`pay_aftertax` を関数の外から使おうとして、エラーになります。"
   ]
  },
  {
   "cell_type": "code",
   "execution_count": null,
   "id": "798e1b4e",
   "metadata": {},
   "outputs": [],
   "source": [
    "\n",
    "\n",
    "def get_pay(num_hours):\n",
    "    # 時給15ドルで働いた場合の「税引き前」の給与を計算\n",
    "    pay_pretax = num_hours * 15\n",
    "\n",
    "    # 税率12%を差し引いた「手取り額」を計算\n",
    "    pay_aftertax = pay_pretax * (1 - 0.12)\n",
    "\n",
    "    # 計算結果（手取り額）を返す\n",
    "    return pay_aftertax\n",
    "\n",
    "# 関数の外から pay_aftertax を表示しようとする\n",
    "print(pay_aftertax)\n",
    "\n"
   ]
  },
  {
   "cell_type": "markdown",
   "id": "a424f209",
   "metadata": {},
   "source": [
    "#### 📘 なぜエラーになるのか？\n",
    "\n",
    "このコードを実行すると、次のようなエラーが発生します：\n",
    "\n",
    "```\n",
    "NameError: name 'pay_aftertax' is not defined\n",
    "```\n",
    "\n",
    "これは、`pay_aftertax` という変数が  \n",
    "**関数 get\\_pay の中でしか使えないローカル変数** だからです。\n",
    "\n",
    "関数の外からはアクセスできないため、「**定義されていません**」というエラー になります。\n",
    "\n",
    "\n",
    "\n",
    "#### 📌 ポイント\n",
    "\n",
    "* **関数の中で定義した変数（ローカル変数）は、関数の外では使えません。**\n",
    "* これは **スコープ（変数が有効な範囲）** による制限です。"
   ]
  },
  {
   "cell_type": "markdown",
   "metadata": {
    "papermill": {
     "duration": 0.01631,
     "end_time": "2022-03-08T19:56:59.604909",
     "exception": false,
     "start_time": "2022-03-08T19:56:59.588599",
     "status": "completed"
    },
    "tags": []
   },
   "source": [
    "### ローカルスコープとグローバルスコープ\n",
    "\n",
    "先ほど説明したように、`pay_aftertax` だけでなく  \n",
    "`pay_pretax` や `num_hours` も、関数の外では使えません。\n",
    "\n",
    "なぜなら、これらはすべて  \n",
    "**関数の中だけで使える「ローカル変数」** だからです。\n",
    "\n",
    "\n",
    "\n",
    "関数の外でこうした情報を使いたい場合は、  \n",
    "**関数の最後に `return` 文を使って値を返す必要**があります。\n",
    "\n",
    "\n",
    "\n",
    "### スコープとは？\n",
    "\n",
    "プログラムでは、変数が使える範囲（アクセスできる範囲）のことを  \n",
    "**スコープ（scope）** と呼びます。\n",
    "\n",
    "### 📘 用語まとめ\n",
    "\n",
    "| 用語            | 説明                                                                            |\n",
    "| ------------- | ----------------------------------------------------------------------------- |\n",
    "| **ローカルスコープ**  | 関数の中で定義された変数のスコープ。関数の外からは使えない。<br>例：`pay_aftertax`, `pay_pretax`, `num_hours` |\n",
    "| **グローバルスコープ** | 関数の外で定義された変数のスコープ。プログラム全体で使える。<br>例：`pay_parttime`                            |\n",
    "\n",
    "\n",
    "\n",
    "スコープを正しく理解することで、  \n",
    "**エラーを防ぎ、意図通りにプログラムを組み立てることができる**ようになります。\n",
    "\n",
    "\n",
    "\n"
   ]
  },
  {
   "cell_type": "markdown",
   "metadata": {
    "papermill": {
     "duration": 0.016657,
     "end_time": "2022-03-08T19:56:59.638284",
     "exception": false,
     "start_time": "2022-03-08T19:56:59.621627",
     "status": "completed"
    },
    "tags": []
   },
   "source": [
    "### 複数の引数を持つ関数\n",
    "\n",
    "これまでは、**引数が1つだけの関数**を作る方法を学んできました。  \n",
    "では、**複数の引数を使いたい場合**はどうすればよいでしょうか？\n",
    "\n",
    "方法は簡単です。  \n",
    "**関数ヘッダーのカッコ内に、カンマ（,）で区切って引数を並べる** だけです。\n",
    "\n",
    "\n",
    "\n",
    "ここでは、例として  \n",
    "`get_pay_with_more_inputs()` という関数を使ってみましょう。\n",
    "\n",
    "この関数は、次の **3つの情報** に基づいて  \n",
    "**週給（税引き後）** を計算します。\n",
    "\n",
    "| 引数名           | 説明                  |\n",
    "| ------------- | ------------------- |\n",
    "| `num_hours`   | 1週間に働いた時間数          |\n",
    "| `hourly_wage` | 1時間あたりの賃金（ドル／時間）    |\n",
    "| `tax_bracket` | 給与から差し引かれる税率（パーセント） |\n",
    "\n",
    "\n",
    "\n",
    "このあと、関数の具体的な定義と使い方を確認します。\n",
    "\n",
    "\n",
    "#### 📘 例：複数の引数を使った関数の定義\n",
    "\n",
    "次のコードは、3つの引数を使って週給を計算する関数です。\n",
    "この関数を呼び出すときは、それぞれの引数に対応する値を順番に渡し、  \n",
    "**カンマで区切る**必要があります。\n"
   ]
  },
  {
   "cell_type": "code",
   "execution_count": null,
   "metadata": {
    "execution": {
     "iopub.execute_input": "2022-03-08T19:56:59.683158Z",
     "iopub.status.busy": "2022-03-08T19:56:59.682152Z",
     "iopub.status.idle": "2022-03-08T19:56:59.684751Z",
     "shell.execute_reply": "2022-03-08T19:56:59.685277Z",
     "shell.execute_reply.started": "2022-02-15T20:26:37.103939Z"
    },
    "papermill": {
     "duration": 0.029999,
     "end_time": "2022-03-08T19:56:59.685473",
     "exception": false,
     "start_time": "2022-03-08T19:56:59.655474",
     "status": "completed"
    },
    "tags": []
   },
   "outputs": [],
   "source": [
    "\n",
    "\n",
    "def get_pay_with_more_inputs(num_hours, hourly_wage, tax_bracket):\n",
    "    # 税引き前の給与を計算\n",
    "    pay_pretax = num_hours * hourly_wage\n",
    "\n",
    "    # 税率を使って税引き後の給与を計算\n",
    "    pay_aftertax = pay_pretax * (1 - tax_bracket)\n",
    "\n",
    "    # 計算結果（手取り額）を返す\n",
    "    return pay_aftertax\n"
   ]
  },
  {
   "cell_type": "markdown",
   "metadata": {
    "papermill": {
     "duration": 0.022668,
     "end_time": "2022-03-08T19:56:59.730019",
     "exception": false,
     "start_time": "2022-03-08T19:56:59.707351",
     "status": "completed"
    },
    "tags": []
   },
   "source": [
    "#### 📘 コードの流れ\n",
    "\n",
    "1. `num_hours` と `hourly_wage` を掛けて、**税引き前の給与**を計算します。\n",
    "2. `tax_bracket` を使って、**税引き後の手取り額**を求めます。\n",
    "3. 最後に、その結果を **return** で返します。\n",
    "\n",
    "\n",
    "\n",
    "この関数では、**時給や税率を柔軟に変更**できるようになっています。  \n",
    "実際にこの関数を使ってみましょう。\n",
    "\n",
    "次のコードは、**40時間勤務・時給24ドル・税率22%** という条件で  \n",
    "税引き後の給与を計算しています。\n",
    "\n",
    "\n",
    "#### 📘 コード例\n"
   ]
  },
  {
   "cell_type": "code",
   "execution_count": null,
   "metadata": {
    "execution": {
     "iopub.execute_input": "2022-03-08T19:56:59.770009Z",
     "iopub.status.busy": "2022-03-08T19:56:59.769105Z",
     "iopub.status.idle": "2022-03-08T19:56:59.775280Z",
     "shell.execute_reply": "2022-03-08T19:56:59.775827Z",
     "shell.execute_reply.started": "2022-02-15T20:26:37.105759Z"
    },
    "papermill": {
     "duration": 0.027983,
     "end_time": "2022-03-08T19:56:59.776005",
     "exception": false,
     "start_time": "2022-03-08T19:56:59.748022",
     "status": "completed"
    },
    "tags": []
   },
   "outputs": [],
   "source": [
    "\n",
    "# 40 時間勤務、時給24ドル、税率22%の場合の税引き後の給与を計算\n",
    "higher_pay_aftertax = get_pay_with_more_inputs(40, 24, 0.22)\n",
    "print(higher_pay_aftertax)\n"
   ]
  },
  {
   "cell_type": "markdown",
   "metadata": {
    "papermill": {
     "duration": 0.016909,
     "end_time": "2022-03-08T19:56:59.811494",
     "exception": false,
     "start_time": "2022-03-08T19:56:59.794585",
     "status": "completed"
    },
    "tags": []
   },
   "source": [
    "#### 以前の関数との違いは？\n",
    "\n",
    "実は、次のように呼び出せば、  \n",
    "**以前に使った `get_pay(40)` と同じ結果が得られます**。\n",
    "\n",
    "#### 📘 同じ条件で計算する例\n",
    "\n",
    "* **時給（`hourly_wage`）：15ドル**\n",
    "* **税率（`tax_bracket`）：12%（= 0.12）**\n",
    "\n",
    "これらは、以前の `get_pay` 関数が使っていた条件と同じです。  \n",
    "そのため、次のように呼び出すと結果は変わりません。\n",
    "\n",
    "```python\n",
    "# 40時間勤務、時給15ドル、税率12%で計算\n",
    "same_result = get_pay_with_more_inputs(40, 15, 0.12)\n",
    "print(same_result)\n",
    "```\n",
    "\n",
    "\n",
    "#### 📘 ポイント\n",
    "\n",
    "* 複数の引数を使えば、**時給や税率を自由に変えて計算できる**ようになります。\n",
    "* **同じ関数でも、引数の値を変えるだけで幅広いケースに対応**できます。\n",
    "\n"
   ]
  },
  {
   "cell_type": "code",
   "execution_count": null,
   "metadata": {
    "execution": {
     "iopub.execute_input": "2022-03-08T19:56:59.855199Z",
     "iopub.status.busy": "2022-03-08T19:56:59.853935Z",
     "iopub.status.idle": "2022-03-08T19:56:59.859157Z",
     "shell.execute_reply": "2022-03-08T19:56:59.859804Z",
     "shell.execute_reply.started": "2022-02-15T20:26:37.107105Z"
    },
    "papermill": {
     "duration": 0.025959,
     "end_time": "2022-03-08T19:56:59.859966",
     "exception": false,
     "start_time": "2022-03-08T19:56:59.834007",
     "status": "completed"
    },
    "tags": []
   },
   "outputs": [],
   "source": [
    "\n",
    "# get_pay(40) と同じ条件で計算（時給15ドル、税率12%）\n",
    "same_pay_fulltime = get_pay_with_more_inputs(40, 15, 0.12)\n",
    "print(same_pay_fulltime)\n"
   ]
  },
  {
   "cell_type": "markdown",
   "metadata": {
    "papermill": {
     "duration": 0.017084,
     "end_time": "2022-03-08T19:56:59.894349",
     "exception": false,
     "start_time": "2022-03-08T19:56:59.877265",
     "status": "completed"
    },
    "tags": []
   },
   "source": [
    "### 2つの関数の使い分け\n",
    "\n",
    "`get_pay_with_more_inputs()` は、使い方によっては  \n",
    "元の関数 `get_pay()` よりも**便利な場合**があります。\n",
    "\n",
    "その理由は、**さまざまなケースに対応できる「柔軟性」** があるからです。\n",
    "\n",
    "\n",
    "### 📘 比較：2つの関数の違い\n",
    "\n",
    "| 関数名                          | 特徴             | メリット       | デメリット         |\n",
    "| ---------------------------- | -------------- | ---------- | ------------- |\n",
    "| `get_pay()`                  | 時給や税率が**固定**   | シンプルで使いやすい | 条件が変わると対応できない |\n",
    "| `get_pay_with_more_inputs()` | 時給や税率を**毎回指定** | 柔軟に対応できる   | 引数が増えてやや複雑    |\n",
    "\n",
    "\n",
    "\n",
    "### 📘 ポイント\n",
    "\n",
    "* `get_pay()` を使うと、**時給や税率が固定**されている前提になります。  \n",
    "  → 誤った値を使ってしまう可能性もあります。\n",
    "\n",
    "* 一方、`get_pay_with_more_inputs()` は  \n",
    "  **時給や税率を毎回明示的に指定**するため、状況に合わせた**正確な計算**ができます。\n",
    "\n",
    "\n",
    "ただし、**いつも同じ時給・税率を使う場合**には  \n",
    "`get_pay_with_more_inputs()` のような関数は  \n",
    "**逆に煩雑で使いにくくなる**こともあります。\n",
    "\n",
    "\n",
    "### 関数を設計するときの考え方\n",
    "\n",
    "関数を作るときは、次のようなバランスを考えることが大切です：\n",
    "\n",
    "* **使いやすさ（簡単さ）**\n",
    "* **柔軟性（いろいろなケースに対応できるか）**\n",
    "\n",
    "どちらか一方に偏らず、  \n",
    "**目的に合わせた適切な設計**を心がけましょう。\n",
    "\n",
    "\n",
    "\n",
    "### 引数のない関数\n",
    "\n",
    "関数は、**引数を持たず**、  \n",
    "**`return` 文も使わない**形で定義することもできます。\n",
    "\n",
    "次のコードでは、`print_hello()` という関数を定義しています。  \n",
    "この関数は、**あいさつのメッセージを2行表示するだけ**のシンプルな関数です。\n",
    "\n",
    "#### 📘 コード例"
   ]
  },
  {
   "cell_type": "code",
   "execution_count": null,
   "metadata": {
    "execution": {
     "iopub.execute_input": "2022-03-08T19:56:59.937389Z",
     "iopub.status.busy": "2022-03-08T19:56:59.936370Z",
     "iopub.status.idle": "2022-03-08T19:56:59.941555Z",
     "shell.execute_reply": "2022-03-08T19:56:59.942228Z",
     "shell.execute_reply.started": "2022-02-15T20:44:56.263816Z"
    },
    "papermill": {
     "duration": 0.030633,
     "end_time": "2022-03-08T19:56:59.942492",
     "exception": false,
     "start_time": "2022-03-08T19:56:59.911859",
     "status": "completed"
    },
    "tags": []
   },
   "outputs": [],
   "source": [
    "\n",
    "\n",
    "# 引数もreturnもない関数を定義\n",
    "def print_hello():\n",
    "    print(\"おはようございます!\")\n",
    "    print(\"お疲れ様です!\")\n",
    "\n",
    "# 関数を呼び出す\n",
    "print_hello()\n"
   ]
  },
  {
   "cell_type": "markdown",
   "metadata": {
    "papermill": {
     "duration": 0.021779,
     "end_time": "2022-03-08T19:56:59.982807",
     "exception": false,
     "start_time": "2022-03-08T19:56:59.961028",
     "status": "completed"
    },
    "tags": []
   },
   "source": [
    "## このチュートリアルのまとめ\n",
    "\n",
    "ここまでで、**関数の基本的な使い方**を学びました。\n",
    "\n",
    "* **関数の定義方法（`def` を使う）**\n",
    "* **引数を使った関数**\n",
    "* **戻り値を返す関数**\n",
    "* **スコープの考え方（ローカル／グローバル）**\n",
    "* **複数の引数を使った関数**\n",
    "\n",
    "\n",
    "\n",
    "このチュートリアルは、**プログラミング入門者向け**に設計されています。  \n",
    "そのため、関数のすべてを網羅しているわけではありません。\n",
    "\n",
    "もっと詳しく学びたい方は、  \n",
    "以下のコースもぜひご覧ください。\n",
    "\n",
    "➡️ [**Python コース**](http://www.kaggle.com/learn/python)\n",
    "\n",
    "\n",
    "\n",
    "## 次は演習です\n",
    "\n",
    "ここまで学んだ内容を、**実際に手を動かして定着**させましょう。\n",
    "\n",
    "次の演習問題では：\n",
    "\n",
    "* 自分で関数を定義する\n",
    "* 複数の引数を使ってみる\n",
    "* 戻り値やスコープの理解を深める\n",
    "\n",
    "といった**実践的な問題**に取り組みます。\n",
    "\n",
    "➡️ [**演習に進む**](./ex2.ipynb)\n",
    "\n",
    "\n"
   ]
  },
  {
   "cell_type": "markdown",
   "id": "b33f84cb",
   "metadata": {},
   "source": []
  }
 ],
 "metadata": {
  "kernelspec": {
   "display_name": "Python 3",
   "language": "python",
   "name": "python3"
  },
  "language_info": {
   "codemirror_mode": {
    "name": "ipython",
    "version": 3
   },
   "file_extension": ".py",
   "mimetype": "text/x-python",
   "name": "python",
   "nbconvert_exporter": "python",
   "pygments_lexer": "ipython3",
   "version": "3.6.5"
  },
  "papermill": {
   "default_parameters": {},
   "duration": 11.193771,
   "end_time": "2022-03-08T19:57:00.612043",
   "environment_variables": {},
   "exception": null,
   "input_path": "__notebook__.ipynb",
   "output_path": "__notebook__.ipynb",
   "parameters": {},
   "start_time": "2022-03-08T19:56:49.418272",
   "version": "2.3.3"
  }
 },
 "nbformat": 4,
 "nbformat_minor": 5
}
