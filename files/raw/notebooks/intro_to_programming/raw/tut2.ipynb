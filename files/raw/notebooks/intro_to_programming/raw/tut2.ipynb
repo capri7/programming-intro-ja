{
 "cells": [
  {
   "cell_type": "markdown",
   "metadata": {
    "papermill": {
     "duration": 0.016318,
     "end_time": "2022-03-08T19:56:59.081974",
     "exception": false,
     "start_time": "2022-03-08T19:56:59.065656",
     "status": "completed"
    },
    "tags": []
   },
   "source": [
    "# 関数の紹介\n",
    "\n",
    "このチュートリアルでは、関数を使ってコードを整理する方法を学びます。\n",
    "関数とは、特定のタスクを実行するために設計されたコードのブロックです。\n",
    "見ていくと分かるように、関数を使えば、同じような計算を何度も繰り返す場合でも、コードを重複させずに済むようになります。\n"
   ]
  },
  {
   "cell_type": "markdown",
   "id": "ba78d49f",
   "metadata": {},
   "source": [
    "## Pyodide環境の準備\n",
    "\n",
    "このチュートリアルでは、Pyodide環境に必要なパッケージをインストールし、learntoolsライブラリを使用できるように設定を行います。\n",
    "以下のセルを**Shift + Enter**で実行してください。"
   ]
  },
  {
   "cell_type": "code",
   "execution_count": null,
   "id": "f59d43de",
   "metadata": {},
   "outputs": [],
   "source": [
    "import micropip\n",
    "await micropip.install(\"http://127.0.0.1:8000/files/raw/packages/learntools-0.3.5-py3-none-any.whl\")\n"
   ]
  },
  {
   "cell_type": "markdown",
   "id": "59cff85f",
   "metadata": {},
   "source": [
    "## 必要なパッケージのインストール"
   ]
  },
  {
   "cell_type": "code",
   "execution_count": null,
   "id": "345714e1",
   "metadata": {},
   "outputs": [],
   "source": [
    "await micropip.install([\"numpy\", \"pandas\", \"matplotlib\"])\n",
    "\n",
    "from learntools.core import binder\n",
    "binder.bind(globals())\n",
    "print(\"✅ Setup complete\")"
   ]
  },
  {
   "cell_type": "markdown",
   "id": "eb2e1a67",
   "metadata": {},
   "source": [
    "# 関数入門：シンプルな例\n",
    "\n",
    "まずは、関数の簡単な例から始めましょう。\n",
    "関数を定義するには、def キーワードを使います。\n",
    "次のコードは `add_three`という関数を定義しています。この関数は、引数として受け取った数に3を足して、その結果を返します。\n",
    "下の `add_three` 関数は、任意の数値を受け取り、それに3を加えた結果を返します。"
   ]
  },
  {
   "cell_type": "code",
   "execution_count": null,
   "metadata": {
    "execution": {
     "iopub.execute_input": "2022-03-08T19:56:59.117555Z",
     "iopub.status.busy": "2022-03-08T19:56:59.116404Z",
     "iopub.status.idle": "2022-03-08T19:56:59.125828Z",
     "shell.execute_reply": "2022-03-08T19:56:59.126333Z",
     "shell.execute_reply.started": "2022-02-15T20:26:36.948908Z"
    },
    "papermill": {
     "duration": 0.02869,
     "end_time": "2022-03-08T19:56:59.126603",
     "exception": false,
     "start_time": "2022-03-08T19:56:59.097913",
     "status": "completed"
    },
    "tags": []
   },
   "outputs": [],
   "source": [
    "# 関数を定義する\n",
    "def add_three(input_var):\n",
    "    output_var = input_var + 3\n",
    "    return output_var"
   ]
  },
  {
   "cell_type": "markdown",
   "id": "59538d97",
   "metadata": {},
   "source": [
    "関数を定義しただけでは、まだ何も実行されません。\n",
    "実行するには、関数を呼び出す必要があります。\n",
    "次のセクションで、実際に関数を呼び出してみましょう。"
   ]
  },
  {
   "cell_type": "markdown",
   "metadata": {
    "papermill": {
     "duration": 0.01498,
     "end_time": "2022-03-08T19:56:59.156811",
     "exception": false,
     "start_time": "2022-03-08T19:56:59.141831",
     "status": "completed"
    },
    "tags": []
   },
   "source": [
    "すべての関数は、**ヘッダー**（header）と**本体**（body）の2つの部分から構成されます。\n",
    "\n",
    "![例の画像](images/tut2.png)\n",
    "\n",
    "\n",
    "## ヘッダー（Header）\n",
    "関数の**ヘッダー**は、関数の名前と引数を定義します。\n",
    "\n",
    "すべての関数ヘッダーは`def`で始まります。これは「これから関数を定義する」ということをPythonに伝えるキーワードです。\n",
    "\n",
    "- 関数名は`add_three`です。\n",
    "- 引数は`input_var`です。\n",
    "\n",
    "**引数**（argument）とは、関数に渡す入力値として使われる変数名のことです。関数名の直後にかならずカッコ（括弧）で囲んで書きます。\n",
    "（※ 関数には引数がまったくない場合や、複数の引数を持つ場合もあります。このチュートリアルの後半でその例も紹介します。）\n",
    "\n",
    "すべての関数において、引数を囲む括弧の後には、**コロン**（:）が続く必要があります。\n",
    "\n",
    "⚠️「引数」は 「ひきすう」 と読みます（※「いんすう」ではありません）。プログラミングではよく使う言葉なので、読み方にも注意しておきましょう。\n",
    "\n",
    "![例の画像](images/tut2_1.png)\n",
    " \n",
    "## 本体（Body）\n",
    "関数の**本体**は、その関数が実際に行う処理を記述する部分です。\n",
    "- 関数本体のコードは、すべての行を正確に**4つ分インデント**（字下げ）する必要があります。\n",
    "　インデントするには、スペースキーを4回押すか、キーボードの「Tab」キーを1回押す方法があります。\n",
    "　（※ Pythonをさらに学んでいくと、4つ以上のスペースでインデントする場面も出てきますが、それについてはこのコースの後半で学びます。）\n",
    "\n",
    "- 関数は、インデントされた行を上から下へ順番に実行することで処理を行います。\n",
    "    - **まず**、引数を入力として受け取ります（この例では `input_var`）。\n",
    "    - **次に**、`output_var = input_var + 3`の計算結果を`output_var`という新しい変数に代入します。\n",
    "    - **最後に**、**return文**（リターン文）と呼ばれる行で`output_var`の値を返します。これが関数の出力となります。\n",
    "  \n",
    "上のコードセルでは、関数を定義しただけで、まだ実行していません。\n",
    "関数本体の詳細は、次のコードセルで実際に関数を実行してみると、さらに理解が深まります。\n",
    "\n",
    "\n",
    "## 関数の実行方法\n",
    " \n",
    "関数を実行することを関数を「**呼び出す**（call）」とも言います。\n",
    "\n",
    "下のコードセルでは、入力値として`10`を使って関数を実行しています。\n",
    "関数の出力結果を受け取って、それを`new_number`という新しい変数に代入しています。"
   ]
  },
  {
   "cell_type": "code",
   "execution_count": null,
   "metadata": {
    "execution": {
     "iopub.execute_input": "2022-03-08T19:56:59.192082Z",
     "iopub.status.busy": "2022-03-08T19:56:59.191464Z",
     "iopub.status.idle": "2022-03-08T19:56:59.194072Z",
     "shell.execute_reply": "2022-03-08T19:56:59.194568Z",
     "shell.execute_reply.started": "2022-02-15T20:26:36.955602Z"
    },
    "papermill": {
     "duration": 0.022884,
     "end_time": "2022-03-08T19:56:59.194726",
     "exception": false,
     "start_time": "2022-03-08T19:56:59.171842",
     "status": "completed"
    },
    "tags": []
   },
   "outputs": [],
   "source": [
    "# 10を入力として関数を実行する\n",
    "new_number = add_three(10)\n",
    "\n",
    "# 結果が期待通り13になっているか確認する\n",
    "print(new_number)\n"
   ]
  },
  {
   "cell_type": "markdown",
   "metadata": {
    "papermill": {
     "duration": 0.015508,
     "end_time": "2022-03-08T19:56:59.226208",
     "exception": false,
     "start_time": "2022-03-08T19:56:59.210700",
     "status": "completed"
    },
    "tags": []
   },
   "source": [
    "![例の画像](images/tut2_2.png)\n",
    "\n",
    "より詳しく説明すると：\n",
    "\n",
    "`add_three(10)`は、`input_var`に`10`を渡して`add_three()`関数を呼び出したときに得られる出力の値です。\n",
    "　関数が実行されると、本体のコードが上から下へ順に実行されます：\n",
    "\n",
    "  - 最初に`output_var = input_var + 3`の計算が行われ、`output_var = 13`になります。  \n",
    "  - 最後の行は **return**文（戻り値の指定）で、`output_var`の値（つまり 13）が返されます。\n",
    "\n",
    "したがって、`new_number = add_three(10)`と書くことで、`new_number = 13`という代入が実行されます。\n",
    "\n",
    "補足：このチュートリアル内では、`add_three()`関数について説明するときに、関数名のあとに**空のカッコ**（括弧）をつけて表記しています。\n",
    "これは、一般的なPython コードの解説スタイルに合わせた書き方で、それが関数であることを明確にするためのものです。変数や他のPythonオブジェクトと区別するために使われます。\n",
    "\n",
    "たとえ関数に引数がある場合でも、このような説明文の中では括弧の中を空にしておくのが基本です。\n",
    "\n",
    "# 関数に名前をつける\n",
    "\n",
    "先ほどの例を思い出してみましょう。関数名は、あらかじめ決められていましたね。\n",
    "自分で関数を作成する場合は、関数名を自分で決める必要があります。\n",
    "\n",
    "関数名を付ける際には、次のようなルールに従うのが一般的です：\n",
    "\n",
    "- すべて小文字のアルファベットを使用する\n",
    "- 単語と単語の間は **スペースではなくアンダースコア**（_）で区切る\n",
    "\n",
    "最初のうちは関数名の付け方に違和感を覚えるかもしれませんが、慣れれば自然にできるようになります。\n",
    "たくさんの Python コードを読むことが、上達への近道です。\n"
   ]
  },
  {
   "cell_type": "markdown",
   "metadata": {
    "papermill": {
     "duration": 0.015316,
     "end_time": "2022-03-08T19:56:59.256910",
     "exception": false,
     "start_time": "2022-03-08T19:56:59.241594",
     "status": "completed"
    },
    "tags": []
   },
   "source": [
    "# 少し複雑な例\n",
    "\n",
    "基本が理解できたところで、もう少し長めの計算を含む例に進みましょう。\n",
    "\n",
    "たとえば、**社員の週給（税引き後）を計算する**ケースを考えます。\n",
    "- この従業員は、所得税が12%差し引かれる給与体系で、手取りは給与の88%になります。\n",
    "- 時給は15ドルで、働いた時間に応じて支払われます。\n",
    "- 以下の関数は、働いた時間に基づいて週給（税引き後）を計算するものです。\n",
    "\n",
    "この関数は、前の例よりも少し複雑です。なぜなら、コードの行数やコメントが増えているからです。\n",
    "ただし、引数は先ほどと同じく1つ（`num_hours`）だけです。\n",
    "\n",
    "関数の本体では、次の処理を行っています：\n",
    "\n",
    "- `num_hours` の値を使って、新しい変数 `pay_pretax`（税引き前の給与）に代入します。\n",
    "- 続いて、`pay_pretax` の値を使って、新しい変数 `pay_aftertax`（税引き後の給与）に代入します。\n",
    "- 最後に、`pay_aftertax` の値を返します。\n"
   ]
  },
  {
   "cell_type": "code",
   "execution_count": null,
   "metadata": {
    "execution": {
     "iopub.execute_input": "2022-03-08T19:56:59.290605Z",
     "iopub.status.busy": "2022-03-08T19:56:59.289970Z",
     "iopub.status.idle": "2022-03-08T19:56:59.293765Z",
     "shell.execute_reply": "2022-03-08T19:56:59.294273Z",
     "shell.execute_reply.started": "2022-02-15T20:26:36.973497Z"
    },
    "papermill": {
     "duration": 0.022048,
     "end_time": "2022-03-08T19:56:59.294442",
     "exception": false,
     "start_time": "2022-03-08T19:56:59.272394",
     "status": "completed"
    },
    "tags": []
   },
   "outputs": [],
   "source": [
    "def get_pay(num_hours):\n",
    "    # 時給15ドルで働いた場合の税引き前の給与を計算\n",
    "    pay_pretax = num_hours * 15\n",
    "    # 所得税（12%）を差し引いたあとの手取り額を計算\n",
    "    pay_aftertax = pay_pretax * (1 - .12)\n",
    "    return pay_aftertax\n"
   ]
  },
  {
   "cell_type": "markdown",
   "metadata": {
    "papermill": {
     "duration": 0.015206,
     "end_time": "2022-03-08T19:56:59.325305",
     "exception": false,
     "start_time": "2022-03-08T19:56:59.310099",
     "status": "completed"
    },
    "tags": []
   },
   "source": [
    "この関数も、最初の関数と同じように呼び出すことができます。  \n",
    "次のコードセルでは、40時間働いた場合の給与を計算しています。  \n",
    "税引き後の金額は、528ドルとなります。\n"
   ]
  },
  {
   "cell_type": "code",
   "execution_count": null,
   "metadata": {
    "execution": {
     "iopub.execute_input": "2022-03-08T19:56:59.359422Z",
     "iopub.status.busy": "2022-03-08T19:56:59.358711Z",
     "iopub.status.idle": "2022-03-08T19:56:59.365044Z",
     "shell.execute_reply": "2022-03-08T19:56:59.364017Z",
     "shell.execute_reply.started": "2022-02-15T20:26:36.988061Z"
    },
    "papermill": {
     "duration": 0.024515,
     "end_time": "2022-03-08T19:56:59.365331",
     "exception": false,
     "start_time": "2022-03-08T19:56:59.340816",
     "status": "completed"
    },
    "tags": []
   },
   "outputs": [],
   "source": [
    "# 40時間働いた場合の給与を計算する\n",
    "pay_fulltime = get_pay(40)\n",
    "print(pay_fulltime)"
   ]
  },
  {
   "cell_type": "markdown",
   "metadata": {
    "papermill": {
     "duration": 0.015706,
     "end_time": "2022-03-08T19:56:59.397952",
     "exception": false,
     "start_time": "2022-03-08T19:56:59.382246",
     "status": "completed"
    },
    "tags": []
   },
   "source": [
    "働いた時間が異なる場合は、関数に異なる数値を渡すことで、素早く給与を計算できます。  \n",
    "たとえば、従業員が32時間働いたとすると、税引き後の受け取り金額は422.40ドルになります。\n"
   ]
  },
  {
   "cell_type": "code",
   "execution_count": null,
   "metadata": {
    "execution": {
     "iopub.execute_input": "2022-03-08T19:56:59.433902Z",
     "iopub.status.busy": "2022-03-08T19:56:59.433157Z",
     "iopub.status.idle": "2022-03-08T19:56:59.437966Z",
     "shell.execute_reply": "2022-03-08T19:56:59.437410Z",
     "shell.execute_reply.started": "2022-02-15T20:26:37.003476Z"
    },
    "papermill": {
     "duration": 0.023422,
     "end_time": "2022-03-08T19:56:59.438109",
     "exception": false,
     "start_time": "2022-03-08T19:56:59.414687",
     "status": "completed"
    },
    "tags": []
   },
   "outputs": [],
   "source": [
    "pay_parttime = get_pay(32)\n",
    "print(pay_parttime)"
   ]
  },
  {
   "cell_type": "markdown",
   "metadata": {
    "papermill": {
     "duration": 0.016482,
     "end_time": "2022-03-08T19:56:59.470638",
     "exception": false,
     "start_time": "2022-03-08T19:56:59.454156",
     "status": "completed"
    },
    "tags": []
   },
   "source": [
    "関数を作成することで、すべての計算コードを書き直すことなく、  \n",
    "異なる労働時間に応じた給与を簡単に計算できるようになりました。\n",
    "\n",
    "関数を使えば、コード内のエラーを防ぎやすくなり、作業時間も大幅に節約できます。  \n",
    "一般に、プログラミングを行う際には、できるだけ少ないコードで処理を実現することが推奨されます。  \n",
    "なぜなら、計算式を毎回入力していると、そのたびにタイプミスやエラーが発生するリスクが高まるからです。\n",
    "\n",
    "\n",
    "# 変数の「スコープ」\n",
    "\n",
    "関数の内部で定義された変数には、関数の外からアクセスすることはできません。  \n",
    "たとえば、次のコードセルはエラーになります。  \n",
    "これは `pay_aftertax` が関数の内部でしか存在しないためです。\n"
   ]
  },
  {
   "cell_type": "code",
   "execution_count": null,
   "metadata": {
    "execution": {
     "iopub.execute_input": "2022-03-08T19:56:59.506833Z",
     "iopub.status.busy": "2022-03-08T19:56:59.505297Z",
     "iopub.status.idle": "2022-03-08T19:56:59.571977Z",
     "shell.execute_reply": "2022-03-08T19:56:59.571449Z",
     "shell.execute_reply.started": "2022-02-15T20:27:09.623147Z"
    },
    "papermill": {
     "duration": 0.085491,
     "end_time": "2022-03-08T19:56:59.572120",
     "exception": false,
     "start_time": "2022-03-08T19:56:59.486629",
     "status": "completed"
    },
    "tags": []
   },
   "outputs": [],
   "source": [
    "print(pay_aftertax)"
   ]
  },
  {
   "cell_type": "markdown",
   "metadata": {
    "papermill": {
     "duration": 0.01631,
     "end_time": "2022-03-08T19:56:59.604909",
     "exception": false,
     "start_time": "2022-03-08T19:56:59.588599",
     "status": "completed"
    },
    "tags": []
   },
   "source": [
    "`pay_pretax` や `num_hours` を出力しようとしても、同じエラーが発生します。  \n",
    "そのため、関数の外で情報を使いたい場合は、関数の最後にある `return` 文でその情報を返す必要があります。\n",
    "\n",
    "変数がアクセス可能なコード上の範囲のことを、**スコープ**と呼びます。  \n",
    "関数の中で定義された変数（たとえば `pay_aftertax`）は、その関数の中だけで有効な**ローカルスコープ**を持ちます。  \n",
    "一方、関数の外で定義された変数（たとえば `pay_parttime`）は、**グローバルスコープ**を持ち、プログラムのどこからでもアクセスできます。\n"
   ]
  },
  {
   "cell_type": "markdown",
   "metadata": {
    "papermill": {
     "duration": 0.016657,
     "end_time": "2022-03-08T19:56:59.638284",
     "exception": false,
     "start_time": "2022-03-08T19:56:59.621627",
     "status": "completed"
    },
    "tags": []
   },
   "source": [
    "# 複数の引数を持つ関数\n",
    "\n",
    "ここまでは、引数が1つだけの関数の定義方法を学んできました。  \n",
    "複数の引数を持つ関数を定義するには、関数ヘッダーのかっこ内に引数をカンマで区切って追加します。\n",
    "\n",
    "ここでは、`get_pay_with_more_inputs()` 関数を使って実践してみましょう。  \n",
    "この関数は、次の3つの引数に基づいて週給を計算します。\n",
    "\n",
    "- `num_hours`：1週間に働いた時間数  \n",
    "- `hourly_wage`：1時間あたりの賃金（$/時間）  \n",
    "- `tax_bracket`：給与から差し引かれる税率（%）\n"
   ]
  },
  {
   "cell_type": "code",
   "execution_count": null,
   "metadata": {
    "execution": {
     "iopub.execute_input": "2022-03-08T19:56:59.683158Z",
     "iopub.status.busy": "2022-03-08T19:56:59.682152Z",
     "iopub.status.idle": "2022-03-08T19:56:59.684751Z",
     "shell.execute_reply": "2022-03-08T19:56:59.685277Z",
     "shell.execute_reply.started": "2022-02-15T20:26:37.103939Z"
    },
    "papermill": {
     "duration": 0.029999,
     "end_time": "2022-03-08T19:56:59.685473",
     "exception": false,
     "start_time": "2022-03-08T19:56:59.655474",
     "status": "completed"
    },
    "tags": []
   },
   "outputs": [],
   "source": [
    "def get_pay_with_more_inputs(num_hours, hourly_wage, tax_bracket):\n",
    "    # 税引き前の給与を計算\n",
    "    pay_pretax = num_hours * hourly_wage\n",
    "    # 税引き後の給与を計算\n",
    "    pay_aftertax = pay_pretax * (1 - tax_bracket)\n",
    "    return pay_aftertax"
   ]
  },
  {
   "cell_type": "markdown",
   "metadata": {
    "papermill": {
     "duration": 0.022668,
     "end_time": "2022-03-08T19:56:59.730019",
     "exception": false,
     "start_time": "2022-03-08T19:56:59.707351",
     "status": "completed"
    },
    "tags": []
   },
   "source": [
    "\n",
    "この関数を呼び出すには、それぞれの引数に対して値を1つずつ渡し、カンマで区切る必要があります。\n",
    "以下のコードセルでは、40時間働き、時給が24ドル、税率が22%の従業員について、税引き後の給与を計算しています。"
   ]
  },
  {
   "cell_type": "code",
   "execution_count": null,
   "metadata": {
    "execution": {
     "iopub.execute_input": "2022-03-08T19:56:59.770009Z",
     "iopub.status.busy": "2022-03-08T19:56:59.769105Z",
     "iopub.status.idle": "2022-03-08T19:56:59.775280Z",
     "shell.execute_reply": "2022-03-08T19:56:59.775827Z",
     "shell.execute_reply.started": "2022-02-15T20:26:37.105759Z"
    },
    "papermill": {
     "duration": 0.027983,
     "end_time": "2022-03-08T19:56:59.776005",
     "exception": false,
     "start_time": "2022-03-08T19:56:59.748022",
     "status": "completed"
    },
    "tags": []
   },
   "outputs": [],
   "source": [
    "higher_pay_aftertax = get_pay_with_more_inputs(40, 24, .22)\n",
    "print(higher_pay_aftertax)"
   ]
  },
  {
   "cell_type": "markdown",
   "metadata": {
    "papermill": {
     "duration": 0.016909,
     "end_time": "2022-03-08T19:56:59.811494",
     "exception": false,
     "start_time": "2022-03-08T19:56:59.794585",
     "status": "completed"
    },
    "tags": []
   },
   "source": [
    "次のコードセルは、`get_pay(40)` を実行したときと同じ結果を返します。  \n",
    "これは、`hourly_wage` が15、`tax_bracket` が12% に設定されており、`get_pay` 関数の設計と一致しているためです。\n"
   ]
  },
  {
   "cell_type": "code",
   "execution_count": null,
   "metadata": {
    "execution": {
     "iopub.execute_input": "2022-03-08T19:56:59.855199Z",
     "iopub.status.busy": "2022-03-08T19:56:59.853935Z",
     "iopub.status.idle": "2022-03-08T19:56:59.859157Z",
     "shell.execute_reply": "2022-03-08T19:56:59.859804Z",
     "shell.execute_reply.started": "2022-02-15T20:26:37.107105Z"
    },
    "papermill": {
     "duration": 0.025959,
     "end_time": "2022-03-08T19:56:59.859966",
     "exception": false,
     "start_time": "2022-03-08T19:56:59.834007",
     "status": "completed"
    },
    "tags": []
   },
   "outputs": [],
   "source": [
    "same_pay_fulltime = get_pay_with_more_inputs(40, 15, .12)\n",
    "print(same_pay_fulltime)"
   ]
  },
  {
   "cell_type": "markdown",
   "metadata": {
    "papermill": {
     "duration": 0.017084,
     "end_time": "2022-03-08T19:56:59.894349",
     "exception": false,
     "start_time": "2022-03-08T19:56:59.877265",
     "status": "completed"
    },
    "tags": []
   },
   "source": [
    "この新しい関数 `get_pay_with_more_inputs()` は、使い方によっては元の関数 `get_pay()` よりも便利な場合があります。  \n",
    "これは、より多くのケースに対応できる柔軟性があるためです。\n",
    "\n",
    "`get_pay()` を使うと、時給や税率を誤って仮定してしまう可能性があります。  \n",
    "一方、`get_pay_with_more_inputs()` では、これらの値をユーザーが明示的に指定できるようになっています。\n",
    "\n",
    "ただし、時給や税率が常に一定で変わらない場合には、新しい関数はかえって複雑すぎるかもしれません。  \n",
    "一般に、関数を定義する際は、用途に応じてどの程度の柔軟性が必要かをよく考えることが重要です。\n",
    "\n",
    "\n",
    "# 引数のない関数\n",
    "\n",
    "引数を持たず、`return` 文も使わない関数を定義することもできます。  \n",
    "以下のコードセルにある `print_hello()` 関数が、その一例です。\n"
   ]
  },
  {
   "cell_type": "code",
   "execution_count": null,
   "metadata": {
    "execution": {
     "iopub.execute_input": "2022-03-08T19:56:59.937389Z",
     "iopub.status.busy": "2022-03-08T19:56:59.936370Z",
     "iopub.status.idle": "2022-03-08T19:56:59.941555Z",
     "shell.execute_reply": "2022-03-08T19:56:59.942228Z",
     "shell.execute_reply.started": "2022-02-15T20:44:56.263816Z"
    },
    "papermill": {
     "duration": 0.030633,
     "end_time": "2022-03-08T19:56:59.942492",
     "exception": false,
     "start_time": "2022-03-08T19:56:59.911859",
     "status": "completed"
    },
    "tags": []
   },
   "outputs": [],
   "source": [
    "# 引数もreturnもない関数を定義する\n",
    "def print_hello():\n",
    "    print(\"Hello, you!\")\n",
    "    print(\"Good morning!\")\n",
    "    \n",
    "# 関数を呼び出す\n",
    "print_hello()"
   ]
  },
  {
   "cell_type": "markdown",
   "metadata": {
    "papermill": {
     "duration": 0.021779,
     "end_time": "2022-03-08T19:56:59.982807",
     "exception": false,
     "start_time": "2022-03-08T19:56:59.961028",
     "status": "completed"
    },
    "tags": []
   },
   "source": [
    "このコースは短く、プログラミング入門向けに構成されているため、  \n",
    "このチュートリアルですべての関数の使い方をカバーしているわけではありません。\n",
    "\n",
    "関数についてさらに深く学びたい場合は、[Python コース](http://www.kaggle.com/learn/python)をご覧ください。\n",
    "\n",
    "\n",
    "# 次は演習です\n",
    "\n",
    "学んだ内容をしっかり定着させるために、演習問題に取り組んでみましょう。  \n",
    "[**今すぐ確認する**](./ex2.ipynb)\n"
   ]
  }
 ],
 "metadata": {
  "kernelspec": {
   "display_name": "Python 3",
   "language": "python",
   "name": "python3"
  },
  "language_info": {
   "codemirror_mode": {
    "name": "ipython",
    "version": 3
   },
   "file_extension": ".py",
   "mimetype": "text/x-python",
   "name": "python",
   "nbconvert_exporter": "python",
   "pygments_lexer": "ipython3",
   "version": "3.6.5"
  },
  "papermill": {
   "default_parameters": {},
   "duration": 11.193771,
   "end_time": "2022-03-08T19:57:00.612043",
   "environment_variables": {},
   "exception": null,
   "input_path": "__notebook__.ipynb",
   "output_path": "__notebook__.ipynb",
   "parameters": {},
   "start_time": "2022-03-08T19:56:49.418272",
   "version": "2.3.3"
  }
 },
 "nbformat": 4,
 "nbformat_minor": 5
}
