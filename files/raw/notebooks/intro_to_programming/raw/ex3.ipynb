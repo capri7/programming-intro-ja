{
 "cells": [
  {
   "cell_type": "markdown",
   "metadata": {
    "papermill": {
     "duration": 0.024307,
     "end_time": "2022-02-15T23:56:51.875254",
     "exception": false,
     "start_time": "2022-02-15T23:56:51.850947",
     "status": "completed"
    },
    "tags": []
   },
   "source": [
    "# 📝 演習：データ型（Data Types）\n",
    "\n",
    "このノートブックでは、**Python の基本的なデータ型**に関する演習に取り組みます。\n",
    "\n",
    "\n",
    "\n",
    "## 🎯 この演習の目的\n",
    "\n",
    "前のチュートリアル（[`tut3.ipynb`](./tut3.ipynb)）では、以下のようなデータ型について学びました：\n",
    "\n",
    "* 🔢 整数（`int`）\n",
    "* 🔬 浮動小数点数（`float`）\n",
    "* ✅ ブール値（`bool`）\n",
    "* 🔤 文字列（`str`）\n",
    "\n",
    "\n",
    "\n",
    "この演習では、**それぞれのデータ型がどのように使われるか**を、  \n",
    "実際にコードを書きながら確認していきます。\n",
    "\n",
    "🧪 手を動かしながら学ぶことで、理解がより深まります。\n",
    "\n",
    "\n",
    "## ⚙️ 環境セットアップ（Pyodide）\n",
    "\n",
    "このノートブックでは、次の手順で**環境を準備**します：\n",
    "\n",
    "1. **learntools パッケージのインストール**"
   ]
  },
  {
   "cell_type": "code",
   "execution_count": null,
   "metadata": {
    "execution": {
     "iopub.execute_input": "2022-02-15T23:56:51.927593Z",
     "iopub.status.busy": "2022-02-15T23:56:51.926290Z",
     "iopub.status.idle": "2022-02-15T23:56:51.939207Z",
     "shell.execute_reply": "2022-02-15T23:56:51.939841Z",
     "shell.execute_reply.started": "2022-02-03T22:09:44.861849Z"
    },
    "papermill": {
     "duration": 0.041266,
     "end_time": "2022-02-15T23:56:51.940173",
     "exception": false,
     "start_time": "2022-02-15T23:56:51.898907",
     "status": "completed"
    },
    "tags": []
   },
   "outputs": [],
   "source": [
    "\n",
    "\n",
    "import micropip\n",
    "\n",
    "await micropip.install(\"https://capri7.github.io/programming-intro-ja/files/raw/packages/learntools-0.3.5-py3-none-any.whl\")\n",
    "\n"
   ]
  },
  {
   "cell_type": "markdown",
   "id": "2baae669",
   "metadata": {},
   "source": [
    "\n",
    "2. **標準ライブラリのインストール**"
   ]
  },
  {
   "cell_type": "code",
   "execution_count": null,
   "id": "716bf330",
   "metadata": {},
   "outputs": [],
   "source": [
    "\n",
    "\n",
    "# 外部パッケージのインストール\n",
    "await micropip.install([\"pandas\", \"numpy\", \"matplotlib\"])\n",
    "\n",
    "# learntools を使う準備\n",
    "from learntools.core import binder\n",
    "# 問題をグローバルスコープにバインド\n",
    "binder.bind(globals())\n",
    "print(\"✅ Setup complete\")\n",
    "\n"
   ]
  },
  {
   "cell_type": "markdown",
   "id": "be664b10",
   "metadata": {},
   "source": [
    "\n",
    "3. **グローバル変数のバインド**"
   ]
  },
  {
   "cell_type": "code",
   "execution_count": null,
   "id": "ac9d4a2a",
   "metadata": {},
   "outputs": [],
   "source": [
    "\n",
    "# learntools を使う準備\n",
    "from learntools.core import binder\n",
    "\n",
    "# 問題をグローバルスコープにバインド\n",
    "binder.bind(globals())\n",
    "print(\"✅ Setup complete\")"
   ]
  },
  {
   "cell_type": "markdown",
   "id": "f002f0a5",
   "metadata": {},
   "source": [
    "\n",
    "4. **演習モジュールの読み込み**"
   ]
  },
  {
   "cell_type": "code",
   "execution_count": null,
   "id": "def66bcd",
   "metadata": {},
   "outputs": [],
   "source": [
    "\n",
    "\n",
    "from learntools.intro_to_programming.ex3 import *\n"
   ]
  },
  {
   "cell_type": "markdown",
   "metadata": {
    "papermill": {
     "duration": 0.024941,
     "end_time": "2022-02-15T23:56:51.990804",
     "exception": false,
     "start_time": "2022-02-15T23:56:51.965863",
     "status": "completed"
    },
    "tags": []
   },
   "source": [
    "## ❓ 問題 1\n",
    "\n",
    "`int()` 関数を使うと、**浮動小数点数を整数に変換**することができます。  \n",
    "まずは、以下のコードを実行して動きを確認してみましょう。"
   ]
  },
  {
   "cell_type": "code",
   "execution_count": null,
   "metadata": {
    "execution": {
     "iopub.execute_input": "2022-02-15T23:56:52.042953Z",
     "iopub.status.busy": "2022-02-15T23:56:52.041922Z",
     "iopub.status.idle": "2022-02-15T23:56:52.050442Z",
     "shell.execute_reply": "2022-02-15T23:56:52.049852Z",
     "shell.execute_reply.started": "2022-02-03T22:16:24.931367Z"
    },
    "papermill": {
     "duration": 0.036351,
     "end_time": "2022-02-15T23:56:52.050571",
     "exception": false,
     "start_time": "2022-02-15T23:56:52.014220",
     "status": "completed"
    },
    "tags": []
   },
   "outputs": [],
   "source": [
    "\n",
    "\n",
    "# 浮動小数点数を定義\n",
    "y = 1.\n",
    "print(y)\n",
    "print(type(y))\n",
    "\n",
    "# int 関数で整数に変換\n",
    "z = int(y)\n",
    "print(z)\n",
    "print(type(z))\n"
   ]
  },
  {
   "cell_type": "markdown",
   "id": "2cd19200",
   "metadata": {},
   "source": [
    "この場合、もともと `1.` は小数ですが、**小数点以下が 0 のため**、  \n",
    "変換しても見た目にほとんど変化はありません。\n",
    "\n",
    "\n",
    "\n",
    "### 🔍 試してみよう\n",
    "\n",
    "以下の2点について、実際にコードを書いて確認してみましょう。\n",
    "\n",
    "1. **小数部分を持つ数**（例：`3.14` など）を `int()` で変換するとどうなるか？\n",
    "2. **負の小数**も同様に変換した場合、どのような結果になるか？\n",
    "\n",
    "\n",
    "\n",
    "💡 ヒント：`int()` は小数点以下を**切り捨て**ます。四捨五入ではない点に注意しましょう！\n",
    "\n",
    "\n"
   ]
  },
  {
   "cell_type": "code",
   "execution_count": null,
   "metadata": {
    "execution": {
     "iopub.execute_input": "2022-02-15T23:56:52.118225Z",
     "iopub.status.busy": "2022-02-15T23:56:52.117674Z",
     "iopub.status.idle": "2022-02-15T23:56:52.120471Z",
     "shell.execute_reply": "2022-02-15T23:56:52.121010Z",
     "shell.execute_reply.started": "2022-02-03T22:22:45.029379Z"
    },
    "papermill": {
     "duration": 0.023189,
     "end_time": "2022-02-15T23:56:52.121169",
     "exception": false,
     "start_time": "2022-02-15T23:56:52.097980",
     "status": "completed"
    },
    "tags": []
   },
   "outputs": [],
   "source": [
    "\n",
    "\n",
    "# 下のコードの `#` を外して、実際に `int()` の動作を試してみましょう。\n",
    "\n",
    "#print(int(1.2321))\n",
    "#print(int(1.747))\n",
    "#print(int(-3.94535))\n",
    "#print(int(-2.19774))\n",
    "\n"
   ]
  },
  {
   "cell_type": "markdown",
   "metadata": {
    "papermill": {
     "duration": 0.015044,
     "end_time": "2022-02-15T23:56:52.153268",
     "exception": false,
     "start_time": "2022-02-15T23:56:52.138224",
     "status": "completed"
    },
    "tags": []
   },
   "source": [
    "\n",
    "💡 ヒント：`int()` は小数点以下を**切り捨て**ます。四捨五入ではない点に注意しましょう！\n",
    "\n",
    "\n",
    "### ✅ 解答をチェックする\n",
    "\n"
   ]
  },
  {
   "cell_type": "code",
   "execution_count": null,
   "id": "526b157e",
   "metadata": {},
   "outputs": [],
   "source": [
    "\n",
    "q1.check()"
   ]
  },
  {
   "cell_type": "markdown",
   "metadata": {
    "papermill": {
     "duration": 0.015624,
     "end_time": "2022-02-15T23:56:52.222102",
     "exception": false,
     "start_time": "2022-02-15T23:56:52.206478",
     "status": "completed"
    },
    "tags": []
   },
   "source": [
    "## ❓ 問題 2\n",
    "\n",
    "`tut3.ipynb` では、整数・小数・文字列に加えて、  \n",
    "ブール値（`True` や `False`）についても学びました。\n",
    "\n",
    "\n",
    "\n",
    "ここでは、ブール値を **整数・小数・文字列と掛け算するとどうなるか** を試してみましょう。\n",
    "\n",
    "\n",
    "\n",
    "### 🔍 調べること\n",
    "\n",
    "* 整数や浮動小数点数に `True` または `False` を掛けたとき、**結果はどうなるか？**  \n",
    "また、**正と負で違いがあるか？**\n",
    "\n",
    "* 文字列に `True` または `False` を掛けたとき、**どのような文字列になるか？**\n",
    "\n",
    "\n",
    "\n",
    "次のコードセルのコメント（`#`）を外して、実行してみましょう：\n",
    "\n"
   ]
  },
  {
   "cell_type": "code",
   "execution_count": null,
   "metadata": {
    "execution": {
     "iopub.execute_input": "2022-02-15T23:56:52.258128Z",
     "iopub.status.busy": "2022-02-15T23:56:52.256537Z",
     "iopub.status.idle": "2022-02-15T23:56:52.262930Z",
     "shell.execute_reply": "2022-02-15T23:56:52.263951Z",
     "shell.execute_reply.started": "2022-02-07T14:49:29.48822Z"
    },
    "papermill": {
     "duration": 0.026529,
     "end_time": "2022-02-15T23:56:52.264360",
     "exception": false,
     "start_time": "2022-02-15T23:56:52.237831",
     "status": "completed"
    },
    "tags": []
   },
   "outputs": [],
   "source": [
    "\n",
    "\n",
    "# 下のコードの `#` を外して、実行しましょう。\n",
    "\n",
    "\n",
    "#print(3 * True)\n",
    "#print(-3.1 * True)\n",
    "#print(type(\"abc\" * False))\n",
    "#print(len(\"abc\" * False))\n",
    "\n"
   ]
  },
  {
   "cell_type": "markdown",
   "metadata": {
    "papermill": {
     "duration": 0.024547,
     "end_time": "2022-02-15T23:56:52.314813",
     "exception": false,
     "start_time": "2022-02-15T23:56:52.290266",
     "status": "completed"
    },
    "tags": []
   },
   "source": [
    "\n",
    "\n",
    "\n",
    "結果がわかったら、次のセルで **解答をチェック** しましょう。\n",
    "\n",
    "### ✅ 解答をチェックする"
   ]
  },
  {
   "cell_type": "code",
   "execution_count": null,
   "id": "a86a5a7a",
   "metadata": {},
   "outputs": [],
   "source": [
    "\n",
    "q2.check()"
   ]
  },
  {
   "cell_type": "markdown",
   "metadata": {
    "papermill": {
     "duration": 0.024657,
     "end_time": "2022-02-15T23:56:52.423541",
     "exception": false,
     "start_time": "2022-02-15T23:56:52.398884",
     "status": "completed"
    },
    "tags": []
   },
   "source": [
    "## ❓ 問題 3\n",
    "\n",
    "前回の演習を応用して、**家の予想価格**を計算する関数を作ってみましょう。\n",
    "\n",
    "\n",
    "\n",
    "次の関数 `get_expected_cost` は、次の3つの引数を受け取ります：\n",
    "\n",
    "* `beds`：寝室の数（`float` 型）\n",
    "* `baths`：浴室の数（`float` 型）\n",
    "* `has_basement`：地下室があるかどうか（`bool` 型）\n",
    "\n",
    "\n",
    "\n",
    "関数では、以下のルールにしたがって価格を計算してください：\n",
    "\n",
    "* 寝室 0、浴室 0、地下室なしの場合、**基本価格は 80,000 ドル**\n",
    "* 寝室 1つごとに **30,000 ドル**を加算\n",
    "* 浴室 1つごとに **10,000 ドル**を加算\n",
    "* 地下室がある場合は **40,000 ドル**を加算\n",
    "\n",
    "\n",
    "\n",
    "### 🧮 計算例\n",
    "\n",
    "* `get_expected_cost(1, 1, False)`\n",
    "  → `80000 + 30000 + 10000 = 120000`\n",
    "\n",
    "* `get_expected_cost(2, 1, True)`\n",
    "  → `80000 + (2 × 30000) + 10000 + 40000 = 190000`\n",
    "\n",
    "\n",
    "\n",
    "### ✏️ 実装してみましょう\n",
    "\n"
   ]
  },
  {
   "cell_type": "code",
   "execution_count": null,
   "metadata": {
    "execution": {
     "iopub.execute_input": "2022-02-15T23:56:52.478801Z",
     "iopub.status.busy": "2022-02-15T23:56:52.476309Z",
     "iopub.status.idle": "2022-02-15T23:56:52.480428Z",
     "shell.execute_reply": "2022-02-15T23:56:52.481088Z",
     "shell.execute_reply.started": "2022-02-03T22:52:03.974262Z"
    },
    "papermill": {
     "duration": 0.033124,
     "end_time": "2022-02-15T23:56:52.481290",
     "exception": false,
     "start_time": "2022-02-15T23:56:52.448166",
     "status": "completed"
    },
    "tags": []
   },
   "outputs": [],
   "source": [
    "\n",
    "\n",
    "# TODO: 関数を完成させましょう。\n",
    "def get_expected_cost(beds, baths, has_basement):\n",
    "    value = ____\n",
    "    return value\n",
    "\n",
    "\n",
    "q3.check()"
   ]
  },
  {
   "cell_type": "markdown",
   "id": "936b8dca",
   "metadata": {},
   "source": [
    "\n",
    "### 💡 ヒントを見たいときは、下の行の # を外してください"
   ]
  },
  {
   "cell_type": "code",
   "execution_count": null,
   "metadata": {
    "execution": {
     "iopub.execute_input": "2022-02-15T23:56:52.536091Z",
     "iopub.status.busy": "2022-02-15T23:56:52.533986Z",
     "iopub.status.idle": "2022-02-15T23:56:52.538793Z",
     "shell.execute_reply": "2022-02-15T23:56:52.538089Z"
    },
    "papermill": {
     "duration": 0.032803,
     "end_time": "2022-02-15T23:56:52.538960",
     "exception": false,
     "start_time": "2022-02-15T23:56:52.506157",
     "status": "completed"
    },
    "tags": []
   },
   "outputs": [],
   "source": [
    "\n",
    "\n",
    "#q3.hint()\n"
   ]
  },
  {
   "cell_type": "markdown",
   "id": "a20b29a4",
   "metadata": {},
   "source": [
    "\n",
    "### 🔓 答えを見たいときは、こちらの # を外して実行してください"
   ]
  },
  {
   "cell_type": "code",
   "execution_count": null,
   "id": "fc9cf35f",
   "metadata": {},
   "outputs": [],
   "source": [
    "\n",
    "#q3.solution()"
   ]
  },
  {
   "cell_type": "markdown",
   "metadata": {
    "papermill": {
     "duration": 0.02506,
     "end_time": "2022-02-15T23:56:52.588859",
     "exception": false,
     "start_time": "2022-02-15T23:56:52.563799",
     "status": "completed"
    },
    "tags": []
   },
   "source": [
    "## ❓ 問題 4\n",
    "\n",
    "ここでは、**ブール値（`True` / `False`）を加算したらどうなるか**を調べてみましょう。\n",
    "\n",
    "\n",
    "\n",
    "Python では、`True` や `False` を**数値のように扱う**ことができます。  \n",
    "では、これらを加算するとどんな結果になるでしょうか？\n",
    "\n",
    "\n",
    "\n",
    "### 🔍 試してみよう\n",
    "\n",
    "以下のコードを実行して、ブール値の加算結果を確認してみましょう。  \n",
    "行を追加・削除して、自分でもいろいろ試してみてください。\n"
   ]
  },
  {
   "cell_type": "code",
   "execution_count": null,
   "metadata": {
    "execution": {
     "iopub.execute_input": "2022-02-15T23:56:52.645742Z",
     "iopub.status.busy": "2022-02-15T23:56:52.644793Z",
     "iopub.status.idle": "2022-02-15T23:56:52.649131Z",
     "shell.execute_reply": "2022-02-15T23:56:52.648404Z",
     "shell.execute_reply.started": "2022-02-07T14:34:27.967409Z"
    },
    "papermill": {
     "duration": 0.034215,
     "end_time": "2022-02-15T23:56:52.649292",
     "exception": false,
     "start_time": "2022-02-15T23:56:52.615077",
     "status": "completed"
    },
    "tags": []
   },
   "outputs": [],
   "source": [
    "\n",
    "\n",
    "print(False + False)\n",
    "print(True + False)\n",
    "print(False + True)\n",
    "print(True + True)\n",
    "print(False + True + True + True)\n",
    "\n"
   ]
  },
  {
   "cell_type": "markdown",
   "metadata": {
    "papermill": {
     "duration": 0.025079,
     "end_time": "2022-02-15T23:56:52.700169",
     "exception": false,
     "start_time": "2022-02-15T23:56:52.675090",
     "status": "completed"
    },
    "tags": []
   },
   "source": [
    "\n",
    "\n",
    "結果がわかったら、次のセルで **解答をチェック** しましょう。\n",
    "\n",
    "### ✅ 解答をチェックする"
   ]
  },
  {
   "cell_type": "code",
   "execution_count": null,
   "metadata": {
    "execution": {
     "iopub.execute_input": "2022-02-15T23:56:52.760119Z",
     "iopub.status.busy": "2022-02-15T23:56:52.759322Z",
     "iopub.status.idle": "2022-02-15T23:56:52.761527Z",
     "shell.execute_reply": "2022-02-15T23:56:52.760871Z",
     "shell.execute_reply.started": "2022-02-07T14:31:45.105891Z"
    },
    "papermill": {
     "duration": 0.031532,
     "end_time": "2022-02-15T23:56:52.761705",
     "exception": false,
     "start_time": "2022-02-15T23:56:52.730173",
     "status": "completed"
    },
    "tags": []
   },
   "outputs": [],
   "source": [
    "\n",
    "\n",
    "# 解答を確認してください。\n",
    "q4.check()\n",
    "\n"
   ]
  },
  {
   "cell_type": "markdown",
   "metadata": {
    "papermill": {
     "duration": 0.024396,
     "end_time": "2022-02-15T23:56:52.811140",
     "exception": false,
     "start_time": "2022-02-15T23:56:52.786744",
     "status": "completed"
    },
    "tags": []
   },
   "source": [
    "## 🌶️ 問題 5\n",
    "\n",
    "あなたはオンラインショップを運営しており、**彫刻入りのリング**を販売しています。  \n",
    "取り扱っているのは、**金メッキ**と**純金**の2種類のリングです。\n",
    "\n",
    "\n",
    "\n",
    "### 💍 価格ルール\n",
    "\n",
    "* 金メッキのリング：基本価格は **50ドル**、彫刻の**1文字ごとに7ドル**を加算\n",
    "* 純金のリング：基本価格は **100ドル**、彫刻の**1文字ごとに10ドル**を加算\n",
    "* **スペースや句読点も「1文字」としてカウントされます**\n",
    "\n",
    "\n",
    "\n",
    "### 🧠 作成する関数\n",
    "\n",
    "以下の引数を受け取る `cost_of_project()` 関数を定義してください：\n",
    "\n",
    "* `engraving`：彫刻内容（`str` 型）\n",
    "* `solid_gold`：純金かどうか（`bool` 型）\n",
    "\n",
    "この関数は、**ルールに従って費用を計算し、返す**ようにします。\n",
    "\n",
    "\n",
    "\n",
    "### ✏️ 実装してみましょう\n",
    "\n"
   ]
  },
  {
   "cell_type": "code",
   "execution_count": null,
   "metadata": {
    "execution": {
     "iopub.execute_input": "2022-02-15T23:56:52.868950Z",
     "iopub.status.busy": "2022-02-15T23:56:52.867881Z",
     "iopub.status.idle": "2022-02-15T23:56:52.870834Z",
     "shell.execute_reply": "2022-02-15T23:56:52.870153Z",
     "shell.execute_reply.started": "2022-02-15T23:31:54.827145Z"
    },
    "papermill": {
     "duration": 0.034931,
     "end_time": "2022-02-15T23:56:52.871015",
     "exception": false,
     "start_time": "2022-02-15T23:56:52.836084",
     "status": "completed"
    },
    "tags": []
   },
   "outputs": [],
   "source": [
    "\n",
    "\n",
    "# TODO: 関数を完成させましょう\n",
    "def cost_of_project(engraving, solid_gold):\n",
    "    cost = ____\n",
    "    return cost\n",
    "\n",
    "# 答えを確認します。\n",
    "q5.check()\n"
   ]
  },
  {
   "cell_type": "markdown",
   "id": "7bee6626",
   "metadata": {},
   "source": [
    "\n",
    "### 💡 ヒントを見たいときは、下の行の `#` を外して実行してください"
   ]
  },
  {
   "cell_type": "code",
   "execution_count": null,
   "metadata": {
    "execution": {
     "iopub.execute_input": "2022-02-15T23:56:52.927471Z",
     "iopub.status.busy": "2022-02-15T23:56:52.926644Z",
     "iopub.status.idle": "2022-02-15T23:56:52.929009Z",
     "shell.execute_reply": "2022-02-15T23:56:52.928331Z"
    },
    "papermill": {
     "duration": 0.032387,
     "end_time": "2022-02-15T23:56:52.929176",
     "exception": false,
     "start_time": "2022-02-15T23:56:52.896789",
     "status": "completed"
    },
    "tags": []
   },
   "outputs": [],
   "source": [
    "\n",
    "\n",
    "#q5.hint()\n"
   ]
  },
  {
   "cell_type": "markdown",
   "id": "b99f773b",
   "metadata": {},
   "source": [
    "\n",
    "\n",
    "### 🔓 答えを見たいときは、下の行の `#` を外してください\n"
   ]
  },
  {
   "cell_type": "code",
   "execution_count": null,
   "id": "9bca29cb",
   "metadata": {},
   "outputs": [],
   "source": [
    "\n",
    "#q5.solution()\n"
   ]
  },
  {
   "cell_type": "markdown",
   "metadata": {
    "papermill": {
     "duration": 0.025442,
     "end_time": "2022-02-15T23:56:52.981178",
     "exception": false,
     "start_time": "2022-02-15T23:56:52.955736",
     "status": "completed"
    },
    "tags": []
   },
   "source": [
    "### 🧪 動作確認\n",
    "\n",
    "次のコードでは、「**Charlie+Denver**」という文字列を彫刻した、**純金リング**の費用を計算しています。  \n",
    "関数 `cost_of_project()` が正しく実装されていれば、想定通りの価格が表示されるはずです。\n",
    "\n"
   ]
  },
  {
   "cell_type": "code",
   "execution_count": null,
   "metadata": {
    "execution": {
     "iopub.execute_input": "2022-02-15T23:56:53.038462Z",
     "iopub.status.busy": "2022-02-15T23:56:53.037566Z",
     "iopub.status.idle": "2022-02-15T23:56:53.041150Z",
     "shell.execute_reply": "2022-02-15T23:56:53.040512Z",
     "shell.execute_reply.started": "2022-02-15T23:30:27.426417Z"
    },
    "papermill": {
     "duration": 0.033363,
     "end_time": "2022-02-15T23:56:53.041309",
     "exception": false,
     "start_time": "2022-02-15T23:56:53.007946",
     "status": "completed"
    },
    "tags": []
   },
   "outputs": [],
   "source": [
    "\n",
    "project_one = cost_of_project(\"Charlie+Denver\", True)\n",
    "print(project_one)"
   ]
  },
  {
   "cell_type": "markdown",
   "id": "d43d136d",
   "metadata": {},
   "source": [
    "💡 `\"Charlie+Denver\"` の文字数に注目し、計算が正しく行われているかを確認してみましょう。  \n",
    "スペースや記号（`+` など）も、1文字としてカウントされます。\n"
   ]
  },
  {
   "cell_type": "markdown",
   "metadata": {
    "papermill": {
     "duration": 0.025504,
     "end_time": "2022-02-15T23:56:53.093394",
     "exception": false,
     "start_time": "2022-02-15T23:56:53.067890",
     "status": "completed"
    },
    "tags": []
   },
   "source": [
    "### 🧪 もうひとつ試してみましょう\n",
    "\n",
    "今度は、「**08/10/2000**」という日付の文字列を彫刻した、**金メッキリング**の費用を計算してみましょう。\n"
   ]
  },
  {
   "cell_type": "code",
   "execution_count": null,
   "metadata": {
    "execution": {
     "iopub.execute_input": "2022-02-15T23:56:53.150257Z",
     "iopub.status.busy": "2022-02-15T23:56:53.149375Z",
     "iopub.status.idle": "2022-02-15T23:56:53.154415Z",
     "shell.execute_reply": "2022-02-15T23:56:53.153758Z",
     "shell.execute_reply.started": "2022-02-15T23:29:10.617644Z"
    },
    "papermill": {
     "duration": 0.03374,
     "end_time": "2022-02-15T23:56:53.154559",
     "exception": false,
     "start_time": "2022-02-15T23:56:53.120819",
     "status": "completed"
    },
    "tags": []
   },
   "outputs": [],
   "source": [
    "\n",
    "project_two = cost_of_project(\"08/10/2000\", False)\n",
    "print(project_two)"
   ]
  },
  {
   "cell_type": "markdown",
   "id": "3fdccc3d",
   "metadata": {},
   "source": [
    "💡 ヒント\n",
    "\n",
    "* `/` や `0` のような **記号や数字、すべての文字**がカウントされます。\n",
    "* 金メッキの場合は、**基本価格 50ドル + 1文字あたり7ドル**で計算されます。\n",
    "\n"
   ]
  },
  {
   "cell_type": "markdown",
   "id": "c8e189ff",
   "metadata": {},
   "source": [
    "## 🔁 問題 6（復習編）\n",
    "\n",
    "これまで作成した `cost_of_project()` に、**新しいルールを追加**して改良版を作りましょう。\n",
    "\n",
    "\n",
    "\n",
    "### 📏 追加ルール\n",
    "\n",
    "* **彫刻される文字数が 21文字以上**の場合、  \n",
    "**追加料金として一律 25ドル**を加算してください。\n",
    "\n",
    "\n",
    "\n",
    "### 🧠 作成する関数\n",
    "\n",
    "次の引数を受け取る `cost_of_project_v2()` 関数を定義します：\n",
    "\n",
    "* `engraving`：彫刻内容（`str` 型）\n",
    "* `solid_gold`：純金かどうか（`bool` 型）\n",
    "\n",
    "\n",
    "\n",
    "この関数では、**これまでの価格計算のルールに加えて、文字数に応じた追加料金**も含めて費用を算出します。\n",
    "\n",
    "\n",
    "\n",
    "### ✏️ 実装してみましょう"
   ]
  },
  {
   "cell_type": "code",
   "execution_count": null,
   "id": "30e6c40d",
   "metadata": {},
   "outputs": [],
   "source": [
    "\n",
    "\n",
    "# TODO: 彫刻が21文字以上の場合、25ドルの追加料金がかかるように処理を追加してください。\n",
    "# 基本的な価格の計算ルールはこれまでと同じです。\n",
    "\n",
    "def cost_of_project_v2(engraving, solid_gold):\n",
    "    cost = ____\n",
    "    return cost\n",
    "\n",
    "# 解答をチェック\n",
    "q6.check()\n",
    "\n",
    "\n",
    "\n"
   ]
  },
  {
   "cell_type": "markdown",
   "id": "f7c3ec5a",
   "metadata": {},
   "source": [
    "\n",
    "### 💡 ヒントを見たいときは、下の行の `#` を外して実行してください"
   ]
  },
  {
   "cell_type": "code",
   "execution_count": null,
   "id": "5aa5f381",
   "metadata": {},
   "outputs": [],
   "source": [
    "\n",
    "\n",
    "#q6.hint()\n"
   ]
  },
  {
   "cell_type": "markdown",
   "id": "69631c2c",
   "metadata": {},
   "source": [
    "\n",
    "### 🔓 答えを見たいときは、下の行の `#` を外してください"
   ]
  },
  {
   "cell_type": "code",
   "execution_count": null,
   "id": "0d042fd3",
   "metadata": {},
   "outputs": [],
   "source": [
    "\n",
    "#q6.solution()"
   ]
  },
  {
   "cell_type": "code",
   "execution_count": null,
   "id": "265ee268",
   "metadata": {},
   "outputs": [],
   "source": [
    "\n",
    "\n",
    "# 動作確認：文字数が20文字以下 → 追加なし\n",
    "print(cost_of_project_v2(\"Short engraving\", False))  # 文字数 15\n",
    "\n",
    "# 動作確認：文字数が21文字以上 → 追加料金が加算される\n",
    "print(cost_of_project_v2(\"This is a really long engraving!\", True))  # 文字数 32\n",
    "\n"
   ]
  },
  {
   "cell_type": "code",
   "execution_count": null,
   "id": "47ecc137",
   "metadata": {},
   "outputs": [],
   "source": [
    "\n",
    "\n",
    "# 動作確認：20文字以下の場合 → 追加料金なし\n",
    "print(cost_of_project_v2(\"短い彫刻メッセージ\", False))  # 文字数 9\n",
    "\n",
    "# 動作確認：21文字以上の場合 → 追加料金あり\n",
    "print(cost_of_project_v2(\"これはとても長い彫刻用メッセージです！\", True))  # 文字数 19\n",
    "\n"
   ]
  },
  {
   "cell_type": "code",
   "execution_count": null,
   "id": "f90cf45f",
   "metadata": {},
   "outputs": [],
   "source": [
    "\n",
    "\n",
    "s = \"短い彫刻メッセージ\"\n",
    "print(len(s))       # → 9\n",
    "print([c for c in s])\n",
    "\n"
   ]
  },
  {
   "cell_type": "markdown",
   "id": "dc84887f",
   "metadata": {},
   "source": [
    "## 🎉 おつかれさまでした！\n",
    "\n",
    "この演習では、Python の **基本的なデータ型** について、実際に手を動かしながら理解を深めました。\n",
    "\n",
    "\n",
    "\n",
    "### ✅ このレッスンで学んだこと\n",
    "\n",
    "* `int`（整数）、`float`（小数）、`bool`（真偽値）、`str`（文字列）の役割と使い方\n",
    "* **データ型によって演算の結果が変わる**こと\n",
    "* ブール値の計算：`True` は `1`、`False` は `0` として扱われる\n",
    "* 条件に応じて動作を切り替える「**ブール算術**」のテクニック\n",
    "* `type()` や `len()` を使って、**データの型や長さを確認**する方法\n",
    "* 応用問題では、**文字数による料金加算**といった実用的な処理も体験しました\n",
    "\n",
    "\n",
    "\n",
    "### ▶️ 次に進もう！\n",
    "\n",
    "次のチュートリアルでは、条件と条件文（**if文**）について学びます。  \n",
    "「ある条件を満たすときだけ実行される処理」を、Python でどう書くのかを学びましょう。\n",
    "\n",
    "👉 [**条件と条件文（tut4.ipynb）**](./tut4.ipynb)\n",
    "\n",
    "\n"
   ]
  },
  {
   "cell_type": "markdown",
   "id": "24086c97",
   "metadata": {},
   "source": []
  }
 ],
 "metadata": {
  "kernelspec": {
   "display_name": "Python 3",
   "language": "python",
   "name": "python3"
  },
  "language_info": {
   "codemirror_mode": {
    "name": "ipython",
    "version": 3
   },
   "file_extension": ".py",
   "mimetype": "text/x-python",
   "name": "python",
   "nbconvert_exporter": "python",
   "pygments_lexer": "ipython3",
   "version": "3.6.5"
  },
  "papermill": {
   "default_parameters": {},
   "duration": 15.996115,
   "end_time": "2022-02-15T23:56:55.998786",
   "environment_variables": {},
   "exception": null,
   "input_path": "__notebook__.ipynb",
   "output_path": "__notebook__.ipynb",
   "parameters": {},
   "start_time": "2022-02-15T23:56:40.002671",
   "version": "2.3.3"
  }
 },
 "nbformat": 4,
 "nbformat_minor": 5
}
