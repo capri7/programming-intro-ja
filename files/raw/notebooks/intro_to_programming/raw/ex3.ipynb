{
 "cells": [
  {
   "cell_type": "markdown",
   "metadata": {
    "papermill": {
     "duration": 0.024307,
     "end_time": "2022-02-15T23:56:51.875254",
     "exception": false,
     "start_time": "2022-02-15T23:56:51.850947",
     "status": "completed"
    },
    "tags": []
   },
   "source": [
    "チュートリアルでは、4つの異なるデータ型（浮動小数点数、整数、文字列、ブール値）について学びました。この演習では、それらを使って実験を行います。\n",
    "\n",
    "## Pyodide環境の準備"
   ]
  },
  {
   "cell_type": "code",
   "execution_count": null,
   "metadata": {
    "execution": {
     "iopub.execute_input": "2022-02-15T23:56:51.927593Z",
     "iopub.status.busy": "2022-02-15T23:56:51.926290Z",
     "iopub.status.idle": "2022-02-15T23:56:51.939207Z",
     "shell.execute_reply": "2022-02-15T23:56:51.939841Z",
     "shell.execute_reply.started": "2022-02-03T22:09:44.861849Z"
    },
    "papermill": {
     "duration": 0.041266,
     "end_time": "2022-02-15T23:56:51.940173",
     "exception": false,
     "start_time": "2022-02-15T23:56:51.898907",
     "status": "completed"
    },
    "tags": []
   },
   "outputs": [],
   "source": [
    "# 演習のセットアップ\n",
    "import micropip\n",
    "\n",
    "await micropip.install(\"http://127.0.0.1:8000/files/raw/packages/learntools-0.3.5-py3-none-any.whl\")"
   ]
  },
  {
   "cell_type": "markdown",
   "id": "2baae669",
   "metadata": {},
   "source": [
    "## 必要なパッケージのインストール"
   ]
  },
  {
   "cell_type": "code",
   "execution_count": null,
   "id": "716bf330",
   "metadata": {},
   "outputs": [],
   "source": [
    "# 外部パッケージのインストール\n",
    "await micropip.install([\"pandas\", \"numpy\", \"matplotlib\"])\n",
    "\n",
    "# learntools を使う準備\n",
    "from learntools.core import binder\n",
    "# 問題をグローバルスコープにバインド\n",
    "binder.bind(globals())\n",
    "print(\"✅ Setup complete\")"
   ]
  },
  {
   "cell_type": "markdown",
   "id": "f002f0a5",
   "metadata": {},
   "source": [
    "## 演習モジュールのインポート"
   ]
  },
  {
   "cell_type": "code",
   "execution_count": null,
   "id": "def66bcd",
   "metadata": {},
   "outputs": [],
   "source": [
    "from learntools.intro_to_programming.ex3 import *"
   ]
  },
  {
   "cell_type": "markdown",
   "metadata": {
    "papermill": {
     "duration": 0.024941,
     "end_time": "2022-02-15T23:56:51.990804",
     "exception": false,
     "start_time": "2022-02-15T23:56:51.965863",
     "status": "completed"
    },
    "tags": []
   },
   "source": [
    "# 質問 1\n",
    "\n",
    "`int` 関数を使って浮動小数点数を整数に変換する方法を確認しました。下のコードセルを実行して、実際に試してみましょう。\n"
   ]
  },
  {
   "cell_type": "code",
   "execution_count": null,
   "metadata": {
    "execution": {
     "iopub.execute_input": "2022-02-15T23:56:52.042953Z",
     "iopub.status.busy": "2022-02-15T23:56:52.041922Z",
     "iopub.status.idle": "2022-02-15T23:56:52.050442Z",
     "shell.execute_reply": "2022-02-15T23:56:52.049852Z",
     "shell.execute_reply.started": "2022-02-03T22:16:24.931367Z"
    },
    "papermill": {
     "duration": 0.036351,
     "end_time": "2022-02-15T23:56:52.050571",
     "exception": false,
     "start_time": "2022-02-15T23:56:52.014220",
     "status": "completed"
    },
    "tags": []
   },
   "outputs": [],
   "source": [
    "# 浮動小数点数を定義\n",
    "y = 1.\n",
    "print(y)\n",
    "print(type(y))\n",
    "\n",
    "# int関数を使って浮動小数点数を整数に変換\n",
    "z = int(y)\n",
    "print(z)\n",
    "print(type(z))"
   ]
  },
  {
   "cell_type": "markdown",
   "metadata": {
    "papermill": {
     "duration": 0.015746,
     "end_time": "2022-02-15T23:56:52.082635",
     "exception": false,
     "start_time": "2022-02-15T23:56:52.066889",
     "status": "completed"
    },
    "tags": []
   },
   "source": [
    "この場合、使用している浮動小数点数は小数点以下の数字がありません。\n",
    "\n",
    "- 小数部分を持つ浮動小数点数を整数に変換しようとするとどうなるでしょう？\n",
    "- `int`関数の結果は、正の数と負の数でどのように異なるでしょうか？\n",
    "\n",
    "次のコードセルを使って2つの質問を調べて答えてみましょう。コードの行を追加したり削除したりしても構いません。ここはあなたの作業スペースです！\n"
   ]
  },
  {
   "cell_type": "code",
   "execution_count": null,
   "metadata": {
    "execution": {
     "iopub.execute_input": "2022-02-15T23:56:52.118225Z",
     "iopub.status.busy": "2022-02-15T23:56:52.117674Z",
     "iopub.status.idle": "2022-02-15T23:56:52.120471Z",
     "shell.execute_reply": "2022-02-15T23:56:52.121010Z",
     "shell.execute_reply.started": "2022-02-03T22:22:45.029379Z"
    },
    "papermill": {
     "duration": 0.023189,
     "end_time": "2022-02-15T23:56:52.121169",
     "exception": false,
     "start_time": "2022-02-15T23:56:52.097980",
     "status": "completed"
    },
    "tags": []
   },
   "outputs": [],
   "source": [
    "# このコードのコメントを解除して実行して始めてみましょう！\n",
    "#print(int(1.2321))\n",
    "#print(int(1.747))\n",
    "#print(int(-3.94535))\n",
    "#print(int(-2.19774))"
   ]
  },
  {
   "cell_type": "markdown",
   "metadata": {
    "papermill": {
     "duration": 0.015044,
     "end_time": "2022-02-15T23:56:52.153268",
     "exception": false,
     "start_time": "2022-02-15T23:56:52.138224",
     "status": "completed"
    },
    "tags": []
   },
   "source": [
    "答えが出たら、下のコードセルを実行して解答を確認しましょう。"
   ]
  },
  {
   "cell_type": "code",
   "execution_count": null,
   "metadata": {
    "execution": {
     "iopub.execute_input": "2022-02-15T23:56:52.188723Z",
     "iopub.status.busy": "2022-02-15T23:56:52.188047Z",
     "iopub.status.idle": "2022-02-15T23:56:52.189984Z",
     "shell.execute_reply": "2022-02-15T23:56:52.190492Z",
     "shell.execute_reply.started": "2022-02-03T22:29:05.513044Z"
    },
    "papermill": {
     "duration": 0.022309,
     "end_time": "2022-02-15T23:56:52.190680",
     "exception": false,
     "start_time": "2022-02-15T23:56:52.168371",
     "status": "completed"
    },
    "tags": []
   },
   "outputs": [],
   "source": [
    "# 解答を確認することで、この問題が完了します。\n",
    "q1.check()"
   ]
  },
  {
   "cell_type": "markdown",
   "metadata": {
    "papermill": {
     "duration": 0.015624,
     "end_time": "2022-02-15T23:56:52.222102",
     "exception": false,
     "start_time": "2022-02-15T23:56:52.206478",
     "status": "completed"
    },
    "tags": []
   },
   "source": [
    "# 質問 2\n",
    "\n",
    "チュートリアルでは、整数、浮動小数点数、文字列に加えて、ブール値（`True` または `False` の値を取る）についても学びました。この質問では、ブール値をこれらのデータ型と掛け算したときに何が起こるのかを調べてみましょう。具体的には：\n",
    "\n",
    "- 整数や浮動小数点数に `True` を掛けるとどうなりますか？ `False` を掛けるとどうなりますか？ また、答えは数値が正の数と負の数でどのように異なるのでしょうか？\n",
    "- 文字列に `True` を掛けるとどうなりますか？ `False` を掛けるとどうなりますか？\n",
    "\n",
    "次のコードセルを使って、これらを調査してみてください。\n",
    "\n"
   ]
  },
  {
   "cell_type": "code",
   "execution_count": null,
   "metadata": {
    "execution": {
     "iopub.execute_input": "2022-02-15T23:56:52.258128Z",
     "iopub.status.busy": "2022-02-15T23:56:52.256537Z",
     "iopub.status.idle": "2022-02-15T23:56:52.262930Z",
     "shell.execute_reply": "2022-02-15T23:56:52.263951Z",
     "shell.execute_reply.started": "2022-02-07T14:49:29.48822Z"
    },
    "papermill": {
     "duration": 0.026529,
     "end_time": "2022-02-15T23:56:52.264360",
     "exception": false,
     "start_time": "2022-02-15T23:56:52.237831",
     "status": "completed"
    },
    "tags": []
   },
   "outputs": [],
   "source": [
    "# アンコメントを解除して、コードを実行してください。\n",
    "#print(3 * True)\n",
    "#print(-3.1 * True)\n",
    "#print(type(\"abc\" * False))\n",
    "#print(len(\"abc\" * False))"
   ]
  },
  {
   "cell_type": "markdown",
   "metadata": {
    "papermill": {
     "duration": 0.024547,
     "end_time": "2022-02-15T23:56:52.314813",
     "exception": false,
     "start_time": "2022-02-15T23:56:52.290266",
     "status": "completed"
    },
    "tags": []
   },
   "source": [
    "答えが出たら、下のコードセルを実行して解答を確認しましょう。"
   ]
  },
  {
   "cell_type": "code",
   "execution_count": null,
   "metadata": {
    "execution": {
     "iopub.execute_input": "2022-02-15T23:56:52.369021Z",
     "iopub.status.busy": "2022-02-15T23:56:52.367407Z",
     "iopub.status.idle": "2022-02-15T23:56:52.372618Z",
     "shell.execute_reply": "2022-02-15T23:56:52.371819Z"
    },
    "papermill": {
     "duration": 0.033338,
     "end_time": "2022-02-15T23:56:52.372842",
     "exception": false,
     "start_time": "2022-02-15T23:56:52.339504",
     "status": "completed"
    },
    "tags": []
   },
   "outputs": [],
   "source": [
    "# 解答を確認することで、この問題が完了します。\n",
    "q2.check()"
   ]
  },
  {
   "cell_type": "markdown",
   "metadata": {
    "papermill": {
     "duration": 0.024657,
     "end_time": "2022-02-15T23:56:52.423541",
     "exception": false,
     "start_time": "2022-02-15T23:56:52.398884",
     "status": "completed"
    },
    "tags": []
   },
   "source": [
    "# 質問 3\n",
    "\n",
    "この質問では、前回の演習で行った作業を元に、家の価値を予測する関数を作成します。\n",
    "\n",
    "次のコードセルを使って、3つの変数を入力として受け取る関数 `get_expected_cost`を作成してください：\n",
    "\n",
    "- `beds` - 寝室の数（データ型：浮動小数点数）\n",
    "- `baths` - 浴室の数（データ型：浮動小数点数）\n",
    "- `has_basement` - 家に地下室があるかどうか（データ型：ブール値）\n",
    "\n",
    "`get_expected_cost`関数は、以下の特徴を持つ家の予想価格を返す必要があります。\n",
    "\n",
    "- 寝室が0、浴室が0、地下室がない家の予想価格は80000ドルであると仮定します。\n",
    "- 寝室を追加するごとに30000ドルを追加します。\n",
    "- 浴室を追加するごとに10000ドルを追加します。\n",
    "- 地下室がある場合は40000ドルを追加します。\n",
    "\n",
    "例えば、\n",
    "\n",
    "* 寝室1、浴室1、地下室なしの家は、予想価格が80000ドル + 30000ドル + 10000ドル = 120000ドルです。この値は`get_expected_cost(1, 1, False)`で計算できます。\n",
    "* 寝室2、浴室1、地下室ありの家は、予想価格が80000ドル + 2 \\* 30000ドル + 10000ドル + 40000ドル = 190000ドルです。この値は`get_expected_cost(2, 1, True)`で計算できます。\n",
    "\n",
    "ヒントが必要な場合は、次のコードセルで`q3.hint()`のコメントを外して確認できます。\n"
   ]
  },
  {
   "cell_type": "code",
   "execution_count": null,
   "metadata": {
    "execution": {
     "iopub.execute_input": "2022-02-15T23:56:52.478801Z",
     "iopub.status.busy": "2022-02-15T23:56:52.476309Z",
     "iopub.status.idle": "2022-02-15T23:56:52.480428Z",
     "shell.execute_reply": "2022-02-15T23:56:52.481088Z",
     "shell.execute_reply.started": "2022-02-03T22:52:03.974262Z"
    },
    "papermill": {
     "duration": 0.033124,
     "end_time": "2022-02-15T23:56:52.481290",
     "exception": false,
     "start_time": "2022-02-15T23:56:52.448166",
     "status": "completed"
    },
    "tags": []
   },
   "outputs": [],
   "source": [
    "# TODO: 関数を完成させましょう。\n",
    "def get_expected_cost(beds, baths, has_basement):\n",
    "    value = ____\n",
    "    return value\n",
    "\n",
    "# 解答を確認してください。 \n",
    "q3.check()"
   ]
  },
  {
   "cell_type": "code",
   "execution_count": null,
   "metadata": {},
   "outputs": [],
   "source": [
    "#%%RM_IF(PROD)%% （開発者向け：本番環境では非表示）\n",
    "def get_expected_cost(beds, baths, has_basement):\n",
    "    value = 80000 + 30000 * beds + 10000 * baths + 40000 * has_basement\n",
    "    return value\n",
    "\n",
    "q3.assert_check_passed()"
   ]
  },
  {
   "cell_type": "code",
   "execution_count": null,
   "metadata": {
    "execution": {
     "iopub.execute_input": "2022-02-15T23:56:52.536091Z",
     "iopub.status.busy": "2022-02-15T23:56:52.533986Z",
     "iopub.status.idle": "2022-02-15T23:56:52.538793Z",
     "shell.execute_reply": "2022-02-15T23:56:52.538089Z"
    },
    "papermill": {
     "duration": 0.032803,
     "end_time": "2022-02-15T23:56:52.538960",
     "exception": false,
     "start_time": "2022-02-15T23:56:52.506157",
     "status": "completed"
    },
    "tags": []
   },
   "outputs": [],
   "source": [
    "# ヒントを見るにはコメントアウトを解除してください\n",
    "#_COMMENT_IF(PROD)_本番環境では非表示\n",
    "q3.hint()\n",
    "\n",
    "# 解答を確認するにはコメントアウトを解除してください\n",
    "#_COMMENT_IF(PROD)_本番環境では非表示\n",
    "q3.solution()"
   ]
  },
  {
   "cell_type": "markdown",
   "metadata": {
    "papermill": {
     "duration": 0.02506,
     "end_time": "2022-02-15T23:56:52.588859",
     "exception": false,
     "start_time": "2022-02-15T23:56:52.563799",
     "status": "completed"
    },
    "tags": []
   },
   "source": [
    "# 質問 4\n",
    "引き続き、ブール値の算術演算を学びます。この質問では、ブール値を加算したときに何が起こるのかを説明してください。\n",
    "\n",
    "次のコードセルを使って調査してみましょう。コードの行を追加したり削除したりしても構いません。ここはあなたの作業スペースです！"
   ]
  },
  {
   "cell_type": "code",
   "execution_count": null,
   "metadata": {
    "execution": {
     "iopub.execute_input": "2022-02-15T23:56:52.645742Z",
     "iopub.status.busy": "2022-02-15T23:56:52.644793Z",
     "iopub.status.idle": "2022-02-15T23:56:52.649131Z",
     "shell.execute_reply": "2022-02-15T23:56:52.648404Z",
     "shell.execute_reply.started": "2022-02-07T14:34:27.967409Z"
    },
    "papermill": {
     "duration": 0.034215,
     "end_time": "2022-02-15T23:56:52.649292",
     "exception": false,
     "start_time": "2022-02-15T23:56:52.615077",
     "status": "completed"
    },
    "tags": []
   },
   "outputs": [],
   "source": [
    "print(False + False)\n",
    "print(True + False)\n",
    "print(False + True)\n",
    "print(True + True)\n",
    "print(False + True + True + True)"
   ]
  },
  {
   "cell_type": "markdown",
   "metadata": {
    "papermill": {
     "duration": 0.025079,
     "end_time": "2022-02-15T23:56:52.700169",
     "exception": false,
     "start_time": "2022-02-15T23:56:52.675090",
     "status": "completed"
    },
    "tags": []
   },
   "source": [
    "答えが出たら、下のコードセルを実行して解答を確認しましょう。解答を見ることで、この問題が完了します。\n"
   ]
  },
  {
   "cell_type": "code",
   "execution_count": null,
   "metadata": {
    "execution": {
     "iopub.execute_input": "2022-02-15T23:56:52.760119Z",
     "iopub.status.busy": "2022-02-15T23:56:52.759322Z",
     "iopub.status.idle": "2022-02-15T23:56:52.761527Z",
     "shell.execute_reply": "2022-02-15T23:56:52.760871Z",
     "shell.execute_reply.started": "2022-02-07T14:31:45.105891Z"
    },
    "papermill": {
     "duration": 0.031532,
     "end_time": "2022-02-15T23:56:52.761705",
     "exception": false,
     "start_time": "2022-02-15T23:56:52.730173",
     "status": "completed"
    },
    "tags": []
   },
   "outputs": [],
   "source": [
    "# 解答を確認してください。\n",
    "q4.check()"
   ]
  },
  {
   "cell_type": "markdown",
   "metadata": {
    "papermill": {
     "duration": 0.024396,
     "end_time": "2022-02-15T23:56:52.811140",
     "exception": false,
     "start_time": "2022-02-15T23:56:52.786744",
     "status": "completed"
    },
    "tags": []
   },
   "source": [
    "# 🌶️ 質問 5\n",
    "\n",
    "あなたはオンラインショップを運営しており、カスタム彫刻が施されたリングを販売しています。販売しているのは、金メッキと純金のリングです。\n",
    "\n",
    "* 金メッキのリングは基本価格が50ドルで、彫刻されたユニットごとに7ドルを請求します。\n",
    "* 純金のリングは基本価格が100ドルで、彫刻されたユニットごとに10ドルを請求します。\n",
    "* スペースや句読点も彫刻されたユニットとしてカウントされます。\n",
    "\n",
    "`cost_of_project()` 関数を作成し、次の2つの引数を受け取るようにしてください。\n",
    "\n",
    "- `engraving` - 彫刻のテキストを含むPythonの文字列\n",
    "- `solid_gold` - リングが純金かどうかを示すブール値\n",
    "\n",
    "`cost_of_project()`関数は、プロジェクトの費用を返す必要があります。この質問はかなり挑戦的かもしれませんので、ヒントが必要になるかもしれません。\n"
   ]
  },
  {
   "cell_type": "code",
   "execution_count": null,
   "metadata": {
    "execution": {
     "iopub.execute_input": "2022-02-15T23:56:52.868950Z",
     "iopub.status.busy": "2022-02-15T23:56:52.867881Z",
     "iopub.status.idle": "2022-02-15T23:56:52.870834Z",
     "shell.execute_reply": "2022-02-15T23:56:52.870153Z",
     "shell.execute_reply.started": "2022-02-15T23:31:54.827145Z"
    },
    "papermill": {
     "duration": 0.034931,
     "end_time": "2022-02-15T23:56:52.871015",
     "exception": false,
     "start_time": "2022-02-15T23:56:52.836084",
     "status": "completed"
    },
    "tags": []
   },
   "outputs": [],
   "source": [
    "def cost_of_project(engraving, solid_gold):\n",
    "    cost = ____\n",
    "    return cost\n",
    "\n",
    "# 答えを確認します。\n",
    "q5.check()"
   ]
  },
  {
   "cell_type": "code",
   "execution_count": null,
   "metadata": {},
   "outputs": [],
   "source": [
    "#%%RM_IF(PROD)%% （開発者向け：本番環境では非表示）\n",
    "def cost_of_project(engraving, solid_gold):\n",
    "    cost = solid_gold * (100 + 10 * len(engraving)) + (not solid_gold) * (50 + 7 * len(engraving))\n",
    "    return cost\n",
    "\n",
    "q5.assert_check_passed()"
   ]
  },
  {
   "cell_type": "code",
   "execution_count": null,
   "metadata": {
    "execution": {
     "iopub.execute_input": "2022-02-15T23:56:52.927471Z",
     "iopub.status.busy": "2022-02-15T23:56:52.926644Z",
     "iopub.status.idle": "2022-02-15T23:56:52.929009Z",
     "shell.execute_reply": "2022-02-15T23:56:52.928331Z"
    },
    "papermill": {
     "duration": 0.032387,
     "end_time": "2022-02-15T23:56:52.929176",
     "exception": false,
     "start_time": "2022-02-15T23:56:52.896789",
     "status": "completed"
    },
    "tags": []
   },
   "outputs": [],
   "source": [
    "# ヒントを見るにはコメントアウトを解除してください\n",
    "#_COMMENT_IF(PROD)_本番環境では非表示\n",
    "q5.hint()\n",
    "\n",
    "# 解答を確認するにはコメントアウトを解除してください\n",
    "#_COMMENT_IF(PROD)_本番環境では非表示\n",
    "q5.solution()"
   ]
  },
  {
   "cell_type": "markdown",
   "metadata": {
    "papermill": {
     "duration": 0.025442,
     "end_time": "2022-02-15T23:56:52.981178",
     "exception": false,
     "start_time": "2022-02-15T23:56:52.955736",
     "status": "completed"
    },
    "tags": []
   },
   "source": [
    "次のコードセルを実行して、「Charlie+Denver」という彫刻を純金のリングに施した場合の費用を計算してみましょう。"
   ]
  },
  {
   "cell_type": "code",
   "execution_count": null,
   "metadata": {
    "execution": {
     "iopub.execute_input": "2022-02-15T23:56:53.038462Z",
     "iopub.status.busy": "2022-02-15T23:56:53.037566Z",
     "iopub.status.idle": "2022-02-15T23:56:53.041150Z",
     "shell.execute_reply": "2022-02-15T23:56:53.040512Z",
     "shell.execute_reply.started": "2022-02-15T23:30:27.426417Z"
    },
    "papermill": {
     "duration": 0.033363,
     "end_time": "2022-02-15T23:56:53.041309",
     "exception": false,
     "start_time": "2022-02-15T23:56:53.007946",
     "status": "completed"
    },
    "tags": []
   },
   "outputs": [],
   "source": [
    "project_one = cost_of_project(\"Charlie+Denver\", True)\n",
    "print(project_one)"
   ]
  },
  {
   "cell_type": "markdown",
   "metadata": {
    "papermill": {
     "duration": 0.025504,
     "end_time": "2022-02-15T23:56:53.093394",
     "exception": false,
     "start_time": "2022-02-15T23:56:53.067890",
     "status": "completed"
    },
    "tags": []
   },
   "source": [
    "次のコードセルを使って、「08/10/2000」という彫刻を金メッキのリングに施した場合の費用を計算してみましょう。"
   ]
  },
  {
   "cell_type": "code",
   "execution_count": null,
   "metadata": {
    "execution": {
     "iopub.execute_input": "2022-02-15T23:56:53.150257Z",
     "iopub.status.busy": "2022-02-15T23:56:53.149375Z",
     "iopub.status.idle": "2022-02-15T23:56:53.154415Z",
     "shell.execute_reply": "2022-02-15T23:56:53.153758Z",
     "shell.execute_reply.started": "2022-02-15T23:29:10.617644Z"
    },
    "papermill": {
     "duration": 0.03374,
     "end_time": "2022-02-15T23:56:53.154559",
     "exception": false,
     "start_time": "2022-02-15T23:56:53.120819",
     "status": "completed"
    },
    "tags": []
   },
   "outputs": [],
   "source": [
    "project_two = cost_of_project(\"08/10/2000\", False)\n",
    "print(project_two)"
   ]
  },
  {
   "cell_type": "markdown",
   "metadata": {
    "papermill": {
     "duration": 0.016828,
     "end_time": "2022-02-15T23:56:53.189102",
     "exception": false,
     "start_time": "2022-02-15T23:56:53.172274",
     "status": "completed"
    },
    "tags": []
   },
   "source": [
    "# お疲れ様でした  🎉\n",
    "次のレッスンに進んで、条件と条件文 について学びましょう。\n",
    "\n",
    "次は [**条件と条件文**（conditions and conditional statements）](./tut4.ipynb) について学びます。\n"
   ]
  },
  {
   "cell_type": "markdown",
   "id": "24086c97",
   "metadata": {},
   "source": []
  }
 ],
 "metadata": {
  "kernelspec": {
   "display_name": "Python 3",
   "language": "python",
   "name": "python3"
  },
  "language_info": {
   "codemirror_mode": {
    "name": "ipython",
    "version": 3
   },
   "file_extension": ".py",
   "mimetype": "text/x-python",
   "name": "python",
   "nbconvert_exporter": "python",
   "pygments_lexer": "ipython3",
   "version": "3.6.5"
  },
  "papermill": {
   "default_parameters": {},
   "duration": 15.996115,
   "end_time": "2022-02-15T23:56:55.998786",
   "environment_variables": {},
   "exception": null,
   "input_path": "__notebook__.ipynb",
   "output_path": "__notebook__.ipynb",
   "parameters": {},
   "start_time": "2022-02-15T23:56:40.002671",
   "version": "2.3.3"
  }
 },
 "nbformat": 4,
 "nbformat_minor": 5
}
